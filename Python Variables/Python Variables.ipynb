{
 "cells": [
  {
   "cell_type": "markdown",
   "metadata": {},
   "source": [
    "# Rules for Declaring a Variable"
   ]
  },
  {
   "cell_type": "code",
   "execution_count": 9,
   "metadata": {},
   "outputs": [
    {
     "name": "stdout",
     "output_type": "stream",
     "text": [
      "9\n"
     ]
    }
   ],
   "source": [
    "## Starting with an uppercase alphabet\n",
    "\n",
    "Age = 9\n",
    "print(Age)"
   ]
  },
  {
   "cell_type": "code",
   "execution_count": 10,
   "metadata": {},
   "outputs": [
    {
     "name": "stdout",
     "output_type": "stream",
     "text": [
      "Techopaths\n"
     ]
    }
   ],
   "source": [
    "# Starting with underscore(_)\n",
    "\n",
    "_Name = \"Techopaths\"\n",
    "print(_Name)"
   ]
  },
  {
   "cell_type": "code",
   "execution_count": 11,
   "metadata": {},
   "outputs": [
    {
     "name": "stdout",
     "output_type": "stream",
     "text": [
      "45.5\n"
     ]
    }
   ],
   "source": [
    "# Starting with a lowercase alphabet\n",
    "\n",
    "weight = 45.5\n",
    "print(weight)"
   ]
  },
  {
   "cell_type": "code",
   "execution_count": 12,
   "metadata": {},
   "outputs": [
    {
     "ename": "SyntaxError",
     "evalue": "invalid syntax (<ipython-input-12-d06527822421>, line 3)",
     "output_type": "error",
     "traceback": [
      "\u001b[1;36m  File \u001b[1;32m\"<ipython-input-12-d06527822421>\"\u001b[1;36m, line \u001b[1;32m3\u001b[0m\n\u001b[1;33m    9fruit = \"Apple\"\u001b[0m\n\u001b[1;37m         ^\u001b[0m\n\u001b[1;31mSyntaxError\u001b[0m\u001b[1;31m:\u001b[0m invalid syntax\n"
     ]
    }
   ],
   "source": [
    "# Starting with a number\n",
    "\n",
    "9fruit = \"Apple\"\n",
    "print(9fruit)\n",
    "\n",
    "## variable name cannot start with a number"
   ]
  },
  {
   "cell_type": "code",
   "execution_count": 13,
   "metadata": {},
   "outputs": [
    {
     "ename": "SyntaxError",
     "evalue": "invalid syntax (<ipython-input-13-12cde2ebb36a>, line 3)",
     "output_type": "error",
     "traceback": [
      "\u001b[1;36m  File \u001b[1;32m\"<ipython-input-13-12cde2ebb36a>\"\u001b[1;36m, line \u001b[1;32m3\u001b[0m\n\u001b[1;33m    _$$ = 45\u001b[0m\n\u001b[1;37m     ^\u001b[0m\n\u001b[1;31mSyntaxError\u001b[0m\u001b[1;31m:\u001b[0m invalid syntax\n"
     ]
    }
   ],
   "source": [
    "## Containing special characters\n",
    "\n",
    "_$$ = 45\n",
    "print($$)\n",
    "\n",
    "## variable names cannot comprise of special characters"
   ]
  },
  {
   "cell_type": "code",
   "execution_count": 14,
   "metadata": {},
   "outputs": [
    {
     "name": "stdout",
     "output_type": "stream",
     "text": [
      "Aditi\n"
     ]
    }
   ],
   "source": [
    "## Variable names can be followed by numbers\n",
    "\n",
    "name_1 = \"Aditi\"\n",
    "print(name_1)"
   ]
  },
  {
   "cell_type": "code",
   "execution_count": 15,
   "metadata": {},
   "outputs": [
    {
     "ename": "SyntaxError",
     "evalue": "invalid syntax (<ipython-input-15-3fc1f171ab69>, line 3)",
     "output_type": "error",
     "traceback": [
      "\u001b[1;36m  File \u001b[1;32m\"<ipython-input-15-3fc1f171ab69>\"\u001b[1;36m, line \u001b[1;32m3\u001b[0m\n\u001b[1;33m    weight@9gh = 65.7\u001b[0m\n\u001b[1;37m             ^\u001b[0m\n\u001b[1;31mSyntaxError\u001b[0m\u001b[1;31m:\u001b[0m invalid syntax\n"
     ]
    }
   ],
   "source": [
    "## Variable names can never comprise of special characters\n",
    "\n",
    "weight@9gh = 65.7\n",
    "\n",
    "print(weight@9gh)"
   ]
  },
  {
   "cell_type": "markdown",
   "metadata": {},
   "source": [
    "## Assigning and Reassigning Values to a Variable"
   ]
  },
  {
   "cell_type": "code",
   "execution_count": 16,
   "metadata": {},
   "outputs": [
    {
     "name": "stdout",
     "output_type": "stream",
     "text": [
      "Tiger\n"
     ]
    }
   ],
   "source": [
    "animal = \"Tiger\"\n",
    "\n",
    "print(animal)"
   ]
  },
  {
   "cell_type": "code",
   "execution_count": 17,
   "metadata": {},
   "outputs": [
    {
     "name": "stdout",
     "output_type": "stream",
     "text": [
      "Elephant\n"
     ]
    }
   ],
   "source": [
    "animal = \"Elephant\"\n",
    "\n",
    "print(animal)"
   ]
  },
  {
   "cell_type": "markdown",
   "metadata": {},
   "source": [
    "## Multiple Assignment"
   ]
  },
  {
   "cell_type": "code",
   "execution_count": 18,
   "metadata": {},
   "outputs": [
    {
     "name": "stdout",
     "output_type": "stream",
     "text": [
      "Techopaths , 1.5 , Delhi\n"
     ]
    }
   ],
   "source": [
    "Name , Age, City = \"Techopaths\", 1.5, \"Delhi\"\n",
    "\n",
    "print(Name, \",\", Age, \",\", City)"
   ]
  },
  {
   "cell_type": "markdown",
   "metadata": {},
   "source": [
    "## Swapping Values"
   ]
  },
  {
   "cell_type": "code",
   "execution_count": 19,
   "metadata": {},
   "outputs": [
    {
     "name": "stdout",
     "output_type": "stream",
     "text": [
      "first color: red , second color:  blue\n",
      "first color:  blue , second color:  red\n"
     ]
    }
   ],
   "source": [
    "## Before Swapping\n",
    "color_1, color_2 = \"red\", \"blue\"\n",
    "\n",
    "print(\"first color:\", color_1, \",\",  \"second color: \",color_2)\n",
    "\n",
    "\n",
    "## After Swapping\n",
    "color_1, color_2 = color_2, color_1      ## Swapping the variables \n",
    "\n",
    "print(\"first color: \", color_1, \",\", \"second color: \", color_2)"
   ]
  },
  {
   "cell_type": "markdown",
   "metadata": {},
   "source": [
    "## Deleting a Variable"
   ]
  },
  {
   "cell_type": "code",
   "execution_count": 8,
   "metadata": {},
   "outputs": [
    {
     "ename": "NameError",
     "evalue": "name 'Fruit' is not defined",
     "output_type": "error",
     "traceback": [
      "\u001b[1;31m---------------------------------------------------------------------------\u001b[0m",
      "\u001b[1;31mNameError\u001b[0m                                 Traceback (most recent call last)",
      "\u001b[1;32m<ipython-input-8-744d0408e207>\u001b[0m in \u001b[0;36m<module>\u001b[1;34m\u001b[0m\n\u001b[0;32m      2\u001b[0m \u001b[1;33m\u001b[0m\u001b[0m\n\u001b[0;32m      3\u001b[0m \u001b[1;32mdel\u001b[0m \u001b[0mFruit\u001b[0m\u001b[1;33m\u001b[0m\u001b[1;33m\u001b[0m\u001b[0m\n\u001b[1;32m----> 4\u001b[1;33m \u001b[0mprint\u001b[0m\u001b[1;33m(\u001b[0m\u001b[0mFruit\u001b[0m\u001b[1;33m)\u001b[0m\u001b[1;33m\u001b[0m\u001b[1;33m\u001b[0m\u001b[0m\n\u001b[0m",
      "\u001b[1;31mNameError\u001b[0m: name 'Fruit' is not defined"
     ]
    }
   ],
   "source": [
    "Fruit = \"Kiwi\"\n",
    "\n",
    "del Fruit\n",
    "print(Fruit)"
   ]
  }
 ],
 "metadata": {
  "kernelspec": {
   "display_name": "Python 3",
   "language": "python",
   "name": "python3"
  },
  "language_info": {
   "codemirror_mode": {
    "name": "ipython",
    "version": 3
   },
   "file_extension": ".py",
   "mimetype": "text/x-python",
   "name": "python",
   "nbconvert_exporter": "python",
   "pygments_lexer": "ipython3",
   "version": "3.7.6"
  }
 },
 "nbformat": 4,
 "nbformat_minor": 4
}
