{
 "cells": [
  {
   "cell_type": "markdown",
   "metadata": {},
   "source": [
    "## Deep Copy"
   ]
  },
  {
   "cell_type": "code",
   "execution_count": 1,
   "metadata": {},
   "outputs": [],
   "source": [
    "# importing copy module\n",
    "import copy"
   ]
  },
  {
   "cell_type": "code",
   "execution_count": 29,
   "metadata": {},
   "outputs": [],
   "source": [
    "# initializing list 1 \n",
    "lst1 = [1, 2, 3, 4]"
   ]
  },
  {
   "cell_type": "code",
   "execution_count": 30,
   "metadata": {},
   "outputs": [],
   "source": [
    "# using deepcopy for deepcopy  \n",
    "lst2 = copy.deepcopy(lst1) "
   ]
  },
  {
   "cell_type": "code",
   "execution_count": 31,
   "metadata": {},
   "outputs": [
    {
     "data": {
      "text/plain": [
       "[1, 2, 3, 4]"
      ]
     },
     "execution_count": 31,
     "metadata": {},
     "output_type": "execute_result"
    }
   ],
   "source": [
    "lst2"
   ]
  },
  {
   "cell_type": "code",
   "execution_count": 32,
   "metadata": {},
   "outputs": [
    {
     "name": "stdout",
     "output_type": "stream",
     "text": [
      "The original elements before deep copying\n",
      "1 2 3 4 "
     ]
    }
   ],
   "source": [
    "# original elements of list\n",
    "print (\"The original elements before deep copying\")\n",
    "for i in range(0,len(lst1)):\n",
    "    print (lst1[i],end=\" \")"
   ]
  },
  {
   "cell_type": "code",
   "execution_count": 33,
   "metadata": {},
   "outputs": [
    {
     "name": "stdout",
     "output_type": "stream",
     "text": [
      "The new list of elements after deep copying \n",
      "1 2 7 4 "
     ]
    }
   ],
   "source": [
    "# adding and element to new list\n",
    "\n",
    "lst2[2] = 7 \n",
    "\n",
    "# Change is reflected in lst2 \n",
    "print (\"The new list of elements after deep copying \")\n",
    "for i in range(0,len( lst2)):\n",
    "    print (lst2[i],end=\" \")"
   ]
  },
  {
   "cell_type": "code",
   "execution_count": 34,
   "metadata": {},
   "outputs": [
    {
     "name": "stdout",
     "output_type": "stream",
     "text": [
      "The original elements after deep copying\n",
      "1 2 3 4 "
     ]
    }
   ],
   "source": [
    "# Change is NOT reflected in original list as it is a deep copy\n",
    "\n",
    "print (\"The original elements after deep copying\")\n",
    "for i in range(0,len( lst1)):\n",
    "    print (lst1[i],end=\" \")"
   ]
  },
  {
   "cell_type": "code",
   "execution_count": null,
   "metadata": {},
   "outputs": [],
   "source": []
  },
  {
   "cell_type": "markdown",
   "metadata": {},
   "source": [
    "## Shallow Copy"
   ]
  },
  {
   "cell_type": "code",
   "execution_count": 72,
   "metadata": {},
   "outputs": [
    {
     "name": "stdout",
     "output_type": "stream",
     "text": [
      "The original elements before shallow copying\n",
      "1 2 [3, 4] 5 \r\n",
      "**************************************************\n",
      "The original elements after shallow copying\n",
      "1 2 [7, 4] 5 "
     ]
    }
   ],
   "source": [
    "# initializing list 1\n",
    "ls1 = [1, 2, [3,4], 5]\n",
    "  \n",
    "# using copy to shallow copy \n",
    "ls2 = copy.copy(ls1)\n",
    "  \n",
    "# original elements of list\n",
    "print (\"The original elements before shallow copying\")\n",
    "for i in range(0,len(ls1)):\n",
    "    print (ls1[i],end=\" \")\n",
    "  \n",
    "print(\"\\r\")\n",
    "print('*'*50)\n",
    "  \n",
    "# adding and element to new list\n",
    "ls2[2][0] = 7\n",
    "  \n",
    "# checking if change is reflected\n",
    "print (\"The original elements after shallow copying\")\n",
    "for i in range(0,len(ls1)):\n",
    "    print (ls1[i],end=\" \")"
   ]
  },
  {
   "cell_type": "code",
   "execution_count": null,
   "metadata": {},
   "outputs": [],
   "source": []
  }
 ],
 "metadata": {
  "kernelspec": {
   "display_name": "Python 3",
   "language": "python",
   "name": "python3"
  },
  "language_info": {
   "codemirror_mode": {
    "name": "ipython",
    "version": 3
   },
   "file_extension": ".py",
   "mimetype": "text/x-python",
   "name": "python",
   "nbconvert_exporter": "python",
   "pygments_lexer": "ipython3",
   "version": "3.8.5"
  }
 },
 "nbformat": 4,
 "nbformat_minor": 4
}
