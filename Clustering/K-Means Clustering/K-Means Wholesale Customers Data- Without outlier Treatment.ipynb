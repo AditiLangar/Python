{
 "cells": [
  {
   "cell_type": "markdown",
   "metadata": {},
   "source": [
    "## Importing Libraries"
   ]
  },
  {
   "cell_type": "code",
   "execution_count": 1,
   "metadata": {},
   "outputs": [],
   "source": [
    "import pandas as pd\n",
    "import numpy as np\n",
    "import matplotlib.pyplot as plt\n",
    "import seaborn as sns\n",
    "%matplotlib inline"
   ]
  },
  {
   "cell_type": "markdown",
   "metadata": {},
   "source": [
    "## Importing Dataset"
   ]
  },
  {
   "cell_type": "code",
   "execution_count": 2,
   "metadata": {},
   "outputs": [
    {
     "data": {
      "text/html": [
       "<div>\n",
       "<style scoped>\n",
       "    .dataframe tbody tr th:only-of-type {\n",
       "        vertical-align: middle;\n",
       "    }\n",
       "\n",
       "    .dataframe tbody tr th {\n",
       "        vertical-align: top;\n",
       "    }\n",
       "\n",
       "    .dataframe thead th {\n",
       "        text-align: right;\n",
       "    }\n",
       "</style>\n",
       "<table border=\"1\" class=\"dataframe\">\n",
       "  <thead>\n",
       "    <tr style=\"text-align: right;\">\n",
       "      <th></th>\n",
       "      <th>Channel</th>\n",
       "      <th>Region</th>\n",
       "      <th>Fresh</th>\n",
       "      <th>Milk</th>\n",
       "      <th>Grocery</th>\n",
       "      <th>Frozen</th>\n",
       "      <th>Detergents_Paper</th>\n",
       "      <th>Delicassen</th>\n",
       "    </tr>\n",
       "  </thead>\n",
       "  <tbody>\n",
       "    <tr>\n",
       "      <th>0</th>\n",
       "      <td>2</td>\n",
       "      <td>3</td>\n",
       "      <td>12669</td>\n",
       "      <td>9656</td>\n",
       "      <td>7561</td>\n",
       "      <td>214</td>\n",
       "      <td>2674</td>\n",
       "      <td>1338</td>\n",
       "    </tr>\n",
       "    <tr>\n",
       "      <th>1</th>\n",
       "      <td>2</td>\n",
       "      <td>3</td>\n",
       "      <td>7057</td>\n",
       "      <td>9810</td>\n",
       "      <td>9568</td>\n",
       "      <td>1762</td>\n",
       "      <td>3293</td>\n",
       "      <td>1776</td>\n",
       "    </tr>\n",
       "    <tr>\n",
       "      <th>2</th>\n",
       "      <td>2</td>\n",
       "      <td>3</td>\n",
       "      <td>6353</td>\n",
       "      <td>8808</td>\n",
       "      <td>7684</td>\n",
       "      <td>2405</td>\n",
       "      <td>3516</td>\n",
       "      <td>7844</td>\n",
       "    </tr>\n",
       "    <tr>\n",
       "      <th>3</th>\n",
       "      <td>1</td>\n",
       "      <td>3</td>\n",
       "      <td>13265</td>\n",
       "      <td>1196</td>\n",
       "      <td>4221</td>\n",
       "      <td>6404</td>\n",
       "      <td>507</td>\n",
       "      <td>1788</td>\n",
       "    </tr>\n",
       "    <tr>\n",
       "      <th>4</th>\n",
       "      <td>2</td>\n",
       "      <td>3</td>\n",
       "      <td>22615</td>\n",
       "      <td>5410</td>\n",
       "      <td>7198</td>\n",
       "      <td>3915</td>\n",
       "      <td>1777</td>\n",
       "      <td>5185</td>\n",
       "    </tr>\n",
       "  </tbody>\n",
       "</table>\n",
       "</div>"
      ],
      "text/plain": [
       "   Channel  Region  Fresh  Milk  Grocery  Frozen  Detergents_Paper  Delicassen\n",
       "0        2       3  12669  9656     7561     214              2674        1338\n",
       "1        2       3   7057  9810     9568    1762              3293        1776\n",
       "2        2       3   6353  8808     7684    2405              3516        7844\n",
       "3        1       3  13265  1196     4221    6404               507        1788\n",
       "4        2       3  22615  5410     7198    3915              1777        5185"
      ]
     },
     "execution_count": 2,
     "metadata": {},
     "output_type": "execute_result"
    }
   ],
   "source": [
    "df = pd.read_csv(\"Wholesale customers data.csv\")\n",
    "\n",
    "df.head()"
   ]
  },
  {
   "cell_type": "markdown",
   "metadata": {},
   "source": [
    "## Data Exploration"
   ]
  },
  {
   "cell_type": "code",
   "execution_count": 3,
   "metadata": {},
   "outputs": [
    {
     "name": "stdout",
     "output_type": "stream",
     "text": [
      "<class 'pandas.core.frame.DataFrame'>\n",
      "RangeIndex: 440 entries, 0 to 439\n",
      "Data columns (total 8 columns):\n",
      " #   Column            Non-Null Count  Dtype\n",
      "---  ------            --------------  -----\n",
      " 0   Channel           440 non-null    int64\n",
      " 1   Region            440 non-null    int64\n",
      " 2   Fresh             440 non-null    int64\n",
      " 3   Milk              440 non-null    int64\n",
      " 4   Grocery           440 non-null    int64\n",
      " 5   Frozen            440 non-null    int64\n",
      " 6   Detergents_Paper  440 non-null    int64\n",
      " 7   Delicassen        440 non-null    int64\n",
      "dtypes: int64(8)\n",
      "memory usage: 27.6 KB\n"
     ]
    }
   ],
   "source": [
    "df.info()"
   ]
  },
  {
   "cell_type": "code",
   "execution_count": 4,
   "metadata": {},
   "outputs": [
    {
     "data": {
      "text/plain": [
       "Channel             0\n",
       "Region              0\n",
       "Fresh               0\n",
       "Milk                0\n",
       "Grocery             0\n",
       "Frozen              0\n",
       "Detergents_Paper    0\n",
       "Delicassen          0\n",
       "dtype: int64"
      ]
     },
     "execution_count": 4,
     "metadata": {},
     "output_type": "execute_result"
    }
   ],
   "source": [
    "## Checking Nulls\n",
    "\n",
    "df.isnull().sum()"
   ]
  },
  {
   "cell_type": "code",
   "execution_count": 5,
   "metadata": {},
   "outputs": [
    {
     "data": {
      "text/plain": [
       "0"
      ]
     },
     "execution_count": 5,
     "metadata": {},
     "output_type": "execute_result"
    }
   ],
   "source": [
    "## Checking Duplicates\n",
    "\n",
    "df.duplicated().sum()"
   ]
  },
  {
   "cell_type": "markdown",
   "metadata": {},
   "source": [
    "## Univariate Analysis"
   ]
  },
  {
   "cell_type": "markdown",
   "metadata": {},
   "source": [
    "### Distribution of Channel"
   ]
  },
  {
   "cell_type": "code",
   "execution_count": 6,
   "metadata": {},
   "outputs": [
    {
     "data": {
      "image/png": "[encoded data removed]",
      "text/plain": [
       "<Figure size 432x288 with 1 Axes>"
      ]
     },
     "metadata": {},
     "output_type": "display_data"
    }
   ],
   "source": [
    "plt.pie(df.Channel.value_counts(),\n",
    "       labels = df.Channel.unique(),\n",
    "       autopct = '%0.3f%%');"
   ]
  },
  {
   "cell_type": "markdown",
   "metadata": {},
   "source": [
    "### Distribution of Region"
   ]
  },
  {
   "cell_type": "code",
   "execution_count": 7,
   "metadata": {},
   "outputs": [
    {
     "data": {
      "image/png": "[encoded data removed]",
      "text/plain": [
       "<Figure size 432x288 with 1 Axes>"
      ]
     },
     "metadata": {},
     "output_type": "display_data"
    }
   ],
   "source": [
    "plt.pie(df.Region.value_counts(),\n",
    "       labels = df.Region.unique(),\n",
    "       autopct = '%0.3f%%');"
   ]
  },
  {
   "cell_type": "markdown",
   "metadata": {},
   "source": [
    "### Boxplots"
   ]
  },
  {
   "cell_type": "code",
   "execution_count": 8,
   "metadata": {},
   "outputs": [
    {
     "name": "stdout",
     "output_type": "stream",
     "text": [
      "Feature:  Fresh\n"
     ]
    },
    {
     "data": {
      "image/png": "[encoded data removed]",
      "text/plain": [
       "<Figure size 432x288 with 1 Axes>"
      ]
     },
     "metadata": {
      "needs_background": "light"
     },
     "output_type": "display_data"
    },
    {
     "name": "stdout",
     "output_type": "stream",
     "text": [
      "*****************************************************************************************************************************\n",
      "Feature:  Milk\n"
     ]
    },
    {
     "data": {
      "image/png": "[encoded data removed]",
      "text/plain": [
       "<Figure size 432x288 with 1 Axes>"
      ]
     },
     "metadata": {
      "needs_background": "light"
     },
     "output_type": "display_data"
    },
    {
     "name": "stdout",
     "output_type": "stream",
     "text": [
      "*****************************************************************************************************************************\n",
      "Feature:  Grocery\n"
     ]
    },
    {
     "data": {
      "image/png": "[encoded data removed]",
      "text/plain": [
       "<Figure size 432x288 with 1 Axes>"
      ]
     },
     "metadata": {
      "needs_background": "light"
     },
     "output_type": "display_data"
    },
    {
     "name": "stdout",
     "output_type": "stream",
     "text": [
      "*****************************************************************************************************************************\n",
      "Feature:  Frozen\n"
     ]
    },
    {
     "data": {
      "image/png": "[encoded data removed]",
      "text/plain": [
       "<Figure size 432x288 with 1 Axes>"
      ]
     },
     "metadata": {
      "needs_background": "light"
     },
     "output_type": "display_data"
    },
    {
     "name": "stdout",
     "output_type": "stream",
     "text": [
      "*****************************************************************************************************************************\n",
      "Feature:  Detergents_Paper\n"
     ]
    },
    {
     "data": {
      "image/png": "[encoded data removed]",
      "text/plain": [
       "<Figure size 432x288 with 1 Axes>"
      ]
     },
     "metadata": {
      "needs_background": "light"
     },
     "output_type": "display_data"
    },
    {
     "name": "stdout",
     "output_type": "stream",
     "text": [
      "*****************************************************************************************************************************\n",
      "Feature:  Delicassen\n"
     ]
    },
    {
     "data": {
      "image/png": "[encoded data removed]",
      "text/plain": [
       "<Figure size 432x288 with 1 Axes>"
      ]
     },
     "metadata": {
      "needs_background": "light"
     },
     "output_type": "display_data"
    },
    {
     "name": "stdout",
     "output_type": "stream",
     "text": [
      "*****************************************************************************************************************************\n"
     ]
    }
   ],
   "source": [
    "for col in df.iloc[:, 2:].columns:\n",
    "    print(\"Feature: \", col)\n",
    "    sns.boxplot(df[col])\n",
    "    plt.show()\n",
    "    print(\"*\"*125)"
   ]
  },
  {
   "cell_type": "markdown",
   "metadata": {},
   "source": [
    "Although there are a large number of outliers, but not removing them as they may be representing some high end customers"
   ]
  },
  {
   "cell_type": "markdown",
   "metadata": {},
   "source": [
    "## Bivariate Analysis"
   ]
  },
  {
   "cell_type": "code",
   "execution_count": 9,
   "metadata": {},
   "outputs": [
    {
     "data": {
      "image/png": "[encoded data removed]",
      "text/plain": [
       "<Figure size 432x288 with 1 Axes>"
      ]
     },
     "metadata": {
      "needs_background": "light"
     },
     "output_type": "display_data"
    }
   ],
   "source": [
    "plt.scatter(df.Fresh, df.Milk)\n",
    "plt.show()"
   ]
  },
  {
   "cell_type": "code",
   "execution_count": 10,
   "metadata": {},
   "outputs": [
    {
     "data": {
      "image/png": "[encoded data removed]",
      "text/plain": [
       "<Figure size 432x288 with 1 Axes>"
      ]
     },
     "metadata": {
      "needs_background": "light"
     },
     "output_type": "display_data"
    }
   ],
   "source": [
    "plt.scatter(df.Fresh, df.Frozen)\n",
    "plt.show()"
   ]
  },
  {
   "cell_type": "code",
   "execution_count": 11,
   "metadata": {},
   "outputs": [
    {
     "data": {
      "image/png": "[encoded data removed]",
      "text/plain": [
       "<Figure size 432x288 with 1 Axes>"
      ]
     },
     "metadata": {
      "needs_background": "light"
     },
     "output_type": "display_data"
    }
   ],
   "source": [
    "plt.scatter(df.Frozen, df.Milk)\n",
    "plt.show()"
   ]
  },
  {
   "cell_type": "markdown",
   "metadata": {},
   "source": [
    "No visible patterns"
   ]
  },
  {
   "cell_type": "markdown",
   "metadata": {},
   "source": [
    "## Preprocessing"
   ]
  },
  {
   "cell_type": "markdown",
   "metadata": {},
   "source": [
    "### Scaling"
   ]
  },
  {
   "cell_type": "code",
   "execution_count": 12,
   "metadata": {},
   "outputs": [],
   "source": [
    "from sklearn.preprocessing import StandardScaler\n",
    "\n",
    "scaler = StandardScaler()\n",
    "\n",
    "scaled_data = scaler.fit_transform(df)"
   ]
  },
  {
   "cell_type": "markdown",
   "metadata": {},
   "source": [
    "### Model Making"
   ]
  },
  {
   "cell_type": "code",
   "execution_count": 50,
   "metadata": {},
   "outputs": [],
   "source": [
    "from sklearn.cluster import KMeans"
   ]
  },
  {
   "cell_type": "markdown",
   "metadata": {},
   "source": [
    "### Elbow Curve to determine optimal value of K"
   ]
  },
  {
   "cell_type": "code",
   "execution_count": 14,
   "metadata": {},
   "outputs": [
    {
     "data": {
      "image/png": "[encoded data removed]",
      "text/plain": [
       "<Figure size 432x288 with 1 Axes>"
      ]
     },
     "metadata": {
      "needs_background": "light"
     },
     "output_type": "display_data"
    }
   ],
   "source": [
    "distance = []\n",
    "k = range(1,11)\n",
    "\n",
    "for value in k:\n",
    "    km_model = KMeans(n_clusters = value, random_state = 42)\n",
    "    km_model.fit(scaled_data)\n",
    "    distance.append(km_model.inertia_)\n",
    "    \n",
    "plt.plot(k, distance)\n",
    "plt.title('The Elbow Method')\n",
    "plt.xlabel('Number of Clusters')\n",
    "plt.ylabel('WCSS')\n",
    "plt.show()"
   ]
  },
  {
   "cell_type": "markdown",
   "metadata": {},
   "source": [
    "2,3 or 5 clusters"
   ]
  },
  {
   "cell_type": "markdown",
   "metadata": {},
   "source": [
    "### 2 clusters"
   ]
  },
  {
   "cell_type": "code",
   "execution_count": 16,
   "metadata": {},
   "outputs": [],
   "source": [
    "kmeans2 = KMeans(n_clusters=2, random_state = 42)"
   ]
  },
  {
   "cell_type": "code",
   "execution_count": 18,
   "metadata": {},
   "outputs": [
    {
     "data": {
      "text/plain": [
       "array([1, 1, 1, 0, 1, 1, 1, 1, 0, 1, 1, 0, 1, 1, 1, 0, 1, 0, 1, 0, 1, 0,\n",
       "       0, 1, 1, 1, 0, 0, 1, 0, 0, 0, 0, 0, 0, 1, 0, 1, 1, 0, 0, 0, 1, 1,\n",
       "       1, 1, 1, 1, 1, 1, 0, 0, 0, 1, 0, 0, 1, 1, 0, 0, 1, 1, 1, 1, 0, 1,\n",
       "       0, 1, 0, 0, 0, 0, 0, 0, 1, 0, 0, 1, 0, 0, 0, 1, 1, 0, 1, 1, 1, 0,\n",
       "       0, 0, 0, 0, 1, 0, 1, 0, 1, 0, 0, 0, 1, 1, 1, 0, 0, 0, 1, 1, 1, 1,\n",
       "       0, 1, 0, 0, 0, 0, 0, 0, 0, 0, 0, 0, 0, 1, 0, 0, 0, 1, 0, 0, 0, 0,\n",
       "       0, 0, 0, 0, 0, 0, 0, 0, 0, 0, 0, 0, 0, 1, 0, 0, 0, 0, 0, 0, 0, 0,\n",
       "       0, 1, 1, 0, 1, 1, 1, 0, 0, 1, 1, 1, 1, 0, 0, 0, 1, 1, 0, 1, 0, 1,\n",
       "       0, 0, 0, 0, 0, 0, 0, 1, 0, 0, 0, 0, 1, 1, 0, 0, 0, 1, 0, 0, 0, 1,\n",
       "       0, 0, 1, 1, 0, 0, 0, 1, 0, 1, 0, 1, 0, 1, 0, 0, 1, 0, 1, 0, 1, 0,\n",
       "       0, 0, 0, 0, 0, 0, 1, 0, 0, 0, 0, 0, 0, 0, 0, 0, 0, 0, 0, 0, 0, 0,\n",
       "       0, 0, 0, 1, 0, 0, 0, 0, 0, 1, 0, 0, 0, 0, 0, 0, 0, 0, 0, 0, 0, 0,\n",
       "       1, 0, 1, 0, 1, 0, 0, 0, 0, 0, 0, 0, 0, 0, 0, 1, 0, 1, 0, 0, 0, 0,\n",
       "       0, 0, 0, 0, 0, 0, 0, 1, 0, 1, 0, 1, 1, 0, 1, 1, 1, 1, 1, 1, 1, 0,\n",
       "       0, 1, 0, 0, 1, 0, 0, 1, 0, 0, 0, 1, 0, 0, 0, 0, 0, 0, 0, 0, 0, 0,\n",
       "       0, 1, 0, 1, 0, 1, 0, 0, 0, 0, 1, 1, 0, 1, 0, 0, 1, 1, 0, 1, 0, 1,\n",
       "       0, 1, 0, 0, 0, 1, 0, 0, 0, 0, 0, 0, 0, 1, 0, 0, 0, 0, 0, 0, 0, 1,\n",
       "       0, 0, 1, 0, 0, 1, 0, 0, 0, 0, 0, 0, 0, 0, 0, 0, 0, 0, 0, 0, 0, 0,\n",
       "       1, 0, 0, 0, 0, 0, 0, 0, 0, 0, 0, 1, 1, 0, 0, 0, 0, 0, 0, 1, 1, 0,\n",
       "       1, 0, 0, 1, 0, 1, 1, 0, 0, 0, 0, 0, 0, 0, 0, 0, 0, 0, 0, 1, 0, 0])"
      ]
     },
     "execution_count": 18,
     "metadata": {},
     "output_type": "execute_result"
    }
   ],
   "source": [
    "y_pred2 = kmeans2.fit_predict(scaled_data)\n",
    "\n",
    "y_pred2"
   ]
  },
  {
   "cell_type": "code",
   "execution_count": 19,
   "metadata": {},
   "outputs": [
    {
     "data": {
      "text/plain": [
       "2599.3855593561393"
      ]
     },
     "execution_count": 19,
     "metadata": {},
     "output_type": "execute_result"
    }
   ],
   "source": [
    "kmeans2.inertia_"
   ]
  },
  {
   "cell_type": "markdown",
   "metadata": {},
   "source": [
    "Inertia has increased compared to when outliers were treated. Increased inertia is of course due to presence of outliers."
   ]
  },
  {
   "cell_type": "code",
   "execution_count": 20,
   "metadata": {},
   "outputs": [
    {
     "data": {
      "text/plain": [
       "array([[-0.64104498, -0.05158101,  0.12366094, -0.33628412, -0.42241436,\n",
       "         0.12449116, -0.43800028, -0.09097771],\n",
       "       [ 1.43292407,  0.11529873, -0.27641856,  0.75169392,  0.94422034,\n",
       "        -0.27827435,  0.97905944,  0.20336194]])"
      ]
     },
     "execution_count": 20,
     "metadata": {},
     "output_type": "execute_result"
    }
   ],
   "source": [
    "kmeans2.cluster_centers_"
   ]
  },
  {
   "cell_type": "code",
   "execution_count": 21,
   "metadata": {},
   "outputs": [],
   "source": [
    "df['2 clusters result'] = y_pred2"
   ]
  },
  {
   "cell_type": "code",
   "execution_count": 22,
   "metadata": {},
   "outputs": [
    {
     "data": {
      "text/plain": [
       "<matplotlib.axes._subplots.AxesSubplot at 0x222845e08c8>"
      ]
     },
     "execution_count": 22,
     "metadata": {},
     "output_type": "execute_result"
    },
    {
     "data": {
      "image/png": "[encoded data removed]",
      "text/plain": [
       "<Figure size 432x288 with 1 Axes>"
      ]
     },
     "metadata": {
      "needs_background": "light"
     },
     "output_type": "display_data"
    }
   ],
   "source": [
    "sns.countplot(df['2 clusters result'])"
   ]
  },
  {
   "cell_type": "code",
   "execution_count": 36,
   "metadata": {},
   "outputs": [
    {
     "data": {
      "text/plain": [
       "<matplotlib.collections.PathCollection at 0x2228481c908>"
      ]
     },
     "execution_count": 36,
     "metadata": {},
     "output_type": "execute_result"
    },
    {
     "data": {
      "image/png": "[encoded data removed]",
      "text/plain": [
       "<Figure size 432x288 with 1 Axes>"
      ]
     },
     "metadata": {
      "needs_background": "light"
     },
     "output_type": "display_data"
    }
   ],
   "source": [
    "plt.scatter(df.Fresh, df.Milk, c =df['2 clusters result'] )"
   ]
  },
  {
   "cell_type": "markdown",
   "metadata": {},
   "source": [
    "### Davies Bouldin Score for 2 clusters"
   ]
  },
  {
   "cell_type": "code",
   "execution_count": 23,
   "metadata": {},
   "outputs": [
    {
     "data": {
      "text/plain": [
       "1.2603186547850451"
      ]
     },
     "execution_count": 23,
     "metadata": {},
     "output_type": "execute_result"
    }
   ],
   "source": [
    "import sklearn.metrics\n",
    "\n",
    "sklearn.metrics.davies_bouldin_score(scaled_data, y_pred2)"
   ]
  },
  {
   "cell_type": "markdown",
   "metadata": {},
   "source": [
    "### 3 Clusters"
   ]
  },
  {
   "cell_type": "code",
   "execution_count": 29,
   "metadata": {},
   "outputs": [
    {
     "name": "stdout",
     "output_type": "stream",
     "text": [
      "Initialization complete\n",
      "Iteration 0, inertia 2786.786364893938\n",
      "Iteration 1, inertia 2287.0454281690827\n",
      "Iteration 2, inertia 2264.324657844577\n",
      "Iteration 3, inertia 2260.6778767572446\n",
      "Iteration 4, inertia 2258.3991344479923\n",
      "Iteration 5, inertia 2257.493636414767\n",
      "Iteration 6, inertia 2256.316084393402\n",
      "Iteration 7, inertia 2250.964777477908\n",
      "Iteration 8, inertia 2246.659689755999\n",
      "Converged at iteration 8: strict convergence.\n",
      "Initialization complete\n",
      "Iteration 0, inertia 3033.4742019459145\n",
      "Iteration 1, inertia 2346.814145640343\n",
      "Iteration 2, inertia 2302.9599863825115\n",
      "Iteration 3, inertia 2286.5257879783903\n",
      "Iteration 4, inertia 2279.0781689641353\n",
      "Iteration 5, inertia 2276.801599187327\n",
      "Iteration 6, inertia 2276.676685917986\n",
      "Iteration 7, inertia 2276.6088301129007\n",
      "Iteration 8, inertia 2276.197216411781\n",
      "Iteration 9, inertia 2275.75740939633\n",
      "Iteration 10, inertia 2275.2772192270695\n",
      "Iteration 11, inertia 2274.877757621709\n",
      "Converged at iteration 11: strict convergence.\n",
      "Initialization complete\n",
      "Iteration 0, inertia 3427.227557163529\n",
      "Iteration 1, inertia 2774.6522961553387\n",
      "Iteration 2, inertia 2753.28973847781\n",
      "Iteration 3, inertia 2711.0162671709404\n",
      "Iteration 4, inertia 2645.5920828605654\n",
      "Iteration 5, inertia 2414.509318301618\n",
      "Iteration 6, inertia 2255.4392292945013\n",
      "Iteration 7, inertia 2248.95573881138\n",
      "Iteration 8, inertia 2248.81727938995\n",
      "Iteration 9, inertia 2248.6929112912885\n",
      "Iteration 10, inertia 2248.584697210368\n",
      "Converged at iteration 10: strict convergence.\n",
      "Initialization complete\n",
      "Iteration 0, inertia 2706.3890907216737\n",
      "Iteration 1, inertia 2175.141731496007\n",
      "Iteration 2, inertia 2150.893383324958\n",
      "Iteration 3, inertia 2149.2839562217573\n",
      "Converged at iteration 3: strict convergence.\n",
      "Initialization complete\n",
      "Iteration 0, inertia 3482.189992931288\n",
      "Iteration 1, inertia 2253.7587611962845\n",
      "Iteration 2, inertia 2153.3856456788026\n",
      "Iteration 3, inertia 2149.2839562217573\n",
      "Converged at iteration 3: strict convergence.\n",
      "Initialization complete\n",
      "Iteration 0, inertia 3168.4644446818315\n",
      "Iteration 1, inertia 2388.561332627724\n",
      "Iteration 2, inertia 2318.182882070911\n",
      "Iteration 3, inertia 2305.0447368130363\n",
      "Iteration 4, inertia 2303.827755347116\n",
      "Iteration 5, inertia 2302.789155397584\n",
      "Iteration 6, inertia 2300.0650228417153\n",
      "Iteration 7, inertia 2297.500140721496\n",
      "Iteration 8, inertia 2295.2929621377516\n",
      "Converged at iteration 8: strict convergence.\n",
      "Initialization complete\n",
      "Iteration 0, inertia 2808.0268529712735\n",
      "Iteration 1, inertia 2233.8191039990497\n",
      "Iteration 2, inertia 2165.4776934922993\n",
      "Iteration 3, inertia 2149.2839562217573\n",
      "Converged at iteration 3: strict convergence.\n",
      "Initialization complete\n",
      "Iteration 0, inertia 3293.2023792146165\n",
      "Iteration 1, inertia 2255.0057996046635\n",
      "Iteration 2, inertia 2249.9964260128368\n",
      "Iteration 3, inertia 2248.81727938995\n",
      "Iteration 4, inertia 2248.6929112912885\n",
      "Iteration 5, inertia 2248.584697210368\n",
      "Converged at iteration 5: strict convergence.\n",
      "Initialization complete\n",
      "Iteration 0, inertia 3174.657435206061\n",
      "Iteration 1, inertia 2239.492671018215\n",
      "Iteration 2, inertia 2180.168271508532\n",
      "Iteration 3, inertia 2159.1411178468297\n",
      "Iteration 4, inertia 2150.7617532359045\n",
      "Iteration 5, inertia 2149.2839562217573\n",
      "Converged at iteration 5: strict convergence.\n",
      "Initialization complete\n",
      "Iteration 0, inertia 3273.819315158553\n",
      "Iteration 1, inertia 2768.8625410004165\n",
      "Iteration 2, inertia 2765.4114791203974\n",
      "Iteration 3, inertia 2763.0731112654507\n",
      "Iteration 4, inertia 2762.971815859721\n",
      "Converged at iteration 4: strict convergence.\n"
     ]
    },
    {
     "data": {
      "text/plain": [
       "array([1, 1, 1, 0, 1, 1, 1, 1, 0, 1, 1, 1, 1, 1, 1, 0, 1, 0, 1, 0, 1, 0,\n",
       "       0, 2, 1, 1, 0, 0, 1, 0, 0, 0, 0, 0, 0, 1, 0, 1, 1, 0, 0, 0, 1, 1,\n",
       "       1, 1, 1, 2, 1, 1, 0, 0, 1, 1, 0, 0, 2, 1, 0, 0, 1, 2, 1, 1, 0, 2,\n",
       "       0, 1, 0, 0, 0, 0, 0, 1, 1, 0, 0, 1, 0, 0, 0, 1, 1, 0, 1, 2, 2, 0,\n",
       "       0, 0, 0, 0, 2, 0, 1, 0, 1, 0, 0, 0, 1, 1, 1, 0, 0, 0, 1, 1, 1, 1,\n",
       "       0, 1, 0, 0, 0, 0, 0, 0, 0, 0, 0, 0, 0, 1, 0, 0, 0, 1, 0, 0, 0, 0,\n",
       "       0, 0, 0, 0, 0, 0, 0, 0, 0, 0, 0, 0, 0, 1, 0, 0, 0, 0, 0, 0, 0, 0,\n",
       "       0, 1, 1, 0, 1, 1, 1, 0, 0, 1, 1, 1, 1, 0, 0, 0, 1, 1, 0, 1, 0, 1,\n",
       "       0, 0, 0, 0, 0, 2, 0, 2, 0, 0, 0, 0, 1, 1, 0, 0, 0, 1, 0, 0, 0, 1,\n",
       "       0, 0, 1, 1, 0, 0, 0, 1, 0, 1, 0, 1, 0, 2, 0, 0, 1, 0, 1, 0, 1, 0,\n",
       "       0, 0, 0, 1, 0, 0, 1, 0, 0, 0, 1, 0, 0, 0, 0, 0, 0, 0, 0, 0, 0, 0,\n",
       "       0, 0, 0, 1, 0, 0, 0, 0, 0, 2, 0, 0, 0, 0, 0, 0, 0, 0, 0, 0, 0, 0,\n",
       "       1, 0, 1, 0, 1, 0, 0, 0, 0, 0, 0, 0, 0, 0, 0, 1, 0, 1, 0, 0, 0, 0,\n",
       "       0, 0, 0, 0, 0, 0, 0, 1, 0, 1, 0, 1, 1, 0, 1, 1, 1, 1, 1, 1, 1, 0,\n",
       "       0, 1, 0, 0, 1, 0, 0, 1, 0, 0, 0, 1, 0, 0, 0, 0, 0, 0, 0, 0, 0, 0,\n",
       "       0, 1, 0, 2, 0, 1, 0, 0, 0, 0, 1, 1, 0, 1, 0, 0, 1, 1, 0, 1, 0, 1,\n",
       "       0, 1, 0, 0, 0, 1, 0, 0, 0, 0, 0, 0, 0, 1, 0, 0, 0, 0, 1, 0, 0, 1,\n",
       "       0, 0, 1, 0, 0, 1, 0, 0, 0, 0, 0, 0, 0, 0, 0, 0, 0, 0, 0, 0, 0, 0,\n",
       "       1, 0, 0, 0, 0, 0, 0, 0, 0, 0, 0, 1, 1, 0, 0, 0, 0, 0, 0, 1, 1, 0,\n",
       "       1, 0, 0, 1, 0, 1, 1, 0, 0, 0, 0, 0, 0, 0, 0, 0, 0, 0, 0, 1, 0, 0])"
      ]
     },
     "execution_count": 29,
     "metadata": {},
     "output_type": "execute_result"
    }
   ],
   "source": [
    "kmeans3 = KMeans(n_clusters=3, verbose = True, random_state = 42, max_iter=100)\n",
    "\n",
    "kmeans3.fit_predict(scaled_data)"
   ]
  },
  {
   "cell_type": "code",
   "execution_count": 30,
   "metadata": {},
   "outputs": [
    {
     "data": {
      "text/plain": [
       "2149.2839562217573"
      ]
     },
     "execution_count": 30,
     "metadata": {},
     "output_type": "execute_result"
    }
   ],
   "source": [
    "kmeans3.inertia_"
   ]
  },
  {
   "cell_type": "markdown",
   "metadata": {},
   "source": [
    "Dereased inertia for 3 clusters"
   ]
  },
  {
   "cell_type": "code",
   "execution_count": 31,
   "metadata": {},
   "outputs": [
    {
     "data": {
      "text/plain": [
       "array([[-6.83095239e-01, -4.93039862e-02,  8.51425337e-02,\n",
       "        -3.49638303e-01, -4.31460809e-01,  1.13106103e-01,\n",
       "        -4.41920675e-01, -1.00330630e-01],\n",
       "       [ 1.44865163e+00,  1.03304786e-01, -3.03522355e-01,\n",
       "         4.00468697e-01,  6.27264086e-01, -3.36203224e-01,\n",
       "         6.52954644e-01,  3.59872191e-03],\n",
       "       [ 1.11958260e+00,  9.33585924e-02,  1.09004412e+00,\n",
       "         3.98320348e+00,  3.58457916e+00,  7.77992824e-01,\n",
       "         3.56664129e+00,  2.25618179e+00]])"
      ]
     },
     "execution_count": 31,
     "metadata": {},
     "output_type": "execute_result"
    }
   ],
   "source": [
    "kmeans3.cluster_centers_"
   ]
  },
  {
   "cell_type": "code",
   "execution_count": 32,
   "metadata": {},
   "outputs": [
    {
     "name": "stdout",
     "output_type": "stream",
     "text": [
      "Initialization complete\n",
      "Iteration 0, inertia 2786.786364893938\n",
      "Iteration 1, inertia 2287.0454281690827\n",
      "Iteration 2, inertia 2264.324657844577\n",
      "Iteration 3, inertia 2260.6778767572446\n",
      "Iteration 4, inertia 2258.3991344479923\n",
      "Iteration 5, inertia 2257.493636414767\n",
      "Iteration 6, inertia 2256.316084393402\n",
      "Iteration 7, inertia 2250.964777477908\n",
      "Iteration 8, inertia 2246.659689755999\n",
      "Converged at iteration 8: strict convergence.\n",
      "Initialization complete\n",
      "Iteration 0, inertia 3033.4742019459145\n",
      "Iteration 1, inertia 2346.814145640343\n",
      "Iteration 2, inertia 2302.9599863825115\n",
      "Iteration 3, inertia 2286.5257879783903\n",
      "Iteration 4, inertia 2279.0781689641353\n",
      "Iteration 5, inertia 2276.801599187327\n",
      "Iteration 6, inertia 2276.676685917986\n",
      "Iteration 7, inertia 2276.6088301129007\n",
      "Iteration 8, inertia 2276.197216411781\n",
      "Iteration 9, inertia 2275.75740939633\n",
      "Iteration 10, inertia 2275.2772192270695\n",
      "Iteration 11, inertia 2274.877757621709\n",
      "Converged at iteration 11: strict convergence.\n",
      "Initialization complete\n",
      "Iteration 0, inertia 3427.227557163529\n",
      "Iteration 1, inertia 2774.6522961553387\n",
      "Iteration 2, inertia 2753.28973847781\n",
      "Iteration 3, inertia 2711.0162671709404\n",
      "Iteration 4, inertia 2645.5920828605654\n",
      "Iteration 5, inertia 2414.509318301618\n",
      "Iteration 6, inertia 2255.4392292945013\n",
      "Iteration 7, inertia 2248.95573881138\n",
      "Iteration 8, inertia 2248.81727938995\n",
      "Iteration 9, inertia 2248.6929112912885\n",
      "Iteration 10, inertia 2248.584697210368\n",
      "Converged at iteration 10: strict convergence.\n",
      "Initialization complete\n",
      "Iteration 0, inertia 2706.3890907216737\n",
      "Iteration 1, inertia 2175.141731496007\n",
      "Iteration 2, inertia 2150.893383324958\n",
      "Iteration 3, inertia 2149.2839562217573\n",
      "Converged at iteration 3: strict convergence.\n",
      "Initialization complete\n",
      "Iteration 0, inertia 3482.189992931288\n",
      "Iteration 1, inertia 2253.7587611962845\n",
      "Iteration 2, inertia 2153.3856456788026\n",
      "Iteration 3, inertia 2149.2839562217573\n",
      "Converged at iteration 3: strict convergence.\n",
      "Initialization complete\n",
      "Iteration 0, inertia 3168.4644446818315\n",
      "Iteration 1, inertia 2388.561332627724\n",
      "Iteration 2, inertia 2318.182882070911\n",
      "Iteration 3, inertia 2305.0447368130363\n",
      "Iteration 4, inertia 2303.827755347116\n",
      "Iteration 5, inertia 2302.789155397584\n",
      "Iteration 6, inertia 2300.0650228417153\n",
      "Iteration 7, inertia 2297.500140721496\n",
      "Iteration 8, inertia 2295.2929621377516\n",
      "Converged at iteration 8: strict convergence.\n",
      "Initialization complete\n",
      "Iteration 0, inertia 2808.0268529712735\n",
      "Iteration 1, inertia 2233.8191039990497\n",
      "Iteration 2, inertia 2165.4776934922993\n",
      "Iteration 3, inertia 2149.2839562217573\n",
      "Converged at iteration 3: strict convergence.\n",
      "Initialization complete\n",
      "Iteration 0, inertia 3293.2023792146165\n",
      "Iteration 1, inertia 2255.0057996046635\n",
      "Iteration 2, inertia 2249.9964260128368\n",
      "Iteration 3, inertia 2248.81727938995\n",
      "Iteration 4, inertia 2248.6929112912885\n",
      "Iteration 5, inertia 2248.584697210368\n",
      "Converged at iteration 5: strict convergence.\n",
      "Initialization complete\n",
      "Iteration 0, inertia 3174.657435206061\n",
      "Iteration 1, inertia 2239.492671018215\n",
      "Iteration 2, inertia 2180.168271508532\n",
      "Iteration 3, inertia 2159.1411178468297\n",
      "Iteration 4, inertia 2150.7617532359045\n",
      "Iteration 5, inertia 2149.2839562217573\n",
      "Converged at iteration 5: strict convergence.\n",
      "Initialization complete\n",
      "Iteration 0, inertia 3273.819315158553\n",
      "Iteration 1, inertia 2768.8625410004165\n",
      "Iteration 2, inertia 2765.4114791203974\n",
      "Iteration 3, inertia 2763.0731112654507\n",
      "Iteration 4, inertia 2762.971815859721\n",
      "Converged at iteration 4: strict convergence.\n"
     ]
    }
   ],
   "source": [
    "y_pred3 = kmeans3.fit_predict(scaled_data)"
   ]
  },
  {
   "cell_type": "code",
   "execution_count": 33,
   "metadata": {},
   "outputs": [],
   "source": [
    "df['3 clusters result'] = y_pred3"
   ]
  },
  {
   "cell_type": "code",
   "execution_count": 34,
   "metadata": {},
   "outputs": [
    {
     "data": {
      "text/plain": [
       "<matplotlib.axes._subplots.AxesSubplot at 0x2228463f2c8>"
      ]
     },
     "execution_count": 34,
     "metadata": {},
     "output_type": "execute_result"
    },
    {
     "data": {
      "image/png": "[encoded data removed]",
      "text/plain": [
       "<Figure size 432x288 with 1 Axes>"
      ]
     },
     "metadata": {
      "needs_background": "light"
     },
     "output_type": "display_data"
    }
   ],
   "source": [
    "sns.countplot(df['3 clusters result'])"
   ]
  },
  {
   "cell_type": "markdown",
   "metadata": {},
   "source": [
    "3 clusters don't seem optimal as the last has very less values. These can also be the outliers"
   ]
  },
  {
   "cell_type": "code",
   "execution_count": 35,
   "metadata": {},
   "outputs": [
    {
     "data": {
      "text/plain": [
       "<matplotlib.collections.PathCollection at 0x222847e1b88>"
      ]
     },
     "execution_count": 35,
     "metadata": {},
     "output_type": "execute_result"
    },
    {
     "data": {
      "image/png": "[encoded data removed]",
      "text/plain": [
       "<Figure size 432x288 with 1 Axes>"
      ]
     },
     "metadata": {
      "needs_background": "light"
     },
     "output_type": "display_data"
    }
   ],
   "source": [
    "plt.scatter(df.Fresh, df.Milk, c =df['3 clusters result'] )"
   ]
  },
  {
   "cell_type": "markdown",
   "metadata": {},
   "source": [
    "As interpreted, 3rd cluster comprises of the outliers only"
   ]
  },
  {
   "cell_type": "markdown",
   "metadata": {},
   "source": [
    "### Davies Bouldin Score for 3 clusters"
   ]
  },
  {
   "cell_type": "code",
   "execution_count": 38,
   "metadata": {},
   "outputs": [
    {
     "data": {
      "text/plain": [
       "1.1736367961162066"
      ]
     },
     "execution_count": 38,
     "metadata": {},
     "output_type": "execute_result"
    }
   ],
   "source": [
    "import sklearn.metrics\n",
    "\n",
    "sklearn.metrics.davies_bouldin_score(scaled_data, y_pred3)"
   ]
  },
  {
   "cell_type": "markdown",
   "metadata": {},
   "source": [
    "Has decreased compared to 2 clusters"
   ]
  },
  {
   "cell_type": "markdown",
   "metadata": {},
   "source": [
    "### 6 Clusters"
   ]
  },
  {
   "cell_type": "code",
   "execution_count": 39,
   "metadata": {},
   "outputs": [
    {
     "name": "stdout",
     "output_type": "stream",
     "text": [
      "Initialization complete\n",
      "Iteration 0, inertia 1798.414008435038\n",
      "Iteration 1, inertia 1378.4030695772828\n",
      "Iteration 2, inertia 1336.9739871818533\n",
      "Iteration 3, inertia 1321.7323500059392\n",
      "Iteration 4, inertia 1319.8073095972975\n",
      "Converged at iteration 4: strict convergence.\n",
      "Initialization complete\n",
      "Iteration 0, inertia 2033.2694139976172\n",
      "Iteration 1, inertia 1508.5567418821577\n",
      "Iteration 2, inertia 1478.5780452071833\n",
      "Iteration 3, inertia 1463.4899349283287\n",
      "Iteration 4, inertia 1457.550146537694\n",
      "Iteration 5, inertia 1455.2130878182925\n",
      "Iteration 6, inertia 1454.2209376492356\n",
      "Iteration 7, inertia 1454.140532836006\n",
      "Converged at iteration 7: strict convergence.\n",
      "Initialization complete\n",
      "Iteration 0, inertia 2400.978966428991\n",
      "Iteration 1, inertia 1489.7376909099282\n",
      "Iteration 2, inertia 1363.7893364117556\n",
      "Iteration 3, inertia 1342.3999998568809\n",
      "Iteration 4, inertia 1336.9156800090273\n",
      "Iteration 5, inertia 1331.7818893806098\n",
      "Iteration 6, inertia 1323.6445786788197\n",
      "Iteration 7, inertia 1319.4965027773924\n",
      "Iteration 8, inertia 1315.6094244931908\n",
      "Converged at iteration 8: strict convergence.\n",
      "Initialization complete\n",
      "Iteration 0, inertia 1927.0277788999852\n",
      "Iteration 1, inertia 1535.1369914164854\n",
      "Iteration 2, inertia 1510.6034556859565\n",
      "Iteration 3, inertia 1497.0282342025512\n",
      "Iteration 4, inertia 1474.816389668866\n",
      "Iteration 5, inertia 1420.4128211414325\n",
      "Iteration 6, inertia 1379.816060494671\n",
      "Iteration 7, inertia 1373.7464679786212\n",
      "Iteration 8, inertia 1368.32001949152\n",
      "Iteration 9, inertia 1366.6009386232163\n",
      "Converged at iteration 9: strict convergence.\n",
      "Initialization complete\n",
      "Iteration 0, inertia 1705.8850961595276\n",
      "Iteration 1, inertia 1375.5427698693986\n",
      "Iteration 2, inertia 1326.0343632849633\n",
      "Iteration 3, inertia 1315.9255328565573\n",
      "Iteration 4, inertia 1314.8913838359522\n",
      "Converged at iteration 4: strict convergence.\n",
      "Initialization complete\n",
      "Iteration 0, inertia 1976.1521310498504\n",
      "Iteration 1, inertia 1497.373714362662\n",
      "Iteration 2, inertia 1459.9321120225977\n",
      "Iteration 3, inertia 1454.6747182515549\n",
      "Iteration 4, inertia 1453.319304698176\n",
      "Converged at iteration 4: strict convergence.\n",
      "Initialization complete\n",
      "Iteration 0, inertia 1920.110519536926\n",
      "Iteration 1, inertia 1408.3307499145537\n",
      "Iteration 2, inertia 1392.8937273963213\n",
      "Iteration 3, inertia 1392.1325654953075\n",
      "Converged at iteration 3: strict convergence.\n",
      "Initialization complete\n",
      "Iteration 0, inertia 1994.397023839825\n",
      "Iteration 1, inertia 1563.8695551922924\n",
      "Iteration 2, inertia 1451.8570084863857\n",
      "Iteration 3, inertia 1339.1823933256787\n",
      "Iteration 4, inertia 1324.7180243709304\n",
      "Iteration 5, inertia 1321.33431504748\n",
      "Iteration 6, inertia 1320.2469860111128\n",
      "Iteration 7, inertia 1319.6336927955256\n",
      "Iteration 8, inertia 1319.2290429295915\n",
      "Converged at iteration 8: strict convergence.\n",
      "Initialization complete\n",
      "Iteration 0, inertia 1918.430685716606\n",
      "Iteration 1, inertia 1512.7188637673364\n",
      "Iteration 2, inertia 1479.0764244913407\n",
      "Iteration 3, inertia 1474.384710603513\n",
      "Iteration 4, inertia 1471.9474853159418\n",
      "Iteration 5, inertia 1471.3317063719576\n",
      "Converged at iteration 5: strict convergence.\n",
      "Initialization complete\n",
      "Iteration 0, inertia 1933.9565405183596\n",
      "Iteration 1, inertia 1485.7474132117184\n",
      "Iteration 2, inertia 1478.2282304537925\n",
      "Iteration 3, inertia 1477.1219711519302\n",
      "Iteration 4, inertia 1476.669533025372\n",
      "Iteration 5, inertia 1476.3673509010646\n",
      "Iteration 6, inertia 1476.1839004855287\n",
      "Iteration 7, inertia 1475.4105921664082\n",
      "Iteration 8, inertia 1474.826351959257\n",
      "Iteration 9, inertia 1474.3145668257125\n",
      "Iteration 10, inertia 1472.101350166055\n",
      "Iteration 11, inertia 1465.9230108542906\n",
      "Iteration 12, inertia 1456.6872694935767\n",
      "Iteration 13, inertia 1455.150000170231\n",
      "Iteration 14, inertia 1454.4275306438856\n",
      "Iteration 15, inertia 1454.046583072887\n",
      "Iteration 16, inertia 1453.9923580760487\n",
      "Converged at iteration 16: strict convergence.\n"
     ]
    }
   ],
   "source": [
    "kmeans6 = KMeans(n_clusters=6, verbose = True, random_state = 42, max_iter=100)\n",
    "\n",
    "y_pred6 = kmeans6.fit_predict(scaled_data)"
   ]
  },
  {
   "cell_type": "code",
   "execution_count": 40,
   "metadata": {},
   "outputs": [
    {
     "data": {
      "text/plain": [
       "array([1, 1, 1, 3, 1, 1, 1, 1, 3, 1, 1, 1, 1, 1, 1, 3, 1, 3, 1, 3, 1, 3,\n",
       "       5, 1, 1, 1, 3, 3, 1, 5, 3, 3, 3, 5, 3, 1, 5, 1, 1, 5, 5, 3, 1, 1,\n",
       "       1, 1, 1, 2, 1, 1, 3, 3, 5, 1, 3, 3, 2, 1, 3, 3, 1, 2, 1, 1, 3, 2,\n",
       "       3, 1, 3, 3, 3, 5, 3, 1, 1, 3, 3, 1, 3, 3, 3, 1, 1, 3, 1, 2, 2, 5,\n",
       "       3, 3, 3, 3, 2, 5, 1, 3, 1, 3, 3, 3, 1, 1, 1, 5, 3, 3, 1, 1, 1, 1,\n",
       "       3, 1, 3, 3, 3, 3, 3, 3, 3, 3, 3, 3, 3, 1, 5, 5, 3, 1, 3, 5, 3, 3,\n",
       "       3, 3, 3, 3, 3, 3, 3, 3, 3, 3, 5, 3, 3, 1, 3, 3, 3, 3, 3, 3, 3, 3,\n",
       "       3, 1, 1, 3, 1, 1, 1, 3, 3, 1, 1, 1, 1, 3, 3, 3, 1, 1, 3, 1, 3, 1,\n",
       "       5, 3, 3, 3, 3, 5, 3, 4, 3, 3, 3, 3, 1, 1, 3, 3, 3, 1, 3, 3, 5, 1,\n",
       "       0, 0, 1, 1, 0, 0, 0, 1, 0, 0, 0, 1, 0, 2, 0, 0, 1, 0, 1, 0, 1, 0,\n",
       "       0, 0, 0, 0, 0, 0, 0, 0, 0, 0, 0, 0, 0, 0, 0, 0, 0, 0, 0, 5, 0, 0,\n",
       "       0, 0, 0, 1, 0, 0, 0, 0, 0, 2, 0, 0, 0, 0, 0, 0, 5, 5, 0, 0, 0, 0,\n",
       "       1, 0, 1, 0, 1, 0, 0, 0, 0, 5, 3, 3, 5, 3, 3, 1, 3, 1, 5, 5, 5, 5,\n",
       "       3, 3, 3, 5, 3, 3, 3, 1, 0, 1, 0, 1, 1, 0, 1, 1, 1, 1, 1, 1, 1, 0,\n",
       "       0, 1, 0, 0, 1, 0, 0, 1, 0, 0, 0, 1, 0, 0, 0, 0, 0, 5, 0, 0, 0, 0,\n",
       "       0, 1, 0, 2, 0, 1, 0, 0, 0, 0, 1, 1, 3, 1, 3, 3, 1, 1, 3, 1, 3, 1,\n",
       "       3, 1, 3, 3, 3, 1, 3, 3, 3, 3, 3, 3, 3, 1, 3, 3, 3, 3, 5, 3, 3, 1,\n",
       "       3, 3, 1, 5, 3, 1, 3, 3, 5, 3, 3, 3, 3, 3, 3, 3, 3, 3, 3, 5, 3, 3,\n",
       "       1, 3, 3, 3, 3, 5, 3, 3, 3, 3, 5, 1, 1, 3, 3, 3, 3, 3, 3, 1, 1, 3,\n",
       "       1, 3, 3, 1, 3, 1, 1, 3, 3, 5, 3, 3, 3, 3, 3, 3, 3, 5, 5, 1, 3, 3])"
      ]
     },
     "execution_count": 40,
     "metadata": {},
     "output_type": "execute_result"
    }
   ],
   "source": [
    "y_pred6"
   ]
  },
  {
   "cell_type": "code",
   "execution_count": 41,
   "metadata": {},
   "outputs": [
    {
     "data": {
      "text/plain": [
       "1314.8913838359522"
      ]
     },
     "execution_count": 41,
     "metadata": {},
     "output_type": "execute_result"
    }
   ],
   "source": [
    "kmeans6.inertia_"
   ]
  },
  {
   "cell_type": "markdown",
   "metadata": {},
   "source": [
    "Inertia has decreased further"
   ]
  },
  {
   "cell_type": "code",
   "execution_count": 44,
   "metadata": {},
   "outputs": [
    {
     "data": {
      "text/plain": [
       "array([[-5.67368999e-01, -1.57920251e+00, -1.11632825e-01,\n",
       "        -3.54548397e-01, -4.04418651e-01,  3.33152868e-02,\n",
       "        -4.24041671e-01, -1.52151186e-01],\n",
       "       [ 1.44865163e+00,  1.66562579e-01, -3.35427763e-01,\n",
       "         4.58126517e-01,  6.73224816e-01, -3.49684911e-01,\n",
       "         6.89164252e-01,  4.76614618e-02],\n",
       "       [ 1.44865163e+00, -5.58343155e-02,  3.13830315e-01,\n",
       "         3.92190593e+00,  4.27561037e+00, -3.57419457e-03,\n",
       "         4.61816580e+00,  5.03365339e-01],\n",
       "       [-6.90297086e-01,  5.90668285e-01, -2.16616886e-01,\n",
       "        -3.80006924e-01, -4.76249417e-01, -8.32741037e-02,\n",
       "        -4.44672309e-01, -1.79350114e-01],\n",
       "       [-6.90297086e-01,  5.90668285e-01,  1.96681731e+00,\n",
       "         5.17550306e+00,  1.28721685e+00,  6.90059988e+00,\n",
       "        -5.54861977e-01,  1.64784475e+01],\n",
       "       [-5.77720838e-01,  2.84430211e-01,  2.24499548e+00,\n",
       "        -7.35112400e-02, -2.04298800e-01,  1.28561554e+00,\n",
       "        -4.02219973e-01,  4.70290526e-01]])"
      ]
     },
     "execution_count": 44,
     "metadata": {},
     "output_type": "execute_result"
    }
   ],
   "source": [
    "kmeans6.cluster_centers_"
   ]
  },
  {
   "cell_type": "code",
   "execution_count": 45,
   "metadata": {},
   "outputs": [],
   "source": [
    "df['6 clusters result'] = y_pred6"
   ]
  },
  {
   "cell_type": "code",
   "execution_count": 46,
   "metadata": {},
   "outputs": [
    {
     "data": {
      "text/plain": [
       "<matplotlib.axes._subplots.AxesSubplot at 0x2228373eb08>"
      ]
     },
     "execution_count": 46,
     "metadata": {},
     "output_type": "execute_result"
    },
    {
     "data": {
      "image/png": "[encoded data removed]",
      "text/plain": [
       "<Figure size 432x288 with 1 Axes>"
      ]
     },
     "metadata": {
      "needs_background": "light"
     },
     "output_type": "display_data"
    }
   ],
   "source": [
    "sns.countplot(df['6 clusters result'])"
   ]
  },
  {
   "cell_type": "markdown",
   "metadata": {},
   "source": [
    "Doesn't really seem to be a good clustering"
   ]
  },
  {
   "cell_type": "code",
   "execution_count": 47,
   "metadata": {},
   "outputs": [
    {
     "data": {
      "text/plain": [
       "<matplotlib.collections.PathCollection at 0x22283959bc8>"
      ]
     },
     "execution_count": 47,
     "metadata": {},
     "output_type": "execute_result"
    },
    {
     "data": {
      "image/png": "[encoded data removed]",
      "text/plain": [
       "<Figure size 432x288 with 1 Axes>"
      ]
     },
     "metadata": {
      "needs_background": "light"
     },
     "output_type": "display_data"
    }
   ],
   "source": [
    "plt.scatter(df.Fresh, df.Milk, c =df['6 clusters result'] )"
   ]
  },
  {
   "cell_type": "markdown",
   "metadata": {},
   "source": [
    "Not very distinct clusters. 6 doesn't seem to be an optimal value of k"
   ]
  },
  {
   "cell_type": "markdown",
   "metadata": {},
   "source": [
    "### Davies Bouldin Score for 6 clusters"
   ]
  },
  {
   "cell_type": "code",
   "execution_count": 48,
   "metadata": {},
   "outputs": [
    {
     "data": {
      "text/plain": [
       "0.9310666961331654"
      ]
     },
     "execution_count": 48,
     "metadata": {},
     "output_type": "execute_result"
    }
   ],
   "source": [
    "sklearn.metrics.davies_bouldin_score(scaled_data, y_pred6)"
   ]
  },
  {
   "cell_type": "markdown",
   "metadata": {},
   "source": [
    "Has drastically dropped"
   ]
  }
 ],
 "metadata": {
  "kernelspec": {
   "display_name": "Python 3",
   "language": "python",
   "name": "python3"
  },
  "language_info": {
   "codemirror_mode": {
    "name": "ipython",
    "version": 3
   },
   "file_extension": ".py",
   "mimetype": "text/x-python",
   "name": "python",
   "nbconvert_exporter": "python",
   "pygments_lexer": "ipython3",
   "version": "3.7.6"
  }
 },
 "nbformat": 4,
 "nbformat_minor": 4
}
