{
 "cells": [
  {
   "cell_type": "markdown",
   "metadata": {},
   "source": [
    "## Importing Libraries"
   ]
  },
  {
   "cell_type": "code",
   "execution_count": 1,
   "metadata": {},
   "outputs": [],
   "source": [
    "import numpy as np\n",
    "import pandas as pd\n",
    "import matplotlib.pyplot as plt\n",
    "import seaborn as sns\n",
    "%matplotlib inline"
   ]
  },
  {
   "cell_type": "markdown",
   "metadata": {},
   "source": [
    "## Generating Random Dataset"
   ]
  },
  {
   "cell_type": "code",
   "execution_count": 4,
   "metadata": {},
   "outputs": [
    {
     "data": {
      "text/plain": [
       "array([[-0.87807343, -1.4710165 ],\n",
       "       [-0.04389826, -1.44980219],\n",
       "       [-0.60303157, -0.00687211],\n",
       "       [-0.09452907, -0.02553369],\n",
       "       [-1.16704123, -0.6834003 ],\n",
       "       [-0.79700426, -0.06801872],\n",
       "       [-0.56951541, -0.57622398],\n",
       "       [-0.37987536, -0.0594598 ],\n",
       "       [-0.7268041 , -0.71044067],\n",
       "       [-1.64601974, -1.41388003],\n",
       "       [-1.97074686, -1.10056929],\n",
       "       [-0.49885359, -0.5800614 ],\n",
       "       [-1.83091705, -0.51530218],\n",
       "       [-0.67278116, -1.5165039 ],\n",
       "       [-0.42282106, -0.88882922],\n",
       "       [-0.89006693, -1.72093454],\n",
       "       [-1.21723442, -1.10571811],\n",
       "       [-0.66928912, -1.63646232],\n",
       "       [-0.04349093, -1.99312285],\n",
       "       [-1.19632156, -1.77773069]])"
      ]
     },
     "execution_count": 4,
     "metadata": {},
     "output_type": "execute_result"
    }
   ],
   "source": [
    "X= -2 * np.random.rand(100,2)\n",
    "\n",
    "X[:20]"
   ]
  },
  {
   "cell_type": "code",
   "execution_count": 6,
   "metadata": {},
   "outputs": [
    {
     "data": {
      "text/plain": [
       "array([[-0.87807343, -1.4710165 ],\n",
       "       [-0.04389826, -1.44980219],\n",
       "       [-0.60303157, -0.00687211],\n",
       "       [-0.09452907, -0.02553369],\n",
       "       [-1.16704123, -0.6834003 ],\n",
       "       [-0.79700426, -0.06801872],\n",
       "       [-0.56951541, -0.57622398],\n",
       "       [-0.37987536, -0.0594598 ],\n",
       "       [-0.7268041 , -0.71044067],\n",
       "       [-1.64601974, -1.41388003],\n",
       "       [-1.97074686, -1.10056929],\n",
       "       [-0.49885359, -0.5800614 ],\n",
       "       [-1.83091705, -0.51530218],\n",
       "       [-0.67278116, -1.5165039 ],\n",
       "       [-0.42282106, -0.88882922],\n",
       "       [-0.89006693, -1.72093454],\n",
       "       [-1.21723442, -1.10571811],\n",
       "       [-0.66928912, -1.63646232],\n",
       "       [-0.04349093, -1.99312285],\n",
       "       [-1.19632156, -1.77773069],\n",
       "       [-1.55073853, -1.4363366 ],\n",
       "       [-0.39494438, -1.6455374 ],\n",
       "       [-0.64970738, -0.72813556],\n",
       "       [-1.0409481 , -0.30886619],\n",
       "       [-0.15531345, -0.63523897],\n",
       "       [-1.6978141 , -0.77809464],\n",
       "       [-0.37938775, -1.76206408],\n",
       "       [-0.15910354, -1.78598319],\n",
       "       [-1.17363382, -0.88118777],\n",
       "       [-0.39881914, -1.25717529],\n",
       "       [-0.26692506, -1.1700212 ],\n",
       "       [-0.34495805, -1.07379952],\n",
       "       [-1.11882117, -1.41393439],\n",
       "       [-0.67753889, -0.50563113],\n",
       "       [-1.63737687, -1.52751036],\n",
       "       [-1.94803223, -0.90594478],\n",
       "       [-1.16608592, -1.75434831],\n",
       "       [-0.51332154, -1.92867706],\n",
       "       [-1.82119755, -1.46414568],\n",
       "       [-1.00006682, -0.99501737],\n",
       "       [-0.62111162, -1.0377101 ],\n",
       "       [-0.8315868 , -0.4786189 ],\n",
       "       [-0.51668985, -0.52279122],\n",
       "       [-0.29176944, -0.65160735],\n",
       "       [-1.61385082, -0.16636828],\n",
       "       [-0.8784011 , -1.5139239 ],\n",
       "       [-1.69770143, -0.00674486],\n",
       "       [-0.99601965, -1.48505983],\n",
       "       [-0.26518232, -1.79226305],\n",
       "       [-0.59563028, -1.6148093 ],\n",
       "       [ 1.18412604,  1.12130379],\n",
       "       [ 1.54100773,  2.75092765],\n",
       "       [ 1.6070412 ,  1.83584182],\n",
       "       [ 1.8906413 ,  2.31287213],\n",
       "       [ 2.40333631,  2.47564631],\n",
       "       [ 1.91065814,  2.85710337],\n",
       "       [ 2.83740716,  1.17909317],\n",
       "       [ 2.78165967,  2.23183208],\n",
       "       [ 1.65743758,  2.88064196],\n",
       "       [ 2.43335107,  2.17741689],\n",
       "       [ 2.62729945,  2.90701888],\n",
       "       [ 2.61160516,  2.12845335],\n",
       "       [ 1.43553838,  1.93292578],\n",
       "       [ 2.44702412,  2.54126641],\n",
       "       [ 1.67463241,  2.12602434],\n",
       "       [ 1.63009435,  2.41059614],\n",
       "       [ 2.15353206,  2.04185656],\n",
       "       [ 2.32219398,  1.50533971],\n",
       "       [ 1.27539856,  1.39319949],\n",
       "       [ 1.05879826,  2.97228052],\n",
       "       [ 1.2570449 ,  2.7852202 ],\n",
       "       [ 1.57947494,  2.12769797],\n",
       "       [ 1.70940607,  1.71321069],\n",
       "       [ 1.83956585,  2.72308767],\n",
       "       [ 2.00243044,  1.77298791],\n",
       "       [ 2.44853476,  1.53383034],\n",
       "       [ 2.87030869,  2.78490028],\n",
       "       [ 2.91445265,  2.22082888],\n",
       "       [ 1.03576351,  1.64380128],\n",
       "       [ 2.04118785,  1.92305521],\n",
       "       [ 2.31718899,  1.02942909],\n",
       "       [ 2.89975806,  2.64099915],\n",
       "       [ 2.73003775,  2.84898611],\n",
       "       [ 1.73173081,  2.79274736],\n",
       "       [ 1.87281178,  2.78852085],\n",
       "       [ 2.09929419,  2.02013787],\n",
       "       [ 1.00455373,  1.83457372],\n",
       "       [ 1.13691192,  2.88102607],\n",
       "       [ 1.65937238,  2.26306607],\n",
       "       [ 1.66223914,  2.59168148],\n",
       "       [ 2.12052259,  2.14719127],\n",
       "       [ 2.23917438,  2.14237307],\n",
       "       [ 2.98751068,  1.06269992],\n",
       "       [ 1.35036514,  1.67380339],\n",
       "       [ 2.1090699 ,  1.43227316],\n",
       "       [ 1.79017904,  1.29160956],\n",
       "       [ 2.83440622,  2.59964495],\n",
       "       [ 2.91110921,  2.47463952],\n",
       "       [ 2.90976232,  1.94833907],\n",
       "       [ 1.16450361,  2.72228579]])"
      ]
     },
     "execution_count": 6,
     "metadata": {},
     "output_type": "execute_result"
    }
   ],
   "source": [
    "X1 = 1 + 2 * np.random.rand(50,2)\n",
    "\n",
    "X[50:100, :] = X1\n",
    "\n",
    "X"
   ]
  },
  {
   "cell_type": "code",
   "execution_count": 7,
   "metadata": {},
   "outputs": [],
   "source": [
    "## Creating a Scatter Plot of 2 above generated columns \n",
    "## We are consedering the 2 diff columns so generated as 2 different features"
   ]
  },
  {
   "cell_type": "code",
   "execution_count": 8,
   "metadata": {},
   "outputs": [
    {
     "data": {
      "image/png": "[encoded data removed]",
      "text/plain": [
       "<Figure size 432x288 with 1 Axes>"
      ]
     },
     "metadata": {
      "needs_background": "light"
     },
     "output_type": "display_data"
    }
   ],
   "source": [
    "plt.scatter(X[ : , 0], X[ :, 1], s = 50, c = 'b', marker='o')\n",
    "plt.show()"
   ]
  },
  {
   "cell_type": "markdown",
   "metadata": {},
   "source": [
    "We can see 2 different clusters here"
   ]
  },
  {
   "cell_type": "markdown",
   "metadata": {},
   "source": [
    "### Model Making"
   ]
  },
  {
   "cell_type": "code",
   "execution_count": 9,
   "metadata": {},
   "outputs": [
    {
     "name": "stdout",
     "output_type": "stream",
     "text": [
      "Initialization complete\n",
      "Iteration 0, inertia 39.38177316356878\n",
      "Iteration 1, inertia 33.62838578912264\n",
      "Iteration 2, inertia 32.48805274190504\n",
      "Iteration 3, inertia 32.022864158637844\n",
      "Iteration 4, inertia 31.950800068509555\n",
      "Iteration 5, inertia 31.877849476170276\n",
      "Converged at iteration 5: strict convergence.\n",
      "Initialization complete\n",
      "Iteration 0, inertia 42.94218793185136\n",
      "Iteration 1, inertia 32.72731648445993\n",
      "Iteration 2, inertia 31.903811823352864\n",
      "Iteration 3, inertia 31.836365212925834\n",
      "Iteration 4, inertia 31.78635315323968\n",
      "Converged at iteration 4: strict convergence.\n",
      "Initialization complete\n",
      "Iteration 0, inertia 46.517575672401534\n",
      "Iteration 1, inertia 32.12991841534495\n",
      "Iteration 2, inertia 32.013956656363575\n",
      "Converged at iteration 2: strict convergence.\n",
      "Initialization complete\n",
      "Iteration 0, inertia 41.26031865096851\n",
      "Iteration 1, inertia 33.518298197278426\n",
      "Iteration 2, inertia 31.901542592929854\n",
      "Iteration 3, inertia 30.791639316901723\n",
      "Iteration 4, inertia 30.402911813916887\n",
      "Converged at iteration 4: strict convergence.\n",
      "Initialization complete\n",
      "Iteration 0, inertia 34.46740670634251\n",
      "Iteration 1, inertia 30.1463118050464\n",
      "Iteration 2, inertia 29.91800132867175\n",
      "Iteration 3, inertia 29.815823407775227\n",
      "Iteration 4, inertia 29.759316624227015\n",
      "Converged at iteration 4: strict convergence.\n",
      "Initialization complete\n",
      "Iteration 0, inertia 40.16007081558952\n",
      "Iteration 1, inertia 30.85679977451402\n",
      "Iteration 2, inertia 30.626461833992053\n",
      "Iteration 3, inertia 30.551210078797855\n",
      "Iteration 4, inertia 30.492340699464613\n",
      "Iteration 5, inertia 30.44699912434929\n",
      "Converged at iteration 5: strict convergence.\n",
      "Initialization complete\n",
      "Iteration 0, inertia 35.423553079289015\n",
      "Iteration 1, inertia 31.32554966634785\n",
      "Iteration 2, inertia 30.074719686270328\n",
      "Iteration 3, inertia 29.89111499284438\n",
      "Iteration 4, inertia 29.81057660367295\n",
      "Iteration 5, inertia 29.777240670776116\n",
      "Converged at iteration 5: strict convergence.\n",
      "Initialization complete\n",
      "Iteration 0, inertia 41.38486075593992\n",
      "Iteration 1, inertia 33.93191031127928\n",
      "Iteration 2, inertia 33.53967347067931\n",
      "Iteration 3, inertia 32.57183168811407\n",
      "Iteration 4, inertia 30.798101433079715\n",
      "Iteration 5, inertia 30.44699912434929\n",
      "Converged at iteration 5: strict convergence.\n",
      "Initialization complete\n",
      "Iteration 0, inertia 37.92957196879997\n",
      "Iteration 1, inertia 32.6454185886628\n",
      "Iteration 2, inertia 31.776518700304422\n",
      "Iteration 3, inertia 31.64352110821055\n",
      "Iteration 4, inertia 31.415172534491166\n",
      "Iteration 5, inertia 31.306396196368517\n",
      "Iteration 6, inertia 31.281656179198187\n",
      "Converged at iteration 6: strict convergence.\n",
      "Initialization complete\n",
      "Iteration 0, inertia 48.61599286535471\n",
      "Iteration 1, inertia 39.042661464672385\n",
      "Iteration 2, inertia 34.2307782441928\n",
      "Iteration 3, inertia 33.338840579232816\n",
      "Iteration 4, inertia 33.14652854899524\n",
      "Converged at iteration 4: strict convergence.\n"
     ]
    },
    {
     "data": {
      "text/plain": [
       "KMeans(n_clusters=5, verbose=11)"
      ]
     },
     "execution_count": 9,
     "metadata": {},
     "output_type": "execute_result"
    }
   ],
   "source": [
    "from sklearn.cluster import KMeans\n",
    "\n",
    "Kmean = KMeans(n_clusters=5, max_iter=300, verbose=11, n_init=10, init=\"k-means++\")\n",
    "\n",
    "## n_init- to specify how many random centroids should be chosen to work on\n",
    "\n",
    "Kmean.fit(X)"
   ]
  },
  {
   "cell_type": "markdown",
   "metadata": {},
   "source": [
    "Point to Note:\n",
    "300 iterations were never reachead as cluster centroids stopped changing"
   ]
  },
  {
   "cell_type": "code",
   "execution_count": 10,
   "metadata": {},
   "outputs": [
    {
     "data": {
      "text/plain": [
       "array([[ 1.49454657,  2.29726831],\n",
       "       [-0.59488728, -1.56194665],\n",
       "       [ 2.49393603,  2.04084034],\n",
       "       [-0.55039922, -0.44975526],\n",
       "       [-1.56945511, -0.92715859]])"
      ]
     },
     "execution_count": 10,
     "metadata": {},
     "output_type": "execute_result"
    }
   ],
   "source": [
    "Kmean.cluster_centers_"
   ]
  },
  {
   "cell_type": "markdown",
   "metadata": {},
   "source": [
    "Different Centroids for different clusters"
   ]
  },
  {
   "cell_type": "code",
   "execution_count": 11,
   "metadata": {},
   "outputs": [
    {
     "data": {
      "image/png": "[encoded data removed]",
      "text/plain": [
       "<Figure size 432x288 with 1 Axes>"
      ]
     },
     "metadata": {
      "needs_background": "light"
     },
     "output_type": "display_data"
    }
   ],
   "source": [
    "distance = []\n",
    "k = range(1,11)\n",
    "\n",
    "for value in k:\n",
    "    km_model = KMeans(n_clusters = value, random_state = 42)\n",
    "    km_model.fit(X)\n",
    "    distance.append(km_model.inertia_)\n",
    "    \n",
    "plt.plot(k, distance)\n",
    "plt.title('The Elbow Method')\n",
    "plt.xlabel('Number of Clusters')\n",
    "plt.ylabel('WCSS')\n",
    "plt.show()"
   ]
  },
  {
   "cell_type": "markdown",
   "metadata": {},
   "source": [
    "Best Clusters will be 2 according to the plot"
   ]
  },
  {
   "cell_type": "markdown",
   "metadata": {},
   "source": [
    "### Trying for 2 clusters"
   ]
  },
  {
   "cell_type": "code",
   "execution_count": 12,
   "metadata": {},
   "outputs": [
    {
     "name": "stdout",
     "output_type": "stream",
     "text": [
      "Initialization complete\n",
      "Iteration 0, inertia 101.2974288440964\n",
      "Iteration 1, inertia 64.12302063414452\n",
      "Converged at iteration 1: strict convergence.\n",
      "Initialization complete\n",
      "Iteration 0, inertia 83.58035364053345\n",
      "Iteration 1, inertia 64.12302063414452\n",
      "Converged at iteration 1: strict convergence.\n",
      "Initialization complete\n",
      "Iteration 0, inertia 135.82678070311277\n",
      "Iteration 1, inertia 64.12302063414452\n",
      "Converged at iteration 1: strict convergence.\n",
      "Initialization complete\n",
      "Iteration 0, inertia 115.69890237162446\n",
      "Iteration 1, inertia 64.12302063414452\n",
      "Converged at iteration 1: strict convergence.\n",
      "Initialization complete\n",
      "Iteration 0, inertia 99.14646265334223\n",
      "Iteration 1, inertia 64.12302063414452\n",
      "Converged at iteration 1: strict convergence.\n",
      "Initialization complete\n",
      "Iteration 0, inertia 149.3862268649569\n",
      "Iteration 1, inertia 64.12302063414452\n",
      "Converged at iteration 1: strict convergence.\n",
      "Initialization complete\n",
      "Iteration 0, inertia 142.25174583628257\n",
      "Iteration 1, inertia 64.12302063414452\n",
      "Converged at iteration 1: strict convergence.\n",
      "Initialization complete\n",
      "Iteration 0, inertia 117.12839147041109\n",
      "Iteration 1, inertia 64.12302063414452\n",
      "Converged at iteration 1: strict convergence.\n",
      "Initialization complete\n",
      "Iteration 0, inertia 139.59946540978444\n",
      "Iteration 1, inertia 64.12302063414452\n",
      "Converged at iteration 1: strict convergence.\n",
      "Initialization complete\n",
      "Iteration 0, inertia 143.2985683714843\n",
      "Iteration 1, inertia 64.12302063414452\n",
      "Converged at iteration 1: strict convergence.\n"
     ]
    },
    {
     "data": {
      "text/plain": [
       "array([0, 0, 0, 0, 0, 0, 0, 0, 0, 0, 0, 0, 0, 0, 0, 0, 0, 0, 0, 0, 0, 0,\n",
       "       0, 0, 0, 0, 0, 0, 0, 0, 0, 0, 0, 0, 0, 0, 0, 0, 0, 0, 0, 0, 0, 0,\n",
       "       0, 0, 0, 0, 0, 0, 1, 1, 1, 1, 1, 1, 1, 1, 1, 1, 1, 1, 1, 1, 1, 1,\n",
       "       1, 1, 1, 1, 1, 1, 1, 1, 1, 1, 1, 1, 1, 1, 1, 1, 1, 1, 1, 1, 1, 1,\n",
       "       1, 1, 1, 1, 1, 1, 1, 1, 1, 1, 1, 1])"
      ]
     },
     "execution_count": 12,
     "metadata": {},
     "output_type": "execute_result"
    }
   ],
   "source": [
    "from sklearn.cluster import KMeans\n",
    "\n",
    "Kmean = KMeans(n_clusters=2, max_iter=300, verbose=11, n_init=10, init=\"k-means++\")\n",
    "\n",
    "Kmean.fit_predict(X)"
   ]
  },
  {
   "cell_type": "code",
   "execution_count": 13,
   "metadata": {},
   "outputs": [
    {
     "data": {
      "text/plain": [
       "array([[-0.85441986, -1.05054858],\n",
       "       [ 2.01422909,  2.16392577]])"
      ]
     },
     "execution_count": 13,
     "metadata": {},
     "output_type": "execute_result"
    }
   ],
   "source": [
    "centers = Kmean.cluster_centers_\n",
    "\n",
    "centers"
   ]
  },
  {
   "cell_type": "code",
   "execution_count": null,
   "metadata": {},
   "outputs": [],
   "source": []
  }
 ],
 "metadata": {
  "kernelspec": {
   "display_name": "Python 3",
   "language": "python",
   "name": "python3"
  },
  "language_info": {
   "codemirror_mode": {
    "name": "ipython",
    "version": 3
   },
   "file_extension": ".py",
   "mimetype": "text/x-python",
   "name": "python",
   "nbconvert_exporter": "python",
   "pygments_lexer": "ipython3",
   "version": "3.7.6"
  }
 },
 "nbformat": 4,
 "nbformat_minor": 4
}
