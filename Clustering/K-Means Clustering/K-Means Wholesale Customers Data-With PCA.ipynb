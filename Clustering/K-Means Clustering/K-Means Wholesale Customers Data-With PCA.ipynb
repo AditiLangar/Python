{
 "cells": [
  {
   "cell_type": "markdown",
   "metadata": {},
   "source": [
    "### Using PCA because clusters so formed are not so distinct. Dimensionality Reduction will help in better visulaisation"
   ]
  },
  {
   "cell_type": "markdown",
   "metadata": {},
   "source": [
    "## Importing Libraries"
   ]
  },
  {
   "cell_type": "code",
   "execution_count": 1,
   "metadata": {},
   "outputs": [],
   "source": [
    "import pandas as pd\n",
    "import numpy as np\n",
    "import matplotlib.pyplot as plt\n",
    "import seaborn as sns\n",
    "%matplotlib inline"
   ]
  },
  {
   "cell_type": "markdown",
   "metadata": {},
   "source": [
    "## Importing Dataset"
   ]
  },
  {
   "cell_type": "code",
   "execution_count": 2,
   "metadata": {},
   "outputs": [
    {
     "data": {
      "text/html": [
       "<div>\n",
       "<style scoped>\n",
       "    .dataframe tbody tr th:only-of-type {\n",
       "        vertical-align: middle;\n",
       "    }\n",
       "\n",
       "    .dataframe tbody tr th {\n",
       "        vertical-align: top;\n",
       "    }\n",
       "\n",
       "    .dataframe thead th {\n",
       "        text-align: right;\n",
       "    }\n",
       "</style>\n",
       "<table border=\"1\" class=\"dataframe\">\n",
       "  <thead>\n",
       "    <tr style=\"text-align: right;\">\n",
       "      <th></th>\n",
       "      <th>Channel</th>\n",
       "      <th>Region</th>\n",
       "      <th>Fresh</th>\n",
       "      <th>Milk</th>\n",
       "      <th>Grocery</th>\n",
       "      <th>Frozen</th>\n",
       "      <th>Detergents_Paper</th>\n",
       "      <th>Delicassen</th>\n",
       "    </tr>\n",
       "  </thead>\n",
       "  <tbody>\n",
       "    <tr>\n",
       "      <th>0</th>\n",
       "      <td>2</td>\n",
       "      <td>3</td>\n",
       "      <td>12669</td>\n",
       "      <td>9656</td>\n",
       "      <td>7561</td>\n",
       "      <td>214</td>\n",
       "      <td>2674</td>\n",
       "      <td>1338</td>\n",
       "    </tr>\n",
       "    <tr>\n",
       "      <th>1</th>\n",
       "      <td>2</td>\n",
       "      <td>3</td>\n",
       "      <td>7057</td>\n",
       "      <td>9810</td>\n",
       "      <td>9568</td>\n",
       "      <td>1762</td>\n",
       "      <td>3293</td>\n",
       "      <td>1776</td>\n",
       "    </tr>\n",
       "    <tr>\n",
       "      <th>2</th>\n",
       "      <td>2</td>\n",
       "      <td>3</td>\n",
       "      <td>6353</td>\n",
       "      <td>8808</td>\n",
       "      <td>7684</td>\n",
       "      <td>2405</td>\n",
       "      <td>3516</td>\n",
       "      <td>7844</td>\n",
       "    </tr>\n",
       "    <tr>\n",
       "      <th>3</th>\n",
       "      <td>1</td>\n",
       "      <td>3</td>\n",
       "      <td>13265</td>\n",
       "      <td>1196</td>\n",
       "      <td>4221</td>\n",
       "      <td>6404</td>\n",
       "      <td>507</td>\n",
       "      <td>1788</td>\n",
       "    </tr>\n",
       "    <tr>\n",
       "      <th>4</th>\n",
       "      <td>2</td>\n",
       "      <td>3</td>\n",
       "      <td>22615</td>\n",
       "      <td>5410</td>\n",
       "      <td>7198</td>\n",
       "      <td>3915</td>\n",
       "      <td>1777</td>\n",
       "      <td>5185</td>\n",
       "    </tr>\n",
       "  </tbody>\n",
       "</table>\n",
       "</div>"
      ],
      "text/plain": [
       "   Channel  Region  Fresh  Milk  Grocery  Frozen  Detergents_Paper  Delicassen\n",
       "0        2       3  12669  9656     7561     214              2674        1338\n",
       "1        2       3   7057  9810     9568    1762              3293        1776\n",
       "2        2       3   6353  8808     7684    2405              3516        7844\n",
       "3        1       3  13265  1196     4221    6404               507        1788\n",
       "4        2       3  22615  5410     7198    3915              1777        5185"
      ]
     },
     "execution_count": 2,
     "metadata": {},
     "output_type": "execute_result"
    }
   ],
   "source": [
    "df = pd.read_csv(\"Wholesale customers data.csv\")\n",
    "\n",
    "df.head()"
   ]
  },
  {
   "cell_type": "markdown",
   "metadata": {},
   "source": [
    "We already know that there are no null or duplicate values as the same dataset is being used."
   ]
  },
  {
   "cell_type": "code",
   "execution_count": 14,
   "metadata": {},
   "outputs": [
    {
     "data": {
      "text/plain": [
       "(440, 8)"
      ]
     },
     "execution_count": 14,
     "metadata": {},
     "output_type": "execute_result"
    }
   ],
   "source": [
    "df.shape"
   ]
  },
  {
   "cell_type": "markdown",
   "metadata": {},
   "source": [
    "## Preprocessing"
   ]
  },
  {
   "cell_type": "code",
   "execution_count": 5,
   "metadata": {},
   "outputs": [],
   "source": [
    "from sklearn.preprocessing import StandardScaler\n",
    "\n",
    "scaler = StandardScaler()\n",
    "\n",
    "scaled_data = scaler.fit_transform(df)"
   ]
  },
  {
   "cell_type": "markdown",
   "metadata": {},
   "source": [
    "## PCA"
   ]
  },
  {
   "cell_type": "code",
   "execution_count": 3,
   "metadata": {},
   "outputs": [],
   "source": [
    "from sklearn.decomposition import PCA"
   ]
  },
  {
   "cell_type": "code",
   "execution_count": 7,
   "metadata": {},
   "outputs": [],
   "source": [
    "pca = PCA(n_components=4)\n",
    "\n",
    "principalComponents = pca.fit_transform(scaled_data)"
   ]
  },
  {
   "cell_type": "code",
   "execution_count": 8,
   "metadata": {},
   "outputs": [
    {
     "data": {
      "text/plain": [
       "array([[ 0.84393893, -0.51535075, -0.76763222, -0.0442148 ],\n",
       "       [ 1.06267645, -0.48460126, -0.67297526,  0.40137178],\n",
       "       [ 1.26914052,  0.68205455, -0.6640946 ,  1.63495276],\n",
       "       ...,\n",
       "       [ 3.86514909, -0.47985376, -0.52534452, -0.68713197],\n",
       "       [-1.09706738, -0.06989568, -0.63012755,  0.31182088],\n",
       "       [-1.16595067, -0.90215675, -0.59770486,  0.34265555]])"
      ]
     },
     "execution_count": 8,
     "metadata": {},
     "output_type": "execute_result"
    }
   ],
   "source": [
    "principalComponents"
   ]
  },
  {
   "cell_type": "code",
   "execution_count": 9,
   "metadata": {},
   "outputs": [
    {
     "data": {
      "text/plain": [
       "array([0.38750123, 0.22374588, 0.12647173, 0.09229904])"
      ]
     },
     "execution_count": 9,
     "metadata": {},
     "output_type": "execute_result"
    }
   ],
   "source": [
    "pca.explained_variance_ratio_"
   ]
  },
  {
   "cell_type": "code",
   "execution_count": 10,
   "metadata": {},
   "outputs": [
    {
     "data": {
      "text/plain": [
       "0.83001788"
      ]
     },
     "execution_count": 10,
     "metadata": {},
     "output_type": "execute_result"
    }
   ],
   "source": [
    "0.38750123 + 0.22374588 + 0.12647173 + 0.09229904"
   ]
  },
  {
   "cell_type": "markdown",
   "metadata": {},
   "source": [
    "A total of 83% of the total variance of the original data is explained by feature extraction using PCA (0.38750123 + 0.22374588 + 0.12647173 + 0.09229904 = 0.83001788)"
   ]
  },
  {
   "cell_type": "code",
   "execution_count": 11,
   "metadata": {},
   "outputs": [
    {
     "data": {
      "text/plain": [
       "array([36.9324292 , 28.06395368, 21.09930107, 18.02477769])"
      ]
     },
     "execution_count": 11,
     "metadata": {},
     "output_type": "execute_result"
    }
   ],
   "source": [
    "## Eigen Values\n",
    "\n",
    "pca.singular_values_"
   ]
  },
  {
   "cell_type": "code",
   "execution_count": 12,
   "metadata": {},
   "outputs": [
    {
     "data": {
      "text/plain": [
       "array([[ 4.28291564e-01,  2.47260253e-02, -2.53194580e-02,\n",
       "         4.74409947e-01,  5.36329145e-01, -2.99745579e-02,\n",
       "         5.23906297e-01,  1.64996527e-01],\n",
       "       [-2.04698855e-01,  4.31296430e-02,  5.13444679e-01,\n",
       "         2.05540611e-01, -8.71761988e-03,  5.92745252e-01,\n",
       "        -1.21083091e-01,  5.33180819e-01],\n",
       "       [-8.29798863e-02, -9.82500889e-01, -8.89509074e-02,\n",
       "         2.57510842e-02,  4.53143572e-02,  1.22156522e-01,\n",
       "         4.74814388e-02, -9.30199386e-04],\n",
       "       [ 2.96441646e-02,  7.78446249e-02, -7.98475924e-01,\n",
       "         5.40220237e-02, -1.21586244e-01,  1.61316883e-01,\n",
       "        -1.51012112e-01,  5.37557669e-01]])"
      ]
     },
     "execution_count": 12,
     "metadata": {},
     "output_type": "execute_result"
    }
   ],
   "source": [
    "pca.components_"
   ]
  },
  {
   "cell_type": "markdown",
   "metadata": {},
   "source": [
    "### Creating new dataframe after PCA transformation"
   ]
  },
  {
   "cell_type": "code",
   "execution_count": 13,
   "metadata": {},
   "outputs": [
    {
     "data": {
      "text/html": [
       "<div>\n",
       "<style scoped>\n",
       "    .dataframe tbody tr th:only-of-type {\n",
       "        vertical-align: middle;\n",
       "    }\n",
       "\n",
       "    .dataframe tbody tr th {\n",
       "        vertical-align: top;\n",
       "    }\n",
       "\n",
       "    .dataframe thead th {\n",
       "        text-align: right;\n",
       "    }\n",
       "</style>\n",
       "<table border=\"1\" class=\"dataframe\">\n",
       "  <thead>\n",
       "    <tr style=\"text-align: right;\">\n",
       "      <th></th>\n",
       "      <th>pc1</th>\n",
       "      <th>pc2</th>\n",
       "      <th>pc3</th>\n",
       "      <th>pc4</th>\n",
       "    </tr>\n",
       "  </thead>\n",
       "  <tbody>\n",
       "    <tr>\n",
       "      <th>0</th>\n",
       "      <td>0.843939</td>\n",
       "      <td>-0.515351</td>\n",
       "      <td>-0.767632</td>\n",
       "      <td>-0.044215</td>\n",
       "    </tr>\n",
       "    <tr>\n",
       "      <th>1</th>\n",
       "      <td>1.062676</td>\n",
       "      <td>-0.484601</td>\n",
       "      <td>-0.672975</td>\n",
       "      <td>0.401372</td>\n",
       "    </tr>\n",
       "    <tr>\n",
       "      <th>2</th>\n",
       "      <td>1.269141</td>\n",
       "      <td>0.682055</td>\n",
       "      <td>-0.664095</td>\n",
       "      <td>1.634953</td>\n",
       "    </tr>\n",
       "    <tr>\n",
       "      <th>3</th>\n",
       "      <td>-1.056782</td>\n",
       "      <td>0.610821</td>\n",
       "      <td>-0.505654</td>\n",
       "      <td>0.196005</td>\n",
       "    </tr>\n",
       "    <tr>\n",
       "      <th>4</th>\n",
       "      <td>0.634030</td>\n",
       "      <td>0.974199</td>\n",
       "      <td>-0.771209</td>\n",
       "      <td>0.186374</td>\n",
       "    </tr>\n",
       "    <tr>\n",
       "      <th>...</th>\n",
       "      <td>...</td>\n",
       "      <td>...</td>\n",
       "      <td>...</td>\n",
       "      <td>...</td>\n",
       "    </tr>\n",
       "    <tr>\n",
       "      <th>435</th>\n",
       "      <td>0.222884</td>\n",
       "      <td>2.480505</td>\n",
       "      <td>-0.360936</td>\n",
       "      <td>-0.601036</td>\n",
       "    </tr>\n",
       "    <tr>\n",
       "      <th>436</th>\n",
       "      <td>-1.290172</td>\n",
       "      <td>1.560397</td>\n",
       "      <td>-0.756171</td>\n",
       "      <td>-1.342401</td>\n",
       "    </tr>\n",
       "    <tr>\n",
       "      <th>437</th>\n",
       "      <td>3.865149</td>\n",
       "      <td>-0.479854</td>\n",
       "      <td>-0.525345</td>\n",
       "      <td>-0.687132</td>\n",
       "    </tr>\n",
       "    <tr>\n",
       "      <th>438</th>\n",
       "      <td>-1.097067</td>\n",
       "      <td>-0.069896</td>\n",
       "      <td>-0.630128</td>\n",
       "      <td>0.311821</td>\n",
       "    </tr>\n",
       "    <tr>\n",
       "      <th>439</th>\n",
       "      <td>-1.165951</td>\n",
       "      <td>-0.902157</td>\n",
       "      <td>-0.597705</td>\n",
       "      <td>0.342656</td>\n",
       "    </tr>\n",
       "  </tbody>\n",
       "</table>\n",
       "<p>440 rows × 4 columns</p>\n",
       "</div>"
      ],
      "text/plain": [
       "          pc1       pc2       pc3       pc4\n",
       "0    0.843939 -0.515351 -0.767632 -0.044215\n",
       "1    1.062676 -0.484601 -0.672975  0.401372\n",
       "2    1.269141  0.682055 -0.664095  1.634953\n",
       "3   -1.056782  0.610821 -0.505654  0.196005\n",
       "4    0.634030  0.974199 -0.771209  0.186374\n",
       "..        ...       ...       ...       ...\n",
       "435  0.222884  2.480505 -0.360936 -0.601036\n",
       "436 -1.290172  1.560397 -0.756171 -1.342401\n",
       "437  3.865149 -0.479854 -0.525345 -0.687132\n",
       "438 -1.097067 -0.069896 -0.630128  0.311821\n",
       "439 -1.165951 -0.902157 -0.597705  0.342656\n",
       "\n",
       "[440 rows x 4 columns]"
      ]
     },
     "execution_count": 13,
     "metadata": {},
     "output_type": "execute_result"
    }
   ],
   "source": [
    "principal_df = pd.DataFrame(data = principalComponents\n",
    "                           , columns = ['pc1','pc2', 'pc3', 'pc4'])\n",
    "                           \n",
    "principal_df"
   ]
  },
  {
   "cell_type": "markdown",
   "metadata": {},
   "source": [
    "## Model Building"
   ]
  },
  {
   "cell_type": "code",
   "execution_count": 16,
   "metadata": {},
   "outputs": [],
   "source": [
    "from sklearn.cluster import KMeans"
   ]
  },
  {
   "cell_type": "markdown",
   "metadata": {},
   "source": [
    "### Elbow Curve"
   ]
  },
  {
   "cell_type": "code",
   "execution_count": 17,
   "metadata": {},
   "outputs": [
    {
     "data": {
      "image/png": "[encoded data removed]",
      "text/plain": [
       "<Figure size 432x288 with 1 Axes>"
      ]
     },
     "metadata": {
      "needs_background": "light"
     },
     "output_type": "display_data"
    }
   ],
   "source": [
    "distance = []\n",
    "k = range(1,20)\n",
    "\n",
    "for value in k:\n",
    "    km_model = KMeans(n_clusters = value, random_state = 42)\n",
    "    km_model.fit(principal_df)\n",
    "    distance.append(km_model.inertia_)\n",
    "    \n",
    "plt.plot(k, distance)\n",
    "plt.title('The Elbow Method')\n",
    "plt.xlabel('Number of Clusters')\n",
    "plt.ylabel('WCSS')\n",
    "plt.show()"
   ]
  },
  {
   "cell_type": "markdown",
   "metadata": {},
   "source": [
    "2 and 5 seem to be the best values"
   ]
  },
  {
   "cell_type": "markdown",
   "metadata": {},
   "source": [
    "### 2 clusters"
   ]
  },
  {
   "cell_type": "code",
   "execution_count": 21,
   "metadata": {},
   "outputs": [
    {
     "name": "stdout",
     "output_type": "stream",
     "text": [
      "Initialization complete\n",
      "Iteration 0, inertia 2286.1557719389066\n",
      "Iteration 1, inertia 2051.2740623188097\n",
      "Iteration 2, inertia 2044.5008078446267\n",
      "Iteration 3, inertia 2043.443338732584\n",
      "Iteration 4, inertia 2042.981198871069\n",
      "Iteration 5, inertia 2042.9400493346832\n",
      "Iteration 6, inertia 2042.8992043210699\n",
      "Iteration 7, inertia 2042.863395848071\n",
      "Converged at iteration 7: strict convergence.\n",
      "Initialization complete\n",
      "Iteration 0, inertia 2983.4007024580756\n",
      "Iteration 1, inertia 2247.628765175472\n",
      "Iteration 2, inertia 2062.4865336733224\n",
      "Iteration 3, inertia 2043.850546313116\n",
      "Iteration 4, inertia 2043.111388753962\n",
      "Iteration 5, inertia 2042.9400493346832\n",
      "Iteration 6, inertia 2042.8992043210699\n",
      "Iteration 7, inertia 2042.863395848071\n",
      "Converged at iteration 7: strict convergence.\n",
      "Initialization complete\n",
      "Iteration 0, inertia 2767.1926500074037\n",
      "Iteration 1, inertia 2140.222856699009\n",
      "Iteration 2, inertia 2116.936873115139\n",
      "Iteration 3, inertia 2091.360678153555\n",
      "Iteration 4, inertia 2069.6287262109468\n",
      "Iteration 5, inertia 2055.6208557188584\n",
      "Iteration 6, inertia 2051.071983414317\n",
      "Iteration 7, inertia 2046.4775522202888\n",
      "Iteration 8, inertia 2045.1766190245708\n",
      "Iteration 9, inertia 2044.7926687131514\n",
      "Iteration 10, inertia 2044.649039753037\n",
      "Iteration 11, inertia 2044.3002199148186\n",
      "Iteration 12, inertia 2042.9400493346832\n",
      "Iteration 13, inertia 2042.8992043210699\n",
      "Iteration 14, inertia 2042.863395848071\n",
      "Converged at iteration 14: strict convergence.\n",
      "Initialization complete\n",
      "Iteration 0, inertia 2461.8628914069254\n",
      "Iteration 1, inertia 2045.5869709397546\n",
      "Iteration 2, inertia 2043.9264327370333\n",
      "Iteration 3, inertia 2043.2991129580105\n",
      "Iteration 4, inertia 2043.2670811405353\n",
      "Converged at iteration 4: strict convergence.\n",
      "Initialization complete\n",
      "Iteration 0, inertia 2974.527433707147\n",
      "Iteration 1, inertia 2436.4394204952887\n",
      "Iteration 2, inertia 2280.1779474196564\n",
      "Iteration 3, inertia 2067.591382839072\n",
      "Iteration 4, inertia 2044.6702658470954\n",
      "Iteration 5, inertia 2043.378165278809\n",
      "Iteration 6, inertia 2042.8958985320137\n",
      "Iteration 7, inertia 2042.863395848071\n",
      "Converged at iteration 7: strict convergence.\n",
      "Initialization complete\n",
      "Iteration 0, inertia 3113.443234885493\n",
      "Iteration 1, inertia 2511.3129511689285\n",
      "Iteration 2, inertia 2472.9010230070094\n",
      "Iteration 3, inertia 2432.926475002227\n",
      "Iteration 4, inertia 2392.1698867038876\n",
      "Iteration 5, inertia 2189.638364855658\n",
      "Iteration 6, inertia 2058.010121959306\n",
      "Iteration 7, inertia 2045.2208252181622\n",
      "Iteration 8, inertia 2044.6468374840865\n",
      "Iteration 9, inertia 2044.3688865877605\n",
      "Iteration 10, inertia 2043.9772311363233\n",
      "Iteration 11, inertia 2043.846792053337\n",
      "Converged at iteration 11: strict convergence.\n",
      "Initialization complete\n",
      "Iteration 0, inertia 2303.1749345781595\n",
      "Iteration 1, inertia 2053.6666852894414\n",
      "Iteration 2, inertia 2048.9834899788943\n",
      "Iteration 3, inertia 2045.8708996359717\n",
      "Iteration 4, inertia 2044.2269003404338\n",
      "Iteration 5, inertia 2043.443338732584\n",
      "Iteration 6, inertia 2042.981198871069\n",
      "Iteration 7, inertia 2042.9400493346832\n",
      "Iteration 8, inertia 2042.8992043210699\n",
      "Iteration 9, inertia 2042.863395848071\n",
      "Converged at iteration 9: strict convergence.\n",
      "Initialization complete\n",
      "Iteration 0, inertia 2573.323997946739\n",
      "Iteration 1, inertia 2051.8930511755943\n",
      "Iteration 2, inertia 2046.1644873524779\n",
      "Iteration 3, inertia 2044.9906151180905\n",
      "Iteration 4, inertia 2044.7926687131514\n",
      "Iteration 5, inertia 2044.649039753037\n",
      "Iteration 6, inertia 2044.3002199148186\n",
      "Iteration 7, inertia 2042.9400493346832\n",
      "Iteration 8, inertia 2042.8992043210699\n",
      "Iteration 9, inertia 2042.863395848071\n",
      "Converged at iteration 9: strict convergence.\n",
      "Initialization complete\n",
      "Iteration 0, inertia 2622.310388753332\n",
      "Iteration 1, inertia 2045.5822499526782\n",
      "Iteration 2, inertia 2043.9264327370333\n",
      "Iteration 3, inertia 2043.2991129580105\n",
      "Iteration 4, inertia 2043.2670811405353\n",
      "Converged at iteration 4: strict convergence.\n",
      "Initialization complete\n",
      "Iteration 0, inertia 2864.913835373921\n",
      "Iteration 1, inertia 2590.718329537962\n",
      "Converged at iteration 1: strict convergence.\n"
     ]
    }
   ],
   "source": [
    "kmeans2 = KMeans(n_clusters=2, verbose = True, random_state = 42, max_iter=100)\n",
    "\n",
    "y_pred2 = kmeans2.fit_predict(principal_df)"
   ]
  },
  {
   "cell_type": "code",
   "execution_count": 22,
   "metadata": {},
   "outputs": [
    {
     "data": {
      "text/plain": [
       "array([1, 1, 1, 0, 0, 1, 0, 1, 0, 1, 1, 0, 1, 1, 1, 0, 1, 0, 1, 0, 0, 0,\n",
       "       0, 1, 1, 1, 0, 0, 1, 0, 0, 0, 0, 0, 0, 1, 0, 1, 1, 0, 0, 0, 1, 1,\n",
       "       1, 1, 1, 1, 1, 1, 0, 0, 0, 1, 0, 0, 1, 1, 0, 0, 1, 1, 1, 1, 0, 1,\n",
       "       0, 1, 0, 0, 0, 0, 0, 0, 1, 0, 0, 1, 0, 0, 0, 1, 1, 0, 0, 1, 1, 0,\n",
       "       0, 0, 0, 0, 1, 0, 1, 0, 1, 0, 0, 0, 1, 1, 1, 0, 0, 0, 1, 1, 1, 1,\n",
       "       0, 1, 0, 0, 0, 0, 0, 0, 0, 0, 0, 0, 0, 1, 0, 0, 0, 1, 0, 0, 0, 0,\n",
       "       0, 0, 0, 0, 0, 0, 0, 0, 0, 0, 0, 0, 0, 1, 0, 0, 0, 0, 0, 0, 0, 0,\n",
       "       0, 1, 1, 0, 1, 1, 1, 0, 0, 1, 1, 1, 1, 0, 0, 0, 1, 1, 0, 1, 0, 1,\n",
       "       0, 0, 0, 0, 0, 0, 1, 1, 0, 0, 0, 0, 1, 1, 0, 0, 0, 1, 0, 0, 0, 1,\n",
       "       0, 0, 1, 1, 0, 0, 0, 1, 0, 1, 0, 1, 0, 1, 0, 0, 1, 1, 1, 0, 1, 0,\n",
       "       0, 0, 0, 0, 0, 0, 0, 0, 0, 0, 0, 0, 0, 0, 0, 0, 0, 0, 0, 0, 0, 0,\n",
       "       0, 0, 0, 1, 0, 0, 0, 0, 0, 1, 0, 0, 0, 0, 0, 0, 0, 0, 0, 0, 0, 0,\n",
       "       1, 0, 1, 0, 1, 0, 0, 0, 0, 0, 0, 0, 0, 0, 0, 1, 0, 1, 0, 0, 0, 0,\n",
       "       0, 0, 0, 0, 0, 0, 0, 1, 0, 0, 0, 0, 1, 0, 0, 1, 1, 1, 1, 1, 1, 0,\n",
       "       0, 1, 0, 0, 1, 0, 0, 1, 0, 0, 0, 1, 0, 0, 0, 0, 0, 0, 0, 0, 0, 0,\n",
       "       0, 1, 0, 1, 0, 1, 0, 0, 0, 0, 1, 1, 0, 1, 0, 0, 1, 1, 0, 1, 0, 1,\n",
       "       0, 1, 0, 0, 0, 1, 0, 0, 0, 0, 0, 0, 0, 1, 0, 0, 0, 0, 0, 0, 0, 1,\n",
       "       0, 0, 1, 0, 0, 1, 0, 0, 0, 0, 1, 0, 0, 0, 0, 0, 0, 0, 0, 0, 0, 0,\n",
       "       1, 0, 0, 0, 0, 0, 0, 0, 0, 0, 0, 1, 0, 0, 0, 0, 0, 0, 0, 1, 1, 0,\n",
       "       1, 0, 0, 1, 0, 0, 1, 0, 0, 0, 0, 0, 0, 0, 0, 0, 0, 0, 0, 1, 0, 0])"
      ]
     },
     "execution_count": 22,
     "metadata": {},
     "output_type": "execute_result"
    }
   ],
   "source": [
    "y_pred2"
   ]
  },
  {
   "cell_type": "code",
   "execution_count": 23,
   "metadata": {},
   "outputs": [
    {
     "data": {
      "text/plain": [
       "2042.863395848071"
      ]
     },
     "execution_count": 23,
     "metadata": {},
     "output_type": "execute_result"
    }
   ],
   "source": [
    "kmeans2.inertia_"
   ]
  },
  {
   "cell_type": "markdown",
   "metadata": {},
   "source": [
    "Inertia has decreased enough compared to when 2 clusters were built without PCA\n",
    "\n",
    "Without PCA, inertia for 2 clusters was 2599.3855593561393"
   ]
  },
  {
   "cell_type": "code",
   "execution_count": 24,
   "metadata": {},
   "outputs": [],
   "source": [
    "principal_df['2 clusters result'] = y_pred2"
   ]
  },
  {
   "cell_type": "code",
   "execution_count": 26,
   "metadata": {},
   "outputs": [
    {
     "data": {
      "text/plain": [
       "<matplotlib.axes._subplots.AxesSubplot at 0x24b4eaa4f48>"
      ]
     },
     "execution_count": 26,
     "metadata": {},
     "output_type": "execute_result"
    },
    {
     "data": {
      "image/png": "[encoded data removed]",
      "text/plain": [
       "<Figure size 432x288 with 1 Axes>"
      ]
     },
     "metadata": {
      "needs_background": "light"
     },
     "output_type": "display_data"
    }
   ],
   "source": [
    "sns.countplot(principal_df['2 clusters result'])"
   ]
  },
  {
   "cell_type": "code",
   "execution_count": 30,
   "metadata": {},
   "outputs": [
    {
     "data": {
      "text/plain": [
       "<matplotlib.collections.PathCollection at 0x24b4ec1de48>"
      ]
     },
     "execution_count": 30,
     "metadata": {},
     "output_type": "execute_result"
    },
    {
     "data": {
      "image/png": "[encoded data removed]",
      "text/plain": [
       "<Figure size 432x288 with 1 Axes>"
      ]
     },
     "metadata": {
      "needs_background": "light"
     },
     "output_type": "display_data"
    }
   ],
   "source": [
    "plt.scatter(principal_df.pc1, principal_df.pc2, c = principal_df['2 clusters result'] )"
   ]
  },
  {
   "cell_type": "markdown",
   "metadata": {},
   "source": [
    "Far better clusters have been obtained"
   ]
  },
  {
   "cell_type": "markdown",
   "metadata": {},
   "source": [
    "### Davies Bouldin Score for 2 clusters"
   ]
  },
  {
   "cell_type": "code",
   "execution_count": 31,
   "metadata": {},
   "outputs": [
    {
     "data": {
      "text/plain": [
       "1.0717240401485155"
      ]
     },
     "execution_count": 31,
     "metadata": {},
     "output_type": "execute_result"
    }
   ],
   "source": [
    "import sklearn.metrics\n",
    "\n",
    "sklearn.metrics.davies_bouldin_score(principal_df, y_pred2)"
   ]
  },
  {
   "cell_type": "markdown",
   "metadata": {},
   "source": [
    "### 5 Clusters"
   ]
  },
  {
   "cell_type": "code",
   "execution_count": 33,
   "metadata": {},
   "outputs": [
    {
     "name": "stdout",
     "output_type": "stream",
     "text": [
      "Initialization complete\n",
      "Iteration 0, inertia 1353.4236689610077\n",
      "Iteration 1, inertia 1168.7783971232038\n",
      "Iteration 2, inertia 1140.5181994635743\n",
      "Iteration 3, inertia 1125.277276507243\n",
      "Iteration 4, inertia 1119.7250116840505\n",
      "Iteration 5, inertia 1113.5104151978078\n",
      "Iteration 6, inertia 1106.4017622554802\n",
      "Iteration 7, inertia 1101.8654127827433\n",
      "Iteration 8, inertia 1100.4261986755025\n",
      "Iteration 9, inertia 1100.3533922269326\n",
      "Iteration 10, inertia 1100.315099628276\n",
      "Converged at iteration 10: strict convergence.\n",
      "Initialization complete\n",
      "Iteration 0, inertia 1557.6832845297276\n",
      "Iteration 1, inertia 1173.903311074875\n",
      "Iteration 2, inertia 1151.1019841323682\n",
      "Iteration 3, inertia 1141.1818328076952\n",
      "Iteration 4, inertia 1138.715668244828\n",
      "Iteration 5, inertia 1135.2139427957177\n",
      "Iteration 6, inertia 1135.1484876256438\n",
      "Converged at iteration 6: strict convergence.\n",
      "Initialization complete\n",
      "Iteration 0, inertia 1591.9764077312186\n",
      "Iteration 1, inertia 1266.3252171514062\n",
      "Iteration 2, inertia 1250.0466499890804\n",
      "Iteration 3, inertia 1243.2145476868943\n",
      "Iteration 4, inertia 1229.8645403156402\n",
      "Iteration 5, inertia 1217.4115352093602\n",
      "Iteration 6, inertia 1204.6575351403699\n",
      "Iteration 7, inertia 1192.9099482988893\n",
      "Iteration 8, inertia 1188.0877855874705\n",
      "Iteration 9, inertia 1183.9106005042809\n",
      "Iteration 10, inertia 1182.0362589103252\n",
      "Iteration 11, inertia 1181.2863919740748\n",
      "Iteration 12, inertia 1179.8500627828887\n",
      "Iteration 13, inertia 1178.4407569361515\n",
      "Iteration 14, inertia 1177.3353898550533\n",
      "Iteration 15, inertia 1176.8597207963849\n",
      "Iteration 16, inertia 1176.285257783218\n",
      "Converged at iteration 16: strict convergence.\n",
      "Initialization complete\n",
      "Iteration 0, inertia 1510.7153307779204\n",
      "Iteration 1, inertia 1132.5803133759641\n",
      "Iteration 2, inertia 1111.784241208613\n",
      "Iteration 3, inertia 1096.9432961611917\n",
      "Iteration 4, inertia 1096.1129712777786\n",
      "Iteration 5, inertia 1096.0797357533147\n",
      "Converged at iteration 5: strict convergence.\n",
      "Initialization complete\n",
      "Iteration 0, inertia 1598.1673973480254\n",
      "Iteration 1, inertia 1255.3532548216158\n",
      "Iteration 2, inertia 1193.952735125023\n",
      "Iteration 3, inertia 1164.8336033984544\n",
      "Iteration 4, inertia 1142.4647486341105\n",
      "Iteration 5, inertia 1126.426349457131\n",
      "Iteration 6, inertia 1119.7250116840505\n",
      "Iteration 7, inertia 1113.5104151978078\n",
      "Iteration 8, inertia 1106.4017622554802\n",
      "Iteration 9, inertia 1101.8654127827433\n",
      "Iteration 10, inertia 1100.4261986755025\n",
      "Iteration 11, inertia 1100.3533922269326\n",
      "Iteration 12, inertia 1100.315099628276\n",
      "Converged at iteration 12: strict convergence.\n",
      "Initialization complete\n",
      "Iteration 0, inertia 1320.1680297697546\n",
      "Iteration 1, inertia 1195.7976447771364\n",
      "Iteration 2, inertia 1186.5311049461582\n",
      "Iteration 3, inertia 1183.822528199147\n",
      "Iteration 4, inertia 1183.4152204425134\n",
      "Converged at iteration 4: strict convergence.\n",
      "Initialization complete\n",
      "Iteration 0, inertia 1614.5762864808655\n",
      "Iteration 1, inertia 1279.9139154967932\n",
      "Iteration 2, inertia 1135.4568715409637\n",
      "Iteration 3, inertia 1076.9360902529806\n",
      "Iteration 4, inertia 1069.7726360757201\n",
      "Iteration 5, inertia 1064.2856641306112\n",
      "Converged at iteration 5: strict convergence.\n",
      "Initialization complete\n",
      "Iteration 0, inertia 1455.6871795758861\n",
      "Iteration 1, inertia 1194.1387740187529\n",
      "Iteration 2, inertia 1183.4466367977684\n",
      "Iteration 3, inertia 1181.7184172278523\n",
      "Iteration 4, inertia 1180.7779796047068\n",
      "Iteration 5, inertia 1179.8827311629593\n",
      "Iteration 6, inertia 1177.989875291441\n",
      "Iteration 7, inertia 1177.2672277072002\n",
      "Iteration 8, inertia 1176.8597207963849\n",
      "Iteration 9, inertia 1176.285257783218\n",
      "Converged at iteration 9: strict convergence.\n",
      "Initialization complete\n",
      "Iteration 0, inertia 1742.6692067052743\n",
      "Iteration 1, inertia 1232.6361968764134\n",
      "Iteration 2, inertia 1200.2003631603034\n",
      "Iteration 3, inertia 1193.689719691078\n",
      "Iteration 4, inertia 1191.88313869401\n",
      "Iteration 5, inertia 1191.267696606763\n",
      "Iteration 6, inertia 1191.206448790608\n",
      "Converged at iteration 6: strict convergence.\n",
      "Initialization complete\n",
      "Iteration 0, inertia 1631.5551366208965\n",
      "Iteration 1, inertia 1329.2712796933477\n",
      "Iteration 2, inertia 1272.977808790377\n",
      "Iteration 3, inertia 1262.0485259854952\n",
      "Iteration 4, inertia 1254.8483366378453\n",
      "Iteration 5, inertia 1246.6948639521631\n",
      "Iteration 6, inertia 1240.2903199244306\n",
      "Iteration 7, inertia 1229.8700284790323\n",
      "Iteration 8, inertia 1217.537333832175\n",
      "Iteration 9, inertia 1205.2013620286941\n",
      "Iteration 10, inertia 1193.5740557390664\n",
      "Iteration 11, inertia 1188.316172238548\n",
      "Iteration 12, inertia 1183.9106005042809\n",
      "Iteration 13, inertia 1182.0362589103252\n",
      "Iteration 14, inertia 1181.2863919740748\n",
      "Iteration 15, inertia 1179.8500627828887\n",
      "Iteration 16, inertia 1178.4407569361515\n",
      "Iteration 17, inertia 1177.3353898550533\n",
      "Iteration 18, inertia 1176.8597207963849\n",
      "Iteration 19, inertia 1176.285257783218\n",
      "Converged at iteration 19: strict convergence.\n"
     ]
    }
   ],
   "source": [
    "kmeans5 = KMeans(n_clusters=5, verbose = True, random_state = 42, max_iter=100)\n",
    "\n",
    "y_pred5 = kmeans5.fit_predict(principal_df)"
   ]
  },
  {
   "cell_type": "code",
   "execution_count": 34,
   "metadata": {},
   "outputs": [
    {
     "data": {
      "text/plain": [
       "array([1, 1, 1, 0, 0, 1, 0, 1, 0, 1, 1, 0, 1, 1, 1, 0, 1, 0, 1, 0, 0, 0,\n",
       "       0, 4, 1, 1, 0, 0, 1, 0, 0, 0, 0, 0, 0, 1, 0, 1, 1, 0, 0, 0, 1, 1,\n",
       "       1, 1, 1, 2, 1, 1, 0, 0, 0, 1, 0, 0, 2, 1, 0, 0, 1, 2, 1, 1, 0, 2,\n",
       "       0, 1, 0, 0, 0, 0, 0, 0, 1, 0, 0, 1, 0, 0, 0, 1, 1, 0, 0, 2, 2, 0,\n",
       "       0, 0, 0, 0, 2, 0, 1, 0, 1, 0, 0, 0, 1, 1, 1, 0, 0, 0, 1, 1, 1, 1,\n",
       "       0, 1, 0, 0, 0, 0, 0, 0, 0, 0, 0, 0, 0, 1, 0, 0, 0, 1, 0, 0, 0, 0,\n",
       "       0, 0, 0, 0, 0, 0, 0, 0, 0, 0, 0, 0, 0, 1, 0, 0, 0, 0, 0, 0, 0, 0,\n",
       "       0, 1, 1, 0, 1, 1, 1, 0, 0, 1, 1, 1, 1, 0, 0, 0, 1, 1, 0, 1, 0, 1,\n",
       "       0, 0, 0, 0, 0, 4, 1, 4, 0, 0, 0, 0, 1, 1, 0, 0, 0, 1, 0, 0, 3, 1,\n",
       "       3, 3, 1, 1, 3, 3, 3, 1, 3, 3, 3, 1, 3, 2, 3, 3, 1, 3, 1, 3, 1, 3,\n",
       "       3, 3, 3, 3, 3, 3, 3, 3, 3, 3, 3, 3, 3, 3, 3, 3, 3, 3, 3, 3, 3, 3,\n",
       "       3, 3, 3, 1, 3, 3, 3, 3, 3, 2, 3, 3, 3, 3, 3, 3, 3, 3, 3, 3, 3, 3,\n",
       "       1, 3, 1, 3, 1, 3, 3, 3, 3, 0, 0, 0, 0, 0, 0, 1, 0, 1, 0, 0, 0, 0,\n",
       "       0, 0, 0, 0, 0, 0, 0, 1, 3, 3, 3, 1, 1, 3, 1, 1, 1, 1, 1, 1, 1, 3,\n",
       "       3, 1, 3, 3, 1, 3, 3, 1, 3, 3, 3, 1, 3, 3, 3, 3, 3, 4, 3, 3, 3, 3,\n",
       "       3, 1, 3, 2, 3, 1, 3, 3, 3, 3, 1, 1, 0, 1, 0, 0, 1, 1, 0, 1, 0, 1,\n",
       "       0, 1, 0, 0, 0, 1, 0, 0, 0, 0, 0, 0, 0, 1, 0, 0, 0, 0, 0, 0, 0, 1,\n",
       "       0, 0, 1, 0, 0, 1, 0, 0, 0, 0, 1, 0, 0, 0, 0, 0, 0, 0, 0, 0, 0, 0,\n",
       "       1, 0, 0, 0, 0, 0, 0, 0, 0, 0, 0, 1, 0, 0, 0, 0, 0, 0, 0, 1, 1, 0,\n",
       "       1, 0, 1, 1, 0, 0, 1, 0, 0, 0, 0, 0, 0, 0, 0, 0, 0, 0, 0, 1, 0, 0])"
      ]
     },
     "execution_count": 34,
     "metadata": {},
     "output_type": "execute_result"
    }
   ],
   "source": [
    "y_pred5"
   ]
  },
  {
   "cell_type": "code",
   "execution_count": 35,
   "metadata": {},
   "outputs": [
    {
     "data": {
      "text/plain": [
       "1064.2856641306112"
      ]
     },
     "execution_count": 35,
     "metadata": {},
     "output_type": "execute_result"
    }
   ],
   "source": [
    "kmeans5.inertia_"
   ]
  },
  {
   "cell_type": "code",
   "execution_count": 36,
   "metadata": {},
   "outputs": [],
   "source": [
    "principal_df['5 clusters result'] = y_pred5"
   ]
  },
  {
   "cell_type": "code",
   "execution_count": 37,
   "metadata": {},
   "outputs": [
    {
     "data": {
      "text/plain": [
       "<matplotlib.axes._subplots.AxesSubplot at 0x24b4eb149c8>"
      ]
     },
     "execution_count": 37,
     "metadata": {},
     "output_type": "execute_result"
    },
    {
     "data": {
      "image/png": "[encoded data removed]",
      "text/plain": [
       "<Figure size 432x288 with 1 Axes>"
      ]
     },
     "metadata": {
      "needs_background": "light"
     },
     "output_type": "display_data"
    }
   ],
   "source": [
    "sns.countplot(principal_df['5 clusters result'])"
   ]
  },
  {
   "cell_type": "code",
   "execution_count": 39,
   "metadata": {},
   "outputs": [
    {
     "data": {
      "text/plain": [
       "<matplotlib.collections.PathCollection at 0x24b4e9aefc8>"
      ]
     },
     "execution_count": 39,
     "metadata": {},
     "output_type": "execute_result"
    },
    {
     "data": {
      "image/png": "[encoded data removed]",
      "text/plain": [
       "<Figure size 432x288 with 1 Axes>"
      ]
     },
     "metadata": {
      "needs_background": "light"
     },
     "output_type": "display_data"
    }
   ],
   "source": [
    "plt.scatter(principal_df.pc1, principal_df.pc2, c = principal_df['5 clusters result'] )"
   ]
  },
  {
   "cell_type": "markdown",
   "metadata": {},
   "source": [
    "2 clusters seem to be optimal"
   ]
  },
  {
   "cell_type": "markdown",
   "metadata": {},
   "source": [
    "### Davies Bouldin Score for 5 clusters"
   ]
  },
  {
   "cell_type": "code",
   "execution_count": 38,
   "metadata": {},
   "outputs": [
    {
     "data": {
      "text/plain": [
       "0.8043852412005856"
      ]
     },
     "execution_count": 38,
     "metadata": {},
     "output_type": "execute_result"
    }
   ],
   "source": [
    "sklearn.metrics.davies_bouldin_score(principal_df, y_pred5)"
   ]
  }
 ],
 "metadata": {
  "kernelspec": {
   "display_name": "Python 3",
   "language": "python",
   "name": "python3"
  },
  "language_info": {
   "codemirror_mode": {
    "name": "ipython",
    "version": 3
   },
   "file_extension": ".py",
   "mimetype": "text/x-python",
   "name": "python",
   "nbconvert_exporter": "python",
   "pygments_lexer": "ipython3",
   "version": "3.7.6"
  }
 },
 "nbformat": 4,
 "nbformat_minor": 4
}
