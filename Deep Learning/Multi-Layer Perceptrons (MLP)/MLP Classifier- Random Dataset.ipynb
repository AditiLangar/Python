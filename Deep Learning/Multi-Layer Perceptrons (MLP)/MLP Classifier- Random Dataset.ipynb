{
 "cells": [
  {
   "cell_type": "markdown",
   "metadata": {},
   "source": [
    "To see the working of MLP Classifier of the sklearn library, I am simply generating a random datset."
   ]
  },
  {
   "cell_type": "code",
   "execution_count": 5,
   "metadata": {},
   "outputs": [],
   "source": [
    "X_train = [[22,33,26,39],\n",
    "           [44,55,49,50],\n",
    "          [23,50,55,39],\n",
    "          [47,37,51,27]]\n",
    "\n",
    "y_train = [0,1,1,0]"
   ]
  },
  {
   "cell_type": "markdown",
   "metadata": {},
   "source": [
    "## Model Making"
   ]
  },
  {
   "cell_type": "code",
   "execution_count": 6,
   "metadata": {},
   "outputs": [],
   "source": [
    "from sklearn.neural_network import MLPClassifier"
   ]
  },
  {
   "cell_type": "code",
   "execution_count": 7,
   "metadata": {},
   "outputs": [],
   "source": [
    "reg = MLPClassifier(hidden_layer_sizes=(2,3),verbose=2,activation=\"relu\" ,batch_size=40,random_state=1, \n",
    "                    max_iter=2000, learning_rate_init=0.03)"
   ]
  },
  {
   "cell_type": "code",
   "execution_count": 8,
   "metadata": {},
   "outputs": [
    {
     "name": "stdout",
     "output_type": "stream",
     "text": [
      "Iteration 1, loss = 0.70956455\n",
      "Iteration 2, loss = 0.70485633\n",
      "Iteration 3, loss = 0.70084904\n",
      "Iteration 4, loss = 0.69763201\n",
      "Iteration 5, loss = 0.69527758\n",
      "Iteration 6, loss = 0.69382196\n",
      "Iteration 7, loss = 0.69323549\n",
      "Iteration 8, loss = 0.69338648\n",
      "Iteration 9, loss = 0.69402097\n",
      "Iteration 10, loss = 0.69480245\n",
      "Iteration 11, loss = 0.69542428\n",
      "Iteration 12, loss = 0.69571337\n",
      "Iteration 13, loss = 0.69564622\n",
      "Iteration 14, loss = 0.69530015\n",
      "Iteration 15, loss = 0.69479572\n",
      "Iteration 16, loss = 0.69425479\n",
      "Iteration 17, loss = 0.69377609\n",
      "Iteration 18, loss = 0.69342364\n",
      "Training loss did not improve more than tol=0.000100 for 10 consecutive epochs. Stopping.\n"
     ]
    },
    {
     "name": "stderr",
     "output_type": "stream",
     "text": [
      "C:\\Users\\aditi\\anaconda3\\lib\\site-packages\\sklearn\\neural_network\\_multilayer_perceptron.py:353: UserWarning: Got `batch_size` less than 1 or larger than sample size. It is going to be clipped\n",
      "  warnings.warn(\"Got `batch_size` less than 1 or larger than \"\n"
     ]
    },
    {
     "data": {
      "text/plain": [
       "MLPClassifier(batch_size=40, hidden_layer_sizes=(2, 3), learning_rate_init=0.03,\n",
       "              max_iter=2000, random_state=1, verbose=2)"
      ]
     },
     "execution_count": 8,
     "metadata": {},
     "output_type": "execute_result"
    }
   ],
   "source": [
    "reg.fit(X_train, y_train)"
   ]
  },
  {
   "cell_type": "code",
   "execution_count": 9,
   "metadata": {},
   "outputs": [],
   "source": [
    "X_test = [[22,33,26,39],\n",
    "           [44,55,49,50],\n",
    "          [23,50,55,39],\n",
    "          [47,37,51,27]]\n",
    "\n",
    "y_test = [0,0,1,0]"
   ]
  },
  {
   "cell_type": "code",
   "execution_count": 10,
   "metadata": {},
   "outputs": [
    {
     "data": {
      "text/plain": [
       "array([1, 1, 1, 1])"
      ]
     },
     "execution_count": 10,
     "metadata": {},
     "output_type": "execute_result"
    }
   ],
   "source": [
    "y_pred=reg.predict(X_test)\n",
    "y_pred"
   ]
  },
  {
   "cell_type": "code",
   "execution_count": 11,
   "metadata": {},
   "outputs": [
    {
     "data": {
      "text/plain": [
       "array([[0.49491208, 0.50508792],\n",
       "       [0.49491208, 0.50508792],\n",
       "       [0.49491208, 0.50508792],\n",
       "       [0.49491208, 0.50508792]])"
      ]
     },
     "execution_count": 11,
     "metadata": {},
     "output_type": "execute_result"
    }
   ],
   "source": [
    "y_pred_prob=reg.predict_proba(X_test)\n",
    "y_pred_prob"
   ]
  },
  {
   "cell_type": "code",
   "execution_count": 12,
   "metadata": {},
   "outputs": [
    {
     "data": {
      "text/plain": [
       "0.25"
      ]
     },
     "execution_count": 12,
     "metadata": {},
     "output_type": "execute_result"
    }
   ],
   "source": [
    "from sklearn.metrics import accuracy_score\n",
    "\n",
    "accuracy_score(y_pred, y_test)"
   ]
  },
  {
   "cell_type": "markdown",
   "metadata": {},
   "source": [
    "#### Since it was just a random dataset, we didnot get good accuracy!\n",
    "#### However, an important point to note here is that in MLP Classifier models, we need not specify the number of neurons for the output layer. The number of neurons are set equal to the total number of classes by default."
   ]
  }
 ],
 "metadata": {
  "kernelspec": {
   "display_name": "Python 3",
   "language": "python",
   "name": "python3"
  },
  "language_info": {
   "codemirror_mode": {
    "name": "ipython",
    "version": 3
   },
   "file_extension": ".py",
   "mimetype": "text/x-python",
   "name": "python",
   "nbconvert_exporter": "python",
   "pygments_lexer": "ipython3",
   "version": "3.7.6"
  }
 },
 "nbformat": 4,
 "nbformat_minor": 4
}
