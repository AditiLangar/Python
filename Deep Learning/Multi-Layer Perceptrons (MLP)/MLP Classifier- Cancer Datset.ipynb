{
 "cells": [
  {
   "cell_type": "markdown",
   "metadata": {},
   "source": [
    "## Importing Libraries"
   ]
  },
  {
   "cell_type": "code",
   "execution_count": 1,
   "metadata": {},
   "outputs": [],
   "source": [
    "import pandas as pd\n",
    "import numpy as np\n",
    "import matplotlib.pyplot as plt\n",
    "import seaborn as sns\n",
    "%matplotlib inline"
   ]
  },
  {
   "cell_type": "markdown",
   "metadata": {},
   "source": [
    "## Reading the Dataset"
   ]
  },
  {
   "cell_type": "code",
   "execution_count": 2,
   "metadata": {},
   "outputs": [
    {
     "data": {
      "text/html": [
       "<div>\n",
       "<style scoped>\n",
       "    .dataframe tbody tr th:only-of-type {\n",
       "        vertical-align: middle;\n",
       "    }\n",
       "\n",
       "    .dataframe tbody tr th {\n",
       "        vertical-align: top;\n",
       "    }\n",
       "\n",
       "    .dataframe thead th {\n",
       "        text-align: right;\n",
       "    }\n",
       "</style>\n",
       "<table border=\"1\" class=\"dataframe\">\n",
       "  <thead>\n",
       "    <tr style=\"text-align: right;\">\n",
       "      <th></th>\n",
       "      <th>id</th>\n",
       "      <th>clump_thickness</th>\n",
       "      <th>uniform_cell_size</th>\n",
       "      <th>uniform_cell_shape</th>\n",
       "      <th>marginal_adhesion</th>\n",
       "      <th>single_epithelial_size</th>\n",
       "      <th>bare_nuclei</th>\n",
       "      <th>bland_chromatin</th>\n",
       "      <th>normal_nucleoli</th>\n",
       "      <th>mitoses</th>\n",
       "      <th>class</th>\n",
       "    </tr>\n",
       "  </thead>\n",
       "  <tbody>\n",
       "    <tr>\n",
       "      <th>0</th>\n",
       "      <td>1000025</td>\n",
       "      <td>5</td>\n",
       "      <td>1</td>\n",
       "      <td>1</td>\n",
       "      <td>1</td>\n",
       "      <td>2</td>\n",
       "      <td>1</td>\n",
       "      <td>3</td>\n",
       "      <td>1</td>\n",
       "      <td>1</td>\n",
       "      <td>2</td>\n",
       "    </tr>\n",
       "    <tr>\n",
       "      <th>1</th>\n",
       "      <td>1002945</td>\n",
       "      <td>5</td>\n",
       "      <td>4</td>\n",
       "      <td>4</td>\n",
       "      <td>5</td>\n",
       "      <td>7</td>\n",
       "      <td>10</td>\n",
       "      <td>3</td>\n",
       "      <td>2</td>\n",
       "      <td>1</td>\n",
       "      <td>2</td>\n",
       "    </tr>\n",
       "    <tr>\n",
       "      <th>2</th>\n",
       "      <td>1015425</td>\n",
       "      <td>3</td>\n",
       "      <td>1</td>\n",
       "      <td>1</td>\n",
       "      <td>1</td>\n",
       "      <td>2</td>\n",
       "      <td>2</td>\n",
       "      <td>3</td>\n",
       "      <td>1</td>\n",
       "      <td>1</td>\n",
       "      <td>2</td>\n",
       "    </tr>\n",
       "    <tr>\n",
       "      <th>3</th>\n",
       "      <td>1016277</td>\n",
       "      <td>6</td>\n",
       "      <td>8</td>\n",
       "      <td>8</td>\n",
       "      <td>1</td>\n",
       "      <td>3</td>\n",
       "      <td>4</td>\n",
       "      <td>3</td>\n",
       "      <td>7</td>\n",
       "      <td>1</td>\n",
       "      <td>2</td>\n",
       "    </tr>\n",
       "    <tr>\n",
       "      <th>4</th>\n",
       "      <td>1017023</td>\n",
       "      <td>4</td>\n",
       "      <td>1</td>\n",
       "      <td>1</td>\n",
       "      <td>3</td>\n",
       "      <td>2</td>\n",
       "      <td>1</td>\n",
       "      <td>3</td>\n",
       "      <td>1</td>\n",
       "      <td>1</td>\n",
       "      <td>2</td>\n",
       "    </tr>\n",
       "  </tbody>\n",
       "</table>\n",
       "</div>"
      ],
      "text/plain": [
       "        id  clump_thickness  uniform_cell_size  uniform_cell_shape  \\\n",
       "0  1000025                5                  1                   1   \n",
       "1  1002945                5                  4                   4   \n",
       "2  1015425                3                  1                   1   \n",
       "3  1016277                6                  8                   8   \n",
       "4  1017023                4                  1                   1   \n",
       "\n",
       "   marginal_adhesion  single_epithelial_size bare_nuclei  bland_chromatin  \\\n",
       "0                  1                       2           1                3   \n",
       "1                  5                       7          10                3   \n",
       "2                  1                       2           2                3   \n",
       "3                  1                       3           4                3   \n",
       "4                  3                       2           1                3   \n",
       "\n",
       "   normal_nucleoli  mitoses  class  \n",
       "0                1        1      2  \n",
       "1                2        1      2  \n",
       "2                1        1      2  \n",
       "3                7        1      2  \n",
       "4                1        1      2  "
      ]
     },
     "execution_count": 2,
     "metadata": {},
     "output_type": "execute_result"
    }
   ],
   "source": [
    "master = pd.read_csv(\"cancer_data.csv\")\n",
    "\n",
    "master.head()"
   ]
  },
  {
   "cell_type": "markdown",
   "metadata": {},
   "source": [
    "## Data Exploration"
   ]
  },
  {
   "cell_type": "code",
   "execution_count": 3,
   "metadata": {},
   "outputs": [
    {
     "name": "stdout",
     "output_type": "stream",
     "text": [
      "<class 'pandas.core.frame.DataFrame'>\n",
      "RangeIndex: 699 entries, 0 to 698\n",
      "Data columns (total 11 columns):\n",
      " #   Column                  Non-Null Count  Dtype \n",
      "---  ------                  --------------  ----- \n",
      " 0   id                      699 non-null    int64 \n",
      " 1   clump_thickness         699 non-null    int64 \n",
      " 2   uniform_cell_size       699 non-null    int64 \n",
      " 3   uniform_cell_shape      699 non-null    int64 \n",
      " 4   marginal_adhesion       699 non-null    int64 \n",
      " 5   single_epithelial_size  699 non-null    int64 \n",
      " 6   bare_nuclei             699 non-null    object\n",
      " 7   bland_chromatin         699 non-null    int64 \n",
      " 8   normal_nucleoli         699 non-null    int64 \n",
      " 9   mitoses                 699 non-null    int64 \n",
      " 10  class                   699 non-null    int64 \n",
      "dtypes: int64(10), object(1)\n",
      "memory usage: 60.2+ KB\n"
     ]
    }
   ],
   "source": [
    "master.info()"
   ]
  },
  {
   "cell_type": "code",
   "execution_count": 4,
   "metadata": {},
   "outputs": [
    {
     "data": {
      "text/plain": [
       "array(['1', '10', '2', '4', '3', '9', '7', '?', '5', '8', '6'],\n",
       "      dtype=object)"
      ]
     },
     "execution_count": 4,
     "metadata": {},
     "output_type": "execute_result"
    }
   ],
   "source": [
    "## bare_nuclei, which seems to have int values is shown as object\n",
    "## checking the unique values in this column to analyse the problem\n",
    "\n",
    "master.bare_nuclei.unique()"
   ]
  },
  {
   "cell_type": "code",
   "execution_count": 5,
   "metadata": {},
   "outputs": [
    {
     "data": {
      "text/plain": [
       "1     402\n",
       "10    132\n",
       "5      30\n",
       "2      30\n",
       "3      28\n",
       "8      21\n",
       "4      19\n",
       "?      16\n",
       "9       9\n",
       "7       8\n",
       "6       4\n",
       "Name: bare_nuclei, dtype: int64"
      ]
     },
     "execution_count": 5,
     "metadata": {},
     "output_type": "execute_result"
    }
   ],
   "source": [
    "# it has a \"?\" in between which need to be treated\n",
    "## checking the count of other values in bare nuclei\n",
    "\n",
    "master.bare_nuclei.value_counts()"
   ]
  },
  {
   "cell_type": "code",
   "execution_count": 6,
   "metadata": {},
   "outputs": [
    {
     "data": {
      "text/plain": [
       "2.28898426323319"
      ]
     },
     "execution_count": 6,
     "metadata": {},
     "output_type": "execute_result"
    }
   ],
   "source": [
    "## \"1\" as the highest count and since there are only 16 \"?\" values, which means 2.2% values, we can replace it wiht mode\n",
    "16/699 *100"
   ]
  },
  {
   "cell_type": "code",
   "execution_count": 7,
   "metadata": {},
   "outputs": [
    {
     "data": {
      "text/plain": [
       "'1'"
      ]
     },
     "execution_count": 7,
     "metadata": {},
     "output_type": "execute_result"
    }
   ],
   "source": [
    "## storing the mode of bare nuclei in m\n",
    "\n",
    "m = master.bare_nuclei.mode()[0]\n",
    "m"
   ]
  },
  {
   "cell_type": "code",
   "execution_count": 8,
   "metadata": {},
   "outputs": [
    {
     "data": {
      "text/plain": [
       "array([ 1, 10,  2,  4,  3,  9,  7,  5,  8,  6], dtype=int64)"
      ]
     },
     "execution_count": 8,
     "metadata": {},
     "output_type": "execute_result"
    }
   ],
   "source": [
    "## using lambda function to replace the value of bare nuclei and converrting them to int simultaneously\n",
    "\n",
    "master.bare_nuclei = master.bare_nuclei.apply(lambda x: int(m) if x == \"?\" else int(x))\n",
    "\n",
    "master.bare_nuclei.unique()   ## checking if \"?\" has been converted"
   ]
  },
  {
   "cell_type": "code",
   "execution_count": 9,
   "metadata": {},
   "outputs": [
    {
     "data": {
      "text/plain": [
       "9"
      ]
     },
     "execution_count": 9,
     "metadata": {},
     "output_type": "execute_result"
    }
   ],
   "source": [
    "## Checking Duplicates\n",
    "\n",
    "master.duplicated().sum() ## 9 duplicated values"
   ]
  },
  {
   "cell_type": "code",
   "execution_count": 10,
   "metadata": {},
   "outputs": [
    {
     "data": {
      "text/plain": [
       "690"
      ]
     },
     "execution_count": 10,
     "metadata": {},
     "output_type": "execute_result"
    }
   ],
   "source": [
    "## Dropping the duplicate values\n",
    "\n",
    "master.drop_duplicates(inplace = True)\n",
    "\n",
    "len(master)  ## checking length again to see of duplicated have been dropped"
   ]
  },
  {
   "cell_type": "markdown",
   "metadata": {},
   "source": [
    "## Univariate Analysis"
   ]
  },
  {
   "cell_type": "markdown",
   "metadata": {},
   "source": [
    "### Boxplots"
   ]
  },
  {
   "cell_type": "code",
   "execution_count": 13,
   "metadata": {},
   "outputs": [
    {
     "name": "stdout",
     "output_type": "stream",
     "text": [
      "Feature:  id\n"
     ]
    },
    {
     "data": {
      "image/png": "[encoded data removed]",
      "text/plain": [
       "<Figure size 432x288 with 1 Axes>"
      ]
     },
     "metadata": {
      "needs_background": "light"
     },
     "output_type": "display_data"
    },
    {
     "name": "stdout",
     "output_type": "stream",
     "text": [
      "*****************************************************************************************************************************\n",
      "Feature:  clump_thickness\n"
     ]
    },
    {
     "data": {
      "image/png": "[encoded data removed]",
      "text/plain": [
       "<Figure size 432x288 with 1 Axes>"
      ]
     },
     "metadata": {
      "needs_background": "light"
     },
     "output_type": "display_data"
    },
    {
     "name": "stdout",
     "output_type": "stream",
     "text": [
      "*****************************************************************************************************************************\n",
      "Feature:  uniform_cell_size\n"
     ]
    },
    {
     "data": {
      "image/png": "[encoded data removed]",
      "text/plain": [
       "<Figure size 432x288 with 1 Axes>"
      ]
     },
     "metadata": {
      "needs_background": "light"
     },
     "output_type": "display_data"
    },
    {
     "name": "stdout",
     "output_type": "stream",
     "text": [
      "*****************************************************************************************************************************\n",
      "Feature:  uniform_cell_shape\n"
     ]
    },
    {
     "data": {
      "image/png": "[encoded data removed]",
      "text/plain": [
       "<Figure size 432x288 with 1 Axes>"
      ]
     },
     "metadata": {
      "needs_background": "light"
     },
     "output_type": "display_data"
    },
    {
     "name": "stdout",
     "output_type": "stream",
     "text": [
      "*****************************************************************************************************************************\n",
      "Feature:  marginal_adhesion\n"
     ]
    },
    {
     "data": {
      "image/png": "[encoded data removed]",
      "text/plain": [
       "<Figure size 432x288 with 1 Axes>"
      ]
     },
     "metadata": {
      "needs_background": "light"
     },
     "output_type": "display_data"
    },
    {
     "name": "stdout",
     "output_type": "stream",
     "text": [
      "*****************************************************************************************************************************\n",
      "Feature:  single_epithelial_size\n"
     ]
    },
    {
     "data": {
      "image/png": "[encoded data removed]",
      "text/plain": [
       "<Figure size 432x288 with 1 Axes>"
      ]
     },
     "metadata": {
      "needs_background": "light"
     },
     "output_type": "display_data"
    },
    {
     "name": "stdout",
     "output_type": "stream",
     "text": [
      "*****************************************************************************************************************************\n",
      "Feature:  bare_nuclei\n"
     ]
    },
    {
     "data": {
      "image/png": "[encoded data removed]",
      "text/plain": [
       "<Figure size 432x288 with 1 Axes>"
      ]
     },
     "metadata": {
      "needs_background": "light"
     },
     "output_type": "display_data"
    },
    {
     "name": "stdout",
     "output_type": "stream",
     "text": [
      "*****************************************************************************************************************************\n",
      "Feature:  bland_chromatin\n"
     ]
    },
    {
     "data": {
      "image/png": "[encoded data removed]",
      "text/plain": [
       "<Figure size 432x288 with 1 Axes>"
      ]
     },
     "metadata": {
      "needs_background": "light"
     },
     "output_type": "display_data"
    },
    {
     "name": "stdout",
     "output_type": "stream",
     "text": [
      "*****************************************************************************************************************************\n",
      "Feature:  normal_nucleoli\n"
     ]
    },
    {
     "data": {
      "image/png": "[encoded data removed]",
      "text/plain": [
       "<Figure size 432x288 with 1 Axes>"
      ]
     },
     "metadata": {
      "needs_background": "light"
     },
     "output_type": "display_data"
    },
    {
     "name": "stdout",
     "output_type": "stream",
     "text": [
      "*****************************************************************************************************************************\n",
      "Feature:  mitoses\n"
     ]
    },
    {
     "data": {
      "image/png": "[encoded data removed]",
      "text/plain": [
       "<Figure size 432x288 with 1 Axes>"
      ]
     },
     "metadata": {
      "needs_background": "light"
     },
     "output_type": "display_data"
    },
    {
     "name": "stdout",
     "output_type": "stream",
     "text": [
      "*****************************************************************************************************************************\n"
     ]
    }
   ],
   "source": [
    "for col in master.iloc[:, :-1].columns:\n",
    "    if master[col].dtype != object:\n",
    "        print(\"Feature: \", col)\n",
    "        sns.boxplot(master[col])\n",
    "        plt.show()\n",
    "        print(\"*\"*125)"
   ]
  },
  {
   "cell_type": "code",
   "execution_count": 17,
   "metadata": {},
   "outputs": [
    {
     "name": "stdout",
     "output_type": "stream",
     "text": [
      "1     142\n",
      "5     129\n",
      "3     105\n",
      "4      80\n",
      "10     69\n",
      "2      50\n",
      "8      46\n",
      "6      33\n",
      "7      23\n",
      "9      13\n",
      "Name: clump_thickness, dtype: int64\n",
      "*****************************************************************************************************************************\n",
      "1     378\n",
      "10     65\n",
      "3      51\n",
      "2      45\n",
      "4      40\n",
      "5      30\n",
      "8      29\n",
      "6      27\n",
      "7      19\n",
      "9       6\n",
      "Name: uniform_cell_size, dtype: int64\n",
      "*****************************************************************************************************************************\n",
      "1     347\n",
      "2      59\n",
      "10     56\n",
      "3      56\n",
      "4      44\n",
      "5      33\n",
      "7      30\n",
      "6      30\n",
      "8      28\n",
      "9       7\n",
      "Name: uniform_cell_shape, dtype: int64\n",
      "*****************************************************************************************************************************\n",
      "1     400\n",
      "3      58\n",
      "2      56\n",
      "10     55\n",
      "4      33\n",
      "8      25\n",
      "5      23\n",
      "6      22\n",
      "7      13\n",
      "9       5\n",
      "Name: marginal_adhesion, dtype: int64\n",
      "*****************************************************************************************************************************\n",
      "2     382\n",
      "3      71\n",
      "4      48\n",
      "1      45\n",
      "6      41\n",
      "5      39\n",
      "10     30\n",
      "8      20\n",
      "7      12\n",
      "9       2\n",
      "Name: single_epithelial_size, dtype: int64\n",
      "*****************************************************************************************************************************\n",
      "1     412\n",
      "10    130\n",
      "5      30\n",
      "2      30\n",
      "3      28\n",
      "8      20\n",
      "4      19\n",
      "9       9\n",
      "7       8\n",
      "6       4\n",
      "Name: bare_nuclei, dtype: int64\n",
      "*****************************************************************************************************************************\n",
      "2     165\n",
      "3     160\n",
      "1     151\n",
      "7      71\n",
      "4      40\n",
      "5      34\n",
      "8      28\n",
      "10     20\n",
      "9      11\n",
      "6      10\n",
      "Name: bland_chromatin, dtype: int64\n",
      "*****************************************************************************************************************************\n",
      "1     436\n",
      "10     61\n",
      "3      42\n",
      "2      36\n",
      "8      24\n",
      "6      22\n",
      "5      19\n",
      "4      18\n",
      "9      16\n",
      "7      16\n",
      "Name: normal_nucleoli, dtype: int64\n",
      "*****************************************************************************************************************************\n",
      "1     571\n",
      "2      35\n",
      "3      32\n",
      "10     14\n",
      "4      12\n",
      "7       9\n",
      "8       8\n",
      "5       6\n",
      "6       3\n",
      "Name: mitoses, dtype: int64\n",
      "*****************************************************************************************************************************\n",
      "2    452\n",
      "4    238\n",
      "Name: class, dtype: int64\n",
      "*****************************************************************************************************************************\n"
     ]
    }
   ],
   "source": [
    "for col in master.iloc[:, 1:].columns:\n",
    "    print(master[col].value_counts())\n",
    "    print(\"*\"*125)"
   ]
  },
  {
   "cell_type": "markdown",
   "metadata": {},
   "source": [
    "It doesn't seem a good option to treat the outliers in this data.\n",
    "\n",
    "Leaving the columns as they are."
   ]
  },
  {
   "cell_type": "code",
   "execution_count": 35,
   "metadata": {},
   "outputs": [
    {
     "data": {
      "image/png": "[encoded data removed]",
      "text/plain": [
       "<Figure size 432x288 with 1 Axes>"
      ]
     },
     "metadata": {},
     "output_type": "display_data"
    }
   ],
   "source": [
    "## Checking Data Distribution of the class\n",
    "\n",
    "plt.pie(df['class'].value_counts(),\n",
    "       labels = df['class'].unique(),\n",
    "       autopct = '%0.03f%%');"
   ]
  },
  {
   "cell_type": "markdown",
   "metadata": {},
   "source": [
    "## Bivariate Analysis"
   ]
  },
  {
   "cell_type": "code",
   "execution_count": 50,
   "metadata": {},
   "outputs": [],
   "source": [
    "df = master.drop('id', 1)"
   ]
  },
  {
   "cell_type": "code",
   "execution_count": 51,
   "metadata": {},
   "outputs": [
    {
     "data": {
      "text/html": [
       "<div>\n",
       "<style scoped>\n",
       "    .dataframe tbody tr th:only-of-type {\n",
       "        vertical-align: middle;\n",
       "    }\n",
       "\n",
       "    .dataframe tbody tr th {\n",
       "        vertical-align: top;\n",
       "    }\n",
       "\n",
       "    .dataframe thead th {\n",
       "        text-align: right;\n",
       "    }\n",
       "</style>\n",
       "<table border=\"1\" class=\"dataframe\">\n",
       "  <thead>\n",
       "    <tr style=\"text-align: right;\">\n",
       "      <th></th>\n",
       "      <th>clump_thickness</th>\n",
       "      <th>uniform_cell_size</th>\n",
       "      <th>uniform_cell_shape</th>\n",
       "      <th>marginal_adhesion</th>\n",
       "      <th>single_epithelial_size</th>\n",
       "      <th>bare_nuclei</th>\n",
       "      <th>bland_chromatin</th>\n",
       "      <th>normal_nucleoli</th>\n",
       "      <th>mitoses</th>\n",
       "      <th>class</th>\n",
       "    </tr>\n",
       "  </thead>\n",
       "  <tbody>\n",
       "    <tr>\n",
       "      <th>0</th>\n",
       "      <td>5</td>\n",
       "      <td>1</td>\n",
       "      <td>1</td>\n",
       "      <td>1</td>\n",
       "      <td>2</td>\n",
       "      <td>1</td>\n",
       "      <td>3</td>\n",
       "      <td>1</td>\n",
       "      <td>1</td>\n",
       "      <td>2</td>\n",
       "    </tr>\n",
       "    <tr>\n",
       "      <th>1</th>\n",
       "      <td>5</td>\n",
       "      <td>4</td>\n",
       "      <td>4</td>\n",
       "      <td>5</td>\n",
       "      <td>7</td>\n",
       "      <td>10</td>\n",
       "      <td>3</td>\n",
       "      <td>2</td>\n",
       "      <td>1</td>\n",
       "      <td>2</td>\n",
       "    </tr>\n",
       "    <tr>\n",
       "      <th>2</th>\n",
       "      <td>3</td>\n",
       "      <td>1</td>\n",
       "      <td>1</td>\n",
       "      <td>1</td>\n",
       "      <td>2</td>\n",
       "      <td>2</td>\n",
       "      <td>3</td>\n",
       "      <td>1</td>\n",
       "      <td>1</td>\n",
       "      <td>2</td>\n",
       "    </tr>\n",
       "    <tr>\n",
       "      <th>3</th>\n",
       "      <td>6</td>\n",
       "      <td>8</td>\n",
       "      <td>8</td>\n",
       "      <td>1</td>\n",
       "      <td>3</td>\n",
       "      <td>4</td>\n",
       "      <td>3</td>\n",
       "      <td>7</td>\n",
       "      <td>1</td>\n",
       "      <td>2</td>\n",
       "    </tr>\n",
       "    <tr>\n",
       "      <th>4</th>\n",
       "      <td>4</td>\n",
       "      <td>1</td>\n",
       "      <td>1</td>\n",
       "      <td>3</td>\n",
       "      <td>2</td>\n",
       "      <td>1</td>\n",
       "      <td>3</td>\n",
       "      <td>1</td>\n",
       "      <td>1</td>\n",
       "      <td>2</td>\n",
       "    </tr>\n",
       "  </tbody>\n",
       "</table>\n",
       "</div>"
      ],
      "text/plain": [
       "   clump_thickness  uniform_cell_size  uniform_cell_shape  marginal_adhesion  \\\n",
       "0                5                  1                   1                  1   \n",
       "1                5                  4                   4                  5   \n",
       "2                3                  1                   1                  1   \n",
       "3                6                  8                   8                  1   \n",
       "4                4                  1                   1                  3   \n",
       "\n",
       "   single_epithelial_size  bare_nuclei  bland_chromatin  normal_nucleoli  \\\n",
       "0                       2            1                3                1   \n",
       "1                       7           10                3                2   \n",
       "2                       2            2                3                1   \n",
       "3                       3            4                3                7   \n",
       "4                       2            1                3                1   \n",
       "\n",
       "   mitoses  class  \n",
       "0        1      2  \n",
       "1        1      2  \n",
       "2        1      2  \n",
       "3        1      2  \n",
       "4        1      2  "
      ]
     },
     "execution_count": 51,
     "metadata": {},
     "output_type": "execute_result"
    }
   ],
   "source": [
    "df.head()"
   ]
  },
  {
   "cell_type": "markdown",
   "metadata": {},
   "source": [
    "### Barplots"
   ]
  },
  {
   "cell_type": "code",
   "execution_count": 28,
   "metadata": {},
   "outputs": [
    {
     "name": "stdout",
     "output_type": "stream",
     "text": [
      "Relationship between class and  clump_thickness\n"
     ]
    },
    {
     "data": {
      "image/png": "[encoded data removed]",
      "text/plain": [
       "<Figure size 432x288 with 1 Axes>"
      ]
     },
     "metadata": {
      "needs_background": "light"
     },
     "output_type": "display_data"
    },
    {
     "name": "stdout",
     "output_type": "stream",
     "text": [
      "*****************************************************************************************************************************\n",
      "Relationship between class and  uniform_cell_size\n"
     ]
    },
    {
     "data": {
      "image/png": "[encoded data removed]",
      "text/plain": [
       "<Figure size 432x288 with 1 Axes>"
      ]
     },
     "metadata": {
      "needs_background": "light"
     },
     "output_type": "display_data"
    },
    {
     "name": "stdout",
     "output_type": "stream",
     "text": [
      "*****************************************************************************************************************************\n",
      "Relationship between class and  uniform_cell_shape\n"
     ]
    },
    {
     "data": {
      "image/png": "[encoded data removed]",
      "text/plain": [
       "<Figure size 432x288 with 1 Axes>"
      ]
     },
     "metadata": {
      "needs_background": "light"
     },
     "output_type": "display_data"
    },
    {
     "name": "stdout",
     "output_type": "stream",
     "text": [
      "*****************************************************************************************************************************\n",
      "Relationship between class and  marginal_adhesion\n"
     ]
    },
    {
     "data": {
      "image/png": "[encoded data removed]",
      "text/plain": [
       "<Figure size 432x288 with 1 Axes>"
      ]
     },
     "metadata": {
      "needs_background": "light"
     },
     "output_type": "display_data"
    },
    {
     "name": "stdout",
     "output_type": "stream",
     "text": [
      "*****************************************************************************************************************************\n",
      "Relationship between class and  single_epithelial_size\n"
     ]
    },
    {
     "data": {
      "image/png": "[encoded data removed]",
      "text/plain": [
       "<Figure size 432x288 with 1 Axes>"
      ]
     },
     "metadata": {
      "needs_background": "light"
     },
     "output_type": "display_data"
    },
    {
     "name": "stdout",
     "output_type": "stream",
     "text": [
      "*****************************************************************************************************************************\n",
      "Relationship between class and  bare_nuclei\n"
     ]
    },
    {
     "data": {
      "image/png": "[encoded data removed]",
      "text/plain": [
       "<Figure size 432x288 with 1 Axes>"
      ]
     },
     "metadata": {
      "needs_background": "light"
     },
     "output_type": "display_data"
    },
    {
     "name": "stdout",
     "output_type": "stream",
     "text": [
      "*****************************************************************************************************************************\n",
      "Relationship between class and  bland_chromatin\n"
     ]
    },
    {
     "data": {
      "image/png": "[encoded data removed]",
      "text/plain": [
       "<Figure size 432x288 with 1 Axes>"
      ]
     },
     "metadata": {
      "needs_background": "light"
     },
     "output_type": "display_data"
    },
    {
     "name": "stdout",
     "output_type": "stream",
     "text": [
      "*****************************************************************************************************************************\n",
      "Relationship between class and  normal_nucleoli\n"
     ]
    },
    {
     "data": {
      "image/png": "[encoded data removed]",
      "text/plain": [
       "<Figure size 432x288 with 1 Axes>"
      ]
     },
     "metadata": {
      "needs_background": "light"
     },
     "output_type": "display_data"
    },
    {
     "name": "stdout",
     "output_type": "stream",
     "text": [
      "*****************************************************************************************************************************\n",
      "Relationship between class and  mitoses\n"
     ]
    },
    {
     "data": {
      "image/png": "[encoded data removed]",
      "text/plain": [
       "<Figure size 432x288 with 1 Axes>"
      ]
     },
     "metadata": {
      "needs_background": "light"
     },
     "output_type": "display_data"
    },
    {
     "name": "stdout",
     "output_type": "stream",
     "text": [
      "*****************************************************************************************************************************\n",
      "Relationship between class and  class\n"
     ]
    },
    {
     "data": {
      "image/png": "[encoded data removed]",
      "text/plain": [
       "<Figure size 432x288 with 1 Axes>"
      ]
     },
     "metadata": {
      "needs_background": "light"
     },
     "output_type": "display_data"
    },
    {
     "name": "stdout",
     "output_type": "stream",
     "text": [
      "*****************************************************************************************************************************\n"
     ]
    }
   ],
   "source": [
    "for col in df.columns:\n",
    "    print(\"Relationship between class and \", col)\n",
    "    sns.barplot(x ='class', y = df[col], data = df)\n",
    "    plt.show()\n",
    "    print(\"*\"*125)"
   ]
  },
  {
   "cell_type": "markdown",
   "metadata": {},
   "source": [
    "### Checking Correlation"
   ]
  },
  {
   "cell_type": "code",
   "execution_count": 36,
   "metadata": {},
   "outputs": [
    {
     "data": {
      "text/html": [
       "<div>\n",
       "<style scoped>\n",
       "    .dataframe tbody tr th:only-of-type {\n",
       "        vertical-align: middle;\n",
       "    }\n",
       "\n",
       "    .dataframe tbody tr th {\n",
       "        vertical-align: top;\n",
       "    }\n",
       "\n",
       "    .dataframe thead th {\n",
       "        text-align: right;\n",
       "    }\n",
       "</style>\n",
       "<table border=\"1\" class=\"dataframe\">\n",
       "  <thead>\n",
       "    <tr style=\"text-align: right;\">\n",
       "      <th></th>\n",
       "      <th>clump_thickness</th>\n",
       "      <th>uniform_cell_size</th>\n",
       "      <th>uniform_cell_shape</th>\n",
       "      <th>marginal_adhesion</th>\n",
       "      <th>single_epithelial_size</th>\n",
       "      <th>bare_nuclei</th>\n",
       "      <th>bland_chromatin</th>\n",
       "      <th>normal_nucleoli</th>\n",
       "      <th>mitoses</th>\n",
       "      <th>class</th>\n",
       "    </tr>\n",
       "  </thead>\n",
       "  <tbody>\n",
       "    <tr>\n",
       "      <th>clump_thickness</th>\n",
       "      <td>1.000000</td>\n",
       "      <td>0.643173</td>\n",
       "      <td>0.653589</td>\n",
       "      <td>0.487715</td>\n",
       "      <td>0.517253</td>\n",
       "      <td>0.590648</td>\n",
       "      <td>0.561063</td>\n",
       "      <td>0.535507</td>\n",
       "      <td>0.350196</td>\n",
       "      <td>0.716812</td>\n",
       "    </tr>\n",
       "    <tr>\n",
       "      <th>uniform_cell_size</th>\n",
       "      <td>0.643173</td>\n",
       "      <td>1.000000</td>\n",
       "      <td>0.905349</td>\n",
       "      <td>0.712933</td>\n",
       "      <td>0.746982</td>\n",
       "      <td>0.684571</td>\n",
       "      <td>0.759632</td>\n",
       "      <td>0.727073</td>\n",
       "      <td>0.459918</td>\n",
       "      <td>0.817586</td>\n",
       "    </tr>\n",
       "    <tr>\n",
       "      <th>uniform_cell_shape</th>\n",
       "      <td>0.653589</td>\n",
       "      <td>0.905349</td>\n",
       "      <td>1.000000</td>\n",
       "      <td>0.690782</td>\n",
       "      <td>0.714243</td>\n",
       "      <td>0.704165</td>\n",
       "      <td>0.738576</td>\n",
       "      <td>0.724519</td>\n",
       "      <td>0.440435</td>\n",
       "      <td>0.817551</td>\n",
       "    </tr>\n",
       "    <tr>\n",
       "      <th>marginal_adhesion</th>\n",
       "      <td>0.487715</td>\n",
       "      <td>0.712933</td>\n",
       "      <td>0.690782</td>\n",
       "      <td>1.000000</td>\n",
       "      <td>0.608281</td>\n",
       "      <td>0.672512</td>\n",
       "      <td>0.669860</td>\n",
       "      <td>0.602228</td>\n",
       "      <td>0.417008</td>\n",
       "      <td>0.701175</td>\n",
       "    </tr>\n",
       "    <tr>\n",
       "      <th>single_epithelial_size</th>\n",
       "      <td>0.517253</td>\n",
       "      <td>0.746982</td>\n",
       "      <td>0.714243</td>\n",
       "      <td>0.608281</td>\n",
       "      <td>1.000000</td>\n",
       "      <td>0.580487</td>\n",
       "      <td>0.620526</td>\n",
       "      <td>0.633880</td>\n",
       "      <td>0.482517</td>\n",
       "      <td>0.681063</td>\n",
       "    </tr>\n",
       "    <tr>\n",
       "      <th>bare_nuclei</th>\n",
       "      <td>0.590648</td>\n",
       "      <td>0.684571</td>\n",
       "      <td>0.704165</td>\n",
       "      <td>0.672512</td>\n",
       "      <td>0.580487</td>\n",
       "      <td>1.000000</td>\n",
       "      <td>0.672754</td>\n",
       "      <td>0.578161</td>\n",
       "      <td>0.342823</td>\n",
       "      <td>0.816655</td>\n",
       "    </tr>\n",
       "    <tr>\n",
       "      <th>bland_chromatin</th>\n",
       "      <td>0.561063</td>\n",
       "      <td>0.759632</td>\n",
       "      <td>0.738576</td>\n",
       "      <td>0.669860</td>\n",
       "      <td>0.620526</td>\n",
       "      <td>0.672754</td>\n",
       "      <td>1.000000</td>\n",
       "      <td>0.669099</td>\n",
       "      <td>0.343769</td>\n",
       "      <td>0.756736</td>\n",
       "    </tr>\n",
       "    <tr>\n",
       "      <th>normal_nucleoli</th>\n",
       "      <td>0.535507</td>\n",
       "      <td>0.727073</td>\n",
       "      <td>0.724519</td>\n",
       "      <td>0.602228</td>\n",
       "      <td>0.633880</td>\n",
       "      <td>0.578161</td>\n",
       "      <td>0.669099</td>\n",
       "      <td>1.000000</td>\n",
       "      <td>0.427490</td>\n",
       "      <td>0.715363</td>\n",
       "    </tr>\n",
       "    <tr>\n",
       "      <th>mitoses</th>\n",
       "      <td>0.350196</td>\n",
       "      <td>0.459918</td>\n",
       "      <td>0.440435</td>\n",
       "      <td>0.417008</td>\n",
       "      <td>0.482517</td>\n",
       "      <td>0.342823</td>\n",
       "      <td>0.343769</td>\n",
       "      <td>0.427490</td>\n",
       "      <td>1.000000</td>\n",
       "      <td>0.423947</td>\n",
       "    </tr>\n",
       "    <tr>\n",
       "      <th>class</th>\n",
       "      <td>0.716812</td>\n",
       "      <td>0.817586</td>\n",
       "      <td>0.817551</td>\n",
       "      <td>0.701175</td>\n",
       "      <td>0.681063</td>\n",
       "      <td>0.816655</td>\n",
       "      <td>0.756736</td>\n",
       "      <td>0.715363</td>\n",
       "      <td>0.423947</td>\n",
       "      <td>1.000000</td>\n",
       "    </tr>\n",
       "  </tbody>\n",
       "</table>\n",
       "</div>"
      ],
      "text/plain": [
       "                        clump_thickness  uniform_cell_size  \\\n",
       "clump_thickness                1.000000           0.643173   \n",
       "uniform_cell_size              0.643173           1.000000   \n",
       "uniform_cell_shape             0.653589           0.905349   \n",
       "marginal_adhesion              0.487715           0.712933   \n",
       "single_epithelial_size         0.517253           0.746982   \n",
       "bare_nuclei                    0.590648           0.684571   \n",
       "bland_chromatin                0.561063           0.759632   \n",
       "normal_nucleoli                0.535507           0.727073   \n",
       "mitoses                        0.350196           0.459918   \n",
       "class                          0.716812           0.817586   \n",
       "\n",
       "                        uniform_cell_shape  marginal_adhesion  \\\n",
       "clump_thickness                   0.653589           0.487715   \n",
       "uniform_cell_size                 0.905349           0.712933   \n",
       "uniform_cell_shape                1.000000           0.690782   \n",
       "marginal_adhesion                 0.690782           1.000000   \n",
       "single_epithelial_size            0.714243           0.608281   \n",
       "bare_nuclei                       0.704165           0.672512   \n",
       "bland_chromatin                   0.738576           0.669860   \n",
       "normal_nucleoli                   0.724519           0.602228   \n",
       "mitoses                           0.440435           0.417008   \n",
       "class                             0.817551           0.701175   \n",
       "\n",
       "                        single_epithelial_size  bare_nuclei  bland_chromatin  \\\n",
       "clump_thickness                       0.517253     0.590648         0.561063   \n",
       "uniform_cell_size                     0.746982     0.684571         0.759632   \n",
       "uniform_cell_shape                    0.714243     0.704165         0.738576   \n",
       "marginal_adhesion                     0.608281     0.672512         0.669860   \n",
       "single_epithelial_size                1.000000     0.580487         0.620526   \n",
       "bare_nuclei                           0.580487     1.000000         0.672754   \n",
       "bland_chromatin                       0.620526     0.672754         1.000000   \n",
       "normal_nucleoli                       0.633880     0.578161         0.669099   \n",
       "mitoses                               0.482517     0.342823         0.343769   \n",
       "class                                 0.681063     0.816655         0.756736   \n",
       "\n",
       "                        normal_nucleoli   mitoses     class  \n",
       "clump_thickness                0.535507  0.350196  0.716812  \n",
       "uniform_cell_size              0.727073  0.459918  0.817586  \n",
       "uniform_cell_shape             0.724519  0.440435  0.817551  \n",
       "marginal_adhesion              0.602228  0.417008  0.701175  \n",
       "single_epithelial_size         0.633880  0.482517  0.681063  \n",
       "bare_nuclei                    0.578161  0.342823  0.816655  \n",
       "bland_chromatin                0.669099  0.343769  0.756736  \n",
       "normal_nucleoli                1.000000  0.427490  0.715363  \n",
       "mitoses                        0.427490  1.000000  0.423947  \n",
       "class                          0.715363  0.423947  1.000000  "
      ]
     },
     "execution_count": 36,
     "metadata": {},
     "output_type": "execute_result"
    }
   ],
   "source": [
    "df.corr()"
   ]
  },
  {
   "cell_type": "markdown",
   "metadata": {},
   "source": [
    "Mitoses seems to have a very less impact on class as compared to the other variables"
   ]
  },
  {
   "cell_type": "markdown",
   "metadata": {},
   "source": [
    "## Preprocessing"
   ]
  },
  {
   "cell_type": "code",
   "execution_count": 54,
   "metadata": {},
   "outputs": [
    {
     "data": {
      "text/html": [
       "<div>\n",
       "<style scoped>\n",
       "    .dataframe tbody tr th:only-of-type {\n",
       "        vertical-align: middle;\n",
       "    }\n",
       "\n",
       "    .dataframe tbody tr th {\n",
       "        vertical-align: top;\n",
       "    }\n",
       "\n",
       "    .dataframe thead th {\n",
       "        text-align: right;\n",
       "    }\n",
       "</style>\n",
       "<table border=\"1\" class=\"dataframe\">\n",
       "  <thead>\n",
       "    <tr style=\"text-align: right;\">\n",
       "      <th></th>\n",
       "      <th>clump_thickness</th>\n",
       "      <th>uniform_cell_size</th>\n",
       "      <th>uniform_cell_shape</th>\n",
       "      <th>marginal_adhesion</th>\n",
       "      <th>single_epithelial_size</th>\n",
       "      <th>bare_nuclei</th>\n",
       "      <th>bland_chromatin</th>\n",
       "      <th>normal_nucleoli</th>\n",
       "      <th>mitoses</th>\n",
       "    </tr>\n",
       "  </thead>\n",
       "  <tbody>\n",
       "    <tr>\n",
       "      <th>0</th>\n",
       "      <td>5</td>\n",
       "      <td>1</td>\n",
       "      <td>1</td>\n",
       "      <td>1</td>\n",
       "      <td>2</td>\n",
       "      <td>1</td>\n",
       "      <td>3</td>\n",
       "      <td>1</td>\n",
       "      <td>1</td>\n",
       "    </tr>\n",
       "    <tr>\n",
       "      <th>1</th>\n",
       "      <td>5</td>\n",
       "      <td>4</td>\n",
       "      <td>4</td>\n",
       "      <td>5</td>\n",
       "      <td>7</td>\n",
       "      <td>10</td>\n",
       "      <td>3</td>\n",
       "      <td>2</td>\n",
       "      <td>1</td>\n",
       "    </tr>\n",
       "    <tr>\n",
       "      <th>2</th>\n",
       "      <td>3</td>\n",
       "      <td>1</td>\n",
       "      <td>1</td>\n",
       "      <td>1</td>\n",
       "      <td>2</td>\n",
       "      <td>2</td>\n",
       "      <td>3</td>\n",
       "      <td>1</td>\n",
       "      <td>1</td>\n",
       "    </tr>\n",
       "    <tr>\n",
       "      <th>3</th>\n",
       "      <td>6</td>\n",
       "      <td>8</td>\n",
       "      <td>8</td>\n",
       "      <td>1</td>\n",
       "      <td>3</td>\n",
       "      <td>4</td>\n",
       "      <td>3</td>\n",
       "      <td>7</td>\n",
       "      <td>1</td>\n",
       "    </tr>\n",
       "    <tr>\n",
       "      <th>4</th>\n",
       "      <td>4</td>\n",
       "      <td>1</td>\n",
       "      <td>1</td>\n",
       "      <td>3</td>\n",
       "      <td>2</td>\n",
       "      <td>1</td>\n",
       "      <td>3</td>\n",
       "      <td>1</td>\n",
       "      <td>1</td>\n",
       "    </tr>\n",
       "  </tbody>\n",
       "</table>\n",
       "</div>"
      ],
      "text/plain": [
       "   clump_thickness  uniform_cell_size  uniform_cell_shape  marginal_adhesion  \\\n",
       "0                5                  1                   1                  1   \n",
       "1                5                  4                   4                  5   \n",
       "2                3                  1                   1                  1   \n",
       "3                6                  8                   8                  1   \n",
       "4                4                  1                   1                  3   \n",
       "\n",
       "   single_epithelial_size  bare_nuclei  bland_chromatin  normal_nucleoli  \\\n",
       "0                       2            1                3                1   \n",
       "1                       7           10                3                2   \n",
       "2                       2            2                3                1   \n",
       "3                       3            4                3                7   \n",
       "4                       2            1                3                1   \n",
       "\n",
       "   mitoses  \n",
       "0        1  \n",
       "1        1  \n",
       "2        1  \n",
       "3        1  \n",
       "4        1  "
      ]
     },
     "metadata": {},
     "output_type": "display_data"
    },
    {
     "data": {
      "text/plain": [
       "0    2\n",
       "1    2\n",
       "2    2\n",
       "3    2\n",
       "4    2\n",
       "Name: class, dtype: int64"
      ]
     },
     "metadata": {},
     "output_type": "display_data"
    }
   ],
   "source": [
    "## Splitting data into target and features\n",
    "\n",
    "X = df.drop('class', 1)\n",
    "y = df['class']\n",
    "\n",
    "display(X.head(),\n",
    "       y.head())"
   ]
  },
  {
   "cell_type": "code",
   "execution_count": 55,
   "metadata": {},
   "outputs": [
    {
     "data": {
      "text/plain": [
       "array([[ 5,  1,  1, ...,  3,  1,  1],\n",
       "       [ 5,  4,  4, ...,  3,  2,  1],\n",
       "       [ 3,  1,  1, ...,  3,  1,  1],\n",
       "       ...,\n",
       "       [ 5, 10, 10, ...,  8, 10,  2],\n",
       "       [ 4,  8,  6, ..., 10,  6,  1],\n",
       "       [ 4,  8,  8, ..., 10,  4,  1]], dtype=int64)"
      ]
     },
     "metadata": {},
     "output_type": "display_data"
    },
    {
     "data": {
      "text/plain": [
       "array([2, 2, 2, 2, 2, 4, 2, 2, 2, 2, 2, 2, 4, 2, 4, 4, 2, 2, 4, 2, 4, 4,\n",
       "       2, 4, 2, 4, 2, 2, 2, 2, 2, 2, 4, 2, 2, 2, 4, 2, 4, 4, 2, 4, 4, 4,\n",
       "       4, 2, 4, 2, 2, 4, 4, 4, 4, 4, 4, 4, 4, 4, 4, 4, 4, 2, 4, 4, 2, 4,\n",
       "       2, 4, 4, 2, 2, 4, 2, 4, 4, 2, 2, 2, 2, 2, 2, 2, 2, 2, 4, 4, 4, 4,\n",
       "       2, 2, 2, 2, 2, 2, 2, 2, 2, 2, 4, 4, 4, 4, 2, 4, 4, 4, 4, 4, 2, 4,\n",
       "       2, 4, 4, 4, 2, 2, 2, 4, 2, 2, 2, 2, 4, 4, 4, 2, 4, 2, 4, 2, 2, 2,\n",
       "       4, 2, 2, 2, 2, 2, 2, 2, 2, 2, 4, 2, 2, 2, 4, 2, 2, 4, 2, 4, 4, 2,\n",
       "       2, 4, 2, 2, 2, 4, 4, 2, 2, 2, 2, 2, 4, 4, 2, 2, 2, 2, 2, 4, 4, 4,\n",
       "       2, 4, 2, 4, 2, 2, 2, 4, 4, 2, 4, 4, 4, 2, 4, 4, 2, 2, 2, 2, 2, 2,\n",
       "       2, 2, 4, 4, 2, 2, 2, 4, 4, 2, 2, 4, 4, 2, 4, 4, 4, 2, 2, 4, 2, 2,\n",
       "       4, 4, 4, 4, 2, 4, 4, 2, 4, 4, 4, 2, 4, 2, 2, 4, 4, 4, 4, 2, 2, 2,\n",
       "       2, 2, 2, 4, 4, 2, 2, 2, 4, 2, 4, 2, 2, 2, 4, 4, 4, 4, 4, 2, 4, 4,\n",
       "       4, 2, 4, 2, 4, 2, 2, 2, 2, 2, 4, 2, 2, 4, 4, 4, 4, 4, 2, 4, 4, 2,\n",
       "       2, 4, 4, 2, 4, 2, 2, 2, 4, 4, 2, 4, 2, 4, 4, 2, 2, 4, 2, 2, 2, 4,\n",
       "       2, 2, 2, 4, 4, 2, 2, 4, 2, 4, 2, 2, 4, 2, 4, 4, 4, 2, 2, 4, 4, 2,\n",
       "       4, 2, 4, 4, 2, 2, 2, 4, 2, 2, 2, 4, 4, 2, 2, 2, 4, 2, 2, 4, 4, 4,\n",
       "       4, 4, 4, 2, 2, 2, 2, 4, 4, 2, 2, 2, 2, 2, 2, 2, 2, 2, 2, 2, 2, 2,\n",
       "       4, 2, 2, 2, 2, 4, 2, 2, 2, 2, 4, 2, 2, 2, 2, 2, 2, 2, 2, 4, 2, 2,\n",
       "       2, 2, 2, 2, 2, 2, 2, 2, 2, 4, 2, 4, 2, 4, 2, 2, 2, 2, 4, 2, 2, 2,\n",
       "       4, 2, 4, 2, 2, 2, 2, 2, 2, 2, 4, 4, 2, 2, 2, 4, 2, 2, 2, 2, 2, 2,\n",
       "       2, 2, 4, 2, 2, 2, 4, 2, 4, 4, 4, 2, 2, 2, 2, 2, 2, 2, 4, 4, 4, 2,\n",
       "       2, 2, 2, 2, 2, 2, 2, 2, 2, 2, 4, 2, 2, 4, 4, 2, 2, 2, 4, 4, 4, 2,\n",
       "       4, 2, 4, 2, 2, 2, 2, 2, 2, 2, 2, 2, 2, 2, 2, 4, 2, 2, 2, 2, 2, 2,\n",
       "       2, 4, 4, 2, 2, 2, 4, 2, 2, 4, 4, 2, 2, 2, 2, 2, 2, 4, 2, 2, 2, 2,\n",
       "       2, 2, 2, 2, 2, 2, 2, 2, 2, 2, 2, 4, 2, 2, 4, 2, 2, 2, 2, 2, 2, 2,\n",
       "       2, 2, 2, 2, 2, 2, 2, 4, 2, 2, 4, 4, 4, 4, 2, 2, 4, 2, 2, 2, 2, 2,\n",
       "       2, 4, 4, 2, 2, 2, 4, 2, 4, 2, 4, 4, 4, 2, 4, 2, 2, 2, 2, 2, 2, 2,\n",
       "       2, 4, 4, 4, 2, 2, 4, 2, 4, 4, 4, 2, 2, 2, 2, 2, 2, 2, 2, 2, 2, 2,\n",
       "       2, 2, 4, 2, 2, 2, 2, 2, 2, 4, 2, 2, 4, 2, 2, 2, 2, 2, 2, 2, 2, 2,\n",
       "       2, 2, 4, 2, 2, 2, 2, 2, 2, 2, 2, 2, 4, 2, 2, 2, 2, 2, 2, 2, 2, 2,\n",
       "       4, 4, 4, 2, 2, 2, 2, 2, 2, 2, 2, 2, 4, 4, 2, 2, 2, 2, 2, 2, 2, 2,\n",
       "       4, 2, 2, 2, 2, 4, 4, 4], dtype=int64)"
      ]
     },
     "metadata": {},
     "output_type": "display_data"
    }
   ],
   "source": [
    "#converting dataframe to numpy array as MLP works with dataframes\n",
    "\n",
    "X = X.to_numpy()\n",
    "\n",
    "y = y.to_numpy()\n",
    "\n",
    "display(X,y)"
   ]
  },
  {
   "cell_type": "code",
   "execution_count": 56,
   "metadata": {},
   "outputs": [],
   "source": [
    "## Splitting the dataset into test and train\n",
    "\n",
    "from sklearn.model_selection import train_test_split\n",
    "\n",
    "X_train, X_test, y_train, y_test = train_test_split(X, y, test_size = 0.3, random_state = 0)"
   ]
  },
  {
   "cell_type": "markdown",
   "metadata": {},
   "source": [
    "## Model Making"
   ]
  },
  {
   "cell_type": "code",
   "execution_count": 58,
   "metadata": {},
   "outputs": [],
   "source": [
    "from sklearn.neural_network import MLPClassifier"
   ]
  },
  {
   "cell_type": "code",
   "execution_count": 59,
   "metadata": {},
   "outputs": [],
   "source": [
    "reg = MLPClassifier(hidden_layer_sizes=(2,3),verbose=2,activation=\"relu\" ,batch_size=40,random_state=1, \n",
    "                    max_iter=2000, learning_rate_init=0.03)"
   ]
  },
  {
   "cell_type": "code",
   "execution_count": 60,
   "metadata": {},
   "outputs": [
    {
     "name": "stdout",
     "output_type": "stream",
     "text": [
      "Iteration 1, loss = 0.97048678\n",
      "Iteration 2, loss = 0.82792091\n",
      "Iteration 3, loss = 0.73233675\n",
      "Iteration 4, loss = 0.60872991\n",
      "Iteration 5, loss = 0.50791282\n",
      "Iteration 6, loss = 0.43637868\n",
      "Iteration 7, loss = 0.36745028\n",
      "Iteration 8, loss = 0.42217538\n",
      "Iteration 9, loss = 0.29628210\n",
      "Iteration 10, loss = 0.26709742\n",
      "Iteration 11, loss = 0.25247857\n",
      "Iteration 12, loss = 0.25309063\n",
      "Iteration 13, loss = 0.23221568\n",
      "Iteration 14, loss = 0.20250297\n",
      "Iteration 15, loss = 0.18055240\n",
      "Iteration 16, loss = 0.18474500\n",
      "Iteration 17, loss = 0.15277145\n",
      "Iteration 18, loss = 0.14259954\n",
      "Iteration 19, loss = 0.13381386\n",
      "Iteration 20, loss = 0.12423729\n",
      "Iteration 21, loss = 0.11700714\n",
      "Iteration 22, loss = 0.11575166\n",
      "Iteration 23, loss = 0.11685295\n",
      "Iteration 24, loss = 0.09949566\n",
      "Iteration 25, loss = 0.10916195\n",
      "Iteration 26, loss = 0.10794456\n",
      "Iteration 27, loss = 0.09955246\n",
      "Iteration 28, loss = 0.08407483\n",
      "Iteration 29, loss = 0.10436021\n",
      "Iteration 30, loss = 0.12722928\n",
      "Iteration 31, loss = 0.10300490\n",
      "Iteration 32, loss = 0.09389844\n",
      "Iteration 33, loss = 0.08112583\n",
      "Iteration 34, loss = 0.09364663\n",
      "Iteration 35, loss = 0.09335143\n",
      "Iteration 36, loss = 0.07390480\n",
      "Iteration 37, loss = 0.06946800\n",
      "Iteration 38, loss = 0.08687391\n",
      "Iteration 39, loss = 0.08980453\n",
      "Iteration 40, loss = 0.06922842\n",
      "Iteration 41, loss = 0.06687119\n",
      "Iteration 42, loss = 0.11532575\n",
      "Iteration 43, loss = 0.14766685\n",
      "Iteration 44, loss = 0.09278688\n",
      "Iteration 45, loss = 0.07666685\n",
      "Iteration 46, loss = 0.06996988\n",
      "Iteration 47, loss = 0.06315369\n",
      "Iteration 48, loss = 0.07238949\n",
      "Iteration 49, loss = 0.07711064\n",
      "Iteration 50, loss = 0.06358777\n",
      "Iteration 51, loss = 0.07196798\n",
      "Iteration 52, loss = 0.09775604\n",
      "Iteration 53, loss = 0.07789229\n",
      "Iteration 54, loss = 0.09146275\n",
      "Iteration 55, loss = 0.06689022\n",
      "Iteration 56, loss = 0.06514548\n",
      "Iteration 57, loss = 0.06239671\n",
      "Iteration 58, loss = 0.05817092\n",
      "Iteration 59, loss = 0.06441474\n",
      "Iteration 60, loss = 0.06132198\n",
      "Iteration 61, loss = 0.06317139\n",
      "Iteration 62, loss = 0.06499378\n",
      "Iteration 63, loss = 0.05932269\n",
      "Iteration 64, loss = 0.06592053\n",
      "Iteration 65, loss = 0.10276817\n",
      "Iteration 66, loss = 0.06624463\n",
      "Iteration 67, loss = 0.07606042\n",
      "Iteration 68, loss = 0.06638455\n",
      "Iteration 69, loss = 0.07931351\n",
      "Training loss did not improve more than tol=0.000100 for 10 consecutive epochs. Stopping.\n"
     ]
    },
    {
     "data": {
      "text/plain": [
       "MLPClassifier(batch_size=40, hidden_layer_sizes=(2, 3), learning_rate_init=0.03,\n",
       "              max_iter=2000, random_state=1, verbose=2)"
      ]
     },
     "execution_count": 60,
     "metadata": {},
     "output_type": "execute_result"
    }
   ],
   "source": [
    "reg.fit(X_train, y_train)"
   ]
  },
  {
   "cell_type": "code",
   "execution_count": 61,
   "metadata": {},
   "outputs": [
    {
     "data": {
      "text/plain": [
       "array([4, 4, 2, 2, 4, 4, 2, 4, 4, 2, 4, 2, 2, 4, 2, 4, 4, 4, 2, 4, 2, 4,\n",
       "       4, 2, 2, 4, 4, 2, 4, 4, 2, 4, 4, 2, 4, 4, 2, 2, 4, 4, 2, 4, 4, 2,\n",
       "       2, 2, 4, 2, 2, 2, 2, 2, 2, 2, 4, 2, 2, 4, 2, 4, 2, 2, 2, 2, 4, 2,\n",
       "       2, 2, 2, 2, 4, 4, 2, 4, 4, 4, 2, 2, 4, 2, 4, 2, 2, 4, 2, 4, 2, 2,\n",
       "       2, 4, 2, 4, 2, 2, 4, 2, 2, 4, 2, 4, 4, 2, 4, 2, 2, 4, 2, 4, 4, 4,\n",
       "       2, 2, 4, 2, 2, 2, 2, 2, 4, 2, 2, 2, 4, 2, 4, 2, 4, 2, 2, 4, 2, 4,\n",
       "       4, 2, 2, 2, 2, 2, 2, 2, 4, 2, 2, 2, 2, 2, 4, 4, 2, 4, 2, 2, 4, 2,\n",
       "       2, 2, 2, 4, 2, 2, 2, 2, 2, 2, 4, 2, 4, 2, 2, 2, 2, 2, 2, 2, 2, 4,\n",
       "       4, 4, 2, 2, 2, 4, 2, 2, 2, 2, 2, 4, 2, 2, 2, 2, 4, 4, 2, 4, 4, 2,\n",
       "       2, 2, 4, 2, 4, 2, 2, 2, 2], dtype=int64)"
      ]
     },
     "execution_count": 61,
     "metadata": {},
     "output_type": "execute_result"
    }
   ],
   "source": [
    "y_pred=reg.predict(X_test)\n",
    "y_pred"
   ]
  },
  {
   "cell_type": "code",
   "execution_count": 62,
   "metadata": {},
   "outputs": [
    {
     "data": {
      "text/plain": [
       "array([[3.85861872e-02, 9.61413813e-01],\n",
       "       [3.85861872e-02, 9.61413813e-01],\n",
       "       [9.99995935e-01, 4.06537387e-06],\n",
       "       [9.99982827e-01, 1.71734879e-05],\n",
       "       [3.85861872e-02, 9.61413813e-01],\n",
       "       [3.85861872e-02, 9.61413813e-01],\n",
       "       [9.99975443e-01, 2.45571097e-05],\n",
       "       [3.85861872e-02, 9.61413813e-01],\n",
       "       [3.85861872e-02, 9.61413813e-01],\n",
       "       [9.99998034e-01, 1.96600826e-06],\n",
       "       [3.85861872e-02, 9.61413813e-01],\n",
       "       [9.99995113e-01, 4.88651311e-06],\n",
       "       [9.99998843e-01, 1.15674326e-06],\n",
       "       [3.85861872e-02, 9.61413813e-01],\n",
       "       [9.99992336e-01, 7.66390037e-06],\n",
       "       [3.85861872e-02, 9.61413813e-01],\n",
       "       [3.85861872e-02, 9.61413813e-01],\n",
       "       [3.63444408e-01, 6.36555592e-01],\n",
       "       [9.96902448e-01, 3.09755212e-03],\n",
       "       [3.85861872e-02, 9.61413813e-01],\n",
       "       [9.99975969e-01, 2.40311204e-05],\n",
       "       [3.85861872e-02, 9.61413813e-01],\n",
       "       [3.85861872e-02, 9.61413813e-01],\n",
       "       [9.99979044e-01, 2.09562231e-05],\n",
       "       [9.99999327e-01, 6.73001924e-07],\n",
       "       [3.85861872e-02, 9.61413813e-01],\n",
       "       [3.85861872e-02, 9.61413813e-01],\n",
       "       [9.99999327e-01, 6.73001924e-07],\n",
       "       [3.85861872e-02, 9.61413813e-01],\n",
       "       [3.85861872e-02, 9.61413813e-01],\n",
       "       [9.99975443e-01, 2.45571097e-05],\n",
       "       [3.85861872e-02, 9.61413813e-01],\n",
       "       [3.85861872e-02, 9.61413813e-01],\n",
       "       [9.99993013e-01, 6.98747237e-06],\n",
       "       [3.85861872e-02, 9.61413813e-01],\n",
       "       [3.85861872e-02, 9.61413813e-01],\n",
       "       [9.99993013e-01, 6.98747237e-06],\n",
       "       [9.99975189e-01, 2.48111508e-05],\n",
       "       [3.85861872e-02, 9.61413813e-01],\n",
       "       [3.85861872e-02, 9.61413813e-01],\n",
       "       [9.99937157e-01, 6.28434329e-05],\n",
       "       [3.85861872e-02, 9.61413813e-01],\n",
       "       [3.85861872e-02, 9.61413813e-01],\n",
       "       [9.99909432e-01, 9.05681159e-05],\n",
       "       [9.99990008e-01, 9.99173130e-06],\n",
       "       [9.99633551e-01, 3.66448869e-04],\n",
       "       [3.85861872e-02, 9.61413813e-01],\n",
       "       [9.97501306e-01, 2.49869444e-03],\n",
       "       [9.99999327e-01, 6.73001924e-07],\n",
       "       [9.99997819e-01, 2.18065748e-06],\n",
       "       [9.99998843e-01, 1.15674326e-06],\n",
       "       [9.99960595e-01, 3.94047161e-05],\n",
       "       [9.99998616e-01, 1.38358531e-06],\n",
       "       [9.99997408e-01, 2.59208443e-06],\n",
       "       [3.85861872e-02, 9.61413813e-01],\n",
       "       [9.99991736e-01, 8.26351407e-06],\n",
       "       [9.99997157e-01, 2.84301450e-06],\n",
       "       [3.85861872e-02, 9.61413813e-01],\n",
       "       [9.99982827e-01, 1.71734879e-05],\n",
       "       [4.07643256e-02, 9.59235674e-01],\n",
       "       [9.99957792e-01, 4.22075813e-05],\n",
       "       [9.99996658e-01, 3.34170843e-06],\n",
       "       [9.99998346e-01, 1.65408837e-06],\n",
       "       [9.99968893e-01, 3.11073565e-05],\n",
       "       [3.85861872e-02, 9.61413813e-01],\n",
       "       [6.63928919e-01, 3.36071081e-01],\n",
       "       [9.99991149e-01, 8.85131904e-06],\n",
       "       [9.99977610e-01, 2.23896936e-05],\n",
       "       [9.99997622e-01, 2.37807962e-06],\n",
       "       [9.99993013e-01, 6.98747237e-06],\n",
       "       [3.85861872e-02, 9.61413813e-01],\n",
       "       [3.85861872e-02, 9.61413813e-01],\n",
       "       [9.99785206e-01, 2.14793927e-04],\n",
       "       [3.85861872e-02, 9.61413813e-01],\n",
       "       [3.85861872e-02, 9.61413813e-01],\n",
       "       [3.85861872e-02, 9.61413813e-01],\n",
       "       [9.99998346e-01, 1.65408837e-06],\n",
       "       [9.99923059e-01, 7.69405225e-05],\n",
       "       [3.85861872e-02, 9.61413813e-01],\n",
       "       [9.93519670e-01, 6.48033044e-03],\n",
       "       [3.85861872e-02, 9.61413813e-01],\n",
       "       [9.99829277e-01, 1.70722767e-04],\n",
       "       [9.99921316e-01, 7.86843709e-05],\n",
       "       [3.85861872e-02, 9.61413813e-01],\n",
       "       [9.99857118e-01, 1.42882474e-04],\n",
       "       [3.85861872e-02, 9.61413813e-01],\n",
       "       [9.99991149e-01, 8.85131904e-06],\n",
       "       [9.99997649e-01, 2.35127032e-06],\n",
       "       [9.99998843e-01, 1.15674326e-06],\n",
       "       [3.85861872e-02, 9.61413813e-01],\n",
       "       [7.92248967e-01, 2.07751033e-01],\n",
       "       [3.85861872e-02, 9.61413813e-01],\n",
       "       [9.99908108e-01, 9.18921619e-05],\n",
       "       [9.99987990e-01, 1.20098838e-05],\n",
       "       [3.85861872e-02, 9.61413813e-01],\n",
       "       [9.99647465e-01, 3.52534998e-04],\n",
       "       [9.99990008e-01, 9.99173130e-06],\n",
       "       [3.85861872e-02, 9.61413813e-01],\n",
       "       [9.99997157e-01, 2.84301450e-06],\n",
       "       [3.85861872e-02, 9.61413813e-01],\n",
       "       [1.40088371e-01, 8.59911629e-01],\n",
       "       [9.99998012e-01, 1.98818823e-06],\n",
       "       [3.85861872e-02, 9.61413813e-01],\n",
       "       [9.99896269e-01, 1.03730524e-04],\n",
       "       [9.99103281e-01, 8.96718710e-04],\n",
       "       [3.85861872e-02, 9.61413813e-01],\n",
       "       [9.99983784e-01, 1.62158338e-05],\n",
       "       [3.85861872e-02, 9.61413813e-01],\n",
       "       [3.85861872e-02, 9.61413813e-01],\n",
       "       [3.85861872e-02, 9.61413813e-01],\n",
       "       [9.99761088e-01, 2.38912032e-04],\n",
       "       [9.99999327e-01, 6.73001924e-07],\n",
       "       [3.85861872e-02, 9.61413813e-01],\n",
       "       [9.99998012e-01, 1.98818823e-06],\n",
       "       [9.99987990e-01, 1.20098838e-05],\n",
       "       [9.99990008e-01, 9.99173130e-06],\n",
       "       [9.99993013e-01, 6.98747237e-06],\n",
       "       [9.99999327e-01, 6.73001924e-07],\n",
       "       [3.85861872e-02, 9.61413813e-01],\n",
       "       [9.99970483e-01, 2.95171233e-05],\n",
       "       [9.99998247e-01, 1.75264711e-06],\n",
       "       [5.80469198e-01, 4.19530802e-01],\n",
       "       [3.85861872e-02, 9.61413813e-01],\n",
       "       [9.99957792e-01, 4.22075813e-05],\n",
       "       [3.85861872e-02, 9.61413813e-01],\n",
       "       [9.99998012e-01, 1.98818823e-06],\n",
       "       [3.85861872e-02, 9.61413813e-01],\n",
       "       [9.99990008e-01, 9.99173130e-06],\n",
       "       [9.94833285e-01, 5.16671461e-03],\n",
       "       [3.85861872e-02, 9.61413813e-01],\n",
       "       [9.99997724e-01, 2.27646541e-06],\n",
       "       [3.85861872e-02, 9.61413813e-01],\n",
       "       [3.85861872e-02, 9.61413813e-01],\n",
       "       [9.99998616e-01, 1.38358531e-06],\n",
       "       [9.99990890e-01, 9.10984712e-06],\n",
       "       [9.99444044e-01, 5.55955790e-04],\n",
       "       [9.99998012e-01, 1.98818823e-06],\n",
       "       [9.98360230e-01, 1.63977028e-03],\n",
       "       [9.99987990e-01, 1.20098838e-05],\n",
       "       [9.99983479e-01, 1.65210146e-05],\n",
       "       [3.85861872e-02, 9.61413813e-01],\n",
       "       [9.99727973e-01, 2.72026906e-04],\n",
       "       [9.99802358e-01, 1.97641663e-04],\n",
       "       [9.99997157e-01, 2.84301450e-06],\n",
       "       [9.99990795e-01, 9.20475207e-06],\n",
       "       [9.99732678e-01, 2.67321901e-04],\n",
       "       [3.85861872e-02, 9.61413813e-01],\n",
       "       [3.85861872e-02, 9.61413813e-01],\n",
       "       [9.99990222e-01, 9.77771515e-06],\n",
       "       [3.85861872e-02, 9.61413813e-01],\n",
       "       [5.98149039e-01, 4.01850961e-01],\n",
       "       [6.86756651e-01, 3.13243349e-01],\n",
       "       [3.85861872e-02, 9.61413813e-01],\n",
       "       [9.99995935e-01, 4.06537387e-06],\n",
       "       [9.99995113e-01, 4.88651311e-06],\n",
       "       [9.99959581e-01, 4.04188847e-05],\n",
       "       [9.99975443e-01, 2.45571097e-05],\n",
       "       [3.85861872e-02, 9.61413813e-01],\n",
       "       [9.99956051e-01, 4.39487128e-05],\n",
       "       [9.99996107e-01, 3.89308288e-06],\n",
       "       [9.99998843e-01, 1.15674326e-06],\n",
       "       [9.99999327e-01, 6.73001924e-07],\n",
       "       [9.99991149e-01, 8.85131904e-06],\n",
       "       [9.99982827e-01, 1.71734879e-05],\n",
       "       [3.85861872e-02, 9.61413813e-01],\n",
       "       [9.96887481e-01, 3.11251902e-03],\n",
       "       [3.85861872e-02, 9.61413813e-01],\n",
       "       [9.99999123e-01, 8.77421201e-07],\n",
       "       [9.99995935e-01, 4.06537387e-06],\n",
       "       [9.99969511e-01, 3.04886968e-05],\n",
       "       [9.99998535e-01, 1.46529661e-06],\n",
       "       [9.99943956e-01, 5.60444002e-05],\n",
       "       [6.32323339e-01, 3.67676661e-01],\n",
       "       [9.99956998e-01, 4.30019038e-05],\n",
       "       [9.99999327e-01, 6.73001924e-07],\n",
       "       [3.85861872e-02, 9.61413813e-01],\n",
       "       [3.85861872e-02, 9.61413813e-01],\n",
       "       [3.85861872e-02, 9.61413813e-01],\n",
       "       [9.99999123e-01, 8.77421201e-07],\n",
       "       [9.99867396e-01, 1.32603732e-04],\n",
       "       [9.99970483e-01, 2.95171233e-05],\n",
       "       [3.85861872e-02, 9.61413813e-01],\n",
       "       [9.99970483e-01, 2.95171233e-05],\n",
       "       [9.99857962e-01, 1.42038136e-04],\n",
       "       [9.99990890e-01, 9.10984712e-06],\n",
       "       [9.99998843e-01, 1.15674326e-06],\n",
       "       [9.99942204e-01, 5.77961256e-05],\n",
       "       [3.85861872e-02, 9.61413813e-01],\n",
       "       [9.99906684e-01, 9.33164178e-05],\n",
       "       [9.99995935e-01, 4.06537387e-06],\n",
       "       [9.99999327e-01, 6.73001924e-07],\n",
       "       [6.22993250e-01, 3.77006750e-01],\n",
       "       [3.85861872e-02, 9.61413813e-01],\n",
       "       [3.85861872e-02, 9.61413813e-01],\n",
       "       [6.49658814e-01, 3.50341186e-01],\n",
       "       [3.85861872e-02, 9.61413813e-01],\n",
       "       [3.85861872e-02, 9.61413813e-01],\n",
       "       [9.99908108e-01, 9.18921619e-05],\n",
       "       [9.99998012e-01, 1.98818823e-06],\n",
       "       [9.99985443e-01, 1.45565439e-05],\n",
       "       [3.85861872e-02, 9.61413813e-01],\n",
       "       [9.99999327e-01, 6.73001924e-07],\n",
       "       [3.85861872e-02, 9.61413813e-01],\n",
       "       [9.99340043e-01, 6.59957040e-04],\n",
       "       [9.99998843e-01, 1.15674326e-06],\n",
       "       [9.99997580e-01, 2.41994635e-06],\n",
       "       [9.99998012e-01, 1.98818823e-06]])"
      ]
     },
     "execution_count": 62,
     "metadata": {},
     "output_type": "execute_result"
    }
   ],
   "source": [
    "y_pred_prob =reg.predict_proba(X_test)\n",
    "y_pred_prob"
   ]
  },
  {
   "cell_type": "code",
   "execution_count": 63,
   "metadata": {},
   "outputs": [
    {
     "data": {
      "text/plain": [
       "0.9371980676328503"
      ]
     },
     "execution_count": 63,
     "metadata": {},
     "output_type": "execute_result"
    }
   ],
   "source": [
    "from sklearn.metrics import accuracy_score\n",
    "\n",
    "accuracy_score(y_pred, y_test)"
   ]
  },
  {
   "cell_type": "markdown",
   "metadata": {},
   "source": [
    "### The model has given 93% accuracy on test data"
   ]
  },
  {
   "cell_type": "code",
   "execution_count": 64,
   "metadata": {},
   "outputs": [
    {
     "data": {
      "text/plain": [
       "array([4, 4, 2, 4, 2, 2, 2, 2, 4, 4, 4, 2, 4, 2, 4, 2, 2, 4, 2, 2, 2, 2,\n",
       "       2, 2, 2, 4, 2, 2, 4, 2, 4, 2, 2, 4, 2, 2, 2, 2, 2, 4, 2, 2, 2, 2,\n",
       "       2, 2, 2, 4, 2, 2, 4, 2, 4, 2, 2, 4, 4, 2, 4, 4, 4, 2, 2, 4, 2, 2,\n",
       "       4, 2, 2, 2, 2, 2, 2, 4, 2, 2, 2, 2, 4, 2, 4, 4, 2, 2, 2, 4, 2, 2,\n",
       "       2, 4, 2, 2, 2, 2, 2, 4, 2, 4, 4, 2, 4, 2, 2, 2, 4, 2, 2, 2, 2, 2,\n",
       "       4, 2, 2, 2, 4, 2, 2, 4, 2, 2, 2, 4, 4, 4, 2, 4, 2, 4, 2, 2, 2, 2,\n",
       "       2, 4, 4, 2, 4, 4, 2, 2, 2, 2, 4, 2, 2, 4, 2, 2, 2, 2, 2, 2, 4, 2,\n",
       "       2, 4, 2, 2, 2, 4, 2, 2, 2, 4, 2, 4, 2, 2, 2, 4, 2, 4, 2, 2, 2, 2,\n",
       "       2, 2, 2, 4, 2, 4, 2, 4, 4, 4, 2, 4, 2, 2, 2, 2, 2, 2, 2, 2, 4, 2,\n",
       "       4, 4, 2, 4, 4, 2, 2, 4, 2, 2, 2, 2, 4, 2, 2, 4, 4, 2, 2, 2, 2, 2,\n",
       "       4, 4, 2, 4, 2, 2, 2, 2, 2, 2, 4, 2, 4, 2, 2, 2, 2, 4, 2, 2, 2, 2,\n",
       "       2, 2, 2, 2, 2, 2, 4, 2, 2, 2, 2, 2, 2, 2, 2, 2, 2, 2, 2, 2, 2, 2,\n",
       "       2, 4, 2, 2, 2, 2, 4, 4, 2, 2, 2, 2, 2, 2, 2, 2, 4, 4, 2, 2, 2, 4,\n",
       "       4, 4, 4, 4, 2, 4, 2, 4, 2, 2, 4, 2, 4, 2, 2, 2, 2, 2, 4, 4, 4, 4,\n",
       "       2, 2, 4, 4, 2, 2, 2, 4, 4, 2, 2, 2, 4, 2, 2, 2, 2, 2, 4, 4, 2, 2,\n",
       "       4, 2, 2, 2, 4, 2, 2, 2, 4, 4, 2, 4, 2, 4, 2, 4, 4, 2, 2, 2, 4, 4,\n",
       "       2, 2, 4, 2, 2, 4, 2, 2, 4, 2, 4, 4, 2, 2, 2, 4, 2, 2, 4, 2, 2, 2,\n",
       "       4, 2, 4, 2, 2, 4, 4, 4, 4, 2, 4, 4, 2, 4, 4, 4, 2, 2, 4, 4, 2, 2,\n",
       "       4, 2, 4, 2, 2, 2, 2, 4, 2, 2, 2, 2, 2, 2, 2, 4, 2, 2, 2, 2, 2, 2,\n",
       "       4, 2, 4, 2, 2, 2, 2, 2, 2, 2, 4, 2, 2, 4, 2, 4, 4, 2, 2, 2, 2, 2,\n",
       "       2, 4, 4, 4, 2, 4, 4, 2, 4, 2, 2, 2, 2, 2, 4, 2, 2, 2, 4, 4, 4, 2,\n",
       "       2, 2, 2, 2, 4, 4, 2, 4, 4, 2, 4, 4, 2, 2, 4, 2, 4, 2, 2, 2, 2],\n",
       "      dtype=int64)"
      ]
     },
     "execution_count": 64,
     "metadata": {},
     "output_type": "execute_result"
    }
   ],
   "source": [
    "y_pred_train = reg.predict(X_train)\n",
    "y_pred_train"
   ]
  },
  {
   "cell_type": "code",
   "execution_count": 65,
   "metadata": {},
   "outputs": [
    {
     "data": {
      "text/plain": [
       "0.979296066252588"
      ]
     },
     "execution_count": 65,
     "metadata": {},
     "output_type": "execute_result"
    }
   ],
   "source": [
    "from sklearn.metrics import accuracy_score\n",
    "\n",
    "accuracy_score(y_pred_train, y_train)"
   ]
  },
  {
   "cell_type": "markdown",
   "metadata": {},
   "source": [
    "### It has given 97% accuracy on train data. So, there is neither underfit nor overfit."
   ]
  }
 ],
 "metadata": {
  "kernelspec": {
   "display_name": "Python 3",
   "language": "python",
   "name": "python3"
  },
  "language_info": {
   "codemirror_mode": {
    "name": "ipython",
    "version": 3
   },
   "file_extension": ".py",
   "mimetype": "text/x-python",
   "name": "python",
   "nbconvert_exporter": "python",
   "pygments_lexer": "ipython3",
   "version": "3.7.6"
  }
 },
 "nbformat": 4,
 "nbformat_minor": 4
}
