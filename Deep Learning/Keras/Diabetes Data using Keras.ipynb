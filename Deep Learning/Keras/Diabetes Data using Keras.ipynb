{
 "cells": [
  {
   "cell_type": "markdown",
   "metadata": {},
   "source": [
    "### For Each Attribute: (all numeric-valued)\n",
    "\n",
    "1. Number of times pregnant\n",
    "\n",
    "2. Plasma glucose concentration a 2 hours in an oral glucose tolerance test\n",
    "\n",
    "3. Diastolic blood pressure (mm Hg)\n",
    "\n",
    "4. Triceps skin fold thickness (mm)\n",
    "\n",
    "5. 2-Hour serum insulin (mu U/ml)\n",
    "\n",
    "6. Body mass index (weight in kg/(height in m)^2)\n",
    "\n",
    "7. Diabetes pedigree function\n",
    "\n",
    "8. Age (years)\n",
    "\n",
    "9. Class variable (0 or 1)"
   ]
  },
  {
   "cell_type": "markdown",
   "metadata": {},
   "source": [
    "## Importing Libraries"
   ]
  },
  {
   "cell_type": "code",
   "execution_count": 1,
   "metadata": {},
   "outputs": [],
   "source": [
    "import pandas as pd\n",
    "import numpy as np\n",
    "import matplotlib.pyplot as plt\n",
    "import seaborn as sns\n",
    "%matplotlib inline"
   ]
  },
  {
   "cell_type": "markdown",
   "metadata": {},
   "source": [
    "## Reading the Data"
   ]
  },
  {
   "cell_type": "code",
   "execution_count": 2,
   "metadata": {},
   "outputs": [
    {
     "data": {
      "text/html": [
       "<div>\n",
       "<style scoped>\n",
       "    .dataframe tbody tr th:only-of-type {\n",
       "        vertical-align: middle;\n",
       "    }\n",
       "\n",
       "    .dataframe tbody tr th {\n",
       "        vertical-align: top;\n",
       "    }\n",
       "\n",
       "    .dataframe thead th {\n",
       "        text-align: right;\n",
       "    }\n",
       "</style>\n",
       "<table border=\"1\" class=\"dataframe\">\n",
       "  <thead>\n",
       "    <tr style=\"text-align: right;\">\n",
       "      <th></th>\n",
       "      <th>0</th>\n",
       "      <th>1</th>\n",
       "      <th>2</th>\n",
       "      <th>3</th>\n",
       "      <th>4</th>\n",
       "      <th>5</th>\n",
       "      <th>6</th>\n",
       "      <th>7</th>\n",
       "      <th>8</th>\n",
       "    </tr>\n",
       "  </thead>\n",
       "  <tbody>\n",
       "    <tr>\n",
       "      <th>0</th>\n",
       "      <td>6</td>\n",
       "      <td>148</td>\n",
       "      <td>72</td>\n",
       "      <td>35</td>\n",
       "      <td>0</td>\n",
       "      <td>33.6</td>\n",
       "      <td>0.627</td>\n",
       "      <td>50</td>\n",
       "      <td>1</td>\n",
       "    </tr>\n",
       "    <tr>\n",
       "      <th>1</th>\n",
       "      <td>1</td>\n",
       "      <td>85</td>\n",
       "      <td>66</td>\n",
       "      <td>29</td>\n",
       "      <td>0</td>\n",
       "      <td>26.6</td>\n",
       "      <td>0.351</td>\n",
       "      <td>31</td>\n",
       "      <td>0</td>\n",
       "    </tr>\n",
       "    <tr>\n",
       "      <th>2</th>\n",
       "      <td>8</td>\n",
       "      <td>183</td>\n",
       "      <td>64</td>\n",
       "      <td>0</td>\n",
       "      <td>0</td>\n",
       "      <td>23.3</td>\n",
       "      <td>0.672</td>\n",
       "      <td>32</td>\n",
       "      <td>1</td>\n",
       "    </tr>\n",
       "    <tr>\n",
       "      <th>3</th>\n",
       "      <td>1</td>\n",
       "      <td>89</td>\n",
       "      <td>66</td>\n",
       "      <td>23</td>\n",
       "      <td>94</td>\n",
       "      <td>28.1</td>\n",
       "      <td>0.167</td>\n",
       "      <td>21</td>\n",
       "      <td>0</td>\n",
       "    </tr>\n",
       "    <tr>\n",
       "      <th>4</th>\n",
       "      <td>0</td>\n",
       "      <td>137</td>\n",
       "      <td>40</td>\n",
       "      <td>35</td>\n",
       "      <td>168</td>\n",
       "      <td>43.1</td>\n",
       "      <td>2.288</td>\n",
       "      <td>33</td>\n",
       "      <td>1</td>\n",
       "    </tr>\n",
       "  </tbody>\n",
       "</table>\n",
       "</div>"
      ],
      "text/plain": [
       "   0    1   2   3    4     5      6   7  8\n",
       "0  6  148  72  35    0  33.6  0.627  50  1\n",
       "1  1   85  66  29    0  26.6  0.351  31  0\n",
       "2  8  183  64   0    0  23.3  0.672  32  1\n",
       "3  1   89  66  23   94  28.1  0.167  21  0\n",
       "4  0  137  40  35  168  43.1  2.288  33  1"
      ]
     },
     "execution_count": 2,
     "metadata": {},
     "output_type": "execute_result"
    }
   ],
   "source": [
    "df = pd.read_csv('Diabetes.csv', header = None)\n",
    "\n",
    "df.head()"
   ]
  },
  {
   "cell_type": "markdown",
   "metadata": {},
   "source": [
    "## Data Exploration"
   ]
  },
  {
   "cell_type": "code",
   "execution_count": 3,
   "metadata": {},
   "outputs": [
    {
     "data": {
      "text/plain": [
       "0    0\n",
       "1    0\n",
       "2    0\n",
       "3    0\n",
       "4    0\n",
       "5    0\n",
       "6    0\n",
       "7    0\n",
       "8    0\n",
       "dtype: int64"
      ]
     },
     "execution_count": 3,
     "metadata": {},
     "output_type": "execute_result"
    }
   ],
   "source": [
    "## Checking Nulls\n",
    "\n",
    "df.isnull().sum()"
   ]
  },
  {
   "cell_type": "code",
   "execution_count": 4,
   "metadata": {},
   "outputs": [
    {
     "data": {
      "text/plain": [
       "0"
      ]
     },
     "execution_count": 4,
     "metadata": {},
     "output_type": "execute_result"
    }
   ],
   "source": [
    "## Checking Duplicate Values\n",
    "\n",
    "df.duplicated().sum()"
   ]
  },
  {
   "cell_type": "markdown",
   "metadata": {},
   "source": [
    "## Univariate Analysis"
   ]
  },
  {
   "cell_type": "markdown",
   "metadata": {},
   "source": [
    "### Countplot for Target"
   ]
  },
  {
   "cell_type": "code",
   "execution_count": 5,
   "metadata": {},
   "outputs": [
    {
     "data": {
      "text/plain": [
       "<matplotlib.axes._subplots.AxesSubplot at 0x2acca248088>"
      ]
     },
     "execution_count": 5,
     "metadata": {},
     "output_type": "execute_result"
    },
    {
     "data": {
      "image/png": "[encoded data removed]",
      "text/plain": [
       "<Figure size 432x288 with 1 Axes>"
      ]
     },
     "metadata": {
      "needs_background": "light"
     },
     "output_type": "display_data"
    }
   ],
   "source": [
    "sns.countplot(df[8])"
   ]
  },
  {
   "cell_type": "markdown",
   "metadata": {},
   "source": [
    "Class Imbalance"
   ]
  },
  {
   "cell_type": "markdown",
   "metadata": {},
   "source": [
    "### Distribution Plots"
   ]
  },
  {
   "cell_type": "code",
   "execution_count": 6,
   "metadata": {},
   "outputs": [
    {
     "name": "stdout",
     "output_type": "stream",
     "text": [
      "Feature:  0\n"
     ]
    },
    {
     "data": {
      "image/png": "[encoded data removed]",
      "text/plain": [
       "<Figure size 432x288 with 1 Axes>"
      ]
     },
     "metadata": {
      "needs_background": "light"
     },
     "output_type": "display_data"
    },
    {
     "name": "stdout",
     "output_type": "stream",
     "text": [
      "*****************************************************************************************************************************\n",
      "Feature:  1\n"
     ]
    },
    {
     "data": {
      "image/png": "[encoded data removed]",
      "text/plain": [
       "<Figure size 432x288 with 1 Axes>"
      ]
     },
     "metadata": {
      "needs_background": "light"
     },
     "output_type": "display_data"
    },
    {
     "name": "stdout",
     "output_type": "stream",
     "text": [
      "*****************************************************************************************************************************\n",
      "Feature:  2\n"
     ]
    },
    {
     "data": {
      "image/png": "[encoded data removed]",
      "text/plain": [
       "<Figure size 432x288 with 1 Axes>"
      ]
     },
     "metadata": {
      "needs_background": "light"
     },
     "output_type": "display_data"
    },
    {
     "name": "stdout",
     "output_type": "stream",
     "text": [
      "*****************************************************************************************************************************\n",
      "Feature:  3\n"
     ]
    },
    {
     "data": {
      "image/png": "[encoded data removed]",
      "text/plain": [
       "<Figure size 432x288 with 1 Axes>"
      ]
     },
     "metadata": {
      "needs_background": "light"
     },
     "output_type": "display_data"
    },
    {
     "name": "stdout",
     "output_type": "stream",
     "text": [
      "*****************************************************************************************************************************\n",
      "Feature:  4\n"
     ]
    },
    {
     "data": {
      "image/png": "[encoded data removed]",
      "text/plain": [
       "<Figure size 432x288 with 1 Axes>"
      ]
     },
     "metadata": {
      "needs_background": "light"
     },
     "output_type": "display_data"
    },
    {
     "name": "stdout",
     "output_type": "stream",
     "text": [
      "*****************************************************************************************************************************\n",
      "Feature:  5\n"
     ]
    },
    {
     "data": {
      "image/png": "[encoded data removed]",
      "text/plain": [
       "<Figure size 432x288 with 1 Axes>"
      ]
     },
     "metadata": {
      "needs_background": "light"
     },
     "output_type": "display_data"
    },
    {
     "name": "stdout",
     "output_type": "stream",
     "text": [
      "*****************************************************************************************************************************\n",
      "Feature:  6\n"
     ]
    },
    {
     "data": {
      "image/png": "[encoded data removed]",
      "text/plain": [
       "<Figure size 432x288 with 1 Axes>"
      ]
     },
     "metadata": {
      "needs_background": "light"
     },
     "output_type": "display_data"
    },
    {
     "name": "stdout",
     "output_type": "stream",
     "text": [
      "*****************************************************************************************************************************\n",
      "Feature:  7\n"
     ]
    },
    {
     "data": {
      "image/png": "[encoded data removed]",
      "text/plain": [
       "<Figure size 432x288 with 1 Axes>"
      ]
     },
     "metadata": {
      "needs_background": "light"
     },
     "output_type": "display_data"
    },
    {
     "name": "stdout",
     "output_type": "stream",
     "text": [
      "*****************************************************************************************************************************\n"
     ]
    }
   ],
   "source": [
    "for col in df.iloc[:, :-1].columns:\n",
    "    print(\"Feature: \", col)\n",
    "    sns.distplot(df[col])\n",
    "    plt.show()\n",
    "    print(\"*\"*125)"
   ]
  },
  {
   "cell_type": "markdown",
   "metadata": {},
   "source": [
    "### Boxplots"
   ]
  },
  {
   "cell_type": "code",
   "execution_count": 7,
   "metadata": {},
   "outputs": [
    {
     "name": "stdout",
     "output_type": "stream",
     "text": [
      "Feature:  0\n"
     ]
    },
    {
     "data": {
      "image/png": "[encoded data removed]",
      "text/plain": [
       "<Figure size 432x288 with 1 Axes>"
      ]
     },
     "metadata": {
      "needs_background": "light"
     },
     "output_type": "display_data"
    },
    {
     "name": "stdout",
     "output_type": "stream",
     "text": [
      "*****************************************************************************************************************************\n",
      "Feature:  1\n"
     ]
    },
    {
     "data": {
      "image/png": "[encoded data removed]",
      "text/plain": [
       "<Figure size 432x288 with 1 Axes>"
      ]
     },
     "metadata": {
      "needs_background": "light"
     },
     "output_type": "display_data"
    },
    {
     "name": "stdout",
     "output_type": "stream",
     "text": [
      "*****************************************************************************************************************************\n",
      "Feature:  2\n"
     ]
    },
    {
     "data": {
      "image/png": "[encoded data removed]",
      "text/plain": [
       "<Figure size 432x288 with 1 Axes>"
      ]
     },
     "metadata": {
      "needs_background": "light"
     },
     "output_type": "display_data"
    },
    {
     "name": "stdout",
     "output_type": "stream",
     "text": [
      "*****************************************************************************************************************************\n",
      "Feature:  3\n"
     ]
    },
    {
     "data": {
      "image/png": "[encoded data removed]",
      "text/plain": [
       "<Figure size 432x288 with 1 Axes>"
      ]
     },
     "metadata": {
      "needs_background": "light"
     },
     "output_type": "display_data"
    },
    {
     "name": "stdout",
     "output_type": "stream",
     "text": [
      "*****************************************************************************************************************************\n",
      "Feature:  4\n"
     ]
    },
    {
     "data": {
      "image/png": "[encoded data removed]",
      "text/plain": [
       "<Figure size 432x288 with 1 Axes>"
      ]
     },
     "metadata": {
      "needs_background": "light"
     },
     "output_type": "display_data"
    },
    {
     "name": "stdout",
     "output_type": "stream",
     "text": [
      "*****************************************************************************************************************************\n",
      "Feature:  5\n"
     ]
    },
    {
     "data": {
      "image/png": "[encoded data removed]",
      "text/plain": [
       "<Figure size 432x288 with 1 Axes>"
      ]
     },
     "metadata": {
      "needs_background": "light"
     },
     "output_type": "display_data"
    },
    {
     "name": "stdout",
     "output_type": "stream",
     "text": [
      "*****************************************************************************************************************************\n",
      "Feature:  6\n"
     ]
    },
    {
     "data": {
      "image/png": "[encoded data removed]",
      "text/plain": [
       "<Figure size 432x288 with 1 Axes>"
      ]
     },
     "metadata": {
      "needs_background": "light"
     },
     "output_type": "display_data"
    },
    {
     "name": "stdout",
     "output_type": "stream",
     "text": [
      "*****************************************************************************************************************************\n",
      "Feature:  7\n"
     ]
    },
    {
     "data": {
      "image/png": "[encoded data removed]",
      "text/plain": [
       "<Figure size 432x288 with 1 Axes>"
      ]
     },
     "metadata": {
      "needs_background": "light"
     },
     "output_type": "display_data"
    },
    {
     "name": "stdout",
     "output_type": "stream",
     "text": [
      "*****************************************************************************************************************************\n"
     ]
    }
   ],
   "source": [
    "for col in df.iloc[:, :-1].columns:\n",
    "    print(\"Feature: \", col)\n",
    "    sns.boxplot(df[col])\n",
    "    plt.show()\n",
    "    print(\"*\"*125)"
   ]
  },
  {
   "cell_type": "markdown",
   "metadata": {},
   "source": [
    "### Outlier Treatment"
   ]
  },
  {
   "cell_type": "code",
   "execution_count": 8,
   "metadata": {},
   "outputs": [
    {
     "name": "stdout",
     "output_type": "stream",
     "text": [
      "feature:  0 \n",
      "q1: 1.0 \n",
      "q3:  6.0 \n",
      "iqr:  5.0 \n",
      "lower_fence:  -6.5 \n",
      "upper_fence:  13.5 \n",
      "\n",
      "Total number of rows with outliers that have been treated:  4\n"
     ]
    },
    {
     "data": {
      "image/png": "[encoded data removed]",
      "text/plain": [
       "<Figure size 720x360 with 1 Axes>"
      ]
     },
     "metadata": {
      "needs_background": "light"
     },
     "output_type": "display_data"
    },
    {
     "name": "stdout",
     "output_type": "stream",
     "text": [
      "**************************************************************************************************** \n",
      "\n",
      "\n",
      "feature:  1 \n",
      "q1: 99.0 \n",
      "q3:  140.25 \n",
      "iqr:  41.25 \n",
      "lower_fence:  37.125 \n",
      "upper_fence:  202.125 \n",
      "\n",
      "Total number of rows with outliers that have been treated:  5\n"
     ]
    },
    {
     "data": {
      "image/png": "[encoded data removed]",
      "text/plain": [
       "<Figure size 720x360 with 1 Axes>"
      ]
     },
     "metadata": {
      "needs_background": "light"
     },
     "output_type": "display_data"
    },
    {
     "name": "stdout",
     "output_type": "stream",
     "text": [
      "**************************************************************************************************** \n",
      "\n",
      "\n",
      "feature:  2 \n",
      "q1: 62.0 \n",
      "q3:  80.0 \n",
      "iqr:  18.0 \n",
      "lower_fence:  35.0 \n",
      "upper_fence:  107.0 \n",
      "\n",
      "Total number of rows with outliers that have been treated:  45\n"
     ]
    },
    {
     "data": {
      "image/png": "[encoded data removed]",
      "text/plain": [
       "<Figure size 720x360 with 1 Axes>"
      ]
     },
     "metadata": {
      "needs_background": "light"
     },
     "output_type": "display_data"
    },
    {
     "name": "stdout",
     "output_type": "stream",
     "text": [
      "**************************************************************************************************** \n",
      "\n",
      "\n",
      "feature:  3 \n",
      "q1: 0.0 \n",
      "q3:  32.0 \n",
      "iqr:  32.0 \n",
      "lower_fence:  -48.0 \n",
      "upper_fence:  80.0 \n",
      "\n",
      "Total number of rows with outliers that have been treated:  1\n"
     ]
    },
    {
     "data": {
      "image/png": "[encoded data removed]",
      "text/plain": [
       "<Figure size 720x360 with 1 Axes>"
      ]
     },
     "metadata": {
      "needs_background": "light"
     },
     "output_type": "display_data"
    },
    {
     "name": "stdout",
     "output_type": "stream",
     "text": [
      "**************************************************************************************************** \n",
      "\n",
      "\n",
      "feature:  4 \n",
      "q1: 0.0 \n",
      "q3:  127.25 \n",
      "iqr:  127.25 \n",
      "lower_fence:  -190.875 \n",
      "upper_fence:  318.125 \n",
      "\n",
      "Total number of rows with outliers that have been treated:  34\n"
     ]
    },
    {
     "data": {
      "image/png": "[encoded data removed]",
      "text/plain": [
       "<Figure size 720x360 with 1 Axes>"
      ]
     },
     "metadata": {
      "needs_background": "light"
     },
     "output_type": "display_data"
    },
    {
     "name": "stdout",
     "output_type": "stream",
     "text": [
      "**************************************************************************************************** \n",
      "\n",
      "\n",
      "feature:  5 \n",
      "q1: 27.3 \n",
      "q3:  36.6 \n",
      "iqr:  9.3 \n",
      "lower_fence:  13.35 \n",
      "upper_fence:  50.550000000000004 \n",
      "\n",
      "Total number of rows with outliers that have been treated:  19\n"
     ]
    },
    {
     "data": {
      "image/png": "[encoded data removed]",
      "text/plain": [
       "<Figure size 720x360 with 1 Axes>"
      ]
     },
     "metadata": {
      "needs_background": "light"
     },
     "output_type": "display_data"
    },
    {
     "name": "stdout",
     "output_type": "stream",
     "text": [
      "**************************************************************************************************** \n",
      "\n",
      "\n",
      "feature:  6 \n",
      "q1: 0.24375 \n",
      "q3:  0.62625 \n",
      "iqr:  0.38249999999999995 \n",
      "lower_fence:  -0.32999999999999996 \n",
      "upper_fence:  1.2 \n",
      "\n",
      "Total number of rows with outliers that have been treated:  29\n"
     ]
    },
    {
     "data": {
      "image/png": "[encoded data removed]",
      "text/plain": [
       "<Figure size 720x360 with 1 Axes>"
      ]
     },
     "metadata": {
      "needs_background": "light"
     },
     "output_type": "display_data"
    },
    {
     "name": "stdout",
     "output_type": "stream",
     "text": [
      "**************************************************************************************************** \n",
      "\n",
      "\n",
      "feature:  7 \n",
      "q1: 24.0 \n",
      "q3:  41.0 \n",
      "iqr:  17.0 \n",
      "lower_fence:  -1.5 \n",
      "upper_fence:  66.5 \n",
      "\n",
      "Total number of rows with outliers that have been treated:  9\n"
     ]
    },
    {
     "data": {
      "image/png": "[encoded data removed]",
      "text/plain": [
       "<Figure size 720x360 with 1 Axes>"
      ]
     },
     "metadata": {
      "needs_background": "light"
     },
     "output_type": "display_data"
    },
    {
     "name": "stdout",
     "output_type": "stream",
     "text": [
      "**************************************************************************************************** \n",
      "\n",
      "\n"
     ]
    }
   ],
   "source": [
    "for col in df.iloc[:,:-1].columns:\n",
    "    if df[col].dtype != object:\n",
    "        \n",
    "        ## Finding Interquartile range and printing its values        \n",
    "        q1, q3 = np.percentile(df[col], [25,75])\n",
    "        iqr = q3-q1\n",
    "        lower_fence = q1-(1.5 * iqr)\n",
    "        upper_fence = q3+(1.5 * iqr)\n",
    "        \n",
    "        \n",
    "        \n",
    "        ### Printing the range of optimal values\n",
    "        print(\"feature: \", col, '\\nq1:', q1,'\\nq3: ', q3, '\\niqr: ', iqr, '\\nlower_fence: ', lower_fence, '\\nupper_fence: ', upper_fence, '\\n')\n",
    "        \n",
    "        \n",
    "        ## Printing the total number of rows with outliers\n",
    "        a = len(df[df[col] > upper_fence])\n",
    "        b = len(df[df[col] < lower_fence])\n",
    "        print(\"Total number of rows with outliers that have been treated: \", (a+b))\n",
    "        \n",
    "        \n",
    "        ### Replacing the values above upper fence and lower fence i.e. outliers with optimal range \n",
    "        df[col] = df[col].apply(lambda x: upper_fence if x > upper_fence else lower_fence if x< lower_fence else x)\n",
    "        \n",
    "    \n",
    "        ### Creating boxplots to ensure that there are no outliers\n",
    "        fig = plt.figure(figsize =(10,5))\n",
    "        sns.boxplot(x = df[col], data= df, color='orange', orient='h')\n",
    "        plt.show()\n",
    "        print('*'*100, '\\n'*2)"
   ]
  },
  {
   "cell_type": "markdown",
   "metadata": {},
   "source": [
    "## Bivariate Analysis"
   ]
  },
  {
   "cell_type": "markdown",
   "metadata": {},
   "source": [
    "### Barcharts"
   ]
  },
  {
   "cell_type": "code",
   "execution_count": 9,
   "metadata": {},
   "outputs": [
    {
     "name": "stdout",
     "output_type": "stream",
     "text": [
      "Relationship of Target with:  0\n"
     ]
    },
    {
     "data": {
      "image/png": "[encoded data removed]",
      "text/plain": [
       "<Figure size 432x288 with 1 Axes>"
      ]
     },
     "metadata": {
      "needs_background": "light"
     },
     "output_type": "display_data"
    },
    {
     "name": "stdout",
     "output_type": "stream",
     "text": [
      "*****************************************************************************************************************************\n",
      "Relationship of Target with:  1\n"
     ]
    },
    {
     "data": {
      "image/png": "[encoded data removed]",
      "text/plain": [
       "<Figure size 432x288 with 1 Axes>"
      ]
     },
     "metadata": {
      "needs_background": "light"
     },
     "output_type": "display_data"
    },
    {
     "name": "stdout",
     "output_type": "stream",
     "text": [
      "*****************************************************************************************************************************\n",
      "Relationship of Target with:  2\n"
     ]
    },
    {
     "data": {
      "image/png": "[encoded data removed]",
      "text/plain": [
       "<Figure size 432x288 with 1 Axes>"
      ]
     },
     "metadata": {
      "needs_background": "light"
     },
     "output_type": "display_data"
    },
    {
     "name": "stdout",
     "output_type": "stream",
     "text": [
      "*****************************************************************************************************************************\n",
      "Relationship of Target with:  3\n"
     ]
    },
    {
     "data": {
      "image/png": "[encoded data removed]",
      "text/plain": [
       "<Figure size 432x288 with 1 Axes>"
      ]
     },
     "metadata": {
      "needs_background": "light"
     },
     "output_type": "display_data"
    },
    {
     "name": "stdout",
     "output_type": "stream",
     "text": [
      "*****************************************************************************************************************************\n",
      "Relationship of Target with:  4\n"
     ]
    },
    {
     "data": {
      "image/png": "[encoded data removed]",
      "text/plain": [
       "<Figure size 432x288 with 1 Axes>"
      ]
     },
     "metadata": {
      "needs_background": "light"
     },
     "output_type": "display_data"
    },
    {
     "name": "stdout",
     "output_type": "stream",
     "text": [
      "*****************************************************************************************************************************\n",
      "Relationship of Target with:  5\n"
     ]
    },
    {
     "data": {
      "image/png": "[encoded data removed]",
      "text/plain": [
       "<Figure size 432x288 with 1 Axes>"
      ]
     },
     "metadata": {
      "needs_background": "light"
     },
     "output_type": "display_data"
    },
    {
     "name": "stdout",
     "output_type": "stream",
     "text": [
      "*****************************************************************************************************************************\n",
      "Relationship of Target with:  6\n"
     ]
    },
    {
     "data": {
      "image/png": "[encoded data removed]",
      "text/plain": [
       "<Figure size 432x288 with 1 Axes>"
      ]
     },
     "metadata": {
      "needs_background": "light"
     },
     "output_type": "display_data"
    },
    {
     "name": "stdout",
     "output_type": "stream",
     "text": [
      "*****************************************************************************************************************************\n",
      "Relationship of Target with:  7\n"
     ]
    },
    {
     "data": {
      "image/png": "[encoded data removed]",
      "text/plain": [
       "<Figure size 432x288 with 1 Axes>"
      ]
     },
     "metadata": {
      "needs_background": "light"
     },
     "output_type": "display_data"
    },
    {
     "name": "stdout",
     "output_type": "stream",
     "text": [
      "*****************************************************************************************************************************\n",
      "Relationship of Target with:  8\n"
     ]
    },
    {
     "data": {
      "image/png": "[encoded data removed]",
      "text/plain": [
       "<Figure size 432x288 with 1 Axes>"
      ]
     },
     "metadata": {
      "needs_background": "light"
     },
     "output_type": "display_data"
    },
    {
     "name": "stdout",
     "output_type": "stream",
     "text": [
      "*****************************************************************************************************************************\n"
     ]
    }
   ],
   "source": [
    "for col in df.columns:\n",
    "    print(\"Relationship of Target with: \", col)\n",
    "    sns.barplot(x = df[8], y = df[col])\n",
    "    plt.show()\n",
    "    print(\"*\"*125)"
   ]
  },
  {
   "cell_type": "markdown",
   "metadata": {},
   "source": [
    "### Checking Correlation with Target"
   ]
  },
  {
   "cell_type": "code",
   "execution_count": 10,
   "metadata": {},
   "outputs": [
    {
     "data": {
      "text/html": [
       "<div>\n",
       "<style scoped>\n",
       "    .dataframe tbody tr th:only-of-type {\n",
       "        vertical-align: middle;\n",
       "    }\n",
       "\n",
       "    .dataframe tbody tr th {\n",
       "        vertical-align: top;\n",
       "    }\n",
       "\n",
       "    .dataframe thead th {\n",
       "        text-align: right;\n",
       "    }\n",
       "</style>\n",
       "<table border=\"1\" class=\"dataframe\">\n",
       "  <thead>\n",
       "    <tr style=\"text-align: right;\">\n",
       "      <th></th>\n",
       "      <th>0</th>\n",
       "      <th>1</th>\n",
       "      <th>2</th>\n",
       "      <th>3</th>\n",
       "      <th>4</th>\n",
       "      <th>5</th>\n",
       "      <th>6</th>\n",
       "      <th>7</th>\n",
       "      <th>8</th>\n",
       "    </tr>\n",
       "  </thead>\n",
       "  <tbody>\n",
       "    <tr>\n",
       "      <th>0</th>\n",
       "      <td>1.000000</td>\n",
       "      <td>0.128987</td>\n",
       "      <td>0.184307</td>\n",
       "      <td>-0.084349</td>\n",
       "      <td>-0.077793</td>\n",
       "      <td>0.024681</td>\n",
       "      <td>-0.017398</td>\n",
       "      <td>0.549695</td>\n",
       "      <td>0.220392</td>\n",
       "    </tr>\n",
       "    <tr>\n",
       "      <th>1</th>\n",
       "      <td>0.128987</td>\n",
       "      <td>1.000000</td>\n",
       "      <td>0.197865</td>\n",
       "      <td>0.059806</td>\n",
       "      <td>0.315856</td>\n",
       "      <td>0.235542</td>\n",
       "      <td>0.120213</td>\n",
       "      <td>0.269056</td>\n",
       "      <td>0.479158</td>\n",
       "    </tr>\n",
       "    <tr>\n",
       "      <th>2</th>\n",
       "      <td>0.184307</td>\n",
       "      <td>0.197865</td>\n",
       "      <td>1.000000</td>\n",
       "      <td>0.152644</td>\n",
       "      <td>0.050080</td>\n",
       "      <td>0.282544</td>\n",
       "      <td>0.038793</td>\n",
       "      <td>0.304208</td>\n",
       "      <td>0.113301</td>\n",
       "    </tr>\n",
       "    <tr>\n",
       "      <th>3</th>\n",
       "      <td>-0.084349</td>\n",
       "      <td>0.059806</td>\n",
       "      <td>0.152644</td>\n",
       "      <td>1.000000</td>\n",
       "      <td>0.488101</td>\n",
       "      <td>0.401494</td>\n",
       "      <td>0.177920</td>\n",
       "      <td>-0.119170</td>\n",
       "      <td>0.073125</td>\n",
       "    </tr>\n",
       "    <tr>\n",
       "      <th>4</th>\n",
       "      <td>-0.077793</td>\n",
       "      <td>0.315856</td>\n",
       "      <td>0.050080</td>\n",
       "      <td>0.488101</td>\n",
       "      <td>1.000000</td>\n",
       "      <td>0.209665</td>\n",
       "      <td>0.190087</td>\n",
       "      <td>-0.065547</td>\n",
       "      <td>0.124721</td>\n",
       "    </tr>\n",
       "    <tr>\n",
       "      <th>5</th>\n",
       "      <td>0.024681</td>\n",
       "      <td>0.235542</td>\n",
       "      <td>0.282544</td>\n",
       "      <td>0.401494</td>\n",
       "      <td>0.209665</td>\n",
       "      <td>1.000000</td>\n",
       "      <td>0.141087</td>\n",
       "      <td>0.043375</td>\n",
       "      <td>0.309739</td>\n",
       "    </tr>\n",
       "    <tr>\n",
       "      <th>6</th>\n",
       "      <td>-0.017398</td>\n",
       "      <td>0.120213</td>\n",
       "      <td>0.038793</td>\n",
       "      <td>0.177920</td>\n",
       "      <td>0.190087</td>\n",
       "      <td>0.141087</td>\n",
       "      <td>1.000000</td>\n",
       "      <td>0.047289</td>\n",
       "      <td>0.184969</td>\n",
       "    </tr>\n",
       "    <tr>\n",
       "      <th>7</th>\n",
       "      <td>0.549695</td>\n",
       "      <td>0.269056</td>\n",
       "      <td>0.304208</td>\n",
       "      <td>-0.119170</td>\n",
       "      <td>-0.065547</td>\n",
       "      <td>0.043375</td>\n",
       "      <td>0.047289</td>\n",
       "      <td>1.000000</td>\n",
       "      <td>0.242702</td>\n",
       "    </tr>\n",
       "    <tr>\n",
       "      <th>8</th>\n",
       "      <td>0.220392</td>\n",
       "      <td>0.479158</td>\n",
       "      <td>0.113301</td>\n",
       "      <td>0.073125</td>\n",
       "      <td>0.124721</td>\n",
       "      <td>0.309739</td>\n",
       "      <td>0.184969</td>\n",
       "      <td>0.242702</td>\n",
       "      <td>1.000000</td>\n",
       "    </tr>\n",
       "  </tbody>\n",
       "</table>\n",
       "</div>"
      ],
      "text/plain": [
       "          0         1         2         3         4         5         6  \\\n",
       "0  1.000000  0.128987  0.184307 -0.084349 -0.077793  0.024681 -0.017398   \n",
       "1  0.128987  1.000000  0.197865  0.059806  0.315856  0.235542  0.120213   \n",
       "2  0.184307  0.197865  1.000000  0.152644  0.050080  0.282544  0.038793   \n",
       "3 -0.084349  0.059806  0.152644  1.000000  0.488101  0.401494  0.177920   \n",
       "4 -0.077793  0.315856  0.050080  0.488101  1.000000  0.209665  0.190087   \n",
       "5  0.024681  0.235542  0.282544  0.401494  0.209665  1.000000  0.141087   \n",
       "6 -0.017398  0.120213  0.038793  0.177920  0.190087  0.141087  1.000000   \n",
       "7  0.549695  0.269056  0.304208 -0.119170 -0.065547  0.043375  0.047289   \n",
       "8  0.220392  0.479158  0.113301  0.073125  0.124721  0.309739  0.184969   \n",
       "\n",
       "          7         8  \n",
       "0  0.549695  0.220392  \n",
       "1  0.269056  0.479158  \n",
       "2  0.304208  0.113301  \n",
       "3 -0.119170  0.073125  \n",
       "4 -0.065547  0.124721  \n",
       "5  0.043375  0.309739  \n",
       "6  0.047289  0.184969  \n",
       "7  1.000000  0.242702  \n",
       "8  0.242702  1.000000  "
      ]
     },
     "execution_count": 10,
     "metadata": {},
     "output_type": "execute_result"
    }
   ],
   "source": [
    "df.corr()"
   ]
  },
  {
   "cell_type": "markdown",
   "metadata": {},
   "source": [
    "All the features have low correlation with target and with each other also"
   ]
  },
  {
   "cell_type": "markdown",
   "metadata": {},
   "source": [
    "### Scatter plots of various Features"
   ]
  },
  {
   "cell_type": "code",
   "execution_count": 11,
   "metadata": {},
   "outputs": [
    {
     "data": {
      "text/plain": [
       "<matplotlib.collections.PathCollection at 0x2accfd7e108>"
      ]
     },
     "execution_count": 11,
     "metadata": {},
     "output_type": "execute_result"
    },
    {
     "data": {
      "image/png": "[encoded data removed]",
      "text/plain": [
       "<Figure size 432x288 with 1 Axes>"
      ]
     },
     "metadata": {
      "needs_background": "light"
     },
     "output_type": "display_data"
    }
   ],
   "source": [
    "# bmi and age\n",
    "\n",
    "plt.scatter(x = df[5],y = df[7])"
   ]
  },
  {
   "cell_type": "code",
   "execution_count": 12,
   "metadata": {},
   "outputs": [
    {
     "data": {
      "text/plain": [
       "<matplotlib.collections.PathCollection at 0x2accfc374c8>"
      ]
     },
     "execution_count": 12,
     "metadata": {},
     "output_type": "execute_result"
    },
    {
     "data": {
      "image/png": "[encoded data removed]",
      "text/plain": [
       "<Figure size 432x288 with 1 Axes>"
      ]
     },
     "metadata": {
      "needs_background": "light"
     },
     "output_type": "display_data"
    }
   ],
   "source": [
    "## bmi and diabetes\n",
    "\n",
    "plt.scatter(x = df[5],y = df[6])"
   ]
  },
  {
   "cell_type": "markdown",
   "metadata": {},
   "source": [
    "There is not a strong correlation"
   ]
  },
  {
   "cell_type": "markdown",
   "metadata": {},
   "source": [
    "## Preprocessing"
   ]
  },
  {
   "cell_type": "code",
   "execution_count": 13,
   "metadata": {},
   "outputs": [
    {
     "data": {
      "text/html": [
       "<div>\n",
       "<style scoped>\n",
       "    .dataframe tbody tr th:only-of-type {\n",
       "        vertical-align: middle;\n",
       "    }\n",
       "\n",
       "    .dataframe tbody tr th {\n",
       "        vertical-align: top;\n",
       "    }\n",
       "\n",
       "    .dataframe thead th {\n",
       "        text-align: right;\n",
       "    }\n",
       "</style>\n",
       "<table border=\"1\" class=\"dataframe\">\n",
       "  <thead>\n",
       "    <tr style=\"text-align: right;\">\n",
       "      <th></th>\n",
       "      <th>0</th>\n",
       "      <th>1</th>\n",
       "      <th>2</th>\n",
       "      <th>3</th>\n",
       "      <th>4</th>\n",
       "      <th>5</th>\n",
       "      <th>6</th>\n",
       "      <th>7</th>\n",
       "    </tr>\n",
       "  </thead>\n",
       "  <tbody>\n",
       "    <tr>\n",
       "      <th>0</th>\n",
       "      <td>6.0</td>\n",
       "      <td>148.0</td>\n",
       "      <td>72.0</td>\n",
       "      <td>35.0</td>\n",
       "      <td>0.0</td>\n",
       "      <td>33.6</td>\n",
       "      <td>0.627</td>\n",
       "      <td>50.0</td>\n",
       "    </tr>\n",
       "    <tr>\n",
       "      <th>1</th>\n",
       "      <td>1.0</td>\n",
       "      <td>85.0</td>\n",
       "      <td>66.0</td>\n",
       "      <td>29.0</td>\n",
       "      <td>0.0</td>\n",
       "      <td>26.6</td>\n",
       "      <td>0.351</td>\n",
       "      <td>31.0</td>\n",
       "    </tr>\n",
       "    <tr>\n",
       "      <th>2</th>\n",
       "      <td>8.0</td>\n",
       "      <td>183.0</td>\n",
       "      <td>64.0</td>\n",
       "      <td>0.0</td>\n",
       "      <td>0.0</td>\n",
       "      <td>23.3</td>\n",
       "      <td>0.672</td>\n",
       "      <td>32.0</td>\n",
       "    </tr>\n",
       "    <tr>\n",
       "      <th>3</th>\n",
       "      <td>1.0</td>\n",
       "      <td>89.0</td>\n",
       "      <td>66.0</td>\n",
       "      <td>23.0</td>\n",
       "      <td>94.0</td>\n",
       "      <td>28.1</td>\n",
       "      <td>0.167</td>\n",
       "      <td>21.0</td>\n",
       "    </tr>\n",
       "    <tr>\n",
       "      <th>4</th>\n",
       "      <td>0.0</td>\n",
       "      <td>137.0</td>\n",
       "      <td>40.0</td>\n",
       "      <td>35.0</td>\n",
       "      <td>168.0</td>\n",
       "      <td>43.1</td>\n",
       "      <td>1.200</td>\n",
       "      <td>33.0</td>\n",
       "    </tr>\n",
       "  </tbody>\n",
       "</table>\n",
       "</div>"
      ],
      "text/plain": [
       "     0      1     2     3      4     5      6     7\n",
       "0  6.0  148.0  72.0  35.0    0.0  33.6  0.627  50.0\n",
       "1  1.0   85.0  66.0  29.0    0.0  26.6  0.351  31.0\n",
       "2  8.0  183.0  64.0   0.0    0.0  23.3  0.672  32.0\n",
       "3  1.0   89.0  66.0  23.0   94.0  28.1  0.167  21.0\n",
       "4  0.0  137.0  40.0  35.0  168.0  43.1  1.200  33.0"
      ]
     },
     "metadata": {},
     "output_type": "display_data"
    },
    {
     "data": {
      "text/plain": [
       "0    1\n",
       "1    0\n",
       "2    1\n",
       "3    0\n",
       "4    1\n",
       "Name: 8, dtype: int64"
      ]
     },
     "metadata": {},
     "output_type": "display_data"
    }
   ],
   "source": [
    "## Separating Features and Target\n",
    "\n",
    "X = df.drop(8, 1)\n",
    "y = df[8]\n",
    "\n",
    "display(X.head(),\n",
    "       y.head())"
   ]
  },
  {
   "cell_type": "code",
   "execution_count": 15,
   "metadata": {},
   "outputs": [
    {
     "data": {
      "text/plain": [
       "array([[  6.   , 148.   ,  72.   , ...,  33.6  ,   0.627,  50.   ],\n",
       "       [  1.   ,  85.   ,  66.   , ...,  26.6  ,   0.351,  31.   ],\n",
       "       [  8.   , 183.   ,  64.   , ...,  23.3  ,   0.672,  32.   ],\n",
       "       ...,\n",
       "       [  5.   , 121.   ,  72.   , ...,  26.2  ,   0.245,  30.   ],\n",
       "       [  1.   , 126.   ,  60.   , ...,  30.1  ,   0.349,  47.   ],\n",
       "       [  1.   ,  93.   ,  70.   , ...,  30.4  ,   0.315,  23.   ]])"
      ]
     },
     "metadata": {},
     "output_type": "display_data"
    },
    {
     "data": {
      "text/plain": [
       "array([1, 0, 1, 0, 1, 0, 1, 0, 1, 1, 0, 1, 0, 1, 1, 1, 1, 1, 0, 1, 0, 0,\n",
       "       1, 1, 1, 1, 1, 0, 0, 0, 0, 1, 0, 0, 0, 0, 0, 1, 1, 1, 0, 0, 0, 1,\n",
       "       0, 1, 0, 0, 1, 0, 0, 0, 0, 1, 0, 0, 1, 0, 0, 0, 0, 1, 0, 0, 1, 0,\n",
       "       1, 0, 0, 0, 1, 0, 1, 0, 0, 0, 0, 0, 1, 0, 0, 0, 0, 0, 1, 0, 0, 0,\n",
       "       1, 0, 0, 0, 0, 1, 0, 0, 0, 0, 0, 1, 1, 0, 0, 0, 0, 0, 0, 0, 0, 1,\n",
       "       1, 1, 0, 0, 1, 1, 1, 0, 0, 0, 1, 0, 0, 0, 1, 1, 0, 0, 1, 1, 1, 1,\n",
       "       1, 0, 0, 0, 0, 0, 0, 0, 0, 0, 0, 1, 0, 0, 0, 0, 0, 0, 0, 0, 1, 0,\n",
       "       1, 1, 0, 0, 0, 1, 0, 0, 0, 0, 1, 1, 0, 0, 0, 0, 1, 1, 0, 0, 0, 1,\n",
       "       0, 1, 0, 1, 0, 0, 0, 0, 0, 1, 1, 1, 1, 1, 0, 0, 1, 1, 0, 1, 0, 1,\n",
       "       1, 1, 0, 0, 0, 0, 0, 0, 1, 1, 0, 1, 0, 0, 0, 1, 1, 1, 1, 0, 1, 1,\n",
       "       1, 1, 0, 0, 0, 0, 0, 1, 0, 0, 1, 1, 0, 0, 0, 1, 1, 1, 1, 0, 0, 0,\n",
       "       1, 1, 0, 1, 0, 0, 0, 0, 0, 0, 0, 0, 1, 1, 0, 0, 0, 1, 0, 1, 0, 0,\n",
       "       1, 0, 1, 0, 0, 1, 1, 0, 0, 0, 0, 0, 1, 0, 0, 0, 1, 0, 0, 1, 1, 0,\n",
       "       0, 1, 0, 0, 0, 1, 1, 1, 0, 0, 1, 0, 1, 0, 1, 1, 0, 1, 0, 0, 1, 0,\n",
       "       1, 1, 0, 0, 1, 0, 1, 0, 0, 1, 0, 1, 0, 1, 1, 1, 0, 0, 1, 0, 1, 0,\n",
       "       0, 0, 1, 0, 0, 0, 0, 1, 1, 1, 0, 0, 0, 0, 0, 0, 0, 0, 0, 1, 0, 0,\n",
       "       0, 0, 0, 1, 1, 1, 0, 1, 1, 0, 0, 1, 0, 0, 1, 0, 0, 1, 1, 0, 0, 0,\n",
       "       0, 1, 0, 0, 1, 0, 0, 0, 0, 0, 0, 0, 1, 1, 1, 0, 0, 1, 0, 0, 1, 0,\n",
       "       0, 1, 0, 1, 1, 0, 1, 0, 1, 0, 1, 0, 1, 1, 0, 0, 0, 0, 1, 1, 0, 1,\n",
       "       0, 1, 0, 0, 0, 0, 1, 1, 0, 1, 0, 1, 0, 0, 0, 0, 0, 1, 0, 0, 0, 0,\n",
       "       1, 0, 0, 1, 1, 1, 0, 0, 1, 0, 0, 1, 0, 0, 0, 1, 0, 0, 1, 0, 0, 0,\n",
       "       0, 0, 0, 0, 0, 0, 1, 0, 0, 0, 0, 0, 0, 0, 1, 0, 0, 0, 1, 0, 0, 0,\n",
       "       1, 1, 0, 0, 0, 0, 0, 0, 0, 1, 0, 0, 0, 0, 1, 0, 0, 0, 1, 0, 0, 0,\n",
       "       1, 0, 0, 0, 1, 0, 0, 0, 0, 1, 1, 0, 0, 0, 0, 0, 0, 1, 0, 0, 0, 0,\n",
       "       0, 0, 0, 0, 0, 0, 0, 1, 0, 0, 0, 1, 1, 1, 1, 0, 0, 1, 1, 0, 0, 0,\n",
       "       0, 0, 0, 0, 0, 0, 0, 0, 0, 0, 1, 1, 0, 0, 0, 0, 0, 0, 0, 1, 0, 0,\n",
       "       0, 0, 0, 0, 0, 1, 0, 1, 1, 0, 0, 0, 1, 0, 1, 0, 1, 0, 1, 0, 1, 0,\n",
       "       0, 1, 0, 0, 1, 0, 0, 0, 0, 1, 1, 0, 1, 0, 0, 0, 0, 1, 1, 0, 1, 0,\n",
       "       0, 0, 1, 1, 0, 0, 0, 0, 0, 0, 0, 0, 0, 0, 1, 0, 0, 0, 0, 1, 0, 0,\n",
       "       1, 0, 0, 0, 1, 0, 0, 0, 1, 1, 1, 0, 0, 0, 0, 0, 0, 1, 0, 0, 0, 1,\n",
       "       0, 1, 1, 1, 1, 0, 1, 1, 0, 0, 0, 0, 0, 0, 0, 1, 1, 0, 1, 0, 0, 1,\n",
       "       0, 1, 0, 0, 0, 0, 0, 1, 0, 1, 0, 1, 0, 1, 1, 0, 0, 0, 0, 1, 1, 0,\n",
       "       0, 0, 1, 0, 1, 1, 0, 0, 1, 0, 0, 1, 1, 0, 0, 1, 0, 0, 1, 0, 0, 0,\n",
       "       0, 0, 0, 0, 1, 1, 1, 0, 0, 0, 0, 0, 0, 1, 1, 0, 0, 1, 0, 0, 1, 0,\n",
       "       1, 1, 1, 0, 0, 1, 1, 1, 0, 1, 0, 1, 0, 1, 0, 0, 0, 0, 1, 0],\n",
       "      dtype=int64)"
      ]
     },
     "metadata": {},
     "output_type": "display_data"
    }
   ],
   "source": [
    "## Converting target column to array\n",
    "\n",
    "X = X.to_numpy()\n",
    "y = y.to_numpy()\n",
    "\n",
    "display(X,y)"
   ]
  },
  {
   "cell_type": "code",
   "execution_count": 16,
   "metadata": {},
   "outputs": [],
   "source": [
    "## Splitting the data into train and test\n",
    "\n",
    "from sklearn.model_selection import train_test_split\n",
    "\n",
    "X_train, X_test, y_train, y_test = train_test_split(X, y, random_state=100, test_size =0.2)"
   ]
  },
  {
   "cell_type": "markdown",
   "metadata": {},
   "source": [
    "## Model Making"
   ]
  },
  {
   "cell_type": "code",
   "execution_count": 17,
   "metadata": {},
   "outputs": [],
   "source": [
    "from keras.models import Sequential\n",
    "\n",
    "from keras.layers import Dense"
   ]
  },
  {
   "cell_type": "code",
   "execution_count": 18,
   "metadata": {},
   "outputs": [],
   "source": [
    "model = Sequential()\n",
    "\n",
    "model.add(Dense(12, input_dim=8, activation='relu'))\n",
    "\n",
    "model.add(Dense(8, activation='relu'))\n",
    "\n",
    "model.add(Dense(1, activation='sigmoid'))"
   ]
  },
  {
   "cell_type": "code",
   "execution_count": 19,
   "metadata": {},
   "outputs": [],
   "source": [
    "model.compile(loss='binary_crossentropy', optimizer='adam', metrics=['accuracy'])"
   ]
  },
  {
   "cell_type": "code",
   "execution_count": 20,
   "metadata": {},
   "outputs": [
    {
     "name": "stdout",
     "output_type": "stream",
     "text": [
      "Epoch 1/150\n",
      "62/62 [==============================] - 0s 1ms/step - loss: 9.3626 - accuracy: 0.4756\n",
      "Epoch 2/150\n",
      "62/62 [==============================] - 0s 973us/step - loss: 1.8397 - accuracy: 0.6107\n",
      "Epoch 3/150\n",
      "62/62 [==============================] - 0s 1ms/step - loss: 1.2190 - accuracy: 0.5619\n",
      "Epoch 4/150\n",
      "62/62 [==============================] - 0s 2ms/step - loss: 0.9961 - accuracy: 0.6075\n",
      "Epoch 5/150\n",
      "62/62 [==============================] - 0s 1ms/step - loss: 0.8728 - accuracy: 0.6075\n",
      "Epoch 6/150\n",
      "62/62 [==============================] - 0s 1ms/step - loss: 0.7974 - accuracy: 0.6547\n",
      "Epoch 7/150\n",
      "62/62 [==============================] - 0s 1ms/step - loss: 0.7739 - accuracy: 0.6352\n",
      "Epoch 8/150\n",
      "62/62 [==============================] - 0s 1ms/step - loss: 0.7380 - accuracy: 0.6612\n",
      "Epoch 9/150\n",
      "62/62 [==============================] - 0s 1ms/step - loss: 0.7140 - accuracy: 0.6596\n",
      "Epoch 10/150\n",
      "62/62 [==============================] - 0s 1ms/step - loss: 0.6926 - accuracy: 0.6564\n",
      "Epoch 11/150\n",
      "62/62 [==============================] - 0s 1ms/step - loss: 0.6788 - accuracy: 0.6645\n",
      "Epoch 12/150\n",
      "62/62 [==============================] - 0s 1ms/step - loss: 0.6769 - accuracy: 0.6661\n",
      "Epoch 13/150\n",
      "62/62 [==============================] - 0s 1ms/step - loss: 0.6638 - accuracy: 0.6726\n",
      "Epoch 14/150\n",
      "62/62 [==============================] - 0s 1ms/step - loss: 0.6597 - accuracy: 0.7036\n",
      "Epoch 15/150\n",
      "62/62 [==============================] - 0s 1ms/step - loss: 0.6658 - accuracy: 0.6726\n",
      "Epoch 16/150\n",
      "62/62 [==============================] - 0s 1ms/step - loss: 0.6806 - accuracy: 0.6759\n",
      "Epoch 17/150\n",
      "62/62 [==============================] - 0s 1ms/step - loss: 0.6358 - accuracy: 0.6906\n",
      "Epoch 18/150\n",
      "62/62 [==============================] - 0s 1ms/step - loss: 0.6315 - accuracy: 0.6889\n",
      "Epoch 19/150\n",
      "62/62 [==============================] - 0s 1ms/step - loss: 0.6246 - accuracy: 0.6938\n",
      "Epoch 20/150\n",
      "62/62 [==============================] - 0s 1ms/step - loss: 0.6211 - accuracy: 0.6857\n",
      "Epoch 21/150\n",
      "62/62 [==============================] - 0s 2ms/step - loss: 0.6055 - accuracy: 0.6938\n",
      "Epoch 22/150\n",
      "62/62 [==============================] - 0s 1ms/step - loss: 0.6070 - accuracy: 0.7085\n",
      "Epoch 23/150\n",
      "62/62 [==============================] - 0s 1ms/step - loss: 0.6141 - accuracy: 0.6954\n",
      "Epoch 24/150\n",
      "62/62 [==============================] - 0s 1ms/step - loss: 0.6010 - accuracy: 0.7020\n",
      "Epoch 25/150\n",
      "62/62 [==============================] - 0s 1ms/step - loss: 0.5975 - accuracy: 0.7020\n",
      "Epoch 26/150\n",
      "62/62 [==============================] - 0s 1ms/step - loss: 0.5856 - accuracy: 0.7166\n",
      "Epoch 27/150\n",
      "62/62 [==============================] - 0s 1ms/step - loss: 0.5894 - accuracy: 0.6938\n",
      "Epoch 28/150\n",
      "62/62 [==============================] - 0s 1ms/step - loss: 0.5793 - accuracy: 0.7036\n",
      "Epoch 29/150\n",
      "62/62 [==============================] - 0s 1ms/step - loss: 0.5786 - accuracy: 0.6971\n",
      "Epoch 30/150\n",
      "62/62 [==============================] - 0s 1ms/step - loss: 0.6030 - accuracy: 0.6987\n",
      "Epoch 31/150\n",
      "62/62 [==============================] - 0s 1ms/step - loss: 0.5741 - accuracy: 0.7150\n",
      "Epoch 32/150\n",
      "62/62 [==============================] - 0s 1ms/step - loss: 0.5723 - accuracy: 0.7215\n",
      "Epoch 33/150\n",
      "62/62 [==============================] - 0s 1ms/step - loss: 0.5769 - accuracy: 0.7199\n",
      "Epoch 34/150\n",
      "62/62 [==============================] - 0s 2ms/step - loss: 0.5823 - accuracy: 0.7134\n",
      "Epoch 35/150\n",
      "62/62 [==============================] - 0s 2ms/step - loss: 0.5635 - accuracy: 0.7166\n",
      "Epoch 36/150\n",
      "62/62 [==============================] - 0s 1ms/step - loss: 0.5711 - accuracy: 0.7166\n",
      "Epoch 37/150\n",
      "62/62 [==============================] - 0s 1ms/step - loss: 0.5695 - accuracy: 0.7166\n",
      "Epoch 38/150\n",
      "62/62 [==============================] - 0s 2ms/step - loss: 0.5616 - accuracy: 0.7134\n",
      "Epoch 39/150\n",
      "62/62 [==============================] - 0s 1ms/step - loss: 0.5601 - accuracy: 0.7215\n",
      "Epoch 40/150\n",
      "62/62 [==============================] - 0s 969us/step - loss: 0.5690 - accuracy: 0.7248\n",
      "Epoch 41/150\n",
      "62/62 [==============================] - 0s 1ms/step - loss: 0.5662 - accuracy: 0.7329\n",
      "Epoch 42/150\n",
      "62/62 [==============================] - 0s 2ms/step - loss: 0.5578 - accuracy: 0.7199\n",
      "Epoch 43/150\n",
      "62/62 [==============================] - 0s 2ms/step - loss: 0.5773 - accuracy: 0.7231\n",
      "Epoch 44/150\n",
      "62/62 [==============================] - 0s 1ms/step - loss: 0.5507 - accuracy: 0.7199\n",
      "Epoch 45/150\n",
      "62/62 [==============================] - 0s 1ms/step - loss: 0.5535 - accuracy: 0.7248\n",
      "Epoch 46/150\n",
      "62/62 [==============================] - 0s 1ms/step - loss: 0.5469 - accuracy: 0.7117\n",
      "Epoch 47/150\n",
      "62/62 [==============================] - 0s 1ms/step - loss: 0.5610 - accuracy: 0.7199\n",
      "Epoch 48/150\n",
      "62/62 [==============================] - 0s 1ms/step - loss: 0.5390 - accuracy: 0.7345\n",
      "Epoch 49/150\n",
      "62/62 [==============================] - 0s 1ms/step - loss: 0.5611 - accuracy: 0.7215\n",
      "Epoch 50/150\n",
      "62/62 [==============================] - 0s 1ms/step - loss: 0.5458 - accuracy: 0.7182\n",
      "Epoch 51/150\n",
      "62/62 [==============================] - 0s 1ms/step - loss: 0.5435 - accuracy: 0.7427\n",
      "Epoch 52/150\n",
      "62/62 [==============================] - 0s 863us/step - loss: 0.5504 - accuracy: 0.7199\n",
      "Epoch 53/150\n",
      "62/62 [==============================] - 0s 1ms/step - loss: 0.5525 - accuracy: 0.7052\n",
      "Epoch 54/150\n",
      "62/62 [==============================] - 0s 2ms/step - loss: 0.5397 - accuracy: 0.7443\n",
      "Epoch 55/150\n",
      "62/62 [==============================] - 0s 2ms/step - loss: 0.5533 - accuracy: 0.7313\n",
      "Epoch 56/150\n",
      "62/62 [==============================] - 0s 1ms/step - loss: 0.5384 - accuracy: 0.7492\n",
      "Epoch 57/150\n",
      "62/62 [==============================] - 0s 2ms/step - loss: 0.5601 - accuracy: 0.7134\n",
      "Epoch 58/150\n",
      "62/62 [==============================] - 0s 1ms/step - loss: 0.5663 - accuracy: 0.7052\n",
      "Epoch 59/150\n",
      "62/62 [==============================] - 0s 2ms/step - loss: 0.5407 - accuracy: 0.7345\n",
      "Epoch 60/150\n",
      "62/62 [==============================] - 0s 2ms/step - loss: 0.5408 - accuracy: 0.7345\n",
      "Epoch 61/150\n",
      "62/62 [==============================] - 0s 1ms/step - loss: 0.5363 - accuracy: 0.7394\n",
      "Epoch 62/150\n",
      "62/62 [==============================] - 0s 825us/step - loss: 0.5480 - accuracy: 0.7313\n",
      "Epoch 63/150\n",
      "62/62 [==============================] - 0s 978us/step - loss: 0.5383 - accuracy: 0.7296\n",
      "Epoch 64/150\n",
      "62/62 [==============================] - 0s 1ms/step - loss: 0.5427 - accuracy: 0.7264\n",
      "Epoch 65/150\n",
      "62/62 [==============================] - 0s 1ms/step - loss: 0.5443 - accuracy: 0.7166\n",
      "Epoch 66/150\n",
      "62/62 [==============================] - 0s 947us/step - loss: 0.5342 - accuracy: 0.7329\n",
      "Epoch 67/150\n",
      "62/62 [==============================] - 0s 1ms/step - loss: 0.5383 - accuracy: 0.7492\n",
      "Epoch 68/150\n",
      "62/62 [==============================] - 0s 1ms/step - loss: 0.5417 - accuracy: 0.7248\n",
      "Epoch 69/150\n",
      "62/62 [==============================] - 0s 1ms/step - loss: 0.5334 - accuracy: 0.7296\n",
      "Epoch 70/150\n",
      "62/62 [==============================] - 0s 1ms/step - loss: 0.5351 - accuracy: 0.7313\n",
      "Epoch 71/150\n",
      "62/62 [==============================] - 0s 1ms/step - loss: 0.5324 - accuracy: 0.7296\n",
      "Epoch 72/150\n",
      "62/62 [==============================] - 0s 1ms/step - loss: 0.5411 - accuracy: 0.7394\n",
      "Epoch 73/150\n",
      "62/62 [==============================] - 0s 1ms/step - loss: 0.5341 - accuracy: 0.7345\n",
      "Epoch 74/150\n",
      "62/62 [==============================] - 0s 1ms/step - loss: 0.5355 - accuracy: 0.7345\n",
      "Epoch 75/150\n",
      "62/62 [==============================] - 0s 929us/step - loss: 0.5279 - accuracy: 0.7427\n",
      "Epoch 76/150\n",
      "62/62 [==============================] - 0s 1ms/step - loss: 0.5334 - accuracy: 0.7378\n",
      "Epoch 77/150\n",
      "62/62 [==============================] - 0s 2ms/step - loss: 0.5283 - accuracy: 0.7329\n",
      "Epoch 78/150\n",
      "62/62 [==============================] - 0s 2ms/step - loss: 0.5336 - accuracy: 0.7443\n",
      "Epoch 79/150\n",
      "62/62 [==============================] - 0s 1ms/step - loss: 0.5278 - accuracy: 0.7264\n",
      "Epoch 80/150\n",
      "62/62 [==============================] - 0s 1ms/step - loss: 0.5293 - accuracy: 0.7459\n",
      "Epoch 81/150\n",
      "62/62 [==============================] - 0s 1ms/step - loss: 0.5290 - accuracy: 0.7394\n",
      "Epoch 82/150\n",
      "62/62 [==============================] - 0s 1ms/step - loss: 0.5335 - accuracy: 0.7231\n",
      "Epoch 83/150\n",
      "62/62 [==============================] - 0s 1ms/step - loss: 0.5253 - accuracy: 0.7394\n",
      "Epoch 84/150\n",
      "62/62 [==============================] - 0s 1ms/step - loss: 0.5279 - accuracy: 0.7459\n",
      "Epoch 85/150\n",
      "62/62 [==============================] - 0s 1ms/step - loss: 0.5217 - accuracy: 0.7345\n",
      "Epoch 86/150\n",
      "62/62 [==============================] - 0s 1ms/step - loss: 0.5294 - accuracy: 0.7459\n",
      "Epoch 87/150\n",
      "62/62 [==============================] - 0s 1ms/step - loss: 0.5418 - accuracy: 0.7231\n",
      "Epoch 88/150\n",
      "62/62 [==============================] - 0s 1ms/step - loss: 0.5199 - accuracy: 0.7443\n",
      "Epoch 89/150\n",
      "62/62 [==============================] - 0s 1ms/step - loss: 0.5258 - accuracy: 0.7313\n",
      "Epoch 90/150\n",
      "62/62 [==============================] - 0s 1ms/step - loss: 0.5358 - accuracy: 0.7362\n",
      "Epoch 91/150\n",
      "62/62 [==============================] - 0s 2ms/step - loss: 0.5213 - accuracy: 0.7296\n",
      "Epoch 92/150\n",
      "62/62 [==============================] - 0s 1ms/step - loss: 0.5171 - accuracy: 0.7492\n",
      "Epoch 93/150\n",
      "62/62 [==============================] - 0s 1ms/step - loss: 0.5193 - accuracy: 0.7541\n",
      "Epoch 94/150\n",
      "62/62 [==============================] - 0s 936us/step - loss: 0.5207 - accuracy: 0.7443\n",
      "Epoch 95/150\n",
      "62/62 [==============================] - 0s 1ms/step - loss: 0.5197 - accuracy: 0.7590\n",
      "Epoch 96/150\n",
      "62/62 [==============================] - 0s 1ms/step - loss: 0.5330 - accuracy: 0.7410\n",
      "Epoch 97/150\n",
      "62/62 [==============================] - 0s 2ms/step - loss: 0.5202 - accuracy: 0.7313\n",
      "Epoch 98/150\n",
      "62/62 [==============================] - 0s 1ms/step - loss: 0.5204 - accuracy: 0.7476\n",
      "Epoch 99/150\n",
      "62/62 [==============================] - 0s 2ms/step - loss: 0.5241 - accuracy: 0.7394\n",
      "Epoch 100/150\n",
      "62/62 [==============================] - 0s 2ms/step - loss: 0.5202 - accuracy: 0.7573\n",
      "Epoch 101/150\n",
      "62/62 [==============================] - 0s 2ms/step - loss: 0.5276 - accuracy: 0.7394\n",
      "Epoch 102/150\n",
      "62/62 [==============================] - 0s 2ms/step - loss: 0.5158 - accuracy: 0.7573\n",
      "Epoch 103/150\n",
      "62/62 [==============================] - 0s 2ms/step - loss: 0.5270 - accuracy: 0.7459\n",
      "Epoch 104/150\n",
      "62/62 [==============================] - 0s 2ms/step - loss: 0.5128 - accuracy: 0.7590\n",
      "Epoch 105/150\n",
      "62/62 [==============================] - 0s 1ms/step - loss: 0.5142 - accuracy: 0.7524\n",
      "Epoch 106/150\n",
      "62/62 [==============================] - 0s 1ms/step - loss: 0.5225 - accuracy: 0.7459\n",
      "Epoch 107/150\n",
      "62/62 [==============================] - 0s 1ms/step - loss: 0.5180 - accuracy: 0.7524\n",
      "Epoch 108/150\n",
      "62/62 [==============================] - 0s 2ms/step - loss: 0.5049 - accuracy: 0.7508\n",
      "Epoch 109/150\n",
      "62/62 [==============================] - 0s 1ms/step - loss: 0.5077 - accuracy: 0.7573\n",
      "Epoch 110/150\n",
      "62/62 [==============================] - 0s 2ms/step - loss: 0.5058 - accuracy: 0.7443\n",
      "Epoch 111/150\n",
      "62/62 [==============================] - 0s 1ms/step - loss: 0.5137 - accuracy: 0.7443\n",
      "Epoch 112/150\n",
      "62/62 [==============================] - 0s 1ms/step - loss: 0.5057 - accuracy: 0.7622\n",
      "Epoch 113/150\n",
      "62/62 [==============================] - 0s 2ms/step - loss: 0.5105 - accuracy: 0.7492\n",
      "Epoch 114/150\n",
      "62/62 [==============================] - 0s 1ms/step - loss: 0.5087 - accuracy: 0.7541\n",
      "Epoch 115/150\n",
      "62/62 [==============================] - 0s 2ms/step - loss: 0.5118 - accuracy: 0.7541\n",
      "Epoch 116/150\n",
      "62/62 [==============================] - 0s 2ms/step - loss: 0.5239 - accuracy: 0.7231\n",
      "Epoch 117/150\n",
      "62/62 [==============================] - 0s 1ms/step - loss: 0.5027 - accuracy: 0.7720\n",
      "Epoch 118/150\n",
      "62/62 [==============================] - 0s 2ms/step - loss: 0.5068 - accuracy: 0.7638\n",
      "Epoch 119/150\n",
      "62/62 [==============================] - 0s 1ms/step - loss: 0.5075 - accuracy: 0.7362\n",
      "Epoch 120/150\n",
      "62/62 [==============================] - 0s 1ms/step - loss: 0.5222 - accuracy: 0.7590\n",
      "Epoch 121/150\n",
      "62/62 [==============================] - 0s 1ms/step - loss: 0.5060 - accuracy: 0.7459\n",
      "Epoch 122/150\n",
      "62/62 [==============================] - 0s 1ms/step - loss: 0.5097 - accuracy: 0.7443\n",
      "Epoch 123/150\n",
      "62/62 [==============================] - 0s 1ms/step - loss: 0.5125 - accuracy: 0.7476\n",
      "Epoch 124/150\n",
      "62/62 [==============================] - 0s 1ms/step - loss: 0.5045 - accuracy: 0.7655\n",
      "Epoch 125/150\n",
      "62/62 [==============================] - 0s 2ms/step - loss: 0.5053 - accuracy: 0.7557\n",
      "Epoch 126/150\n",
      "62/62 [==============================] - 0s 1ms/step - loss: 0.5064 - accuracy: 0.7541\n",
      "Epoch 127/150\n",
      "62/62 [==============================] - 0s 2ms/step - loss: 0.5078 - accuracy: 0.7443\n",
      "Epoch 128/150\n",
      "62/62 [==============================] - 0s 1ms/step - loss: 0.5063 - accuracy: 0.7590\n",
      "Epoch 129/150\n",
      "62/62 [==============================] - 0s 2ms/step - loss: 0.5251 - accuracy: 0.7231\n",
      "Epoch 130/150\n",
      "62/62 [==============================] - 0s 2ms/step - loss: 0.5041 - accuracy: 0.7638\n",
      "Epoch 131/150\n",
      "62/62 [==============================] - 0s 1ms/step - loss: 0.5063 - accuracy: 0.7362\n",
      "Epoch 132/150\n",
      "62/62 [==============================] - 0s 1ms/step - loss: 0.5010 - accuracy: 0.7443\n",
      "Epoch 133/150\n",
      "62/62 [==============================] - 0s 1ms/step - loss: 0.4939 - accuracy: 0.7655\n",
      "Epoch 134/150\n",
      "62/62 [==============================] - 0s 2ms/step - loss: 0.4970 - accuracy: 0.7655\n",
      "Epoch 135/150\n",
      "62/62 [==============================] - 0s 2ms/step - loss: 0.5055 - accuracy: 0.7590\n",
      "Epoch 136/150\n",
      "62/62 [==============================] - 0s 2ms/step - loss: 0.4991 - accuracy: 0.7638\n",
      "Epoch 137/150\n",
      "62/62 [==============================] - 0s 2ms/step - loss: 0.4954 - accuracy: 0.7427\n",
      "Epoch 138/150\n",
      "62/62 [==============================] - 0s 2ms/step - loss: 0.4943 - accuracy: 0.7492\n",
      "Epoch 139/150\n",
      "62/62 [==============================] - 0s 2ms/step - loss: 0.4988 - accuracy: 0.7590\n",
      "Epoch 140/150\n",
      "62/62 [==============================] - 0s 2ms/step - loss: 0.4929 - accuracy: 0.7736\n",
      "Epoch 141/150\n",
      "62/62 [==============================] - 0s 1ms/step - loss: 0.5045 - accuracy: 0.7573\n",
      "Epoch 142/150\n",
      "62/62 [==============================] - 0s 2ms/step - loss: 0.4997 - accuracy: 0.7427\n",
      "Epoch 143/150\n",
      "62/62 [==============================] - 0s 1ms/step - loss: 0.4950 - accuracy: 0.7557\n",
      "Epoch 144/150\n",
      "62/62 [==============================] - 0s 2ms/step - loss: 0.4925 - accuracy: 0.7557\n",
      "Epoch 145/150\n",
      "62/62 [==============================] - 0s 1ms/step - loss: 0.4904 - accuracy: 0.7508\n",
      "Epoch 146/150\n",
      "62/62 [==============================] - 0s 2ms/step - loss: 0.4894 - accuracy: 0.7541\n",
      "Epoch 147/150\n",
      "62/62 [==============================] - 0s 1ms/step - loss: 0.5010 - accuracy: 0.7573\n",
      "Epoch 148/150\n",
      "62/62 [==============================] - 0s 1ms/step - loss: 0.4947 - accuracy: 0.7704\n",
      "Epoch 149/150\n",
      "62/62 [==============================] - 0s 2ms/step - loss: 0.5177 - accuracy: 0.7443\n",
      "Epoch 150/150\n",
      "62/62 [==============================] - 0s 2ms/step - loss: 0.4915 - accuracy: 0.7638\n"
     ]
    },
    {
     "data": {
      "text/plain": [
       "<tensorflow.python.keras.callbacks.History at 0x2acd64854c8>"
      ]
     },
     "execution_count": 20,
     "metadata": {},
     "output_type": "execute_result"
    }
   ],
   "source": [
    "model.fit(X_train, y_train, epochs=150, batch_size=10)"
   ]
  },
  {
   "cell_type": "code",
   "execution_count": 21,
   "metadata": {},
   "outputs": [
    {
     "name": "stdout",
     "output_type": "stream",
     "text": [
      "Model: \"sequential\"\n",
      "_________________________________________________________________\n",
      "Layer (type)                 Output Shape              Param #   \n",
      "=================================================================\n",
      "dense (Dense)                (None, 12)                108       \n",
      "_________________________________________________________________\n",
      "dense_1 (Dense)              (None, 8)                 104       \n",
      "_________________________________________________________________\n",
      "dense_2 (Dense)              (None, 1)                 9         \n",
      "=================================================================\n",
      "Total params: 221\n",
      "Trainable params: 221\n",
      "Non-trainable params: 0\n",
      "_________________________________________________________________\n"
     ]
    }
   ],
   "source": [
    "model.summary()"
   ]
  },
  {
   "cell_type": "code",
   "execution_count": 22,
   "metadata": {},
   "outputs": [
    {
     "name": "stdout",
     "output_type": "stream",
     "text": [
      "20/20 [==============================] - 0s 1ms/step - loss: 0.4929 - accuracy: 0.7769\n"
     ]
    },
    {
     "data": {
      "text/plain": [
       "[0.49286341667175293, 0.776872992515564]"
      ]
     },
     "execution_count": 22,
     "metadata": {},
     "output_type": "execute_result"
    }
   ],
   "source": [
    "params = model.evaluate(X_train , y_train)\n",
    "\n",
    "params"
   ]
  },
  {
   "cell_type": "markdown",
   "metadata": {},
   "source": [
    "1st is the loss value/ function (cross_entorpy) and \n",
    "\n",
    "2nd is the accuracy"
   ]
  },
  {
   "cell_type": "code",
   "execution_count": 23,
   "metadata": {},
   "outputs": [
    {
     "data": {
      "text/plain": [
       "[<tf.Variable 'dense/kernel:0' shape=(8, 12) dtype=float32, numpy=\n",
       " array([[ 0.07027947,  0.18065596, -0.42584455, -0.04803732,  0.09149861,\n",
       "         -0.5382353 ,  0.02676201,  1.2766728 , -0.37044287,  0.5221433 ,\n",
       "          0.50832665,  0.5843954 ],\n",
       "        [ 0.13659224, -0.34942612, -0.02009021,  0.28909156,  0.11417607,\n",
       "         -0.16364276, -0.2926456 , -0.45938706, -0.32982355,  0.40002993,\n",
       "         -0.06876519, -0.3507292 ],\n",
       "        [-0.02903842, -0.2831186 ,  0.49388403, -0.3264714 ,  0.11696211,\n",
       "          0.4396981 , -0.25648677,  0.48553455, -0.26640525,  0.4601548 ,\n",
       "          0.51163965,  0.07677116],\n",
       "        [ 0.12714203, -0.47021055, -0.31843117, -0.18964466,  0.39542848,\n",
       "         -0.40085974, -0.23701087, -0.66948813,  0.23134992, -0.19845007,\n",
       "         -0.29833576,  0.35226798],\n",
       "        [ 0.07218184, -0.394418  ,  0.27260295,  0.44851723, -0.3280601 ,\n",
       "          0.08446518, -0.09387526, -0.05405056,  0.23094493,  0.11837815,\n",
       "          0.2420886 ,  0.18822001],\n",
       "        [-0.18569216,  0.07362705, -0.09081905, -0.52908427, -0.04621139,\n",
       "         -0.1897553 , -0.12251616, -0.12658891, -0.5726151 , -0.00457352,\n",
       "          0.15413907, -0.018693  ],\n",
       "        [-1.1100233 ,  0.3200304 , -1.2917566 ,  0.41091686, -0.9681386 ,\n",
       "          0.36957356,  0.35547936,  0.13226908, -0.02509167,  0.8640613 ,\n",
       "         -1.1364888 , -0.4209029 ],\n",
       "        [ 0.44079947, -0.03932935, -0.36643833, -0.30384785, -0.24780332,\n",
       "         -0.47626066,  0.02976918,  0.21884811, -0.222231  ,  0.2787857 ,\n",
       "         -0.05010845,  0.0672967 ]], dtype=float32)>,\n",
       " <tf.Variable 'dense/bias:0' shape=(12,) dtype=float32, numpy=\n",
       " array([ 1.322629  ,  0.        ,  1.2228297 , -0.8036379 ,  0.808655  ,\n",
       "         0.20847426,  0.        ,  0.25610715, -0.06681374, -1.2243216 ,\n",
       "         0.1519521 , -0.3890169 ], dtype=float32)>,\n",
       " <tf.Variable 'dense_1/kernel:0' shape=(12, 8) dtype=float32, numpy=\n",
       " array([[ 0.38951722, -0.05252324, -0.18640761, -0.42091542, -0.25930956,\n",
       "          0.17140514, -0.4407937 ,  0.05253942],\n",
       "        [ 0.44467396,  0.3743623 , -0.52104723, -0.38928527, -0.4505867 ,\n",
       "          0.49716437,  0.19426316,  0.04595912],\n",
       "        [ 0.37881905, -0.09649293, -0.22435871, -0.3649329 , -0.38111272,\n",
       "         -0.41871828,  0.32062826, -0.08852874],\n",
       "        [-0.30027544,  0.2530816 ,  0.14826237,  0.18899147,  0.25960964,\n",
       "          0.03509538,  0.3135939 , -0.62973905],\n",
       "        [-0.38144764, -0.39301348,  0.34795368, -0.16766225,  0.19456273,\n",
       "          0.01055883,  0.30356994, -0.65787745],\n",
       "        [-0.2844839 ,  0.4347985 ,  0.21511467, -0.4040988 ,  0.35928977,\n",
       "          0.98242676, -0.29339102,  0.31989208],\n",
       "        [ 0.43977368,  0.33819747, -0.4425971 , -0.01506627,  0.18980879,\n",
       "          0.08504951, -0.24999398,  0.12416023],\n",
       "        [ 0.06748837,  0.46566284,  0.22526236, -0.76567477, -0.11151132,\n",
       "         -0.13323607,  0.71852624,  0.6662559 ],\n",
       "        [-0.0038749 , -0.04507849, -0.29418164,  0.47335875,  0.31586075,\n",
       "         -0.02547003,  0.50591636,  0.21104336],\n",
       "        [-0.23454472, -0.50559396,  0.15648651,  0.26782602, -0.07825938,\n",
       "          0.3897835 , -0.43859085,  0.13651808],\n",
       "        [-0.18934152,  0.17586882, -0.45278293,  0.03246235, -0.44058722,\n",
       "         -0.13134363,  0.39271227, -0.3829067 ],\n",
       "        [ 0.15496139,  0.3125918 ,  0.777724  ,  0.30497807,  0.41284478,\n",
       "         -0.02306521,  0.27143463,  0.3601084 ]], dtype=float32)>,\n",
       " <tf.Variable 'dense_1/bias:0' shape=(8,) dtype=float32, numpy=\n",
       " array([-0.02677842, -0.09941443, -0.7612587 , -1.3131763 ,  0.        ,\n",
       "         1.2345532 ,  0.33740005, -0.07856028], dtype=float32)>,\n",
       " <tf.Variable 'dense_2/kernel:0' shape=(8, 1) dtype=float32, numpy=\n",
       " array([[ 0.5802811 ],\n",
       "        [ 0.6974704 ],\n",
       "        [ 0.21911946],\n",
       "        [ 0.44219097],\n",
       "        [ 0.6509843 ],\n",
       "        [-0.03293183],\n",
       "        [-0.0860699 ],\n",
       "        [-0.99489856]], dtype=float32)>,\n",
       " <tf.Variable 'dense_2/bias:0' shape=(1,) dtype=float32, numpy=array([-1.4744673], dtype=float32)>]"
      ]
     },
     "execution_count": 23,
     "metadata": {},
     "output_type": "execute_result"
    }
   ],
   "source": [
    "model.weights"
   ]
  },
  {
   "cell_type": "code",
   "execution_count": 24,
   "metadata": {},
   "outputs": [
    {
     "data": {
      "text/plain": [
       "array([[0.16259381],\n",
       "       [0.18456075],\n",
       "       [0.6135073 ],\n",
       "       [0.09059834],\n",
       "       [0.4142722 ],\n",
       "       [0.7637322 ],\n",
       "       [0.8309355 ],\n",
       "       [0.1211766 ],\n",
       "       [0.85400355],\n",
       "       [0.35368815],\n",
       "       [0.12553021],\n",
       "       [0.8598612 ],\n",
       "       [0.73610145],\n",
       "       [0.31447363],\n",
       "       [0.803121  ]], dtype=float32)"
      ]
     },
     "execution_count": 24,
     "metadata": {},
     "output_type": "execute_result"
    }
   ],
   "source": [
    "y_pred = model.predict(X_test)\n",
    "\n",
    "y_pred[:15]"
   ]
  },
  {
   "cell_type": "code",
   "execution_count": 25,
   "metadata": {},
   "outputs": [
    {
     "name": "stdout",
     "output_type": "stream",
     "text": [
      "WARNING:tensorflow:From <ipython-input-25-3d3b942d7345>:1: Sequential.predict_classes (from tensorflow.python.keras.engine.sequential) is deprecated and will be removed after 2021-01-01.\n",
      "Instructions for updating:\n",
      "Please use instead:* `np.argmax(model.predict(x), axis=-1)`,   if your model does multi-class classification   (e.g. if it uses a `softmax` last-layer activation).* `(model.predict(x) > 0.5).astype(\"int32\")`,   if your model does binary classification   (e.g. if it uses a `sigmoid` last-layer activation).\n"
     ]
    },
    {
     "data": {
      "text/plain": [
       "array([[0],\n",
       "       [0],\n",
       "       [1],\n",
       "       [0],\n",
       "       [0],\n",
       "       [1],\n",
       "       [1],\n",
       "       [0],\n",
       "       [1],\n",
       "       [0],\n",
       "       [0],\n",
       "       [1],\n",
       "       [1],\n",
       "       [0],\n",
       "       [1]])"
      ]
     },
     "execution_count": 25,
     "metadata": {},
     "output_type": "execute_result"
    }
   ],
   "source": [
    "y_pred = model.predict_classes(X_test)\n",
    "\n",
    "y_pred[:15]"
   ]
  },
  {
   "cell_type": "code",
   "execution_count": 26,
   "metadata": {},
   "outputs": [
    {
     "name": "stdout",
     "output_type": "stream",
     "text": [
      "Accuracy_score Testing Data:  74.03\n",
      "\n",
      " Classification_report Testing data:  \n",
      " \n",
      "               precision    recall  f1-score   support\n",
      "\n",
      "           0       0.83      0.76      0.79       101\n",
      "           1       0.61      0.70      0.65        53\n",
      "\n",
      "    accuracy                           0.74       154\n",
      "   macro avg       0.72      0.73      0.72       154\n",
      "weighted avg       0.75      0.74      0.74       154\n",
      "\n"
     ]
    },
    {
     "data": {
      "text/plain": [
       "array([[77, 24],\n",
       "       [16, 37]], dtype=int64)"
      ]
     },
     "execution_count": 26,
     "metadata": {},
     "output_type": "execute_result"
    }
   ],
   "source": [
    "from sklearn.metrics import accuracy_score, classification_report,confusion_matrix\n",
    "\n",
    "## Checking reports\n",
    "\n",
    "print('Accuracy_score Testing Data: ',round(accuracy_score(y_test, y_pred)*100,2))\n",
    "\n",
    "print('\\n','Classification_report Testing data: ','\\n','\\n',classification_report(y_test, y_pred))\n",
    "\n",
    "cm = confusion_matrix(y_test, y_pred)\n",
    "cm"
   ]
  },
  {
   "cell_type": "markdown",
   "metadata": {},
   "source": [
    "### Train Accuarcy = 77.69 and Test Accuracy = 74.03. So neither undefitting nor overfitting"
   ]
  }
 ],
 "metadata": {
  "kernelspec": {
   "display_name": "Python 3",
   "language": "python",
   "name": "python3"
  },
  "language_info": {
   "codemirror_mode": {
    "name": "ipython",
    "version": 3
   },
   "file_extension": ".py",
   "mimetype": "text/x-python",
   "name": "python",
   "nbconvert_exporter": "python",
   "pygments_lexer": "ipython3",
   "version": "3.7.6"
  }
 },
 "nbformat": 4,
 "nbformat_minor": 4
}
