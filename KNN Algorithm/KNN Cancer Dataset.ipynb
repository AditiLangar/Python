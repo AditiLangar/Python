{
 "cells": [
  {
   "cell_type": "markdown",
   "metadata": {},
   "source": [
    "# Given medical information, we need to find that a patient has cancer or not\n",
    "\n",
    "### Class 2 : Benign - means not Cancerour\n",
    "\n",
    "### Class 4 : Malignant - means Cancerous"
   ]
  },
  {
   "cell_type": "code",
   "execution_count": 1,
   "metadata": {},
   "outputs": [],
   "source": [
    "## Importing Libraries\n",
    "\n",
    "import pandas as pd\n",
    "import numpy as np\n",
    "import seaborn as sns\n",
    "import matplotlib as plt\n",
    "%matplotlib inline"
   ]
  },
  {
   "cell_type": "code",
   "execution_count": 3,
   "metadata": {},
   "outputs": [
    {
     "data": {
      "text/html": [
       "<div>\n",
       "<style scoped>\n",
       "    .dataframe tbody tr th:only-of-type {\n",
       "        vertical-align: middle;\n",
       "    }\n",
       "\n",
       "    .dataframe tbody tr th {\n",
       "        vertical-align: top;\n",
       "    }\n",
       "\n",
       "    .dataframe thead th {\n",
       "        text-align: right;\n",
       "    }\n",
       "</style>\n",
       "<table border=\"1\" class=\"dataframe\">\n",
       "  <thead>\n",
       "    <tr style=\"text-align: right;\">\n",
       "      <th></th>\n",
       "      <th>id</th>\n",
       "      <th>clump_thickness</th>\n",
       "      <th>uniform_cell_size</th>\n",
       "      <th>uniform_cell_shape</th>\n",
       "      <th>marginal_adhesion</th>\n",
       "      <th>single_epithelial_size</th>\n",
       "      <th>bare_nuclei</th>\n",
       "      <th>bland_chromatin</th>\n",
       "      <th>normal_nucleoli</th>\n",
       "      <th>mitoses</th>\n",
       "      <th>class</th>\n",
       "    </tr>\n",
       "  </thead>\n",
       "  <tbody>\n",
       "    <tr>\n",
       "      <th>0</th>\n",
       "      <td>1000025</td>\n",
       "      <td>5</td>\n",
       "      <td>1</td>\n",
       "      <td>1</td>\n",
       "      <td>1</td>\n",
       "      <td>2</td>\n",
       "      <td>1</td>\n",
       "      <td>3</td>\n",
       "      <td>1</td>\n",
       "      <td>1</td>\n",
       "      <td>2</td>\n",
       "    </tr>\n",
       "    <tr>\n",
       "      <th>1</th>\n",
       "      <td>1002945</td>\n",
       "      <td>5</td>\n",
       "      <td>4</td>\n",
       "      <td>4</td>\n",
       "      <td>5</td>\n",
       "      <td>7</td>\n",
       "      <td>10</td>\n",
       "      <td>3</td>\n",
       "      <td>2</td>\n",
       "      <td>1</td>\n",
       "      <td>2</td>\n",
       "    </tr>\n",
       "    <tr>\n",
       "      <th>2</th>\n",
       "      <td>1015425</td>\n",
       "      <td>3</td>\n",
       "      <td>1</td>\n",
       "      <td>1</td>\n",
       "      <td>1</td>\n",
       "      <td>2</td>\n",
       "      <td>2</td>\n",
       "      <td>3</td>\n",
       "      <td>1</td>\n",
       "      <td>1</td>\n",
       "      <td>2</td>\n",
       "    </tr>\n",
       "    <tr>\n",
       "      <th>3</th>\n",
       "      <td>1016277</td>\n",
       "      <td>6</td>\n",
       "      <td>8</td>\n",
       "      <td>8</td>\n",
       "      <td>1</td>\n",
       "      <td>3</td>\n",
       "      <td>4</td>\n",
       "      <td>3</td>\n",
       "      <td>7</td>\n",
       "      <td>1</td>\n",
       "      <td>2</td>\n",
       "    </tr>\n",
       "    <tr>\n",
       "      <th>4</th>\n",
       "      <td>1017023</td>\n",
       "      <td>4</td>\n",
       "      <td>1</td>\n",
       "      <td>1</td>\n",
       "      <td>3</td>\n",
       "      <td>2</td>\n",
       "      <td>1</td>\n",
       "      <td>3</td>\n",
       "      <td>1</td>\n",
       "      <td>1</td>\n",
       "      <td>2</td>\n",
       "    </tr>\n",
       "    <tr>\n",
       "      <th>5</th>\n",
       "      <td>1017122</td>\n",
       "      <td>8</td>\n",
       "      <td>10</td>\n",
       "      <td>10</td>\n",
       "      <td>8</td>\n",
       "      <td>7</td>\n",
       "      <td>10</td>\n",
       "      <td>9</td>\n",
       "      <td>7</td>\n",
       "      <td>1</td>\n",
       "      <td>4</td>\n",
       "    </tr>\n",
       "    <tr>\n",
       "      <th>6</th>\n",
       "      <td>1018099</td>\n",
       "      <td>1</td>\n",
       "      <td>1</td>\n",
       "      <td>1</td>\n",
       "      <td>1</td>\n",
       "      <td>2</td>\n",
       "      <td>10</td>\n",
       "      <td>3</td>\n",
       "      <td>1</td>\n",
       "      <td>1</td>\n",
       "      <td>2</td>\n",
       "    </tr>\n",
       "    <tr>\n",
       "      <th>7</th>\n",
       "      <td>1018561</td>\n",
       "      <td>2</td>\n",
       "      <td>1</td>\n",
       "      <td>2</td>\n",
       "      <td>1</td>\n",
       "      <td>2</td>\n",
       "      <td>1</td>\n",
       "      <td>3</td>\n",
       "      <td>1</td>\n",
       "      <td>1</td>\n",
       "      <td>2</td>\n",
       "    </tr>\n",
       "    <tr>\n",
       "      <th>8</th>\n",
       "      <td>1033078</td>\n",
       "      <td>2</td>\n",
       "      <td>1</td>\n",
       "      <td>1</td>\n",
       "      <td>1</td>\n",
       "      <td>2</td>\n",
       "      <td>1</td>\n",
       "      <td>1</td>\n",
       "      <td>1</td>\n",
       "      <td>5</td>\n",
       "      <td>2</td>\n",
       "    </tr>\n",
       "    <tr>\n",
       "      <th>9</th>\n",
       "      <td>1033078</td>\n",
       "      <td>4</td>\n",
       "      <td>2</td>\n",
       "      <td>1</td>\n",
       "      <td>1</td>\n",
       "      <td>2</td>\n",
       "      <td>1</td>\n",
       "      <td>2</td>\n",
       "      <td>1</td>\n",
       "      <td>1</td>\n",
       "      <td>2</td>\n",
       "    </tr>\n",
       "  </tbody>\n",
       "</table>\n",
       "</div>"
      ],
      "text/plain": [
       "        id  clump_thickness  uniform_cell_size  uniform_cell_shape  \\\n",
       "0  1000025                5                  1                   1   \n",
       "1  1002945                5                  4                   4   \n",
       "2  1015425                3                  1                   1   \n",
       "3  1016277                6                  8                   8   \n",
       "4  1017023                4                  1                   1   \n",
       "5  1017122                8                 10                  10   \n",
       "6  1018099                1                  1                   1   \n",
       "7  1018561                2                  1                   2   \n",
       "8  1033078                2                  1                   1   \n",
       "9  1033078                4                  2                   1   \n",
       "\n",
       "   marginal_adhesion  single_epithelial_size bare_nuclei  bland_chromatin  \\\n",
       "0                  1                       2           1                3   \n",
       "1                  5                       7          10                3   \n",
       "2                  1                       2           2                3   \n",
       "3                  1                       3           4                3   \n",
       "4                  3                       2           1                3   \n",
       "5                  8                       7          10                9   \n",
       "6                  1                       2          10                3   \n",
       "7                  1                       2           1                3   \n",
       "8                  1                       2           1                1   \n",
       "9                  1                       2           1                2   \n",
       "\n",
       "   normal_nucleoli  mitoses  class  \n",
       "0                1        1      2  \n",
       "1                2        1      2  \n",
       "2                1        1      2  \n",
       "3                7        1      2  \n",
       "4                1        1      2  \n",
       "5                7        1      4  \n",
       "6                1        1      2  \n",
       "7                1        1      2  \n",
       "8                1        5      2  \n",
       "9                1        1      2  "
      ]
     },
     "execution_count": 3,
     "metadata": {},
     "output_type": "execute_result"
    }
   ],
   "source": [
    "## Reading the dataset\n",
    "\n",
    "master = pd.read_csv(\"cancer_data1.csv\")\n",
    "\n",
    "master.head(10)"
   ]
  },
  {
   "cell_type": "code",
   "execution_count": 4,
   "metadata": {},
   "outputs": [
    {
     "name": "stdout",
     "output_type": "stream",
     "text": [
      "<class 'pandas.core.frame.DataFrame'>\n",
      "RangeIndex: 699 entries, 0 to 698\n",
      "Data columns (total 11 columns):\n",
      " #   Column                  Non-Null Count  Dtype \n",
      "---  ------                  --------------  ----- \n",
      " 0   id                      699 non-null    int64 \n",
      " 1   clump_thickness         699 non-null    int64 \n",
      " 2   uniform_cell_size       699 non-null    int64 \n",
      " 3   uniform_cell_shape      699 non-null    int64 \n",
      " 4   marginal_adhesion       699 non-null    int64 \n",
      " 5   single_epithelial_size  699 non-null    int64 \n",
      " 6   bare_nuclei             699 non-null    object\n",
      " 7   bland_chromatin         699 non-null    int64 \n",
      " 8   normal_nucleoli         699 non-null    int64 \n",
      " 9   mitoses                 699 non-null    int64 \n",
      " 10  class                   699 non-null    int64 \n",
      "dtypes: int64(10), object(1)\n",
      "memory usage: 60.2+ KB\n"
     ]
    }
   ],
   "source": [
    "## Checking the info\n",
    "\n",
    "master.info()\n",
    "\n",
    "## NON- NULL DATA"
   ]
  },
  {
   "cell_type": "code",
   "execution_count": 7,
   "metadata": {},
   "outputs": [
    {
     "data": {
      "text/plain": [
       "array(['1', '10', '2', '4', '3', '9', '7', '?', '5', '8', '6'],\n",
       "      dtype=object)"
      ]
     },
     "execution_count": 7,
     "metadata": {},
     "output_type": "execute_result"
    }
   ],
   "source": [
    "## bare_nuclei, which seems to have int values is shown as object\n",
    "## checking the unique values in this column to analyse the problem\n",
    "\n",
    "master.bare_nuclei.unique()"
   ]
  },
  {
   "cell_type": "code",
   "execution_count": 9,
   "metadata": {},
   "outputs": [
    {
     "data": {
      "text/plain": [
       "1     402\n",
       "10    132\n",
       "5      30\n",
       "2      30\n",
       "3      28\n",
       "8      21\n",
       "4      19\n",
       "?      16\n",
       "9       9\n",
       "7       8\n",
       "6       4\n",
       "Name: bare_nuclei, dtype: int64"
      ]
     },
     "execution_count": 9,
     "metadata": {},
     "output_type": "execute_result"
    }
   ],
   "source": [
    "# it has a \"?\" in between which need to be treated\n",
    "## checking the count of other values in bare nuclei\n",
    "\n",
    "master.bare_nuclei.value_counts()"
   ]
  },
  {
   "cell_type": "code",
   "execution_count": 11,
   "metadata": {},
   "outputs": [
    {
     "data": {
      "text/plain": [
       "2.28898426323319"
      ]
     },
     "execution_count": 11,
     "metadata": {},
     "output_type": "execute_result"
    }
   ],
   "source": [
    "## \"1\" as the highest count and since there are only 16 \"?\" values, which means 2.2% values, we can replace it wiht mode\n",
    "16/699 *100"
   ]
  },
  {
   "cell_type": "code",
   "execution_count": 16,
   "metadata": {},
   "outputs": [
    {
     "data": {
      "text/plain": [
       "'1'"
      ]
     },
     "execution_count": 16,
     "metadata": {},
     "output_type": "execute_result"
    }
   ],
   "source": [
    "## storing the mode of bare nuclei in m\n",
    "\n",
    "m = master.bare_nuclei.mode()[0]\n",
    "m"
   ]
  },
  {
   "cell_type": "code",
   "execution_count": 17,
   "metadata": {},
   "outputs": [
    {
     "data": {
      "text/plain": [
       "array([ 1, 10,  2,  4,  3,  9,  7,  5,  8,  6], dtype=int64)"
      ]
     },
     "execution_count": 17,
     "metadata": {},
     "output_type": "execute_result"
    }
   ],
   "source": [
    "## using lambda function to replace the value of bare nuclei and converrting them to int simultaneously\n",
    "\n",
    "master.bare_nuclei = master.bare_nuclei.apply(lambda x: int(m) if x == \"?\" else int(x))\n",
    "\n",
    "master.bare_nuclei.unique()   ## checking if \"?\" has been converted"
   ]
  },
  {
   "cell_type": "code",
   "execution_count": 19,
   "metadata": {},
   "outputs": [
    {
     "data": {
      "text/plain": [
       "9"
      ]
     },
     "execution_count": 19,
     "metadata": {},
     "output_type": "execute_result"
    }
   ],
   "source": [
    "## Checking duplicate values\n",
    "\n",
    "master.duplicated().sum() ## 9 duplicated values"
   ]
  },
  {
   "cell_type": "code",
   "execution_count": 21,
   "metadata": {},
   "outputs": [
    {
     "data": {
      "text/plain": [
       "690"
      ]
     },
     "execution_count": 21,
     "metadata": {},
     "output_type": "execute_result"
    }
   ],
   "source": [
    "## Dropping the duplicate values\n",
    "\n",
    "master.drop_duplicates(inplace = True)\n",
    "\n",
    "len(master)  ## checking length again to see of duplicated have been dropped"
   ]
  },
  {
   "cell_type": "markdown",
   "metadata": {},
   "source": [
    "## Visualization and EDA"
   ]
  },
  {
   "cell_type": "code",
   "execution_count": 35,
   "metadata": {},
   "outputs": [
    {
     "data": {
      "text/plain": [
       "<matplotlib.axes._subplots.AxesSubplot at 0x1e37e546308>"
      ]
     },
     "execution_count": 35,
     "metadata": {},
     "output_type": "execute_result"
    },
    {
     "data": {
      "image/png": "[encoded data removed]",
      "text/plain": [
       "<Figure size 1440x720 with 1 Axes>"
      ]
     },
     "metadata": {},
     "output_type": "display_data"
    }
   ],
   "source": [
    "## Checking outliers in the data\n",
    "\n",
    "sliced_data = master.iloc[0:,1:]\n",
    "\n",
    "sns.set(rc={'figure.figsize':(20,10)})\n",
    "\n",
    "sns.boxplot(data = sliced_data, palette='coolwarm',orient='h')\n",
    "\n",
    "##outlier in:\n",
    "#1. marginal adhesion\n",
    "#2. single epithelial size\n",
    "#3. bland chromatin\n",
    "#4. normal nucleoli\n",
    "#5. mitoses"
   ]
  },
  {
   "cell_type": "code",
   "execution_count": 36,
   "metadata": {},
   "outputs": [
    {
     "data": {
      "text/plain": [
       "<matplotlib.axes._subplots.AxesSubplot at 0x1e37e5abfc8>"
      ]
     },
     "execution_count": 36,
     "metadata": {},
     "output_type": "execute_result"
    },
    {
     "data": {
      "image/png": "[encoded data removed]",
      "text/plain": [
       "<Figure size 1440x720 with 1 Axes>"
      ]
     },
     "metadata": {},
     "output_type": "display_data"
    }
   ],
   "source": [
    "sns.boxplot(master.mitoses)"
   ]
  },
  {
   "cell_type": "code",
   "execution_count": 38,
   "metadata": {},
   "outputs": [
    {
     "data": {
      "text/plain": [
       "array([ 1,  5,  4,  2,  3,  7, 10,  8,  6], dtype=int64)"
      ]
     },
     "execution_count": 38,
     "metadata": {},
     "output_type": "execute_result"
    }
   ],
   "source": [
    "master.mitoses.unique()  ## it is some sort of categorical data"
   ]
  },
  {
   "cell_type": "code",
   "execution_count": 39,
   "metadata": {},
   "outputs": [
    {
     "data": {
      "text/plain": [
       "1     400\n",
       "3      58\n",
       "2      56\n",
       "10     55\n",
       "4      33\n",
       "8      25\n",
       "5      23\n",
       "6      22\n",
       "7      13\n",
       "9       5\n",
       "Name: marginal_adhesion, dtype: int64"
      ]
     },
     "metadata": {},
     "output_type": "display_data"
    },
    {
     "data": {
      "text/plain": [
       "2     382\n",
       "3      71\n",
       "4      48\n",
       "1      45\n",
       "6      41\n",
       "5      39\n",
       "10     30\n",
       "8      20\n",
       "7      12\n",
       "9       2\n",
       "Name: single_epithelial_size, dtype: int64"
      ]
     },
     "metadata": {},
     "output_type": "display_data"
    },
    {
     "data": {
      "text/plain": [
       "2     165\n",
       "3     160\n",
       "1     151\n",
       "7      71\n",
       "4      40\n",
       "5      34\n",
       "8      28\n",
       "10     20\n",
       "9      11\n",
       "6      10\n",
       "Name: bland_chromatin, dtype: int64"
      ]
     },
     "metadata": {},
     "output_type": "display_data"
    },
    {
     "data": {
      "text/plain": [
       "1     436\n",
       "10     61\n",
       "3      42\n",
       "2      36\n",
       "8      24\n",
       "6      22\n",
       "5      19\n",
       "4      18\n",
       "9      16\n",
       "7      16\n",
       "Name: normal_nucleoli, dtype: int64"
      ]
     },
     "metadata": {},
     "output_type": "display_data"
    }
   ],
   "source": [
    "display(master.marginal_adhesion.value_counts(),\n",
    "master.single_epithelial_size.value_counts(),\n",
    "master.bland_chromatin.value_counts(),\n",
    "master.normal_nucleoli.value_counts())\n",
    "\n",
    "\n",
    "## all the values seem to be categorical values\n",
    "## better not to treat the outliers"
   ]
  },
  {
   "cell_type": "code",
   "execution_count": 41,
   "metadata": {},
   "outputs": [
    {
     "data": {
      "text/html": [
       "<div>\n",
       "<style scoped>\n",
       "    .dataframe tbody tr th:only-of-type {\n",
       "        vertical-align: middle;\n",
       "    }\n",
       "\n",
       "    .dataframe tbody tr th {\n",
       "        vertical-align: top;\n",
       "    }\n",
       "\n",
       "    .dataframe thead th {\n",
       "        text-align: right;\n",
       "    }\n",
       "</style>\n",
       "<table border=\"1\" class=\"dataframe\">\n",
       "  <thead>\n",
       "    <tr style=\"text-align: right;\">\n",
       "      <th></th>\n",
       "      <th>id</th>\n",
       "      <th>clump_thickness</th>\n",
       "      <th>uniform_cell_size</th>\n",
       "      <th>uniform_cell_shape</th>\n",
       "      <th>marginal_adhesion</th>\n",
       "      <th>single_epithelial_size</th>\n",
       "      <th>bare_nuclei</th>\n",
       "      <th>bland_chromatin</th>\n",
       "      <th>normal_nucleoli</th>\n",
       "      <th>mitoses</th>\n",
       "      <th>class</th>\n",
       "    </tr>\n",
       "  </thead>\n",
       "  <tbody>\n",
       "    <tr>\n",
       "      <th>id</th>\n",
       "      <td>1.000000</td>\n",
       "      <td>-0.059592</td>\n",
       "      <td>-0.043856</td>\n",
       "      <td>-0.042803</td>\n",
       "      <td>-0.066771</td>\n",
       "      <td>-0.048102</td>\n",
       "      <td>-0.091832</td>\n",
       "      <td>-0.059802</td>\n",
       "      <td>-0.054517</td>\n",
       "      <td>-0.036286</td>\n",
       "      <td>-0.080084</td>\n",
       "    </tr>\n",
       "    <tr>\n",
       "      <th>clump_thickness</th>\n",
       "      <td>-0.059592</td>\n",
       "      <td>1.000000</td>\n",
       "      <td>0.643173</td>\n",
       "      <td>0.653589</td>\n",
       "      <td>0.487715</td>\n",
       "      <td>0.517253</td>\n",
       "      <td>0.590648</td>\n",
       "      <td>0.561063</td>\n",
       "      <td>0.535507</td>\n",
       "      <td>0.350196</td>\n",
       "      <td>0.716812</td>\n",
       "    </tr>\n",
       "    <tr>\n",
       "      <th>uniform_cell_size</th>\n",
       "      <td>-0.043856</td>\n",
       "      <td>0.643173</td>\n",
       "      <td>1.000000</td>\n",
       "      <td>0.905349</td>\n",
       "      <td>0.712933</td>\n",
       "      <td>0.746982</td>\n",
       "      <td>0.684571</td>\n",
       "      <td>0.759632</td>\n",
       "      <td>0.727073</td>\n",
       "      <td>0.459918</td>\n",
       "      <td>0.817586</td>\n",
       "    </tr>\n",
       "    <tr>\n",
       "      <th>uniform_cell_shape</th>\n",
       "      <td>-0.042803</td>\n",
       "      <td>0.653589</td>\n",
       "      <td>0.905349</td>\n",
       "      <td>1.000000</td>\n",
       "      <td>0.690782</td>\n",
       "      <td>0.714243</td>\n",
       "      <td>0.704165</td>\n",
       "      <td>0.738576</td>\n",
       "      <td>0.724519</td>\n",
       "      <td>0.440435</td>\n",
       "      <td>0.817551</td>\n",
       "    </tr>\n",
       "    <tr>\n",
       "      <th>marginal_adhesion</th>\n",
       "      <td>-0.066771</td>\n",
       "      <td>0.487715</td>\n",
       "      <td>0.712933</td>\n",
       "      <td>0.690782</td>\n",
       "      <td>1.000000</td>\n",
       "      <td>0.608281</td>\n",
       "      <td>0.672512</td>\n",
       "      <td>0.669860</td>\n",
       "      <td>0.602228</td>\n",
       "      <td>0.417008</td>\n",
       "      <td>0.701175</td>\n",
       "    </tr>\n",
       "    <tr>\n",
       "      <th>single_epithelial_size</th>\n",
       "      <td>-0.048102</td>\n",
       "      <td>0.517253</td>\n",
       "      <td>0.746982</td>\n",
       "      <td>0.714243</td>\n",
       "      <td>0.608281</td>\n",
       "      <td>1.000000</td>\n",
       "      <td>0.580487</td>\n",
       "      <td>0.620526</td>\n",
       "      <td>0.633880</td>\n",
       "      <td>0.482517</td>\n",
       "      <td>0.681063</td>\n",
       "    </tr>\n",
       "    <tr>\n",
       "      <th>bare_nuclei</th>\n",
       "      <td>-0.091832</td>\n",
       "      <td>0.590648</td>\n",
       "      <td>0.684571</td>\n",
       "      <td>0.704165</td>\n",
       "      <td>0.672512</td>\n",
       "      <td>0.580487</td>\n",
       "      <td>1.000000</td>\n",
       "      <td>0.672754</td>\n",
       "      <td>0.578161</td>\n",
       "      <td>0.342823</td>\n",
       "      <td>0.816655</td>\n",
       "    </tr>\n",
       "    <tr>\n",
       "      <th>bland_chromatin</th>\n",
       "      <td>-0.059802</td>\n",
       "      <td>0.561063</td>\n",
       "      <td>0.759632</td>\n",
       "      <td>0.738576</td>\n",
       "      <td>0.669860</td>\n",
       "      <td>0.620526</td>\n",
       "      <td>0.672754</td>\n",
       "      <td>1.000000</td>\n",
       "      <td>0.669099</td>\n",
       "      <td>0.343769</td>\n",
       "      <td>0.756736</td>\n",
       "    </tr>\n",
       "    <tr>\n",
       "      <th>normal_nucleoli</th>\n",
       "      <td>-0.054517</td>\n",
       "      <td>0.535507</td>\n",
       "      <td>0.727073</td>\n",
       "      <td>0.724519</td>\n",
       "      <td>0.602228</td>\n",
       "      <td>0.633880</td>\n",
       "      <td>0.578161</td>\n",
       "      <td>0.669099</td>\n",
       "      <td>1.000000</td>\n",
       "      <td>0.427490</td>\n",
       "      <td>0.715363</td>\n",
       "    </tr>\n",
       "    <tr>\n",
       "      <th>mitoses</th>\n",
       "      <td>-0.036286</td>\n",
       "      <td>0.350196</td>\n",
       "      <td>0.459918</td>\n",
       "      <td>0.440435</td>\n",
       "      <td>0.417008</td>\n",
       "      <td>0.482517</td>\n",
       "      <td>0.342823</td>\n",
       "      <td>0.343769</td>\n",
       "      <td>0.427490</td>\n",
       "      <td>1.000000</td>\n",
       "      <td>0.423947</td>\n",
       "    </tr>\n",
       "    <tr>\n",
       "      <th>class</th>\n",
       "      <td>-0.080084</td>\n",
       "      <td>0.716812</td>\n",
       "      <td>0.817586</td>\n",
       "      <td>0.817551</td>\n",
       "      <td>0.701175</td>\n",
       "      <td>0.681063</td>\n",
       "      <td>0.816655</td>\n",
       "      <td>0.756736</td>\n",
       "      <td>0.715363</td>\n",
       "      <td>0.423947</td>\n",
       "      <td>1.000000</td>\n",
       "    </tr>\n",
       "  </tbody>\n",
       "</table>\n",
       "</div>"
      ],
      "text/plain": [
       "                              id  clump_thickness  uniform_cell_size  \\\n",
       "id                      1.000000        -0.059592          -0.043856   \n",
       "clump_thickness        -0.059592         1.000000           0.643173   \n",
       "uniform_cell_size      -0.043856         0.643173           1.000000   \n",
       "uniform_cell_shape     -0.042803         0.653589           0.905349   \n",
       "marginal_adhesion      -0.066771         0.487715           0.712933   \n",
       "single_epithelial_size -0.048102         0.517253           0.746982   \n",
       "bare_nuclei            -0.091832         0.590648           0.684571   \n",
       "bland_chromatin        -0.059802         0.561063           0.759632   \n",
       "normal_nucleoli        -0.054517         0.535507           0.727073   \n",
       "mitoses                -0.036286         0.350196           0.459918   \n",
       "class                  -0.080084         0.716812           0.817586   \n",
       "\n",
       "                        uniform_cell_shape  marginal_adhesion  \\\n",
       "id                               -0.042803          -0.066771   \n",
       "clump_thickness                   0.653589           0.487715   \n",
       "uniform_cell_size                 0.905349           0.712933   \n",
       "uniform_cell_shape                1.000000           0.690782   \n",
       "marginal_adhesion                 0.690782           1.000000   \n",
       "single_epithelial_size            0.714243           0.608281   \n",
       "bare_nuclei                       0.704165           0.672512   \n",
       "bland_chromatin                   0.738576           0.669860   \n",
       "normal_nucleoli                   0.724519           0.602228   \n",
       "mitoses                           0.440435           0.417008   \n",
       "class                             0.817551           0.701175   \n",
       "\n",
       "                        single_epithelial_size  bare_nuclei  bland_chromatin  \\\n",
       "id                                   -0.048102    -0.091832        -0.059802   \n",
       "clump_thickness                       0.517253     0.590648         0.561063   \n",
       "uniform_cell_size                     0.746982     0.684571         0.759632   \n",
       "uniform_cell_shape                    0.714243     0.704165         0.738576   \n",
       "marginal_adhesion                     0.608281     0.672512         0.669860   \n",
       "single_epithelial_size                1.000000     0.580487         0.620526   \n",
       "bare_nuclei                           0.580487     1.000000         0.672754   \n",
       "bland_chromatin                       0.620526     0.672754         1.000000   \n",
       "normal_nucleoli                       0.633880     0.578161         0.669099   \n",
       "mitoses                               0.482517     0.342823         0.343769   \n",
       "class                                 0.681063     0.816655         0.756736   \n",
       "\n",
       "                        normal_nucleoli   mitoses     class  \n",
       "id                            -0.054517 -0.036286 -0.080084  \n",
       "clump_thickness                0.535507  0.350196  0.716812  \n",
       "uniform_cell_size              0.727073  0.459918  0.817586  \n",
       "uniform_cell_shape             0.724519  0.440435  0.817551  \n",
       "marginal_adhesion              0.602228  0.417008  0.701175  \n",
       "single_epithelial_size         0.633880  0.482517  0.681063  \n",
       "bare_nuclei                    0.578161  0.342823  0.816655  \n",
       "bland_chromatin                0.669099  0.343769  0.756736  \n",
       "normal_nucleoli                1.000000  0.427490  0.715363  \n",
       "mitoses                        0.427490  1.000000  0.423947  \n",
       "class                          0.715363  0.423947  1.000000  "
      ]
     },
     "execution_count": 41,
     "metadata": {},
     "output_type": "execute_result"
    }
   ],
   "source": [
    "## Checking correlation between values\n",
    "\n",
    "master.corr()\n",
    "\n",
    "## target variable, class seeems to have a good correlation with all except id and mitoses\n",
    "## it would be fine to drop these columns for further analyses\n",
    "## also id doesnot have an effect on anything"
   ]
  },
  {
   "cell_type": "code",
   "execution_count": 45,
   "metadata": {},
   "outputs": [
    {
     "data": {
      "text/plain": [
       "<matplotlib.axes._subplots.AxesSubplot at 0x1e37e67bc08>"
      ]
     },
     "execution_count": 45,
     "metadata": {},
     "output_type": "execute_result"
    },
    {
     "data": {
      "image/png": "[encoded data removed]",
      "text/plain": [
       "<Figure size 1440x720 with 2 Axes>"
      ]
     },
     "metadata": {},
     "output_type": "display_data"
    }
   ],
   "source": [
    "## Creating a heatmap after dropping the 2 columns\n",
    "\n",
    "new_master = master.drop(['id', 'mitoses'], axis =1)\n",
    "\n",
    "sns.heatmap(new_master.corr(), annot = True, fmt = '0.3f')"
   ]
  },
  {
   "cell_type": "code",
   "execution_count": 47,
   "metadata": {},
   "outputs": [
    {
     "data": {
      "text/plain": [
       "<matplotlib.axes._subplots.AxesSubplot at 0x1e3008b8508>"
      ]
     },
     "execution_count": 47,
     "metadata": {},
     "output_type": "execute_result"
    },
    {
     "data": {
      "image/png": "[encoded data removed]",
      "text/plain": [
       "<Figure size 1440x360 with 1 Axes>"
      ]
     },
     "metadata": {},
     "output_type": "display_data"
    }
   ],
   "source": [
    "## Visualising distributions of each variable\n",
    "\n",
    "#1. clump thickness\n",
    "sns.set(rc={'figure.figsize':(20,5)})\n",
    "sns.distplot(master.clump_thickness)"
   ]
  },
  {
   "cell_type": "code",
   "execution_count": 48,
   "metadata": {},
   "outputs": [
    {
     "data": {
      "text/plain": [
       "<matplotlib.axes._subplots.AxesSubplot at 0x1e300cd9448>"
      ]
     },
     "execution_count": 48,
     "metadata": {},
     "output_type": "execute_result"
    },
    {
     "data": {
      "image/png": "[encoded data removed]",
      "text/plain": [
       "<Figure size 1440x360 with 1 Axes>"
      ]
     },
     "metadata": {},
     "output_type": "display_data"
    }
   ],
   "source": [
    "#2. uniform_cell_size\n",
    " \n",
    "sns.set(rc={'figure.figsize':(20,5)})\n",
    "sns.distplot(master.uniform_cell_size)  ##skewed observations"
   ]
  },
  {
   "cell_type": "code",
   "execution_count": 49,
   "metadata": {},
   "outputs": [
    {
     "data": {
      "text/plain": [
       "<matplotlib.axes._subplots.AxesSubplot at 0x1e300927ac8>"
      ]
     },
     "execution_count": 49,
     "metadata": {},
     "output_type": "execute_result"
    },
    {
     "data": {
      "image/png": "[encoded data removed]",
      "text/plain": [
       "<Figure size 1440x360 with 1 Axes>"
      ]
     },
     "metadata": {},
     "output_type": "display_data"
    }
   ],
   "source": [
    "#2. uniform_cell_shape\n",
    " \n",
    "sns.set(rc={'figure.figsize':(20,5)})\n",
    "sns.distplot(master.uniform_cell_shape)     ##skewed observations"
   ]
  },
  {
   "cell_type": "code",
   "execution_count": 50,
   "metadata": {},
   "outputs": [
    {
     "data": {
      "text/plain": [
       "<matplotlib.axes._subplots.AxesSubplot at 0x1e300927a48>"
      ]
     },
     "execution_count": 50,
     "metadata": {},
     "output_type": "execute_result"
    },
    {
     "data": {
      "image/png": "[encoded data removed]",
      "text/plain": [
       "<Figure size 1440x360 with 1 Axes>"
      ]
     },
     "metadata": {},
     "output_type": "display_data"
    }
   ],
   "source": [
    "#2. marginal_adhesion\n",
    " \n",
    "sns.set(rc={'figure.figsize':(20,5)})\n",
    "sns.distplot(master.marginal_adhesion)     ##skewed observations"
   ]
  },
  {
   "cell_type": "code",
   "execution_count": 51,
   "metadata": {},
   "outputs": [
    {
     "data": {
      "text/plain": [
       "<matplotlib.axes._subplots.AxesSubplot at 0x1e3010394c8>"
      ]
     },
     "execution_count": 51,
     "metadata": {},
     "output_type": "execute_result"
    },
    {
     "data": {
      "image/png": "[encoded data removed]",
      "text/plain": [
       "<Figure size 1440x360 with 1 Axes>"
      ]
     },
     "metadata": {},
     "output_type": "display_data"
    }
   ],
   "source": [
    "#3. single_epithelial_size\n",
    " \n",
    "sns.set(rc={'figure.figsize':(20,5)})\n",
    "sns.distplot(master.single_epithelial_size)     ##skewed observations"
   ]
  },
  {
   "cell_type": "code",
   "execution_count": 52,
   "metadata": {},
   "outputs": [
    {
     "data": {
      "text/plain": [
       "<matplotlib.axes._subplots.AxesSubplot at 0x1e3013f6ec8>"
      ]
     },
     "execution_count": 52,
     "metadata": {},
     "output_type": "execute_result"
    },
    {
     "data": {
      "image/png": "[encoded data removed]",
      "text/plain": [
       "<Figure size 1440x360 with 1 Axes>"
      ]
     },
     "metadata": {},
     "output_type": "display_data"
    }
   ],
   "source": [
    "#4. bare_nuclei\n",
    " \n",
    "sns.set(rc={'figure.figsize':(20,5)})\n",
    "sns.distplot(master.bare_nuclei)     ##skewed observations"
   ]
  },
  {
   "cell_type": "code",
   "execution_count": 53,
   "metadata": {},
   "outputs": [
    {
     "data": {
      "text/plain": [
       "<matplotlib.axes._subplots.AxesSubplot at 0x1e301430148>"
      ]
     },
     "execution_count": 53,
     "metadata": {},
     "output_type": "execute_result"
    },
    {
     "data": {
      "image/png": "[encoded data removed]",
      "text/plain": [
       "<Figure size 1440x360 with 1 Axes>"
      ]
     },
     "metadata": {},
     "output_type": "display_data"
    }
   ],
   "source": [
    "#5. bland_chromatin\n",
    " \n",
    "sns.set(rc={'figure.figsize':(20,5)})\n",
    "sns.distplot(master.bland_chromatin)     ##skewed observations"
   ]
  },
  {
   "cell_type": "code",
   "execution_count": 54,
   "metadata": {},
   "outputs": [
    {
     "data": {
      "text/plain": [
       "<matplotlib.axes._subplots.AxesSubplot at 0x1e301438e88>"
      ]
     },
     "execution_count": 54,
     "metadata": {},
     "output_type": "execute_result"
    },
    {
     "data": {
      "image/png": "[encoded data removed]",
      "text/plain": [
       "<Figure size 1440x360 with 1 Axes>"
      ]
     },
     "metadata": {},
     "output_type": "display_data"
    }
   ],
   "source": [
    "#5. normal_nucleoli\n",
    " \n",
    "sns.set(rc={'figure.figsize':(20,5)})\n",
    "sns.distplot(master.normal_nucleoli)     ##skewed observations"
   ]
  },
  {
   "cell_type": "code",
   "execution_count": 55,
   "metadata": {},
   "outputs": [
    {
     "ename": "RuntimeError",
     "evalue": "Selected KDE bandwidth is 0. Cannot estiamte density.",
     "output_type": "error",
     "traceback": [
      "\u001b[1;31m---------------------------------------------------------------------------\u001b[0m",
      "\u001b[1;31mValueError\u001b[0m                                Traceback (most recent call last)",
      "\u001b[1;32m~\\anaconda3\\lib\\site-packages\\statsmodels\\nonparametric\\kde.py\u001b[0m in \u001b[0;36mkdensityfft\u001b[1;34m(X, kernel, bw, weights, gridsize, adjust, clip, cut, retgrid)\u001b[0m\n\u001b[0;32m    450\u001b[0m     \u001b[1;32mtry\u001b[0m\u001b[1;33m:\u001b[0m\u001b[1;33m\u001b[0m\u001b[1;33m\u001b[0m\u001b[0m\n\u001b[1;32m--> 451\u001b[1;33m         \u001b[0mbw\u001b[0m \u001b[1;33m=\u001b[0m \u001b[0mfloat\u001b[0m\u001b[1;33m(\u001b[0m\u001b[0mbw\u001b[0m\u001b[1;33m)\u001b[0m\u001b[1;33m\u001b[0m\u001b[1;33m\u001b[0m\u001b[0m\n\u001b[0m\u001b[0;32m    452\u001b[0m     \u001b[1;32mexcept\u001b[0m\u001b[1;33m:\u001b[0m\u001b[1;33m\u001b[0m\u001b[1;33m\u001b[0m\u001b[0m\n",
      "\u001b[1;31mValueError\u001b[0m: could not convert string to float: 'scott'",
      "\nDuring handling of the above exception, another exception occurred:\n",
      "\u001b[1;31mRuntimeError\u001b[0m                              Traceback (most recent call last)",
      "\u001b[1;32m<ipython-input-55-208d5339c082>\u001b[0m in \u001b[0;36m<module>\u001b[1;34m\u001b[0m\n\u001b[0;32m      2\u001b[0m \u001b[1;33m\u001b[0m\u001b[0m\n\u001b[0;32m      3\u001b[0m \u001b[0msns\u001b[0m\u001b[1;33m.\u001b[0m\u001b[0mset\u001b[0m\u001b[1;33m(\u001b[0m\u001b[0mrc\u001b[0m\u001b[1;33m=\u001b[0m\u001b[1;33m{\u001b[0m\u001b[1;34m'figure.figsize'\u001b[0m\u001b[1;33m:\u001b[0m\u001b[1;33m(\u001b[0m\u001b[1;36m20\u001b[0m\u001b[1;33m,\u001b[0m\u001b[1;36m5\u001b[0m\u001b[1;33m)\u001b[0m\u001b[1;33m}\u001b[0m\u001b[1;33m)\u001b[0m\u001b[1;33m\u001b[0m\u001b[1;33m\u001b[0m\u001b[0m\n\u001b[1;32m----> 4\u001b[1;33m \u001b[0msns\u001b[0m\u001b[1;33m.\u001b[0m\u001b[0mdistplot\u001b[0m\u001b[1;33m(\u001b[0m\u001b[0mmaster\u001b[0m\u001b[1;33m.\u001b[0m\u001b[0mmitoses\u001b[0m\u001b[1;33m)\u001b[0m\u001b[1;33m\u001b[0m\u001b[1;33m\u001b[0m\u001b[0m\n\u001b[0m",
      "\u001b[1;32m~\\anaconda3\\lib\\site-packages\\seaborn\\distributions.py\u001b[0m in \u001b[0;36mdistplot\u001b[1;34m(a, bins, hist, kde, rug, fit, hist_kws, kde_kws, rug_kws, fit_kws, color, vertical, norm_hist, axlabel, label, ax)\u001b[0m\n\u001b[0;32m    231\u001b[0m     \u001b[1;32mif\u001b[0m \u001b[0mkde\u001b[0m\u001b[1;33m:\u001b[0m\u001b[1;33m\u001b[0m\u001b[1;33m\u001b[0m\u001b[0m\n\u001b[0;32m    232\u001b[0m         \u001b[0mkde_color\u001b[0m \u001b[1;33m=\u001b[0m \u001b[0mkde_kws\u001b[0m\u001b[1;33m.\u001b[0m\u001b[0mpop\u001b[0m\u001b[1;33m(\u001b[0m\u001b[1;34m\"color\"\u001b[0m\u001b[1;33m,\u001b[0m \u001b[0mcolor\u001b[0m\u001b[1;33m)\u001b[0m\u001b[1;33m\u001b[0m\u001b[1;33m\u001b[0m\u001b[0m\n\u001b[1;32m--> 233\u001b[1;33m         \u001b[0mkdeplot\u001b[0m\u001b[1;33m(\u001b[0m\u001b[0ma\u001b[0m\u001b[1;33m,\u001b[0m \u001b[0mvertical\u001b[0m\u001b[1;33m=\u001b[0m\u001b[0mvertical\u001b[0m\u001b[1;33m,\u001b[0m \u001b[0max\u001b[0m\u001b[1;33m=\u001b[0m\u001b[0max\u001b[0m\u001b[1;33m,\u001b[0m \u001b[0mcolor\u001b[0m\u001b[1;33m=\u001b[0m\u001b[0mkde_color\u001b[0m\u001b[1;33m,\u001b[0m \u001b[1;33m**\u001b[0m\u001b[0mkde_kws\u001b[0m\u001b[1;33m)\u001b[0m\u001b[1;33m\u001b[0m\u001b[1;33m\u001b[0m\u001b[0m\n\u001b[0m\u001b[0;32m    234\u001b[0m         \u001b[1;32mif\u001b[0m \u001b[0mkde_color\u001b[0m \u001b[1;33m!=\u001b[0m \u001b[0mcolor\u001b[0m\u001b[1;33m:\u001b[0m\u001b[1;33m\u001b[0m\u001b[1;33m\u001b[0m\u001b[0m\n\u001b[0;32m    235\u001b[0m             \u001b[0mkde_kws\u001b[0m\u001b[1;33m[\u001b[0m\u001b[1;34m\"color\"\u001b[0m\u001b[1;33m]\u001b[0m \u001b[1;33m=\u001b[0m \u001b[0mkde_color\u001b[0m\u001b[1;33m\u001b[0m\u001b[1;33m\u001b[0m\u001b[0m\n",
      "\u001b[1;32m~\\anaconda3\\lib\\site-packages\\seaborn\\distributions.py\u001b[0m in \u001b[0;36mkdeplot\u001b[1;34m(data, data2, shade, vertical, kernel, bw, gridsize, cut, clip, legend, cumulative, shade_lowest, cbar, cbar_ax, cbar_kws, ax, **kwargs)\u001b[0m\n\u001b[0;32m    703\u001b[0m         ax = _univariate_kdeplot(data, shade, vertical, kernel, bw,\n\u001b[0;32m    704\u001b[0m                                  \u001b[0mgridsize\u001b[0m\u001b[1;33m,\u001b[0m \u001b[0mcut\u001b[0m\u001b[1;33m,\u001b[0m \u001b[0mclip\u001b[0m\u001b[1;33m,\u001b[0m \u001b[0mlegend\u001b[0m\u001b[1;33m,\u001b[0m \u001b[0max\u001b[0m\u001b[1;33m,\u001b[0m\u001b[1;33m\u001b[0m\u001b[1;33m\u001b[0m\u001b[0m\n\u001b[1;32m--> 705\u001b[1;33m                                  cumulative=cumulative, **kwargs)\n\u001b[0m\u001b[0;32m    706\u001b[0m \u001b[1;33m\u001b[0m\u001b[0m\n\u001b[0;32m    707\u001b[0m     \u001b[1;32mreturn\u001b[0m \u001b[0max\u001b[0m\u001b[1;33m\u001b[0m\u001b[1;33m\u001b[0m\u001b[0m\n",
      "\u001b[1;32m~\\anaconda3\\lib\\site-packages\\seaborn\\distributions.py\u001b[0m in \u001b[0;36m_univariate_kdeplot\u001b[1;34m(data, shade, vertical, kernel, bw, gridsize, cut, clip, legend, ax, cumulative, **kwargs)\u001b[0m\n\u001b[0;32m    293\u001b[0m         x, y = _statsmodels_univariate_kde(data, kernel, bw,\n\u001b[0;32m    294\u001b[0m                                            \u001b[0mgridsize\u001b[0m\u001b[1;33m,\u001b[0m \u001b[0mcut\u001b[0m\u001b[1;33m,\u001b[0m \u001b[0mclip\u001b[0m\u001b[1;33m,\u001b[0m\u001b[1;33m\u001b[0m\u001b[1;33m\u001b[0m\u001b[0m\n\u001b[1;32m--> 295\u001b[1;33m                                            cumulative=cumulative)\n\u001b[0m\u001b[0;32m    296\u001b[0m     \u001b[1;32melse\u001b[0m\u001b[1;33m:\u001b[0m\u001b[1;33m\u001b[0m\u001b[1;33m\u001b[0m\u001b[0m\n\u001b[0;32m    297\u001b[0m         \u001b[1;31m# Fall back to scipy if missing statsmodels\u001b[0m\u001b[1;33m\u001b[0m\u001b[1;33m\u001b[0m\u001b[1;33m\u001b[0m\u001b[0m\n",
      "\u001b[1;32m~\\anaconda3\\lib\\site-packages\\seaborn\\distributions.py\u001b[0m in \u001b[0;36m_statsmodels_univariate_kde\u001b[1;34m(data, kernel, bw, gridsize, cut, clip, cumulative)\u001b[0m\n\u001b[0;32m    365\u001b[0m     \u001b[0mfft\u001b[0m \u001b[1;33m=\u001b[0m \u001b[0mkernel\u001b[0m \u001b[1;33m==\u001b[0m \u001b[1;34m\"gau\"\u001b[0m\u001b[1;33m\u001b[0m\u001b[1;33m\u001b[0m\u001b[0m\n\u001b[0;32m    366\u001b[0m     \u001b[0mkde\u001b[0m \u001b[1;33m=\u001b[0m \u001b[0msmnp\u001b[0m\u001b[1;33m.\u001b[0m\u001b[0mKDEUnivariate\u001b[0m\u001b[1;33m(\u001b[0m\u001b[0mdata\u001b[0m\u001b[1;33m)\u001b[0m\u001b[1;33m\u001b[0m\u001b[1;33m\u001b[0m\u001b[0m\n\u001b[1;32m--> 367\u001b[1;33m     \u001b[0mkde\u001b[0m\u001b[1;33m.\u001b[0m\u001b[0mfit\u001b[0m\u001b[1;33m(\u001b[0m\u001b[0mkernel\u001b[0m\u001b[1;33m,\u001b[0m \u001b[0mbw\u001b[0m\u001b[1;33m,\u001b[0m \u001b[0mfft\u001b[0m\u001b[1;33m,\u001b[0m \u001b[0mgridsize\u001b[0m\u001b[1;33m=\u001b[0m\u001b[0mgridsize\u001b[0m\u001b[1;33m,\u001b[0m \u001b[0mcut\u001b[0m\u001b[1;33m=\u001b[0m\u001b[0mcut\u001b[0m\u001b[1;33m,\u001b[0m \u001b[0mclip\u001b[0m\u001b[1;33m=\u001b[0m\u001b[0mclip\u001b[0m\u001b[1;33m)\u001b[0m\u001b[1;33m\u001b[0m\u001b[1;33m\u001b[0m\u001b[0m\n\u001b[0m\u001b[0;32m    368\u001b[0m     \u001b[1;32mif\u001b[0m \u001b[0mcumulative\u001b[0m\u001b[1;33m:\u001b[0m\u001b[1;33m\u001b[0m\u001b[1;33m\u001b[0m\u001b[0m\n\u001b[0;32m    369\u001b[0m         \u001b[0mgrid\u001b[0m\u001b[1;33m,\u001b[0m \u001b[0my\u001b[0m \u001b[1;33m=\u001b[0m \u001b[0mkde\u001b[0m\u001b[1;33m.\u001b[0m\u001b[0msupport\u001b[0m\u001b[1;33m,\u001b[0m \u001b[0mkde\u001b[0m\u001b[1;33m.\u001b[0m\u001b[0mcdf\u001b[0m\u001b[1;33m\u001b[0m\u001b[1;33m\u001b[0m\u001b[0m\n",
      "\u001b[1;32m~\\anaconda3\\lib\\site-packages\\statsmodels\\nonparametric\\kde.py\u001b[0m in \u001b[0;36mfit\u001b[1;34m(self, kernel, bw, fft, weights, gridsize, adjust, cut, clip)\u001b[0m\n\u001b[0;32m    138\u001b[0m             density, grid, bw = kdensityfft(endog, kernel=kernel, bw=bw,\n\u001b[0;32m    139\u001b[0m                     \u001b[0madjust\u001b[0m\u001b[1;33m=\u001b[0m\u001b[0madjust\u001b[0m\u001b[1;33m,\u001b[0m \u001b[0mweights\u001b[0m\u001b[1;33m=\u001b[0m\u001b[0mweights\u001b[0m\u001b[1;33m,\u001b[0m \u001b[0mgridsize\u001b[0m\u001b[1;33m=\u001b[0m\u001b[0mgridsize\u001b[0m\u001b[1;33m,\u001b[0m\u001b[1;33m\u001b[0m\u001b[1;33m\u001b[0m\u001b[0m\n\u001b[1;32m--> 140\u001b[1;33m                     clip=clip, cut=cut)\n\u001b[0m\u001b[0;32m    141\u001b[0m         \u001b[1;32melse\u001b[0m\u001b[1;33m:\u001b[0m\u001b[1;33m\u001b[0m\u001b[1;33m\u001b[0m\u001b[0m\n\u001b[0;32m    142\u001b[0m             density, grid, bw = kdensity(endog, kernel=kernel, bw=bw,\n",
      "\u001b[1;32m~\\anaconda3\\lib\\site-packages\\statsmodels\\nonparametric\\kde.py\u001b[0m in \u001b[0;36mkdensityfft\u001b[1;34m(X, kernel, bw, weights, gridsize, adjust, clip, cut, retgrid)\u001b[0m\n\u001b[0;32m    451\u001b[0m         \u001b[0mbw\u001b[0m \u001b[1;33m=\u001b[0m \u001b[0mfloat\u001b[0m\u001b[1;33m(\u001b[0m\u001b[0mbw\u001b[0m\u001b[1;33m)\u001b[0m\u001b[1;33m\u001b[0m\u001b[1;33m\u001b[0m\u001b[0m\n\u001b[0;32m    452\u001b[0m     \u001b[1;32mexcept\u001b[0m\u001b[1;33m:\u001b[0m\u001b[1;33m\u001b[0m\u001b[1;33m\u001b[0m\u001b[0m\n\u001b[1;32m--> 453\u001b[1;33m         \u001b[0mbw\u001b[0m \u001b[1;33m=\u001b[0m \u001b[0mbandwidths\u001b[0m\u001b[1;33m.\u001b[0m\u001b[0mselect_bandwidth\u001b[0m\u001b[1;33m(\u001b[0m\u001b[0mX\u001b[0m\u001b[1;33m,\u001b[0m \u001b[0mbw\u001b[0m\u001b[1;33m,\u001b[0m \u001b[0mkern\u001b[0m\u001b[1;33m)\u001b[0m \u001b[1;31m# will cross-val fit this pattern?\u001b[0m\u001b[1;33m\u001b[0m\u001b[1;33m\u001b[0m\u001b[0m\n\u001b[0m\u001b[0;32m    454\u001b[0m     \u001b[0mbw\u001b[0m \u001b[1;33m*=\u001b[0m \u001b[0madjust\u001b[0m\u001b[1;33m\u001b[0m\u001b[1;33m\u001b[0m\u001b[0m\n\u001b[0;32m    455\u001b[0m \u001b[1;33m\u001b[0m\u001b[0m\n",
      "\u001b[1;32m~\\anaconda3\\lib\\site-packages\\statsmodels\\nonparametric\\bandwidths.py\u001b[0m in \u001b[0;36mselect_bandwidth\u001b[1;34m(x, bw, kernel)\u001b[0m\n\u001b[0;32m    172\u001b[0m         \u001b[1;31m# eventually this can fall back on another selection criterion.\u001b[0m\u001b[1;33m\u001b[0m\u001b[1;33m\u001b[0m\u001b[1;33m\u001b[0m\u001b[0m\n\u001b[0;32m    173\u001b[0m         \u001b[0merr\u001b[0m \u001b[1;33m=\u001b[0m \u001b[1;34m\"Selected KDE bandwidth is 0. Cannot estiamte density.\"\u001b[0m\u001b[1;33m\u001b[0m\u001b[1;33m\u001b[0m\u001b[0m\n\u001b[1;32m--> 174\u001b[1;33m         \u001b[1;32mraise\u001b[0m \u001b[0mRuntimeError\u001b[0m\u001b[1;33m(\u001b[0m\u001b[0merr\u001b[0m\u001b[1;33m)\u001b[0m\u001b[1;33m\u001b[0m\u001b[1;33m\u001b[0m\u001b[0m\n\u001b[0m\u001b[0;32m    175\u001b[0m     \u001b[1;32melse\u001b[0m\u001b[1;33m:\u001b[0m\u001b[1;33m\u001b[0m\u001b[1;33m\u001b[0m\u001b[0m\n\u001b[0;32m    176\u001b[0m         \u001b[1;32mreturn\u001b[0m \u001b[0mbandwidth\u001b[0m\u001b[1;33m\u001b[0m\u001b[1;33m\u001b[0m\u001b[0m\n",
      "\u001b[1;31mRuntimeError\u001b[0m: Selected KDE bandwidth is 0. Cannot estiamte density."
     ]
    },
    {
     "data": {
      "image/png": "[encoded data removed]",
      "text/plain": [
       "<Figure size 1440x360 with 1 Axes>"
      ]
     },
     "metadata": {},
     "output_type": "display_data"
    }
   ],
   "source": [
    "#6. mitoses\n",
    " \n",
    "sns.set(rc={'figure.figsize':(20,5)})\n",
    "sns.distplot(master.mitoses)   "
   ]
  },
  {
   "cell_type": "code",
   "execution_count": 56,
   "metadata": {},
   "outputs": [
    {
     "data": {
      "text/plain": [
       "Index(['id', 'clump_thickness', 'uniform_cell_size', 'uniform_cell_shape',\n",
       "       'marginal_adhesion', 'single_epithelial_size', 'bare_nuclei',\n",
       "       'bland_chromatin', 'normal_nucleoli', 'mitoses', 'class'],\n",
       "      dtype='object')"
      ]
     },
     "execution_count": 56,
     "metadata": {},
     "output_type": "execute_result"
    }
   ],
   "source": [
    "## BIVARIATE ANALYSIS\n",
    "\n",
    "master.columns"
   ]
  },
  {
   "cell_type": "code",
   "execution_count": 58,
   "metadata": {},
   "outputs": [
    {
     "data": {
      "text/plain": [
       "<matplotlib.axes._subplots.AxesSubplot at 0x1e301d0bf08>"
      ]
     },
     "execution_count": 58,
     "metadata": {},
     "output_type": "execute_result"
    },
    {
     "data": {
      "image/png": "[encoded data removed]",
      "text/plain": [
       "<Figure size 1440x360 with 1 Axes>"
      ]
     },
     "metadata": {},
     "output_type": "display_data"
    }
   ],
   "source": [
    "sns.barplot(x='class',y='clump_thickness',data=master)"
   ]
  },
  {
   "cell_type": "code",
   "execution_count": 63,
   "metadata": {},
   "outputs": [
    {
     "data": {
      "text/plain": [
       "array([ 5,  3,  6,  4,  8,  1,  2,  7, 10,  9], dtype=int64)"
      ]
     },
     "execution_count": 63,
     "metadata": {},
     "output_type": "execute_result"
    }
   ],
   "source": [
    "master.clump_thickness.unique()"
   ]
  },
  {
   "cell_type": "code",
   "execution_count": 67,
   "metadata": {},
   "outputs": [
    {
     "data": {
      "text/plain": [
       "<matplotlib.axes._subplots.AxesSubplot at 0x1e3035cab08>"
      ]
     },
     "execution_count": 67,
     "metadata": {},
     "output_type": "execute_result"
    },
    {
     "data": {
      "image/png": "[encoded data removed]",
      "text/plain": [
       "<Figure size 1440x360 with 1 Axes>"
      ]
     },
     "metadata": {},
     "output_type": "display_data"
    }
   ],
   "source": [
    "sns.set(rc={'figure.figsize':(20,5)})\n",
    "\n",
    "sns.barplot(x='clump_thickness',y='class',data=master, estimator = sum)"
   ]
  },
  {
   "cell_type": "code",
   "execution_count": 68,
   "metadata": {},
   "outputs": [
    {
     "data": {
      "text/plain": [
       "<matplotlib.axes._subplots.AxesSubplot at 0x1e3024f5688>"
      ]
     },
     "execution_count": 68,
     "metadata": {},
     "output_type": "execute_result"
    },
    {
     "data": {
      "image/png": "[encoded data removed]",
      "text/plain": [
       "<Figure size 1440x360 with 1 Axes>"
      ]
     },
     "metadata": {},
     "output_type": "display_data"
    }
   ],
   "source": [
    "sns.set(rc={'figure.figsize':(20,5)})\n",
    "\n",
    "sns.barplot(x='clump_thickness',y='class',data=master)"
   ]
  },
  {
   "cell_type": "code",
   "execution_count": 70,
   "metadata": {},
   "outputs": [
    {
     "data": {
      "text/plain": [
       "<matplotlib.axes._subplots.AxesSubplot at 0x1e30211ca88>"
      ]
     },
     "execution_count": 70,
     "metadata": {},
     "output_type": "execute_result"
    },
    {
     "data": {
      "image/png": "[encoded data removed]",
      "text/plain": [
       "<Figure size 1440x360 with 1 Axes>"
      ]
     },
     "metadata": {},
     "output_type": "display_data"
    }
   ],
   "source": [
    "sns.barplot(x='bare_nuclei',y='class',data=master)\n",
    "\n",
    "\n",
    "## the values that lie somewhere in the middle have a ratio of 4 and 3 so bar graphs are showing the average "
   ]
  },
  {
   "cell_type": "code",
   "execution_count": 83,
   "metadata": {},
   "outputs": [
    {
     "data": {
      "text/html": [
       "<div>\n",
       "<style scoped>\n",
       "    .dataframe tbody tr th:only-of-type {\n",
       "        vertical-align: middle;\n",
       "    }\n",
       "\n",
       "    .dataframe tbody tr th {\n",
       "        vertical-align: top;\n",
       "    }\n",
       "\n",
       "    .dataframe thead th {\n",
       "        text-align: right;\n",
       "    }\n",
       "</style>\n",
       "<table border=\"1\" class=\"dataframe\">\n",
       "  <thead>\n",
       "    <tr style=\"text-align: right;\">\n",
       "      <th></th>\n",
       "      <th>bare_nuclei</th>\n",
       "      <th>class</th>\n",
       "    </tr>\n",
       "  </thead>\n",
       "  <tbody>\n",
       "    <tr>\n",
       "      <th>32</th>\n",
       "      <td>5</td>\n",
       "      <td>4</td>\n",
       "    </tr>\n",
       "    <tr>\n",
       "      <th>52</th>\n",
       "      <td>5</td>\n",
       "      <td>4</td>\n",
       "    </tr>\n",
       "    <tr>\n",
       "      <th>55</th>\n",
       "      <td>5</td>\n",
       "      <td>4</td>\n",
       "    </tr>\n",
       "    <tr>\n",
       "      <th>100</th>\n",
       "      <td>5</td>\n",
       "      <td>4</td>\n",
       "    </tr>\n",
       "    <tr>\n",
       "      <th>101</th>\n",
       "      <td>5</td>\n",
       "      <td>4</td>\n",
       "    </tr>\n",
       "    <tr>\n",
       "      <th>115</th>\n",
       "      <td>5</td>\n",
       "      <td>2</td>\n",
       "    </tr>\n",
       "    <tr>\n",
       "      <th>142</th>\n",
       "      <td>5</td>\n",
       "      <td>4</td>\n",
       "    </tr>\n",
       "    <tr>\n",
       "      <th>143</th>\n",
       "      <td>5</td>\n",
       "      <td>2</td>\n",
       "    </tr>\n",
       "    <tr>\n",
       "      <th>152</th>\n",
       "      <td>5</td>\n",
       "      <td>4</td>\n",
       "    </tr>\n",
       "    <tr>\n",
       "      <th>206</th>\n",
       "      <td>5</td>\n",
       "      <td>4</td>\n",
       "    </tr>\n",
       "    <tr>\n",
       "      <th>215</th>\n",
       "      <td>5</td>\n",
       "      <td>4</td>\n",
       "    </tr>\n",
       "    <tr>\n",
       "      <th>222</th>\n",
       "      <td>5</td>\n",
       "      <td>4</td>\n",
       "    </tr>\n",
       "    <tr>\n",
       "      <th>227</th>\n",
       "      <td>5</td>\n",
       "      <td>4</td>\n",
       "    </tr>\n",
       "    <tr>\n",
       "      <th>243</th>\n",
       "      <td>5</td>\n",
       "      <td>2</td>\n",
       "    </tr>\n",
       "    <tr>\n",
       "      <th>288</th>\n",
       "      <td>5</td>\n",
       "      <td>4</td>\n",
       "    </tr>\n",
       "    <tr>\n",
       "      <th>296</th>\n",
       "      <td>5</td>\n",
       "      <td>2</td>\n",
       "    </tr>\n",
       "    <tr>\n",
       "      <th>309</th>\n",
       "      <td>5</td>\n",
       "      <td>2</td>\n",
       "    </tr>\n",
       "    <tr>\n",
       "      <th>319</th>\n",
       "      <td>5</td>\n",
       "      <td>2</td>\n",
       "    </tr>\n",
       "    <tr>\n",
       "      <th>461</th>\n",
       "      <td>5</td>\n",
       "      <td>2</td>\n",
       "    </tr>\n",
       "    <tr>\n",
       "      <th>482</th>\n",
       "      <td>5</td>\n",
       "      <td>4</td>\n",
       "    </tr>\n",
       "    <tr>\n",
       "      <th>494</th>\n",
       "      <td>5</td>\n",
       "      <td>2</td>\n",
       "    </tr>\n",
       "    <tr>\n",
       "      <th>506</th>\n",
       "      <td>5</td>\n",
       "      <td>4</td>\n",
       "    </tr>\n",
       "    <tr>\n",
       "      <th>522</th>\n",
       "      <td>5</td>\n",
       "      <td>4</td>\n",
       "    </tr>\n",
       "    <tr>\n",
       "      <th>549</th>\n",
       "      <td>5</td>\n",
       "      <td>4</td>\n",
       "    </tr>\n",
       "    <tr>\n",
       "      <th>553</th>\n",
       "      <td>5</td>\n",
       "      <td>2</td>\n",
       "    </tr>\n",
       "    <tr>\n",
       "      <th>569</th>\n",
       "      <td>5</td>\n",
       "      <td>4</td>\n",
       "    </tr>\n",
       "    <tr>\n",
       "      <th>627</th>\n",
       "      <td>5</td>\n",
       "      <td>2</td>\n",
       "    </tr>\n",
       "    <tr>\n",
       "      <th>669</th>\n",
       "      <td>5</td>\n",
       "      <td>4</td>\n",
       "    </tr>\n",
       "    <tr>\n",
       "      <th>691</th>\n",
       "      <td>5</td>\n",
       "      <td>4</td>\n",
       "    </tr>\n",
       "    <tr>\n",
       "      <th>698</th>\n",
       "      <td>5</td>\n",
       "      <td>4</td>\n",
       "    </tr>\n",
       "  </tbody>\n",
       "</table>\n",
       "</div>"
      ],
      "text/plain": [
       "     bare_nuclei  class\n",
       "32             5      4\n",
       "52             5      4\n",
       "55             5      4\n",
       "100            5      4\n",
       "101            5      4\n",
       "115            5      2\n",
       "142            5      4\n",
       "143            5      2\n",
       "152            5      4\n",
       "206            5      4\n",
       "215            5      4\n",
       "222            5      4\n",
       "227            5      4\n",
       "243            5      2\n",
       "288            5      4\n",
       "296            5      2\n",
       "309            5      2\n",
       "319            5      2\n",
       "461            5      2\n",
       "482            5      4\n",
       "494            5      2\n",
       "506            5      4\n",
       "522            5      4\n",
       "549            5      4\n",
       "553            5      2\n",
       "569            5      4\n",
       "627            5      2\n",
       "669            5      4\n",
       "691            5      4\n",
       "698            5      4"
      ]
     },
     "execution_count": 83,
     "metadata": {},
     "output_type": "execute_result"
    }
   ],
   "source": [
    "master[master['bare_nuclei'] == 5][['bare_nuclei', 'class']]"
   ]
  },
  {
   "cell_type": "markdown",
   "metadata": {},
   "source": [
    "# Building the model"
   ]
  },
  {
   "cell_type": "code",
   "execution_count": 85,
   "metadata": {},
   "outputs": [
    {
     "data": {
      "text/plain": [
       "'\\n# Split datasets into testing and training set using TRAIN_TEST_SPLIT - inbuilt library from sklearn\\n\\n# Test_size = 0.2 means keeping 20% of randomly selected data for testing out model and keeping rest 80% for Training the model\\n\\n# Random_State - random_state parameter is used for initializing the internal random number generator, \\n                 #which will decide the splitting of data into train and test indices in your case\\n\\n# SKLEARN : Is the Parent Library in Python where all the Machine learing algorithms are present\\n\\n'"
      ]
     },
     "execution_count": 85,
     "metadata": {},
     "output_type": "execute_result"
    }
   ],
   "source": [
    "X = master.drop(['class','id','mitoses'], axis = 1) \n",
    "\n",
    "# We have defined the Training Data as we have to predict Class for Cancer, so we removed it \n",
    "# Mitoses can be dropped as it has a very low correlation compared to other variables\n",
    "# Id can be dropped as it usually has no role to play in analysis\n",
    "\n",
    "y = master['class'] \n",
    "\n",
    "# Y is to Be predicted, Target so it is kept separately from the data\n",
    "\n",
    "'''\n",
    "# Split datasets into testing and training set using TRAIN_TEST_SPLIT - inbuilt library from sklearn\n",
    "\n",
    "# Test_size = 0.2 means keeping 20% of randomly selected data for testing out model and keeping rest 80% for Training the model\n",
    "\n",
    "# Random_State - random_state parameter is used for initializing the internal random number generator, \n",
    "                 #which will decide the splitting of data into train and test indices in your case\n",
    "\n",
    "# SKLEARN : Is the Parent Library in Python where all the Machine learing algorithms are present\n",
    "\n",
    "'''"
   ]
  },
  {
   "cell_type": "code",
   "execution_count": 87,
   "metadata": {},
   "outputs": [],
   "source": [
    "from sklearn.model_selection import train_test_split\n",
    "\n",
    "X_train, X_test, y_train, y_test = train_test_split(X, y,\n",
    "                                                   test_size = 0.3,\n",
    "                                                   random_state = 37)"
   ]
  },
  {
   "cell_type": "code",
   "execution_count": 88,
   "metadata": {},
   "outputs": [
    {
     "data": {
      "text/html": [
       "<div>\n",
       "<style scoped>\n",
       "    .dataframe tbody tr th:only-of-type {\n",
       "        vertical-align: middle;\n",
       "    }\n",
       "\n",
       "    .dataframe tbody tr th {\n",
       "        vertical-align: top;\n",
       "    }\n",
       "\n",
       "    .dataframe thead th {\n",
       "        text-align: right;\n",
       "    }\n",
       "</style>\n",
       "<table border=\"1\" class=\"dataframe\">\n",
       "  <thead>\n",
       "    <tr style=\"text-align: right;\">\n",
       "      <th></th>\n",
       "      <th>clump_thickness</th>\n",
       "      <th>uniform_cell_size</th>\n",
       "      <th>uniform_cell_shape</th>\n",
       "      <th>marginal_adhesion</th>\n",
       "      <th>single_epithelial_size</th>\n",
       "      <th>bare_nuclei</th>\n",
       "      <th>bland_chromatin</th>\n",
       "      <th>normal_nucleoli</th>\n",
       "    </tr>\n",
       "  </thead>\n",
       "  <tbody>\n",
       "    <tr>\n",
       "      <th>40</th>\n",
       "      <td>6</td>\n",
       "      <td>6</td>\n",
       "      <td>6</td>\n",
       "      <td>9</td>\n",
       "      <td>6</td>\n",
       "      <td>1</td>\n",
       "      <td>7</td>\n",
       "      <td>8</td>\n",
       "    </tr>\n",
       "    <tr>\n",
       "      <th>222</th>\n",
       "      <td>4</td>\n",
       "      <td>1</td>\n",
       "      <td>1</td>\n",
       "      <td>3</td>\n",
       "      <td>1</td>\n",
       "      <td>5</td>\n",
       "      <td>2</td>\n",
       "      <td>1</td>\n",
       "    </tr>\n",
       "    <tr>\n",
       "      <th>291</th>\n",
       "      <td>1</td>\n",
       "      <td>1</td>\n",
       "      <td>1</td>\n",
       "      <td>1</td>\n",
       "      <td>2</td>\n",
       "      <td>1</td>\n",
       "      <td>3</td>\n",
       "      <td>1</td>\n",
       "    </tr>\n",
       "    <tr>\n",
       "      <th>514</th>\n",
       "      <td>6</td>\n",
       "      <td>6</td>\n",
       "      <td>7</td>\n",
       "      <td>10</td>\n",
       "      <td>3</td>\n",
       "      <td>10</td>\n",
       "      <td>8</td>\n",
       "      <td>10</td>\n",
       "    </tr>\n",
       "    <tr>\n",
       "      <th>207</th>\n",
       "      <td>1</td>\n",
       "      <td>1</td>\n",
       "      <td>1</td>\n",
       "      <td>1</td>\n",
       "      <td>1</td>\n",
       "      <td>1</td>\n",
       "      <td>3</td>\n",
       "      <td>1</td>\n",
       "    </tr>\n",
       "  </tbody>\n",
       "</table>\n",
       "</div>"
      ],
      "text/plain": [
       "     clump_thickness  uniform_cell_size  uniform_cell_shape  \\\n",
       "40                 6                  6                   6   \n",
       "222                4                  1                   1   \n",
       "291                1                  1                   1   \n",
       "514                6                  6                   7   \n",
       "207                1                  1                   1   \n",
       "\n",
       "     marginal_adhesion  single_epithelial_size  bare_nuclei  bland_chromatin  \\\n",
       "40                   9                       6            1                7   \n",
       "222                  3                       1            5                2   \n",
       "291                  1                       2            1                3   \n",
       "514                 10                       3           10                8   \n",
       "207                  1                       1            1                3   \n",
       "\n",
       "     normal_nucleoli  \n",
       "40                 8  \n",
       "222                1  \n",
       "291                1  \n",
       "514               10  \n",
       "207                1  "
      ]
     },
     "metadata": {},
     "output_type": "display_data"
    },
    {
     "data": {
      "text/html": [
       "<div>\n",
       "<style scoped>\n",
       "    .dataframe tbody tr th:only-of-type {\n",
       "        vertical-align: middle;\n",
       "    }\n",
       "\n",
       "    .dataframe tbody tr th {\n",
       "        vertical-align: top;\n",
       "    }\n",
       "\n",
       "    .dataframe thead th {\n",
       "        text-align: right;\n",
       "    }\n",
       "</style>\n",
       "<table border=\"1\" class=\"dataframe\">\n",
       "  <thead>\n",
       "    <tr style=\"text-align: right;\">\n",
       "      <th></th>\n",
       "      <th>clump_thickness</th>\n",
       "      <th>uniform_cell_size</th>\n",
       "      <th>uniform_cell_shape</th>\n",
       "      <th>marginal_adhesion</th>\n",
       "      <th>single_epithelial_size</th>\n",
       "      <th>bare_nuclei</th>\n",
       "      <th>bland_chromatin</th>\n",
       "      <th>normal_nucleoli</th>\n",
       "    </tr>\n",
       "  </thead>\n",
       "  <tbody>\n",
       "    <tr>\n",
       "      <th>0</th>\n",
       "      <td>5</td>\n",
       "      <td>1</td>\n",
       "      <td>1</td>\n",
       "      <td>1</td>\n",
       "      <td>2</td>\n",
       "      <td>1</td>\n",
       "      <td>3</td>\n",
       "      <td>1</td>\n",
       "    </tr>\n",
       "    <tr>\n",
       "      <th>415</th>\n",
       "      <td>3</td>\n",
       "      <td>3</td>\n",
       "      <td>2</td>\n",
       "      <td>6</td>\n",
       "      <td>3</td>\n",
       "      <td>3</td>\n",
       "      <td>3</td>\n",
       "      <td>5</td>\n",
       "    </tr>\n",
       "    <tr>\n",
       "      <th>478</th>\n",
       "      <td>5</td>\n",
       "      <td>2</td>\n",
       "      <td>1</td>\n",
       "      <td>1</td>\n",
       "      <td>2</td>\n",
       "      <td>1</td>\n",
       "      <td>1</td>\n",
       "      <td>1</td>\n",
       "    </tr>\n",
       "    <tr>\n",
       "      <th>237</th>\n",
       "      <td>9</td>\n",
       "      <td>8</td>\n",
       "      <td>8</td>\n",
       "      <td>5</td>\n",
       "      <td>6</td>\n",
       "      <td>2</td>\n",
       "      <td>4</td>\n",
       "      <td>10</td>\n",
       "    </tr>\n",
       "    <tr>\n",
       "      <th>386</th>\n",
       "      <td>7</td>\n",
       "      <td>6</td>\n",
       "      <td>6</td>\n",
       "      <td>3</td>\n",
       "      <td>2</td>\n",
       "      <td>10</td>\n",
       "      <td>7</td>\n",
       "      <td>1</td>\n",
       "    </tr>\n",
       "  </tbody>\n",
       "</table>\n",
       "</div>"
      ],
      "text/plain": [
       "     clump_thickness  uniform_cell_size  uniform_cell_shape  \\\n",
       "0                  5                  1                   1   \n",
       "415                3                  3                   2   \n",
       "478                5                  2                   1   \n",
       "237                9                  8                   8   \n",
       "386                7                  6                   6   \n",
       "\n",
       "     marginal_adhesion  single_epithelial_size  bare_nuclei  bland_chromatin  \\\n",
       "0                    1                       2            1                3   \n",
       "415                  6                       3            3                3   \n",
       "478                  1                       2            1                1   \n",
       "237                  5                       6            2                4   \n",
       "386                  3                       2           10                7   \n",
       "\n",
       "     normal_nucleoli  \n",
       "0                  1  \n",
       "415                5  \n",
       "478                1  \n",
       "237               10  \n",
       "386                1  "
      ]
     },
     "metadata": {},
     "output_type": "display_data"
    },
    {
     "data": {
      "text/plain": [
       "40     2\n",
       "222    4\n",
       "291    2\n",
       "514    4\n",
       "207    2\n",
       "Name: class, dtype: int64"
      ]
     },
     "metadata": {},
     "output_type": "display_data"
    },
    {
     "data": {
      "text/plain": [
       "0      2\n",
       "415    2\n",
       "478    2\n",
       "237    4\n",
       "386    4\n",
       "Name: class, dtype: int64"
      ]
     },
     "metadata": {},
     "output_type": "display_data"
    }
   ],
   "source": [
    "## visualising the splitted data:\n",
    "\n",
    "display(X_train.head(),\n",
    "       X_test.head(),\n",
    "       y_train.head(),\n",
    "       y_test.head())"
   ]
  },
  {
   "cell_type": "code",
   "execution_count": 89,
   "metadata": {},
   "outputs": [
    {
     "data": {
      "text/plain": [
       "483"
      ]
     },
     "metadata": {},
     "output_type": "display_data"
    },
    {
     "data": {
      "text/plain": [
       "207"
      ]
     },
     "metadata": {},
     "output_type": "display_data"
    },
    {
     "data": {
      "text/plain": [
       "483"
      ]
     },
     "metadata": {},
     "output_type": "display_data"
    },
    {
     "data": {
      "text/plain": [
       "207"
      ]
     },
     "metadata": {},
     "output_type": "display_data"
    }
   ],
   "source": [
    "## checking length of the splitted data\n",
    "\n",
    "display(len(X_train),\n",
    "       len(X_test),\n",
    "       len(y_train),\n",
    "       len(y_test))\n",
    "\n",
    "## equal lengths"
   ]
  },
  {
   "cell_type": "code",
   "execution_count": 90,
   "metadata": {},
   "outputs": [
    {
     "name": "stdout",
     "output_type": "stream",
     "text": [
      "X_train 483 \t y_train 483\n",
      "X_test 207 \t y_test 207\n"
     ]
    }
   ],
   "source": [
    "## or like this:\n",
    "print('X_train',len(X_train), '\\t', 'y_train',len(y_train))\n",
    "print('X_test', len(X_test), '\\t','y_test', len(y_test))\n"
   ]
  },
  {
   "cell_type": "markdown",
   "metadata": {},
   "source": [
    "## Using KNN Algorithm as it is a classification problem"
   ]
  },
  {
   "cell_type": "code",
   "execution_count": 93,
   "metadata": {},
   "outputs": [],
   "source": [
    "import sklearn\n",
    "from sklearn.neighbors import KNeighborsClassifier, KNeighborsRegressor\n"
   ]
  },
  {
   "cell_type": "code",
   "execution_count": 94,
   "metadata": {},
   "outputs": [],
   "source": [
    "clf = KNeighborsClassifier(n_neighbors = 7, metric = 'euclidean')"
   ]
  },
  {
   "cell_type": "code",
   "execution_count": 95,
   "metadata": {},
   "outputs": [
    {
     "data": {
      "text/plain": [
       "KNeighborsClassifier(algorithm='auto', leaf_size=30, metric='euclidean',\n",
       "                     metric_params=None, n_jobs=None, n_neighbors=7, p=2,\n",
       "                     weights='uniform')"
      ]
     },
     "execution_count": 95,
     "metadata": {},
     "output_type": "execute_result"
    }
   ],
   "source": [
    "## Training the model on training data\n",
    "\n",
    "clf.fit(X_train, y_train)"
   ]
  },
  {
   "cell_type": "markdown",
   "metadata": {},
   "source": [
    "### Predicting on validation/test data"
   ]
  },
  {
   "cell_type": "code",
   "execution_count": 98,
   "metadata": {},
   "outputs": [
    {
     "data": {
      "text/plain": [
       "array([2, 4, 2, 4, 4, 2, 2, 4, 2, 4, 2, 4, 4, 2, 2, 2, 4, 4, 4, 4, 4, 2,\n",
       "       4, 2, 2, 2, 2, 4, 4, 4, 4, 4, 2, 2, 4, 4, 4, 2, 4, 4, 4, 4, 4, 2,\n",
       "       4, 2, 4, 4, 2, 2, 2, 2, 2, 2, 2, 4, 2, 2, 2, 2, 4, 2, 2, 2, 2, 2,\n",
       "       4, 2, 2, 4, 2, 2, 2, 2, 2, 2, 2, 2, 2, 2, 2, 2, 2, 2, 2, 2, 2, 2,\n",
       "       2, 2, 4, 2, 2, 4, 2, 2, 4, 4, 4, 4, 4, 4, 4, 2, 2, 2, 2, 4, 2, 4,\n",
       "       2, 2, 4, 2, 2, 2, 2, 2, 4, 2, 4, 4, 4, 2, 2, 4, 2, 4, 2, 4, 4, 4,\n",
       "       4, 2, 2, 4, 4, 4, 2, 2, 4, 2, 2, 2, 4, 2, 2, 2, 2, 2, 2, 4, 2, 2,\n",
       "       2, 4, 2, 2, 4, 4, 2, 2, 4, 2, 2, 2, 4, 4, 2, 2, 4, 2, 2, 4, 4, 2,\n",
       "       2, 4, 4, 2, 4, 2, 2, 2, 4, 4, 2, 2, 2, 2, 4, 2, 2, 4, 2, 2, 2, 2,\n",
       "       2, 2, 2, 4, 4, 2, 2, 4, 4], dtype=int64)"
      ]
     },
     "metadata": {},
     "output_type": "display_data"
    },
    {
     "data": {
      "text/plain": [
       "207"
      ]
     },
     "metadata": {},
     "output_type": "display_data"
    }
   ],
   "source": [
    "## After fitting the model on train, performing predictions on test\n",
    "\n",
    "y_pred = clf.predict(X_test)\n",
    "\n",
    "display(y_pred,\n",
    "        len(y_pred))"
   ]
  },
  {
   "cell_type": "markdown",
   "metadata": {},
   "source": [
    "### Checking accuracy of the predcited values"
   ]
  },
  {
   "cell_type": "code",
   "execution_count": 99,
   "metadata": {},
   "outputs": [],
   "source": [
    "## importing accuracy score, classification report and confusin matrix\n",
    "\n",
    "from sklearn.metrics import accuracy_score, classification_report,confusion_matrix"
   ]
  },
  {
   "cell_type": "code",
   "execution_count": 100,
   "metadata": {},
   "outputs": [
    {
     "name": "stdout",
     "output_type": "stream",
     "text": [
      "Accuracy_score Testing Data:  95.17\n",
      "\n",
      " Classification_report Testing data:  \n",
      " \n",
      "               precision    recall  f1-score   support\n",
      "\n",
      "           2       0.98      0.95      0.96       130\n",
      "           4       0.91      0.96      0.94        77\n",
      "\n",
      "    accuracy                           0.95       207\n",
      "   macro avg       0.94      0.95      0.95       207\n",
      "weighted avg       0.95      0.95      0.95       207\n",
      "\n"
     ]
    }
   ],
   "source": [
    "print('Accuracy_score Testing Data: ',round(accuracy_score(y_test, y_pred)*100,2))\n",
    "\n",
    "print('\\n','Classification_report Testing data: ','\\n','\\n',classification_report(y_test, y_pred))"
   ]
  },
  {
   "cell_type": "code",
   "execution_count": 101,
   "metadata": {},
   "outputs": [
    {
     "name": "stdout",
     "output_type": "stream",
     "text": [
      "[[123   7]\n",
      " [  3  74]]\n"
     ]
    }
   ],
   "source": [
    "cm = confusion_matrix(y_test, y_pred)\n",
    "print(cm) "
   ]
  },
  {
   "cell_type": "markdown",
   "metadata": {},
   "source": [
    "### Predicting on Train data"
   ]
  },
  {
   "cell_type": "code",
   "execution_count": 105,
   "metadata": {},
   "outputs": [
    {
     "data": {
      "text/plain": [
       "array([4, 2, 2, 4, 2, 4, 4, 2, 2, 2, 2, 2, 4, 2, 2, 4, 2, 4, 2, 2, 2, 4,\n",
       "       4, 2, 4, 2, 2, 4, 2, 4, 4, 2, 4, 2, 4, 2, 4, 2, 2, 4, 2, 4, 2, 4,\n",
       "       4, 4, 2, 4, 4, 4, 2, 2, 2, 2, 2, 2, 4, 2, 4, 4, 2, 4, 4, 2, 4, 4,\n",
       "       2, 2, 2, 2, 4, 2, 2, 2, 2, 2, 4, 2, 2, 2, 2, 4, 2, 4, 4, 4, 2, 2,\n",
       "       2, 2, 2, 4, 4, 2, 2, 2, 2, 2, 2, 2, 2, 4, 2, 2, 4, 4, 2, 2, 2, 2,\n",
       "       2, 2, 4, 2, 4, 2, 2, 4, 4, 2, 2, 2, 2, 4, 2, 2, 4, 2, 2, 2, 2, 2,\n",
       "       4, 2, 2, 2, 2, 2, 4, 2, 4, 2, 2, 4, 4, 4, 2, 2, 2, 4, 2, 4, 4, 4,\n",
       "       2, 2, 4, 2, 2, 2, 2, 2, 2, 2, 2, 4, 2, 4, 4, 4, 2, 4, 2, 4, 2, 2,\n",
       "       2, 4, 2, 2, 2, 4, 4, 2, 4, 2, 2, 4, 4, 2, 2, 4, 2, 4, 4, 2, 2, 2,\n",
       "       2, 4, 2, 2, 4, 2, 4, 2, 4, 2, 2, 4, 2, 4, 4, 2, 2, 2, 4, 4, 2, 2,\n",
       "       2, 2, 4, 4, 2, 4, 2, 2, 4, 2, 2, 4, 2, 4, 2, 2, 4, 2, 2, 4, 4, 2,\n",
       "       2, 2, 4, 4, 2, 2, 4, 2, 2, 2, 2, 2, 2, 2, 2, 4, 2, 4, 2, 4, 2, 2,\n",
       "       2, 2, 4, 2, 2, 2, 4, 2, 2, 2, 2, 4, 2, 2, 2, 2, 4, 2, 4, 2, 4, 4,\n",
       "       2, 2, 2, 2, 2, 2, 4, 2, 2, 2, 2, 2, 2, 2, 2, 2, 2, 4, 2, 2, 2, 2,\n",
       "       2, 2, 2, 2, 2, 2, 2, 2, 2, 2, 4, 4, 2, 2, 2, 2, 4, 4, 2, 2, 2, 2,\n",
       "       4, 2, 2, 2, 4, 2, 2, 4, 2, 2, 2, 4, 4, 4, 2, 2, 4, 2, 2, 4, 2, 2,\n",
       "       2, 4, 4, 4, 4, 2, 4, 4, 4, 2, 4, 2, 4, 2, 2, 4, 2, 2, 2, 4, 4, 2,\n",
       "       4, 2, 4, 2, 2, 4, 2, 2, 2, 2, 2, 2, 2, 2, 4, 2, 4, 4, 4, 4, 2, 2,\n",
       "       2, 4, 4, 4, 4, 4, 4, 2, 4, 4, 4, 2, 4, 2, 4, 2, 2, 4, 2, 2, 2, 2,\n",
       "       2, 2, 2, 2, 2, 4, 2, 2, 2, 2, 2, 4, 4, 2, 4, 2, 2, 2, 2, 2, 4, 2,\n",
       "       4, 2, 2, 2, 4, 2, 2, 2, 2, 2, 2, 2, 2, 2, 4, 2, 2, 4, 2, 2, 2, 2,\n",
       "       2, 2, 2, 2, 4, 2, 4, 2, 2, 2, 4, 2, 2, 2, 2, 2, 2, 2, 2, 4, 2],\n",
       "      dtype=int64)"
      ]
     },
     "metadata": {},
     "output_type": "display_data"
    },
    {
     "data": {
      "text/plain": [
       "483"
      ]
     },
     "metadata": {},
     "output_type": "display_data"
    }
   ],
   "source": [
    "y_train_pred = clf.predict(X_train)\n",
    "\n",
    "display(y_train_pred,\n",
    "        len(y_train_pred))"
   ]
  },
  {
   "cell_type": "markdown",
   "metadata": {},
   "source": [
    "### Checking accuracy of predicted train values"
   ]
  },
  {
   "cell_type": "code",
   "execution_count": 106,
   "metadata": {},
   "outputs": [
    {
     "name": "stdout",
     "output_type": "stream",
     "text": [
      "Accuracy_score Training Data:  97.72\n",
      "\n",
      " Classification_report Training Data:  \n",
      " \n",
      "               precision    recall  f1-score   support\n",
      "\n",
      "           2       0.99      0.98      0.98       322\n",
      "           4       0.96      0.98      0.97       161\n",
      "\n",
      "    accuracy                           0.98       483\n",
      "   macro avg       0.97      0.98      0.97       483\n",
      "weighted avg       0.98      0.98      0.98       483\n",
      "\n"
     ]
    }
   ],
   "source": [
    "print('Accuracy_score Training Data: ',round(accuracy_score(y_train, y_train_pred)*100,2))\n",
    "print('\\n','Classification_report Training Data: ','\\n','\\n',classification_report(y_train, y_train_pred))"
   ]
  },
  {
   "cell_type": "markdown",
   "metadata": {},
   "source": [
    "### Predicting Probability"
   ]
  },
  {
   "cell_type": "code",
   "execution_count": 107,
   "metadata": {},
   "outputs": [
    {
     "data": {
      "text/html": [
       "<div>\n",
       "<style scoped>\n",
       "    .dataframe tbody tr th:only-of-type {\n",
       "        vertical-align: middle;\n",
       "    }\n",
       "\n",
       "    .dataframe tbody tr th {\n",
       "        vertical-align: top;\n",
       "    }\n",
       "\n",
       "    .dataframe thead th {\n",
       "        text-align: right;\n",
       "    }\n",
       "</style>\n",
       "<table border=\"1\" class=\"dataframe\">\n",
       "  <thead>\n",
       "    <tr style=\"text-align: right;\">\n",
       "      <th></th>\n",
       "      <th>2</th>\n",
       "      <th>4</th>\n",
       "    </tr>\n",
       "  </thead>\n",
       "  <tbody>\n",
       "    <tr>\n",
       "      <th>0</th>\n",
       "      <td>1.000000</td>\n",
       "      <td>0.000000</td>\n",
       "    </tr>\n",
       "    <tr>\n",
       "      <th>415</th>\n",
       "      <td>0.428571</td>\n",
       "      <td>0.571429</td>\n",
       "    </tr>\n",
       "    <tr>\n",
       "      <th>478</th>\n",
       "      <td>1.000000</td>\n",
       "      <td>0.000000</td>\n",
       "    </tr>\n",
       "    <tr>\n",
       "      <th>237</th>\n",
       "      <td>0.000000</td>\n",
       "      <td>1.000000</td>\n",
       "    </tr>\n",
       "    <tr>\n",
       "      <th>386</th>\n",
       "      <td>0.000000</td>\n",
       "      <td>1.000000</td>\n",
       "    </tr>\n",
       "  </tbody>\n",
       "</table>\n",
       "</div>"
      ],
      "text/plain": [
       "            2         4\n",
       "0    1.000000  0.000000\n",
       "415  0.428571  0.571429\n",
       "478  1.000000  0.000000\n",
       "237  0.000000  1.000000\n",
       "386  0.000000  1.000000"
      ]
     },
     "execution_count": 107,
     "metadata": {},
     "output_type": "execute_result"
    }
   ],
   "source": [
    "prob = clf.predict_proba(X_test)\n",
    "\n",
    "df1 = pd.DataFrame(prob, columns=clf.classes_, index=X_test.index)\n",
    "\n",
    "df1.head()"
   ]
  },
  {
   "cell_type": "markdown",
   "metadata": {},
   "source": [
    "## Grid Search CV"
   ]
  },
  {
   "cell_type": "code",
   "execution_count": 108,
   "metadata": {},
   "outputs": [],
   "source": [
    "## Importing Grid Search\n",
    "\n",
    "from sklearn.model_selection import GridSearchCV"
   ]
  },
  {
   "cell_type": "code",
   "execution_count": 109,
   "metadata": {},
   "outputs": [
    {
     "name": "stdout",
     "output_type": "stream",
     "text": [
      "Fitting 4 folds for each of 20 candidates, totalling 80 fits\n",
      "[CV] metric=manhattan, n_neighbors=3 .................................\n",
      "[CV] ..... metric=manhattan, n_neighbors=3, score=0.975, total=   0.0s\n",
      "[CV] metric=manhattan, n_neighbors=3 .................................\n",
      "[CV] ..... metric=manhattan, n_neighbors=3, score=0.975, total=   0.0s\n",
      "[CV] metric=manhattan, n_neighbors=3 .................................\n",
      "[CV] ..... metric=manhattan, n_neighbors=3, score=0.983, total=   0.0s\n",
      "[CV] metric=manhattan, n_neighbors=3 .................................\n",
      "[CV] ..... metric=manhattan, n_neighbors=3, score=0.967, total=   0.0s\n",
      "[CV] metric=manhattan, n_neighbors=5 .................................\n",
      "[CV] ..... metric=manhattan, n_neighbors=5, score=0.959, total=   0.0s\n",
      "[CV] metric=manhattan, n_neighbors=5 .................................\n",
      "[CV] ..... metric=manhattan, n_neighbors=5, score=0.975, total=   0.0s\n",
      "[CV] metric=manhattan, n_neighbors=5 .................................\n",
      "[CV] ..... metric=manhattan, n_neighbors=5, score=0.983, total=   0.0s\n",
      "[CV] metric=manhattan, n_neighbors=5 .................................\n",
      "[CV] ..... metric=manhattan, n_neighbors=5, score=0.967, total=   0.0s\n",
      "[CV] metric=manhattan, n_neighbors=7 .................................\n",
      "[CV] ..... metric=manhattan, n_neighbors=7, score=0.959, total=   0.0s\n",
      "[CV] metric=manhattan, n_neighbors=7 .................................\n",
      "[CV] ..... metric=manhattan, n_neighbors=7, score=0.967, total=   0.0s\n",
      "[CV] metric=manhattan, n_neighbors=7 .................................\n",
      "[CV] ..... metric=manhattan, n_neighbors=7, score=0.975, total=   0.0s\n",
      "[CV] metric=manhattan, n_neighbors=7 .................................\n",
      "[CV] ..... metric=manhattan, n_neighbors=7, score=0.950, total=   0.0s\n",
      "[CV] metric=manhattan, n_neighbors=9 .................................\n",
      "[CV] ..... metric=manhattan, n_neighbors=9, score=0.959, total=   0.0s"
     ]
    },
    {
     "name": "stderr",
     "output_type": "stream",
     "text": [
      "[Parallel(n_jobs=1)]: Using backend SequentialBackend with 1 concurrent workers.\n",
      "[Parallel(n_jobs=1)]: Done   1 out of   1 | elapsed:    0.0s remaining:    0.0s\n",
      "[Parallel(n_jobs=1)]: Done   2 out of   2 | elapsed:    0.0s remaining:    0.0s\n",
      "[Parallel(n_jobs=1)]: Done   3 out of   3 | elapsed:    0.0s remaining:    0.0s\n",
      "[Parallel(n_jobs=1)]: Done   4 out of   4 | elapsed:    0.0s remaining:    0.0s\n"
     ]
    },
    {
     "name": "stdout",
     "output_type": "stream",
     "text": [
      "\n",
      "[CV] metric=manhattan, n_neighbors=9 .................................\n",
      "[CV] ..... metric=manhattan, n_neighbors=9, score=0.967, total=   0.0s\n",
      "[CV] metric=manhattan, n_neighbors=9 .................................\n",
      "[CV] ..... metric=manhattan, n_neighbors=9, score=0.975, total=   0.0s\n",
      "[CV] metric=manhattan, n_neighbors=9 .................................\n",
      "[CV] ..... metric=manhattan, n_neighbors=9, score=0.958, total=   0.0s\n",
      "[CV] metric=manhattan, n_neighbors=11 ................................\n",
      "[CV] .... metric=manhattan, n_neighbors=11, score=0.959, total=   0.0s\n",
      "[CV] metric=manhattan, n_neighbors=11 ................................\n",
      "[CV] .... metric=manhattan, n_neighbors=11, score=0.967, total=   0.0s\n",
      "[CV] metric=manhattan, n_neighbors=11 ................................\n",
      "[CV] .... metric=manhattan, n_neighbors=11, score=0.975, total=   0.0s\n",
      "[CV] metric=manhattan, n_neighbors=11 ................................\n",
      "[CV] .... metric=manhattan, n_neighbors=11, score=0.958, total=   0.0s\n",
      "[CV] metric=manhattan, n_neighbors=13 ................................\n",
      "[CV] .... metric=manhattan, n_neighbors=13, score=0.950, total=   0.0s\n",
      "[CV] metric=manhattan, n_neighbors=13 ................................\n",
      "[CV] .... metric=manhattan, n_neighbors=13, score=0.967, total=   0.0s\n",
      "[CV] metric=manhattan, n_neighbors=13 ................................\n",
      "[CV] .... metric=manhattan, n_neighbors=13, score=0.975, total=   0.0s\n",
      "[CV] metric=manhattan, n_neighbors=13 ................................\n",
      "[CV] .... metric=manhattan, n_neighbors=13, score=0.958, total=   0.0s\n",
      "[CV] metric=manhattan, n_neighbors=15 ................................\n",
      "[CV] .... metric=manhattan, n_neighbors=15, score=0.959, total=   0.0s\n",
      "[CV] metric=manhattan, n_neighbors=15 ................................\n",
      "[CV] .... metric=manhattan, n_neighbors=15, score=0.967, total=   0.0s\n",
      "[CV] metric=manhattan, n_neighbors=15 ................................\n",
      "[CV] .... metric=manhattan, n_neighbors=15, score=0.975, total=   0.0s\n",
      "[CV] metric=manhattan, n_neighbors=15 ................................\n",
      "[CV] .... metric=manhattan, n_neighbors=15, score=0.958, total=   0.0s\n",
      "[CV] metric=manhattan, n_neighbors=21 ................................\n",
      "[CV] .... metric=manhattan, n_neighbors=21, score=0.950, total=   0.0s\n",
      "[CV] metric=manhattan, n_neighbors=21 ................................\n",
      "[CV] .... metric=manhattan, n_neighbors=21, score=0.967, total=   0.0s\n",
      "[CV] metric=manhattan, n_neighbors=21 ................................\n",
      "[CV] .... metric=manhattan, n_neighbors=21, score=0.975, total=   0.0s\n",
      "[CV] metric=manhattan, n_neighbors=21 ................................\n",
      "[CV] .... metric=manhattan, n_neighbors=21, score=0.958, total=   0.0s\n",
      "[CV] metric=manhattan, n_neighbors=25 ................................\n",
      "[CV] .... metric=manhattan, n_neighbors=25, score=0.950, total=   0.0s\n",
      "[CV] metric=manhattan, n_neighbors=25 ................................\n",
      "[CV] .... metric=manhattan, n_neighbors=25, score=0.967, total=   0.0s\n",
      "[CV] metric=manhattan, n_neighbors=25 ................................\n",
      "[CV] .... metric=manhattan, n_neighbors=25, score=0.975, total=   0.0s\n",
      "[CV] metric=manhattan, n_neighbors=25 ................................\n",
      "[CV] .... metric=manhattan, n_neighbors=25, score=0.950, total=   0.0s\n",
      "[CV] metric=manhattan, n_neighbors=31 ................................\n",
      "[CV] .... metric=manhattan, n_neighbors=31, score=0.934, total=   0.0s\n",
      "[CV] metric=manhattan, n_neighbors=31 ................................\n",
      "[CV] .... metric=manhattan, n_neighbors=31, score=0.967, total=   0.0s\n",
      "[CV] metric=manhattan, n_neighbors=31 ................................\n",
      "[CV] .... metric=manhattan, n_neighbors=31, score=0.975, total=   0.0s\n",
      "[CV] metric=manhattan, n_neighbors=31 ................................\n",
      "[CV] .... metric=manhattan, n_neighbors=31, score=0.967, total=   0.0s\n",
      "[CV] metric=eucledian, n_neighbors=3 .................................\n",
      "[CV] ....... metric=eucledian, n_neighbors=3, score=nan, total=   0.0s\n",
      "[CV] metric=eucledian, n_neighbors=3 .................................\n",
      "[CV] ....... metric=eucledian, n_neighbors=3, score=nan, total=   0.0s\n",
      "[CV] metric=eucledian, n_neighbors=3 .................................\n",
      "[CV] ....... metric=eucledian, n_neighbors=3, score=nan, total=   0.0s\n",
      "[CV] metric=eucledian, n_neighbors=3 .................................\n",
      "[CV] ....... metric=eucledian, n_neighbors=3, score=nan, total=   0.0s\n",
      "[CV] metric=eucledian, n_neighbors=5 .................................\n",
      "[CV] ....... metric=eucledian, n_neighbors=5, score=nan, total=   0.0s\n",
      "[CV] metric=eucledian, n_neighbors=5 .................................\n",
      "[CV] ....... metric=eucledian, n_neighbors=5, score=nan, total=   0.0s\n",
      "[CV] metric=eucledian, n_neighbors=5 .................................\n",
      "[CV] ....... metric=eucledian, n_neighbors=5, score=nan, total=   0.0s\n",
      "[CV] metric=eucledian, n_neighbors=5 .................................\n",
      "[CV] ....... metric=eucledian, n_neighbors=5, score=nan, total=   0.0s\n",
      "[CV] metric=eucledian, n_neighbors=7 .................................\n",
      "[CV] ....... metric=eucledian, n_neighbors=7, score=nan, total=   0.0s\n",
      "[CV] metric=eucledian, n_neighbors=7 .................................\n",
      "[CV] ....... metric=eucledian, n_neighbors=7, score=nan, total=   0.0s\n",
      "[CV] metric=eucledian, n_neighbors=7 .................................\n",
      "[CV] ....... metric=eucledian, n_neighbors=7, score=nan, total=   0.0s\n",
      "[CV] metric=eucledian, n_neighbors=7 .................................\n",
      "[CV] ....... metric=eucledian, n_neighbors=7, score=nan, total=   0.0s\n",
      "[CV] metric=eucledian, n_neighbors=9 .................................\n",
      "[CV] ....... metric=eucledian, n_neighbors=9, score=nan, total=   0.0s\n",
      "[CV] metric=eucledian, n_neighbors=9 .................................\n",
      "[CV] ....... metric=eucledian, n_neighbors=9, score=nan, total=   0.0s\n",
      "[CV] metric=eucledian, n_neighbors=9 .................................\n",
      "[CV] ....... metric=eucledian, n_neighbors=9, score=nan, total=   0.0s\n",
      "[CV] metric=eucledian, n_neighbors=9 .................................\n",
      "[CV] ....... metric=eucledian, n_neighbors=9, score=nan, total=   0.0s\n",
      "[CV] metric=eucledian, n_neighbors=11 ................................\n",
      "[CV] ...... metric=eucledian, n_neighbors=11, score=nan, total=   0.0s\n",
      "[CV] metric=eucledian, n_neighbors=11 ................................\n",
      "[CV] ...... metric=eucledian, n_neighbors=11, score=nan, total=   0.0s\n",
      "[CV] metric=eucledian, n_neighbors=11 ................................\n",
      "[CV] ...... metric=eucledian, n_neighbors=11, score=nan, total=   0.0s\n",
      "[CV] metric=eucledian, n_neighbors=11 ................................\n",
      "[CV] ...... metric=eucledian, n_neighbors=11, score=nan, total=   0.0s\n",
      "[CV] metric=eucledian, n_neighbors=13 ................................\n",
      "[CV] ...... metric=eucledian, n_neighbors=13, score=nan, total=   0.0s\n",
      "[CV] metric=eucledian, n_neighbors=13 ................................\n",
      "[CV] ...... metric=eucledian, n_neighbors=13, score=nan, total=   0.0s\n",
      "[CV] metric=eucledian, n_neighbors=13 ................................\n",
      "[CV] ...... metric=eucledian, n_neighbors=13, score=nan, total=   0.0s\n",
      "[CV] metric=eucledian, n_neighbors=13 ................................\n",
      "[CV] ...... metric=eucledian, n_neighbors=13, score=nan, total=   0.0s\n",
      "[CV] metric=eucledian, n_neighbors=15 ................................\n",
      "[CV] ...... metric=eucledian, n_neighbors=15, score=nan, total=   0.0s\n",
      "[CV] metric=eucledian, n_neighbors=15 ................................\n",
      "[CV] ...... metric=eucledian, n_neighbors=15, score=nan, total=   0.0s\n",
      "[CV] metric=eucledian, n_neighbors=15 ................................\n",
      "[CV] ...... metric=eucledian, n_neighbors=15, score=nan, total=   0.0s\n",
      "[CV] metric=eucledian, n_neighbors=15 ................................\n",
      "[CV] ...... metric=eucledian, n_neighbors=15, score=nan, total=   0.0s\n",
      "[CV] metric=eucledian, n_neighbors=21 ................................\n",
      "[CV] ...... metric=eucledian, n_neighbors=21, score=nan, total=   0.0s\n",
      "[CV] metric=eucledian, n_neighbors=21 ................................\n",
      "[CV] ...... metric=eucledian, n_neighbors=21, score=nan, total=   0.0s\n",
      "[CV] metric=eucledian, n_neighbors=21 ................................\n",
      "[CV] ...... metric=eucledian, n_neighbors=21, score=nan, total=   0.0s\n",
      "[CV] metric=eucledian, n_neighbors=21 ................................\n",
      "[CV] ...... metric=eucledian, n_neighbors=21, score=nan, total=   0.0s\n",
      "[CV] metric=eucledian, n_neighbors=25 ................................\n",
      "[CV] ...... metric=eucledian, n_neighbors=25, score=nan, total=   0.0s\n",
      "[CV] metric=eucledian, n_neighbors=25 ................................\n"
     ]
    },
    {
     "name": "stderr",
     "output_type": "stream",
     "text": [
      "C:\\Users\\aditi\\anaconda3\\lib\\site-packages\\sklearn\\model_selection\\_validation.py:536: FitFailedWarning: Estimator fit failed. The score on this train-test partition for these parameters will be set to nan. Details: \n",
      "ValueError: Metric 'eucledian' not valid. Use sorted(sklearn.neighbors.VALID_METRICS['brute']) to get valid options. Metric can also be a callable function.\n",
      "\n",
      "  FitFailedWarning)\n",
      "C:\\Users\\aditi\\anaconda3\\lib\\site-packages\\sklearn\\model_selection\\_validation.py:536: FitFailedWarning: Estimator fit failed. The score on this train-test partition for these parameters will be set to nan. Details: \n",
      "ValueError: Metric 'eucledian' not valid. Use sorted(sklearn.neighbors.VALID_METRICS['brute']) to get valid options. Metric can also be a callable function.\n",
      "\n",
      "  FitFailedWarning)\n",
      "C:\\Users\\aditi\\anaconda3\\lib\\site-packages\\sklearn\\model_selection\\_validation.py:536: FitFailedWarning: Estimator fit failed. The score on this train-test partition for these parameters will be set to nan. Details: \n",
      "ValueError: Metric 'eucledian' not valid. Use sorted(sklearn.neighbors.VALID_METRICS['brute']) to get valid options. Metric can also be a callable function.\n",
      "\n",
      "  FitFailedWarning)\n",
      "C:\\Users\\aditi\\anaconda3\\lib\\site-packages\\sklearn\\model_selection\\_validation.py:536: FitFailedWarning: Estimator fit failed. The score on this train-test partition for these parameters will be set to nan. Details: \n",
      "ValueError: Metric 'eucledian' not valid. Use sorted(sklearn.neighbors.VALID_METRICS['brute']) to get valid options. Metric can also be a callable function.\n",
      "\n",
      "  FitFailedWarning)\n",
      "C:\\Users\\aditi\\anaconda3\\lib\\site-packages\\sklearn\\model_selection\\_validation.py:536: FitFailedWarning: Estimator fit failed. The score on this train-test partition for these parameters will be set to nan. Details: \n",
      "ValueError: Metric 'eucledian' not valid. Use sorted(sklearn.neighbors.VALID_METRICS['brute']) to get valid options. Metric can also be a callable function.\n",
      "\n",
      "  FitFailedWarning)\n",
      "C:\\Users\\aditi\\anaconda3\\lib\\site-packages\\sklearn\\model_selection\\_validation.py:536: FitFailedWarning: Estimator fit failed. The score on this train-test partition for these parameters will be set to nan. Details: \n",
      "ValueError: Metric 'eucledian' not valid. Use sorted(sklearn.neighbors.VALID_METRICS['brute']) to get valid options. Metric can also be a callable function.\n",
      "\n",
      "  FitFailedWarning)\n",
      "C:\\Users\\aditi\\anaconda3\\lib\\site-packages\\sklearn\\model_selection\\_validation.py:536: FitFailedWarning: Estimator fit failed. The score on this train-test partition for these parameters will be set to nan. Details: \n",
      "ValueError: Metric 'eucledian' not valid. Use sorted(sklearn.neighbors.VALID_METRICS['brute']) to get valid options. Metric can also be a callable function.\n",
      "\n",
      "  FitFailedWarning)\n",
      "C:\\Users\\aditi\\anaconda3\\lib\\site-packages\\sklearn\\model_selection\\_validation.py:536: FitFailedWarning: Estimator fit failed. The score on this train-test partition for these parameters will be set to nan. Details: \n",
      "ValueError: Metric 'eucledian' not valid. Use sorted(sklearn.neighbors.VALID_METRICS['brute']) to get valid options. Metric can also be a callable function.\n",
      "\n",
      "  FitFailedWarning)\n",
      "C:\\Users\\aditi\\anaconda3\\lib\\site-packages\\sklearn\\model_selection\\_validation.py:536: FitFailedWarning: Estimator fit failed. The score on this train-test partition for these parameters will be set to nan. Details: \n",
      "ValueError: Metric 'eucledian' not valid. Use sorted(sklearn.neighbors.VALID_METRICS['brute']) to get valid options. Metric can also be a callable function.\n",
      "\n",
      "  FitFailedWarning)\n",
      "C:\\Users\\aditi\\anaconda3\\lib\\site-packages\\sklearn\\model_selection\\_validation.py:536: FitFailedWarning: Estimator fit failed. The score on this train-test partition for these parameters will be set to nan. Details: \n",
      "ValueError: Metric 'eucledian' not valid. Use sorted(sklearn.neighbors.VALID_METRICS['brute']) to get valid options. Metric can also be a callable function.\n",
      "\n",
      "  FitFailedWarning)\n",
      "C:\\Users\\aditi\\anaconda3\\lib\\site-packages\\sklearn\\model_selection\\_validation.py:536: FitFailedWarning: Estimator fit failed. The score on this train-test partition for these parameters will be set to nan. Details: \n",
      "ValueError: Metric 'eucledian' not valid. Use sorted(sklearn.neighbors.VALID_METRICS['brute']) to get valid options. Metric can also be a callable function.\n",
      "\n",
      "  FitFailedWarning)\n",
      "C:\\Users\\aditi\\anaconda3\\lib\\site-packages\\sklearn\\model_selection\\_validation.py:536: FitFailedWarning: Estimator fit failed. The score on this train-test partition for these parameters will be set to nan. Details: \n",
      "ValueError: Metric 'eucledian' not valid. Use sorted(sklearn.neighbors.VALID_METRICS['brute']) to get valid options. Metric can also be a callable function.\n",
      "\n",
      "  FitFailedWarning)\n",
      "C:\\Users\\aditi\\anaconda3\\lib\\site-packages\\sklearn\\model_selection\\_validation.py:536: FitFailedWarning: Estimator fit failed. The score on this train-test partition for these parameters will be set to nan. Details: \n",
      "ValueError: Metric 'eucledian' not valid. Use sorted(sklearn.neighbors.VALID_METRICS['brute']) to get valid options. Metric can also be a callable function.\n",
      "\n",
      "  FitFailedWarning)\n",
      "C:\\Users\\aditi\\anaconda3\\lib\\site-packages\\sklearn\\model_selection\\_validation.py:536: FitFailedWarning: Estimator fit failed. The score on this train-test partition for these parameters will be set to nan. Details: \n",
      "ValueError: Metric 'eucledian' not valid. Use sorted(sklearn.neighbors.VALID_METRICS['brute']) to get valid options. Metric can also be a callable function.\n",
      "\n",
      "  FitFailedWarning)\n",
      "C:\\Users\\aditi\\anaconda3\\lib\\site-packages\\sklearn\\model_selection\\_validation.py:536: FitFailedWarning: Estimator fit failed. The score on this train-test partition for these parameters will be set to nan. Details: \n",
      "ValueError: Metric 'eucledian' not valid. Use sorted(sklearn.neighbors.VALID_METRICS['brute']) to get valid options. Metric can also be a callable function.\n",
      "\n",
      "  FitFailedWarning)\n",
      "C:\\Users\\aditi\\anaconda3\\lib\\site-packages\\sklearn\\model_selection\\_validation.py:536: FitFailedWarning: Estimator fit failed. The score on this train-test partition for these parameters will be set to nan. Details: \n",
      "ValueError: Metric 'eucledian' not valid. Use sorted(sklearn.neighbors.VALID_METRICS['brute']) to get valid options. Metric can also be a callable function.\n",
      "\n",
      "  FitFailedWarning)\n",
      "C:\\Users\\aditi\\anaconda3\\lib\\site-packages\\sklearn\\model_selection\\_validation.py:536: FitFailedWarning: Estimator fit failed. The score on this train-test partition for these parameters will be set to nan. Details: \n",
      "ValueError: Metric 'eucledian' not valid. Use sorted(sklearn.neighbors.VALID_METRICS['brute']) to get valid options. Metric can also be a callable function.\n",
      "\n",
      "  FitFailedWarning)\n",
      "C:\\Users\\aditi\\anaconda3\\lib\\site-packages\\sklearn\\model_selection\\_validation.py:536: FitFailedWarning: Estimator fit failed. The score on this train-test partition for these parameters will be set to nan. Details: \n",
      "ValueError: Metric 'eucledian' not valid. Use sorted(sklearn.neighbors.VALID_METRICS['brute']) to get valid options. Metric can also be a callable function.\n",
      "\n",
      "  FitFailedWarning)\n",
      "C:\\Users\\aditi\\anaconda3\\lib\\site-packages\\sklearn\\model_selection\\_validation.py:536: FitFailedWarning: Estimator fit failed. The score on this train-test partition for these parameters will be set to nan. Details: \n",
      "ValueError: Metric 'eucledian' not valid. Use sorted(sklearn.neighbors.VALID_METRICS['brute']) to get valid options. Metric can also be a callable function.\n",
      "\n",
      "  FitFailedWarning)\n",
      "C:\\Users\\aditi\\anaconda3\\lib\\site-packages\\sklearn\\model_selection\\_validation.py:536: FitFailedWarning: Estimator fit failed. The score on this train-test partition for these parameters will be set to nan. Details: \n",
      "ValueError: Metric 'eucledian' not valid. Use sorted(sklearn.neighbors.VALID_METRICS['brute']) to get valid options. Metric can also be a callable function.\n",
      "\n",
      "  FitFailedWarning)\n",
      "C:\\Users\\aditi\\anaconda3\\lib\\site-packages\\sklearn\\model_selection\\_validation.py:536: FitFailedWarning: Estimator fit failed. The score on this train-test partition for these parameters will be set to nan. Details: \n",
      "ValueError: Metric 'eucledian' not valid. Use sorted(sklearn.neighbors.VALID_METRICS['brute']) to get valid options. Metric can also be a callable function.\n",
      "\n",
      "  FitFailedWarning)\n",
      "C:\\Users\\aditi\\anaconda3\\lib\\site-packages\\sklearn\\model_selection\\_validation.py:536: FitFailedWarning: Estimator fit failed. The score on this train-test partition for these parameters will be set to nan. Details: \n",
      "ValueError: Metric 'eucledian' not valid. Use sorted(sklearn.neighbors.VALID_METRICS['brute']) to get valid options. Metric can also be a callable function.\n",
      "\n",
      "  FitFailedWarning)\n",
      "C:\\Users\\aditi\\anaconda3\\lib\\site-packages\\sklearn\\model_selection\\_validation.py:536: FitFailedWarning: Estimator fit failed. The score on this train-test partition for these parameters will be set to nan. Details: \n",
      "ValueError: Metric 'eucledian' not valid. Use sorted(sklearn.neighbors.VALID_METRICS['brute']) to get valid options. Metric can also be a callable function.\n",
      "\n",
      "  FitFailedWarning)\n",
      "C:\\Users\\aditi\\anaconda3\\lib\\site-packages\\sklearn\\model_selection\\_validation.py:536: FitFailedWarning: Estimator fit failed. The score on this train-test partition for these parameters will be set to nan. Details: \n",
      "ValueError: Metric 'eucledian' not valid. Use sorted(sklearn.neighbors.VALID_METRICS['brute']) to get valid options. Metric can also be a callable function.\n",
      "\n",
      "  FitFailedWarning)\n",
      "C:\\Users\\aditi\\anaconda3\\lib\\site-packages\\sklearn\\model_selection\\_validation.py:536: FitFailedWarning: Estimator fit failed. The score on this train-test partition for these parameters will be set to nan. Details: \n",
      "ValueError: Metric 'eucledian' not valid. Use sorted(sklearn.neighbors.VALID_METRICS['brute']) to get valid options. Metric can also be a callable function.\n",
      "\n",
      "  FitFailedWarning)\n",
      "C:\\Users\\aditi\\anaconda3\\lib\\site-packages\\sklearn\\model_selection\\_validation.py:536: FitFailedWarning: Estimator fit failed. The score on this train-test partition for these parameters will be set to nan. Details: \n",
      "ValueError: Metric 'eucledian' not valid. Use sorted(sklearn.neighbors.VALID_METRICS['brute']) to get valid options. Metric can also be a callable function.\n",
      "\n",
      "  FitFailedWarning)\n",
      "C:\\Users\\aditi\\anaconda3\\lib\\site-packages\\sklearn\\model_selection\\_validation.py:536: FitFailedWarning: Estimator fit failed. The score on this train-test partition for these parameters will be set to nan. Details: \n",
      "ValueError: Metric 'eucledian' not valid. Use sorted(sklearn.neighbors.VALID_METRICS['brute']) to get valid options. Metric can also be a callable function.\n",
      "\n",
      "  FitFailedWarning)\n",
      "C:\\Users\\aditi\\anaconda3\\lib\\site-packages\\sklearn\\model_selection\\_validation.py:536: FitFailedWarning: Estimator fit failed. The score on this train-test partition for these parameters will be set to nan. Details: \n",
      "ValueError: Metric 'eucledian' not valid. Use sorted(sklearn.neighbors.VALID_METRICS['brute']) to get valid options. Metric can also be a callable function.\n",
      "\n",
      "  FitFailedWarning)\n",
      "C:\\Users\\aditi\\anaconda3\\lib\\site-packages\\sklearn\\model_selection\\_validation.py:536: FitFailedWarning: Estimator fit failed. The score on this train-test partition for these parameters will be set to nan. Details: \n",
      "ValueError: Metric 'eucledian' not valid. Use sorted(sklearn.neighbors.VALID_METRICS['brute']) to get valid options. Metric can also be a callable function.\n",
      "\n",
      "  FitFailedWarning)\n",
      "C:\\Users\\aditi\\anaconda3\\lib\\site-packages\\sklearn\\model_selection\\_validation.py:536: FitFailedWarning: Estimator fit failed. The score on this train-test partition for these parameters will be set to nan. Details: \n",
      "ValueError: Metric 'eucledian' not valid. Use sorted(sklearn.neighbors.VALID_METRICS['brute']) to get valid options. Metric can also be a callable function.\n",
      "\n",
      "  FitFailedWarning)\n",
      "C:\\Users\\aditi\\anaconda3\\lib\\site-packages\\sklearn\\model_selection\\_validation.py:536: FitFailedWarning: Estimator fit failed. The score on this train-test partition for these parameters will be set to nan. Details: \n",
      "ValueError: Metric 'eucledian' not valid. Use sorted(sklearn.neighbors.VALID_METRICS['brute']) to get valid options. Metric can also be a callable function.\n",
      "\n",
      "  FitFailedWarning)\n",
      "C:\\Users\\aditi\\anaconda3\\lib\\site-packages\\sklearn\\model_selection\\_validation.py:536: FitFailedWarning: Estimator fit failed. The score on this train-test partition for these parameters will be set to nan. Details: \n",
      "ValueError: Metric 'eucledian' not valid. Use sorted(sklearn.neighbors.VALID_METRICS['brute']) to get valid options. Metric can also be a callable function.\n",
      "\n",
      "  FitFailedWarning)\n",
      "C:\\Users\\aditi\\anaconda3\\lib\\site-packages\\sklearn\\model_selection\\_validation.py:536: FitFailedWarning: Estimator fit failed. The score on this train-test partition for these parameters will be set to nan. Details: \n",
      "ValueError: Metric 'eucledian' not valid. Use sorted(sklearn.neighbors.VALID_METRICS['brute']) to get valid options. Metric can also be a callable function.\n",
      "\n",
      "  FitFailedWarning)\n",
      "C:\\Users\\aditi\\anaconda3\\lib\\site-packages\\sklearn\\model_selection\\_validation.py:536: FitFailedWarning: Estimator fit failed. The score on this train-test partition for these parameters will be set to nan. Details: \n",
      "ValueError: Metric 'eucledian' not valid. Use sorted(sklearn.neighbors.VALID_METRICS['brute']) to get valid options. Metric can also be a callable function.\n",
      "\n",
      "  FitFailedWarning)\n",
      "C:\\Users\\aditi\\anaconda3\\lib\\site-packages\\sklearn\\model_selection\\_validation.py:536: FitFailedWarning: Estimator fit failed. The score on this train-test partition for these parameters will be set to nan. Details: \n",
      "ValueError: Metric 'eucledian' not valid. Use sorted(sklearn.neighbors.VALID_METRICS['brute']) to get valid options. Metric can also be a callable function.\n",
      "\n",
      "  FitFailedWarning)\n",
      "C:\\Users\\aditi\\anaconda3\\lib\\site-packages\\sklearn\\model_selection\\_validation.py:536: FitFailedWarning: Estimator fit failed. The score on this train-test partition for these parameters will be set to nan. Details: \n",
      "ValueError: Metric 'eucledian' not valid. Use sorted(sklearn.neighbors.VALID_METRICS['brute']) to get valid options. Metric can also be a callable function.\n",
      "\n",
      "  FitFailedWarning)\n",
      "C:\\Users\\aditi\\anaconda3\\lib\\site-packages\\sklearn\\model_selection\\_validation.py:536: FitFailedWarning: Estimator fit failed. The score on this train-test partition for these parameters will be set to nan. Details: \n",
      "ValueError: Metric 'eucledian' not valid. Use sorted(sklearn.neighbors.VALID_METRICS['brute']) to get valid options. Metric can also be a callable function.\n",
      "\n",
      "  FitFailedWarning)\n",
      "C:\\Users\\aditi\\anaconda3\\lib\\site-packages\\sklearn\\model_selection\\_validation.py:536: FitFailedWarning: Estimator fit failed. The score on this train-test partition for these parameters will be set to nan. Details: \n",
      "ValueError: Metric 'eucledian' not valid. Use sorted(sklearn.neighbors.VALID_METRICS['brute']) to get valid options. Metric can also be a callable function.\n",
      "\n",
      "  FitFailedWarning)\n"
     ]
    },
    {
     "name": "stdout",
     "output_type": "stream",
     "text": [
      "[CV] ...... metric=eucledian, n_neighbors=25, score=nan, total=   0.0s\n",
      "[CV] metric=eucledian, n_neighbors=25 ................................\n",
      "[CV] ...... metric=eucledian, n_neighbors=25, score=nan, total=   0.0s\n",
      "[CV] metric=eucledian, n_neighbors=25 ................................\n",
      "[CV] ...... metric=eucledian, n_neighbors=25, score=nan, total=   0.0s\n",
      "[CV] metric=eucledian, n_neighbors=31 ................................\n",
      "[CV] ...... metric=eucledian, n_neighbors=31, score=nan, total=   0.0s\n",
      "[CV] metric=eucledian, n_neighbors=31 ................................\n",
      "[CV] ...... metric=eucledian, n_neighbors=31, score=nan, total=   0.0s\n",
      "[CV] metric=eucledian, n_neighbors=31 ................................\n",
      "[CV] ...... metric=eucledian, n_neighbors=31, score=nan, total=   0.0s\n",
      "[CV] metric=eucledian, n_neighbors=31 ................................\n",
      "[CV] ...... metric=eucledian, n_neighbors=31, score=nan, total=   0.0s\n",
      "Best Params:  {'metric': 'manhattan', 'n_neighbors': 3}\n",
      "model_best_score_ : 97.51\n"
     ]
    },
    {
     "name": "stderr",
     "output_type": "stream",
     "text": [
      "C:\\Users\\aditi\\anaconda3\\lib\\site-packages\\sklearn\\model_selection\\_validation.py:536: FitFailedWarning: Estimator fit failed. The score on this train-test partition for these parameters will be set to nan. Details: \n",
      "ValueError: Metric 'eucledian' not valid. Use sorted(sklearn.neighbors.VALID_METRICS['brute']) to get valid options. Metric can also be a callable function.\n",
      "\n",
      "  FitFailedWarning)\n",
      "C:\\Users\\aditi\\anaconda3\\lib\\site-packages\\sklearn\\model_selection\\_validation.py:536: FitFailedWarning: Estimator fit failed. The score on this train-test partition for these parameters will be set to nan. Details: \n",
      "ValueError: Metric 'eucledian' not valid. Use sorted(sklearn.neighbors.VALID_METRICS['brute']) to get valid options. Metric can also be a callable function.\n",
      "\n",
      "  FitFailedWarning)\n",
      "[Parallel(n_jobs=1)]: Done  80 out of  80 | elapsed:    0.7s finished\n"
     ]
    }
   ],
   "source": [
    "p = {'n_neighbors' : [3,5,7,9,11,13,15,21,25,31],\n",
    "    'metric':['manhattan','eucledian']\n",
    "    }\n",
    "\n",
    "model = GridSearchCV(clf,param_grid= p, cv = 4, verbose = 5)\n",
    "\n",
    "model.fit(X_train, y_train)\n"
   ]
  },
  {
   "cell_type": "code",
   "execution_count": 111,
   "metadata": {},
   "outputs": [
    {
     "name": "stdout",
     "output_type": "stream",
     "text": [
      "Best Params:  {'metric': 'manhattan', 'n_neighbors': 3}\n",
      "model_best_score_ : 97.51\n"
     ]
    }
   ],
   "source": [
    "print('Best Params: ',model.best_params_)\n",
    "\n",
    "print('model_best_score_ :',np.round((model.best_score_)*100,2 ))\n"
   ]
  },
  {
   "cell_type": "markdown",
   "metadata": {},
   "source": [
    "### Predicting on test data"
   ]
  },
  {
   "cell_type": "code",
   "execution_count": 110,
   "metadata": {},
   "outputs": [
    {
     "data": {
      "text/plain": [
       "array([2, 4, 2, 4, 4, 2, 2, 4, 2, 4, 2, 4, 4, 2, 2, 2, 4, 4, 4, 4, 4, 2,\n",
       "       4, 2, 2, 2, 2, 4, 4, 4, 4, 4, 2, 2, 4, 4, 4, 2, 4, 4, 4, 4, 4, 2,\n",
       "       4, 2, 4, 4, 2, 2, 2, 2, 2, 2, 2, 4, 2, 2, 2, 2, 2, 2, 2, 2, 2, 2,\n",
       "       4, 2, 2, 4, 2, 2, 2, 2, 2, 2, 2, 2, 2, 2, 2, 2, 2, 2, 2, 2, 2, 2,\n",
       "       2, 2, 4, 2, 2, 4, 2, 2, 4, 4, 4, 4, 2, 4, 4, 2, 2, 2, 2, 4, 2, 4,\n",
       "       2, 2, 4, 2, 2, 2, 2, 2, 4, 2, 4, 4, 4, 2, 2, 4, 2, 4, 2, 4, 4, 4,\n",
       "       4, 2, 2, 4, 4, 4, 2, 2, 4, 2, 2, 2, 4, 2, 2, 2, 2, 2, 2, 4, 2, 2,\n",
       "       2, 4, 2, 2, 4, 4, 2, 2, 4, 2, 2, 2, 4, 4, 2, 2, 4, 2, 2, 4, 4, 2,\n",
       "       4, 4, 2, 2, 4, 2, 2, 2, 4, 4, 2, 2, 2, 2, 4, 2, 2, 4, 2, 2, 2, 2,\n",
       "       2, 2, 2, 4, 4, 2, 2, 2, 4], dtype=int64)"
      ]
     },
     "execution_count": 110,
     "metadata": {},
     "output_type": "execute_result"
    }
   ],
   "source": [
    "cv_pred = model.predict(X_test)\n",
    "cv_pred"
   ]
  },
  {
   "cell_type": "markdown",
   "metadata": {},
   "source": [
    "### Testing accuracy obtained from grid search cv"
   ]
  },
  {
   "cell_type": "code",
   "execution_count": 112,
   "metadata": {},
   "outputs": [
    {
     "name": "stdout",
     "output_type": "stream",
     "text": [
      "Accuracy_score Testing Data:  95.65\n",
      "\n",
      " Classification_report Testing data:  \n",
      " \n",
      "               precision    recall  f1-score   support\n",
      "\n",
      "           2       0.97      0.96      0.97       130\n",
      "           4       0.94      0.95      0.94        77\n",
      "\n",
      "    accuracy                           0.96       207\n",
      "   macro avg       0.95      0.95      0.95       207\n",
      "weighted avg       0.96      0.96      0.96       207\n",
      "\n"
     ]
    }
   ],
   "source": [
    "print('Accuracy_score Testing Data: ',round(accuracy_score(y_test, cv_pred)*100,2))\n",
    "\n",
    "print('\\n','Classification_report Testing data: ','\\n','\\n',classification_report(y_test, cv_pred))"
   ]
  },
  {
   "cell_type": "code",
   "execution_count": null,
   "metadata": {},
   "outputs": [],
   "source": []
  }
 ],
 "metadata": {
  "kernelspec": {
   "display_name": "Python 3",
   "language": "python",
   "name": "python3"
  },
  "language_info": {
   "codemirror_mode": {
    "name": "ipython",
    "version": 3
   },
   "file_extension": ".py",
   "mimetype": "text/x-python",
   "name": "python",
   "nbconvert_exporter": "python",
   "pygments_lexer": "ipython3",
   "version": "3.7.6"
  }
 },
 "nbformat": 4,
 "nbformat_minor": 4
}
