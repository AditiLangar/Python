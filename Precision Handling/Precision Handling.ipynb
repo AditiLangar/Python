{
 "cells": [
  {
   "cell_type": "markdown",
   "metadata": {},
   "source": [
    "## For rounding off after decimal places"
   ]
  },
  {
   "cell_type": "code",
   "execution_count": 4,
   "metadata": {},
   "outputs": [
    {
     "data": {
      "text/plain": [
       "'8.64'"
      ]
     },
     "execution_count": 4,
     "metadata": {},
     "output_type": "execute_result"
    }
   ],
   "source": [
    "'%.2f'%(8.64395709357)    ## learn the syntax  ## f represents floating values ## op will be in the form of string"
   ]
  },
  {
   "cell_type": "code",
   "execution_count": 5,
   "metadata": {},
   "outputs": [
    {
     "data": {
      "text/plain": [
       "'8.99000'"
      ]
     },
     "execution_count": 5,
     "metadata": {},
     "output_type": "execute_result"
    }
   ],
   "source": [
    "'%.5f'%(8.99)"
   ]
  },
  {
   "cell_type": "code",
   "execution_count": 6,
   "metadata": {},
   "outputs": [
    {
     "data": {
      "text/plain": [
       "'04555'"
      ]
     },
     "execution_count": 6,
     "metadata": {},
     "output_type": "execute_result"
    }
   ],
   "source": [
    "'%.5d'%(4555.0989)    ## removes decimals"
   ]
  },
  {
   "cell_type": "code",
   "execution_count": 8,
   "metadata": {},
   "outputs": [
    {
     "data": {
      "text/plain": [
       "'4555'"
      ]
     },
     "execution_count": 8,
     "metadata": {},
     "output_type": "execute_result"
    }
   ],
   "source": [
    "'%.2d'%(4555.0989) "
   ]
  },
  {
   "cell_type": "code",
   "execution_count": 9,
   "metadata": {},
   "outputs": [
    {
     "data": {
      "text/plain": [
       "'4555'"
      ]
     },
     "execution_count": 9,
     "metadata": {},
     "output_type": "execute_result"
    }
   ],
   "source": [
    "'%.3d'%(4555.0989) "
   ]
  },
  {
   "cell_type": "code",
   "execution_count": 10,
   "metadata": {},
   "outputs": [
    {
     "data": {
      "text/plain": [
       "'0004555'"
      ]
     },
     "execution_count": 10,
     "metadata": {},
     "output_type": "execute_result"
    }
   ],
   "source": [
    "'%.7d'%(4555.0989) "
   ]
  },
  {
   "cell_type": "markdown",
   "metadata": {},
   "source": [
    "# String Formatting\n",
    "\n",
    "### .format()\n",
    "\n",
    "**The count of placeholders { } and the values in .format tuple should be equal,otherwise error will be raised.**\n",
    "\n"
   ]
  },
  {
   "cell_type": "code",
   "execution_count": 11,
   "metadata": {},
   "outputs": [
    {
     "name": "stdout",
     "output_type": "stream",
     "text": [
      "Imarticus welcomes you\n"
     ]
    }
   ],
   "source": [
    "insti = \"Imarticus\"\n",
    "\n",
    "print('{} welcomes you'.format(insti))"
   ]
  },
  {
   "cell_type": "code",
   "execution_count": 12,
   "metadata": {},
   "outputs": [
    {
     "name": "stdout",
     "output_type": "stream",
     "text": [
      "Imarticus welcomes you to its Delhi centre\n"
     ]
    }
   ],
   "source": [
    "print('{} welcomes you to its {} centre'. format(\"Imarticus\", \"Delhi\"))"
   ]
  },
  {
   "cell_type": "code",
   "execution_count": 14,
   "metadata": {},
   "outputs": [
    {
     "name": "stdout",
     "output_type": "stream",
     "text": [
      "Imarticus welcomes you to its Delhi centre\n"
     ]
    }
   ],
   "source": [
    "print('{0} welcomes you to its {1} centre'.format(\"Imarticus\", \"Delhi\"))"
   ]
  },
  {
   "cell_type": "code",
   "execution_count": 15,
   "metadata": {},
   "outputs": [
    {
     "name": "stdout",
     "output_type": "stream",
     "text": [
      "Imarticus welcomes you to its Delhi centre\n"
     ]
    }
   ],
   "source": [
    "print('{} welcomes you to its {} centre'. format(\"Imarticus\", \"Delhi\", \"India\"))"
   ]
  },
  {
   "cell_type": "code",
   "execution_count": 16,
   "metadata": {},
   "outputs": [
    {
     "name": "stdout",
     "output_type": "stream",
     "text": [
      "Delhi welcomes you to its Imarticus centre\n"
     ]
    }
   ],
   "source": [
    "print('{1} welcomes you to its {0} centre'.format(\"Imarticus\", \"Delhi\"))"
   ]
  },
  {
   "cell_type": "code",
   "execution_count": 17,
   "metadata": {},
   "outputs": [
    {
     "name": "stdout",
     "output_type": "stream",
     "text": [
      "Imarticus welcomes you to its Delhi India centre\n"
     ]
    }
   ],
   "source": [
    "print('{} welcomes you to its {} {} centre'. format(\"Imarticus\", \"Delhi\", \"India\"))"
   ]
  },
  {
   "cell_type": "code",
   "execution_count": 18,
   "metadata": {},
   "outputs": [
    {
     "name": "stdout",
     "output_type": "stream",
     "text": [
      "imarticus welcomes you to its delhi centre\n"
     ]
    }
   ],
   "source": [
    "inst=[\"imarticus\", \"delhi\"]\n",
    "\n",
    "print('{0} welcomes you to its {1} centre'.format(inst[0], inst[1]))"
   ]
  },
  {
   "cell_type": "code",
   "execution_count": 19,
   "metadata": {},
   "outputs": [
    {
     "name": "stdout",
     "output_type": "stream",
     "text": [
      "delhi welcomes you to its imarticus centre\n"
     ]
    }
   ],
   "source": [
    "inst=[\"imarticus\", \"delhi\"]\n",
    "\n",
    "print('{1} welcomes you to its {0} centre'.format(inst[0], inst[1]))"
   ]
  },
  {
   "cell_type": "code",
   "execution_count": 20,
   "metadata": {},
   "outputs": [
    {
     "name": "stdout",
     "output_type": "stream",
     "text": [
      "def, ghi, abc\n"
     ]
    }
   ],
   "source": [
    "l = [\"abc\", \"def\", \"ghi\"]\n",
    "\n",
    "print(\"{1}, {2}, {0}\".format(*l))"
   ]
  },
  {
   "cell_type": "code",
   "execution_count": 21,
   "metadata": {},
   "outputs": [
    {
     "name": "stdout",
     "output_type": "stream",
     "text": [
      "100.00 welcomes you 92.50000\n"
     ]
    }
   ],
   "source": [
    "print('{0:0.2f} welcomes you {1:0.5f}'.format(99.9999, 92.5))"
   ]
  },
  {
   "cell_type": "code",
   "execution_count": 22,
   "metadata": {},
   "outputs": [
    {
     "name": "stdout",
     "output_type": "stream",
     "text": [
      "92.50 welcomes you 99.99990\n"
     ]
    }
   ],
   "source": [
    "print('{1:0.2f} welcomes you {0:0.5f}'.format(99.9999, 92.5))"
   ]
  },
  {
   "cell_type": "code",
   "execution_count": 23,
   "metadata": {},
   "outputs": [
    {
     "name": "stdout",
     "output_type": "stream",
     "text": [
      "100.00 welcomes you 92.50000\n"
     ]
    }
   ],
   "source": [
    "## syntax (index : no of places required)\n",
    "\n",
    "\n",
    "print('{:0.2f} welcomes you {:0.5f}'.format(99.9999, 92.5))"
   ]
  },
  {
   "cell_type": "code",
   "execution_count": 24,
   "metadata": {},
   "outputs": [
    {
     "name": "stdout",
     "output_type": "stream",
     "text": [
      "100.00 welcomes you 92.50000\n"
     ]
    }
   ],
   "source": [
    "print('{a:0.2f} welcomes you {b:0.5f}'.format(a=99.9999, b=92.5))"
   ]
  },
  {
   "cell_type": "code",
   "execution_count": 25,
   "metadata": {},
   "outputs": [
    {
     "name": "stdout",
     "output_type": "stream",
     "text": [
      "50,welcomes you at its 65.96000 centre 78.891.\n"
     ]
    }
   ],
   "source": [
    "print('{a:.0f},welcomes you at its {b:0.5f} centre {c:0.3f}.'.format(a = 50.48,b = 65.96,c = 78.89142))"
   ]
  },
  {
   "cell_type": "markdown",
   "metadata": {},
   "source": [
    "### %s - String (or any object with a string representation, like numbers)\n",
    "\n",
    "### %d - Integers\n",
    "\n",
    "### %f - Floating point numbers"
   ]
  },
  {
   "cell_type": "code",
   "execution_count": 28,
   "metadata": {},
   "outputs": [
    {
     "name": "stdout",
     "output_type": "stream",
     "text": [
      "john is 23 years old\n"
     ]
    }
   ],
   "source": [
    "name = \"john\"\n",
    "age = 23\n",
    "\n",
    "print(\"%s is %d years old\"%(name, age))"
   ]
  },
  {
   "cell_type": "code",
   "execution_count": 29,
   "metadata": {},
   "outputs": [
    {
     "name": "stdout",
     "output_type": "stream",
     "text": [
      "john is 23.000000 years old\n"
     ]
    }
   ],
   "source": [
    "name = \"john\"\n",
    "age = 23\n",
    "\n",
    "print(\"%s is %f years old\"%(name, age))"
   ]
  },
  {
   "cell_type": "code",
   "execution_count": 30,
   "metadata": {},
   "outputs": [
    {
     "name": "stdout",
     "output_type": "stream",
     "text": [
      "john is 23.00 years old\n"
     ]
    }
   ],
   "source": [
    "name = \"john\"\n",
    "age = 23\n",
    "\n",
    "print(\"%s is %.2f years old\"%(name, age))"
   ]
  },
  {
   "cell_type": "code",
   "execution_count": 34,
   "metadata": {},
   "outputs": [
    {
     "name": "stdout",
     "output_type": "stream",
     "text": [
      "                john is        23 years old\n"
     ]
    }
   ],
   "source": [
    "name = \"john\"\n",
    "age = 23\n",
    "\n",
    "print(\"%20s is %9d years old\" % (name, age))  ##in value before s and d inducce spaces"
   ]
  },
  {
   "cell_type": "code",
   "execution_count": 35,
   "metadata": {},
   "outputs": [
    {
     "name": "stdout",
     "output_type": "stream",
     "text": [
      "85 is 23.00 years old\n"
     ]
    }
   ],
   "source": [
    "name = 85\n",
    "age = 23\n",
    "\n",
    "print(\"%s is %.2f years old\"%(name, age))        "
   ]
  },
  {
   "cell_type": "code",
   "execution_count": 36,
   "metadata": {},
   "outputs": [
    {
     "name": "stdout",
     "output_type": "stream",
     "text": [
      "John is 45 years old.\n",
      "John is 00023 years old.\n",
      "      John is    23 years old.\n",
      "john is 23.00 years old.\n"
     ]
    }
   ],
   "source": [
    "name = \"John\"\n",
    "age = 23\n",
    "\n",
    "print(\"%s is %d years old.\" % (name, 45)) # John is 23 years old.\n",
    "\n",
    "print(\"%s is %0.5d years old.\" % (name, age)) # John is 00023 years old.\n",
    "\n",
    "print(\"%10s is %5d years old.\" % (name, age)) # John is 23 years old.\n",
    "\n",
    "print(\"%s is %.2f years old.\" % ('john', 23)) # john is 23.00 years old."
   ]
  }
 ],
 "metadata": {
  "kernelspec": {
   "display_name": "Python 3",
   "language": "python",
   "name": "python3"
  },
  "language_info": {
   "codemirror_mode": {
    "name": "ipython",
    "version": 3
   },
   "file_extension": ".py",
   "mimetype": "text/x-python",
   "name": "python",
   "nbconvert_exporter": "python",
   "pygments_lexer": "ipython3",
   "version": "3.7.6"
  }
 },
 "nbformat": 4,
 "nbformat_minor": 4
}
